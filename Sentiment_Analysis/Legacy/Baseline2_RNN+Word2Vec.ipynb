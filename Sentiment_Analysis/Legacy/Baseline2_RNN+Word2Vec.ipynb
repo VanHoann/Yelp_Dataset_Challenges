{
  "nbformat": 4,
  "nbformat_minor": 0,
  "metadata": {
    "colab": {
      "provenance": [],
      "collapsed_sections": [],
      "toc_visible": true,
      "include_colab_link": true
    },
    "kernelspec": {
      "name": "python3",
      "display_name": "Python 3"
    },
    "language_info": {
      "name": "python"
    },
    "accelerator": "GPU",
    "gpuClass": "standard"
  },
  "cells": [
    {
      "cell_type": "markdown",
      "metadata": {
        "id": "view-in-github",
        "colab_type": "text"
      },
      "source": [
        "<a href=\"https://colab.research.google.com/github/VanHoann/Yelp_Dataset_Challenges/blob/main/Sentiment_Analysis/Legacy/Baseline2_RNN%2BWord2Vec.ipynb\" target=\"_parent\"><img src=\"https://colab.research.google.com/assets/colab-badge.svg\" alt=\"Open In Colab\"/></a>"
      ]
    },
    {
      "cell_type": "markdown",
      "source": [
        "###Set up"
      ],
      "metadata": {
        "id": "VuWDRZIXHM7A"
      }
    },
    {
      "cell_type": "code",
      "execution_count": 1,
      "metadata": {
        "colab": {
          "base_uri": "https://localhost:8080/"
        },
        "id": "bpmbeOHlHFj7",
        "outputId": "6c25674b-15b9-4bfb-8b9b-b95f819c09ff"
      },
      "outputs": [
        {
          "output_type": "stream",
          "name": "stderr",
          "text": [
            "[nltk_data] Downloading package stopwords to /root/nltk_data...\n",
            "[nltk_data]   Unzipping corpora/stopwords.zip.\n",
            "[nltk_data] Downloading package punkt to /root/nltk_data...\n",
            "[nltk_data]   Unzipping tokenizers/punkt.zip.\n"
          ]
        },
        {
          "output_type": "stream",
          "name": "stdout",
          "text": [
            "Looking in indexes: https://pypi.org/simple, https://us-python.pkg.dev/colab-wheels/public/simple/\n",
            "Collecting keras-layer-normalization\n",
            "  Downloading keras-layer-normalization-0.16.0.tar.gz (3.9 kB)\n",
            "Requirement already satisfied: numpy in /usr/local/lib/python3.7/dist-packages (from keras-layer-normalization) (1.21.6)\n",
            "Building wheels for collected packages: keras-layer-normalization\n",
            "  Building wheel for keras-layer-normalization (setup.py) ... \u001b[?25l\u001b[?25hdone\n",
            "  Created wheel for keras-layer-normalization: filename=keras_layer_normalization-0.16.0-py3-none-any.whl size=4668 sha256=75c352163868b87372724f7d521a7eb1451c07018c0540104ea8f7a37e9cf6ef\n",
            "  Stored in directory: /root/.cache/pip/wheels/85/5d/1c/2e619f594f69fbcf8bc20943b27d414871c409be053994813e\n",
            "Successfully built keras-layer-normalization\n",
            "Installing collected packages: keras-layer-normalization\n",
            "Successfully installed keras-layer-normalization-0.16.0\n"
          ]
        }
      ],
      "source": [
        "import os\n",
        "import nltk\n",
        "nltk.download('stopwords')\n",
        "nltk.download('punkt')\n",
        "import math\n",
        "import pandas as pd\n",
        "import numpy as np\n",
        "import keras\n",
        "import tensorflow as tf\n",
        "import matplotlib.pyplot as plt\n",
        "from collections import Counter\n",
        "from itertools import chain\n",
        "from sklearn.model_selection import StratifiedKFold\n",
        "from sklearn.metrics import accuracy_score, f1_score, precision_recall_fscore_support, classification_report\n",
        "from keras.models import Sequential, Model\n",
        "from keras.layers import Dense, Embedding, Dropout, BatchNormalization, Activation, Input, \\\n",
        "    Conv1D, MaxPool1D, Flatten, Concatenate, Add, Bidirectional, SimpleRNN, LSTM, GRU\n",
        "from tensorflow.keras.optimizers import SGD, Adam, RMSprop\n",
        "!pip install keras-layer-normalization\n",
        "from keras_layer_normalization import LayerNormalization\n",
        "from nltk.corpus import stopwords\n",
        "from nltk.stem import PorterStemmer\n",
        "\n",
        "stopwords = set(stopwords.words(\"english\"))\n",
        "ps = PorterStemmer()\n",
        "\n",
        "# just to ignore the matplotlib warnings to make the plots look better\n",
        "import warnings\n",
        "warnings.filterwarnings('ignore')"
      ]
    },
    {
      "cell_type": "markdown",
      "source": [
        "Load data\n"
      ],
      "metadata": {
        "id": "ZOpieeqdIHOv"
      }
    },
    {
      "cell_type": "code",
      "source": [
        "#Helper function\n",
        "def load_data(split_name='train', columns=['text', 'stars'], folder='data'):\n",
        "    '''\n",
        "        \"split_name\" may be set as 'train', 'valid' or 'test' to load the corresponding dataset.\n",
        "        \n",
        "        You may also specify the column names to load any columns in the .csv data file.\n",
        "        Among many, \"text\" can be used as model input, and \"stars\" column is the labels (sentiment). \n",
        "        If you like, you are free to use columns other than \"text\" for prediction.\n",
        "    '''\n",
        "    try:\n",
        "        print(f\"select [{', '.join(columns)}] columns from the {split_name} split\")\n",
        "        df = pd.read_csv(f'{folder}/{split_name}.csv')\n",
        "        df = df.loc[:,columns]\n",
        "        print(\"Success\")\n",
        "        return df\n",
        "    except:\n",
        "        print(f\"Failed loading specified columns... Returning all columns from the {split_name} split\")\n",
        "        df = pd.read_csv(f'{folder}/{split_name}.csv')\n",
        "        return df\n",
        "\n",
        "'''def load_data(file_name):\n",
        "    \"\"\"\n",
        "    :param file_name: a file name, type: str\n",
        "    return a list of ids, a list of reviews, a list of labels\n",
        "    https://pandas.pydata.org/pandas-docs/stable/generated/pandas.read_csv.html\n",
        "    \"\"\"\n",
        "    df = pd.read_csv(file_name)\n",
        "\n",
        "    return df[\"id\"], df[\"text\"], df[\"label\"]'''\n",
        "\n",
        "def load_labels(file_name):\n",
        "    \"\"\"\n",
        "    :param file_name: a file name, type: str\n",
        "    return a list of labels\n",
        "    \"\"\"\n",
        "    return pd.read_csv(file_name)[\"label\"]\n",
        "\n",
        "def write_predictions(file_name, pred):\n",
        "    df = pd.DataFrame(zip(range(len(pred)), pred))\n",
        "    df.columns = [\"id\", \"label\"]\n",
        "    df.to_csv(file_name, index=False)"
      ],
      "metadata": {
        "id": "FvBGRPrhIGza"
      },
      "execution_count": 2,
      "outputs": []
    },
    {
      "cell_type": "code",
      "source": [
        "data_dir = \"https://raw.githubusercontent.com/VanHoann/Yelp_Dataset_Challenges/main/Sentiment_Analysis/data\"\n",
        "\n",
        "train_df = load_data('train', columns=['text', 'stars', 'review_id'], folder=data_dir)\n",
        "valid_df = load_data('valid', columns=['text', 'stars', 'review_id'], folder=data_dir)\n",
        "test_df = load_data('test', columns=['text','review_id'], folder=data_dir)"
      ],
      "metadata": {
        "colab": {
          "base_uri": "https://localhost:8080/"
        },
        "id": "NkpRGDVqIMar",
        "outputId": "6c42534d-833b-454e-a7e2-d995111a5e9a"
      },
      "execution_count": 3,
      "outputs": [
        {
          "output_type": "stream",
          "name": "stdout",
          "text": [
            "select [text, stars, review_id] columns from the train split\n",
            "Success\n",
            "select [text, stars, review_id] columns from the valid split\n",
            "Success\n",
            "select [text, review_id] columns from the test split\n",
            "Success\n"
          ]
        }
      ]
    },
    {
      "cell_type": "code",
      "source": [
        "train_df['text length'] = train_df['text'].apply(len)\n",
        "train_df.head()"
      ],
      "metadata": {
        "colab": {
          "base_uri": "https://localhost:8080/",
          "height": 206
        },
        "id": "et9OiZG4LeEy",
        "outputId": "30b3aba4-2a8d-4328-ef97-08db93b5add2"
      },
      "execution_count": 4,
      "outputs": [
        {
          "output_type": "execute_result",
          "data": {
            "text/plain": [
              "                                                text  stars  \\\n",
              "0  I've been here a handful of times now and I've...      5   \n",
              "1  The service was terrible. The food was just ok...      1   \n",
              "2  Alil pricey for the location but completly get...      4   \n",
              "3  Don't get your car washed here. Paid 11 and my...      1   \n",
              "4  Cute but tight. Not expensive and creative. I ...      5   \n",
              "\n",
              "                review_id  text length  \n",
              "0  oxj0_2jKOqQFIWEYRjWi6g          699  \n",
              "1  gZITaUSvzBUijZvNGXO_Cg           98  \n",
              "2  ov2ohuP2bPJI35sscGGJpw           95  \n",
              "3  LFJGPIrbR7U_g3oavotkXg          178  \n",
              "4  hUoRKiGTnMV51R6pQSYovQ          188  "
            ],
            "text/html": [
              "\n",
              "  <div id=\"df-0ffb1ab2-3830-4823-a1a7-5bf175844d98\">\n",
              "    <div class=\"colab-df-container\">\n",
              "      <div>\n",
              "<style scoped>\n",
              "    .dataframe tbody tr th:only-of-type {\n",
              "        vertical-align: middle;\n",
              "    }\n",
              "\n",
              "    .dataframe tbody tr th {\n",
              "        vertical-align: top;\n",
              "    }\n",
              "\n",
              "    .dataframe thead th {\n",
              "        text-align: right;\n",
              "    }\n",
              "</style>\n",
              "<table border=\"1\" class=\"dataframe\">\n",
              "  <thead>\n",
              "    <tr style=\"text-align: right;\">\n",
              "      <th></th>\n",
              "      <th>text</th>\n",
              "      <th>stars</th>\n",
              "      <th>review_id</th>\n",
              "      <th>text length</th>\n",
              "    </tr>\n",
              "  </thead>\n",
              "  <tbody>\n",
              "    <tr>\n",
              "      <th>0</th>\n",
              "      <td>I've been here a handful of times now and I've...</td>\n",
              "      <td>5</td>\n",
              "      <td>oxj0_2jKOqQFIWEYRjWi6g</td>\n",
              "      <td>699</td>\n",
              "    </tr>\n",
              "    <tr>\n",
              "      <th>1</th>\n",
              "      <td>The service was terrible. The food was just ok...</td>\n",
              "      <td>1</td>\n",
              "      <td>gZITaUSvzBUijZvNGXO_Cg</td>\n",
              "      <td>98</td>\n",
              "    </tr>\n",
              "    <tr>\n",
              "      <th>2</th>\n",
              "      <td>Alil pricey for the location but completly get...</td>\n",
              "      <td>4</td>\n",
              "      <td>ov2ohuP2bPJI35sscGGJpw</td>\n",
              "      <td>95</td>\n",
              "    </tr>\n",
              "    <tr>\n",
              "      <th>3</th>\n",
              "      <td>Don't get your car washed here. Paid 11 and my...</td>\n",
              "      <td>1</td>\n",
              "      <td>LFJGPIrbR7U_g3oavotkXg</td>\n",
              "      <td>178</td>\n",
              "    </tr>\n",
              "    <tr>\n",
              "      <th>4</th>\n",
              "      <td>Cute but tight. Not expensive and creative. I ...</td>\n",
              "      <td>5</td>\n",
              "      <td>hUoRKiGTnMV51R6pQSYovQ</td>\n",
              "      <td>188</td>\n",
              "    </tr>\n",
              "  </tbody>\n",
              "</table>\n",
              "</div>\n",
              "      <button class=\"colab-df-convert\" onclick=\"convertToInteractive('df-0ffb1ab2-3830-4823-a1a7-5bf175844d98')\"\n",
              "              title=\"Convert this dataframe to an interactive table.\"\n",
              "              style=\"display:none;\">\n",
              "        \n",
              "  <svg xmlns=\"http://www.w3.org/2000/svg\" height=\"24px\"viewBox=\"0 0 24 24\"\n",
              "       width=\"24px\">\n",
              "    <path d=\"M0 0h24v24H0V0z\" fill=\"none\"/>\n",
              "    <path d=\"M18.56 5.44l.94 2.06.94-2.06 2.06-.94-2.06-.94-.94-2.06-.94 2.06-2.06.94zm-11 1L8.5 8.5l.94-2.06 2.06-.94-2.06-.94L8.5 2.5l-.94 2.06-2.06.94zm10 10l.94 2.06.94-2.06 2.06-.94-2.06-.94-.94-2.06-.94 2.06-2.06.94z\"/><path d=\"M17.41 7.96l-1.37-1.37c-.4-.4-.92-.59-1.43-.59-.52 0-1.04.2-1.43.59L10.3 9.45l-7.72 7.72c-.78.78-.78 2.05 0 2.83L4 21.41c.39.39.9.59 1.41.59.51 0 1.02-.2 1.41-.59l7.78-7.78 2.81-2.81c.8-.78.8-2.07 0-2.86zM5.41 20L4 18.59l7.72-7.72 1.47 1.35L5.41 20z\"/>\n",
              "  </svg>\n",
              "      </button>\n",
              "      \n",
              "  <style>\n",
              "    .colab-df-container {\n",
              "      display:flex;\n",
              "      flex-wrap:wrap;\n",
              "      gap: 12px;\n",
              "    }\n",
              "\n",
              "    .colab-df-convert {\n",
              "      background-color: #E8F0FE;\n",
              "      border: none;\n",
              "      border-radius: 50%;\n",
              "      cursor: pointer;\n",
              "      display: none;\n",
              "      fill: #1967D2;\n",
              "      height: 32px;\n",
              "      padding: 0 0 0 0;\n",
              "      width: 32px;\n",
              "    }\n",
              "\n",
              "    .colab-df-convert:hover {\n",
              "      background-color: #E2EBFA;\n",
              "      box-shadow: 0px 1px 2px rgba(60, 64, 67, 0.3), 0px 1px 3px 1px rgba(60, 64, 67, 0.15);\n",
              "      fill: #174EA6;\n",
              "    }\n",
              "\n",
              "    [theme=dark] .colab-df-convert {\n",
              "      background-color: #3B4455;\n",
              "      fill: #D2E3FC;\n",
              "    }\n",
              "\n",
              "    [theme=dark] .colab-df-convert:hover {\n",
              "      background-color: #434B5C;\n",
              "      box-shadow: 0px 1px 3px 1px rgba(0, 0, 0, 0.15);\n",
              "      filter: drop-shadow(0px 1px 2px rgba(0, 0, 0, 0.3));\n",
              "      fill: #FFFFFF;\n",
              "    }\n",
              "  </style>\n",
              "\n",
              "      <script>\n",
              "        const buttonEl =\n",
              "          document.querySelector('#df-0ffb1ab2-3830-4823-a1a7-5bf175844d98 button.colab-df-convert');\n",
              "        buttonEl.style.display =\n",
              "          google.colab.kernel.accessAllowed ? 'block' : 'none';\n",
              "\n",
              "        async function convertToInteractive(key) {\n",
              "          const element = document.querySelector('#df-0ffb1ab2-3830-4823-a1a7-5bf175844d98');\n",
              "          const dataTable =\n",
              "            await google.colab.kernel.invokeFunction('convertToInteractive',\n",
              "                                                     [key], {});\n",
              "          if (!dataTable) return;\n",
              "\n",
              "          const docLinkHtml = 'Like what you see? Visit the ' +\n",
              "            '<a target=\"_blank\" href=https://colab.research.google.com/notebooks/data_table.ipynb>data table notebook</a>'\n",
              "            + ' to learn more about interactive tables.';\n",
              "          element.innerHTML = '';\n",
              "          dataTable['output_type'] = 'display_data';\n",
              "          await google.colab.output.renderOutput(dataTable, element);\n",
              "          const docLink = document.createElement('div');\n",
              "          docLink.innerHTML = docLinkHtml;\n",
              "          element.appendChild(docLink);\n",
              "        }\n",
              "      </script>\n",
              "    </div>\n",
              "  </div>\n",
              "  "
            ]
          },
          "metadata": {},
          "execution_count": 4
        }
      ]
    },
    {
      "cell_type": "markdown",
      "source": [
        "###Visualize data"
      ],
      "metadata": {
        "id": "lASC3ATLMIAd"
      }
    },
    {
      "cell_type": "code",
      "source": [
        "import seaborn as sns"
      ],
      "metadata": {
        "id": "8uDZ1AOgMLjP"
      },
      "execution_count": 5,
      "outputs": []
    },
    {
      "cell_type": "code",
      "source": [
        "g = sns.FacetGrid(data=train_df[ train_df['text length']<2000 ], col='stars')\n",
        "g.map(plt.hist, 'text length', bins=50)"
      ],
      "metadata": {
        "colab": {
          "base_uri": "https://localhost:8080/",
          "height": 232
        },
        "id": "5je-pWK0MWaB",
        "outputId": "57a40ae3-3eb3-4a36-d6b5-da8fff8139a5"
      },
      "execution_count": 6,
      "outputs": [
        {
          "output_type": "execute_result",
          "data": {
            "text/plain": [
              "<seaborn.axisgrid.FacetGrid at 0x7f6c8a738f10>"
            ]
          },
          "metadata": {},
          "execution_count": 6
        },
        {
          "output_type": "display_data",
          "data": {
            "text/plain": [
              "<Figure size 1080x216 with 5 Axes>"
            ],
            "image/png": "[encoded data removed]"
          },
          "metadata": {
            "needs_background": "light"
          }
        }
      ]
    },
    {
      "cell_type": "markdown",
      "source": [
        "*   There is a high number of 4-star and 5-star reviews \n",
        "*   Text length distribution is similar across 5 ratings (skewed a lot in 4&5-star)\n"
      ],
      "metadata": {
        "id": "nRAkC6WtMqYo"
      }
    },
    {
      "cell_type": "code",
      "source": [
        "sns.boxplot(x='stars', y='text length', data=train_df)"
      ],
      "metadata": {
        "colab": {
          "base_uri": "https://localhost:8080/",
          "height": 297
        },
        "id": "VNFNACpKM73Q",
        "outputId": "05c561b5-62ec-4282-c9f6-bd2db915344f"
      },
      "execution_count": 7,
      "outputs": [
        {
          "output_type": "execute_result",
          "data": {
            "text/plain": [
              "<matplotlib.axes._subplots.AxesSubplot at 0x7f6c87360a10>"
            ]
          },
          "metadata": {},
          "execution_count": 7
        },
        {
          "output_type": "display_data",
          "data": {
            "text/plain": [
              "<Figure size 432x288 with 1 Axes>"
            ],
            "image/png": "[encoded data removed]"
          },
          "metadata": {
            "needs_background": "light"
          }
        }
      ]
    },
    {
      "cell_type": "markdown",
      "source": [
        "\n",
        "\n",
        "*  Text lengths are longer for fewer stars\n",
        "*  Too many outliers -> text length is not usefull"
      ],
      "metadata": {
        "id": "KQnV3H0jNyDE"
      }
    },
    {
      "cell_type": "code",
      "source": [
        "sns.countplot('stars', data = train_df, palette=\"husl\")"
      ],
      "metadata": {
        "colab": {
          "base_uri": "https://localhost:8080/",
          "height": 297
        },
        "id": "1O_WWirCYcuf",
        "outputId": "c375618a-5d84-48f3-94a8-b6988cb91553"
      },
      "execution_count": 8,
      "outputs": [
        {
          "output_type": "execute_result",
          "data": {
            "text/plain": [
              "<matplotlib.axes._subplots.AxesSubplot at 0x7f6c86e742d0>"
            ]
          },
          "metadata": {},
          "execution_count": 8
        },
        {
          "output_type": "display_data",
          "data": {
            "text/plain": [
              "<Figure size 432x288 with 1 Axes>"
            ],
            "image/png": "[encoded data removed]"
          },
          "metadata": {
            "needs_background": "light"
          }
        }
      ]
    },
    {
      "cell_type": "markdown",
      "source": [
        "The data for 2,3,4 stars is too little -> hard to train model to differentiate between them"
      ],
      "metadata": {
        "id": "QJWrUrwyFmc5"
      }
    },
    {
      "cell_type": "markdown",
      "source": [
        "###Pre-processing helper functions"
      ],
      "metadata": {
        "id": "Kf9GabHxQASP"
      }
    },
    {
      "cell_type": "code",
      "source": [
        "def lower(s):\n",
        "    \"\"\"\n",
        "    :param s: a string.\n",
        "    return a string with lower characters\n",
        "    Note that we allow the input to be nested string of a list.\n",
        "    e.g.\n",
        "    Input: 'Text mining is to identify useful information.'\n",
        "    Output: 'text mining is to identify useful information.'\n",
        "    \"\"\"\n",
        "    if isinstance(s, list):\n",
        "        return [lower(t) for t in s]\n",
        "    if isinstance(s, str):\n",
        "        return s.lower()\n",
        "    else:\n",
        "        raise NotImplementedError(\"unknown datatype\")\n",
        "\n",
        "\n",
        "def tokenize(text):\n",
        "    \"\"\"\n",
        "    :param text: a doc with multiple sentences, type: str\n",
        "    return a word list, type: list\n",
        "    e.g.\n",
        "    Input: 'Text mining is to identify useful information.'\n",
        "    Output: ['Text', 'mining', 'is', 'to', 'identify', 'useful', 'information', '.']\n",
        "    \"\"\"\n",
        "    return nltk.word_tokenize(text)\n",
        "\n",
        "\n",
        "def stem(tokens):\n",
        "    \"\"\"\n",
        "    :param tokens: a list of tokens, type: list\n",
        "    return a list of stemmed words, type: list\n",
        "    e.g.\n",
        "    Input: ['Text', 'mining', 'is', 'to', 'identify', 'useful', 'information', '.']\n",
        "    Output: ['text', 'mine', 'is', 'to', 'identifi', 'use', 'inform', '.']\n",
        "    \"\"\"\n",
        "    ### equivalent code\n",
        "    # results = list()\n",
        "    # for token in tokens:\n",
        "    #     results.append(ps.stem(token))\n",
        "    # return results\n",
        "\n",
        "    return [ps.stem(token) for token in tokens]\n",
        "\n",
        "'''def remove_contractions(tokens):\n",
        "    con = {\"don't\", \"doesn't\", \"wouldn't\", \"won't\", \"isn't\", \"aren't\", \"didn't\", \"was't\", \" weren't\", \"shouldn't\", \"n't\"}\n",
        "    result = []\n",
        "    for token in tokens:\n",
        "        if token in con:\n",
        "            result.append(\"not\")\n",
        "        else:\n",
        "            result.append(token)\n",
        "    return result'''\n",
        "\n",
        "'''def n_gram(tokens, n=1):\n",
        "    \"\"\"\n",
        "    :param tokens: a list of tokens, type: list\n",
        "    :param n: the corresponding n-gram, type: int\n",
        "    return a list of n-gram tokens, type: list\n",
        "    e.g.\n",
        "    Input: ['text', 'mine', 'is', 'to', 'identifi', 'use', 'inform', '.'], 2\n",
        "    Output: ['text mine', 'mine is', 'is to', 'to identifi', 'identifi use', 'use inform', 'inform .']\n",
        "    \"\"\"\n",
        "    if n == 1:\n",
        "        return tokens\n",
        "    else:\n",
        "        results = list()\n",
        "        for i in range(len(tokens)-n+1):\n",
        "            # tokens[i:i+n] will return a sublist from i th to i+n th (i+n th is not included)\n",
        "            results.append(\" \".join(tokens[i:i+n]))\n",
        "        return results'''\n",
        "\n",
        "def filter_stopwords(tokens):\n",
        "    \"\"\"\n",
        "    :param tokens: a list of tokens, type: list\n",
        "    return a list of filtered tokens, type: list\n",
        "    e.g.\n",
        "    Input: ['text', 'mine', 'is', 'to', 'identifi', 'use', 'inform', '.']\n",
        "    Output: ['text', 'mine', 'identifi', 'use', 'inform', '.']\n",
        "    \"\"\"\n",
        "    ### equivalent code\n",
        "    # results = list()\n",
        "    # for token in tokens:\n",
        "    #     if token not in stopwords and not token.isnumeric():\n",
        "    #         results.append(token)\n",
        "    # return results\n",
        "\n",
        "    return [token for token in tokens if token not in stopwords and not token.isnumeric()]\n",
        "\n",
        "import string\n",
        "def filter_punctuations(tokens):\n",
        "    return [token for token in tokens if token not in string.punctuation]\n",
        "\n",
        "'''def get_onehot_vector(feats, feats_dict):\n",
        "    \"\"\"\n",
        "    :param data: a list of features, type: list\n",
        "    :param feats_dict: a dict from features to indices, type: dict\n",
        "    return a feature vector,\n",
        "    \"\"\"\n",
        "    # initialize the vector as all zeros\n",
        "    vector = np.zeros(len(feats_dict), dtype=np.float)\n",
        "    for f in feats:\n",
        "        # get the feature index, return -1 if the feature is not existed\n",
        "        f_idx = feats_dict.get(f, -1)\n",
        "        if f_idx != -1:\n",
        "            # set the corresponding element as 1\n",
        "            vector[f_idx] = 1\n",
        "    return vector'''  \n",
        "\n",
        "def get_feats_dict(feats, min_freq=-1, max_freq=-1, max_size=-1):\n",
        "    \"\"\"\n",
        "    :param feats: a list of features, type: list(list)\n",
        "    :param min_freq: the lowest fequency that the fequency of a feature smaller than it will be filtered out\n",
        "    :param max_freq: the highest fequency that the fequency of a feature larger than it will be filtered out\n",
        "    :param max_size: the max size of feature dict\n",
        "    return a feature dict that maps features to indices, sorted by frequencies\n",
        "    # Counter document: https://docs.python.org/3.6/library/collections.html#collections.Counter\n",
        "    \"\"\"\n",
        "    # count all features\n",
        "    feat_cnt = Counter(feats) # [\"text\", \"text\", \"mine\"] --> {\"text\": 2, \"mine\": 1}\n",
        "    if max_size > 0 and min_freq == -1 and max_freq == -1:\n",
        "        valid_feats = [f for f, cnt in feat_cnt.most_common(max_size)]  #output n highest-freq (word, cnt)\n",
        "    else:\n",
        "        valid_feats = list()\n",
        "        for f, cnt in feat_cnt.most_common():\n",
        "            if (min_freq == -1 or cnt >= min_freq) and (max_freq == -1 or cnt <= max_freq):\n",
        "                valid_feats.append(f)\n",
        "    if max_size > 0 and len(valid_feats) > max_size:\n",
        "        valid_feats = valid_feats[:max_size]        \n",
        "    print(\"Size of features:\", len(valid_feats))\n",
        "    \n",
        "    # build a mapping from features to indices\n",
        "    feats_dict = dict(zip(valid_feats, range(len(valid_feats))))\n",
        "    return feats_dict\n",
        "\n",
        "def get_index_vector(feats, feats_dict, max_len):\n",
        "    \"\"\"\n",
        "    :param feats: a list of features, type: list\n",
        "    :param feats_dict: a dict from features to indices, type: dict\n",
        "    :param feats: a list of features, type: list\n",
        "    return a feature vector,\n",
        "    \"\"\"\n",
        "    # initialize the vector as all zeros\n",
        "    vector = np.zeros(max_len, dtype=np.int64)\n",
        "    for i, f in enumerate(feats):\n",
        "        if i == max_len:\n",
        "            break\n",
        "        # get the feature index, return 1 (<unk>) if the feature is not existed\n",
        "        f_idx = feats_dict.get(f, 1)\n",
        "        vector[i] = f_idx\n",
        "    return vector"
      ],
      "metadata": {
        "id": "kZ6WkJWkQIuY"
      },
      "execution_count": 9,
      "outputs": []
    },
    {
      "cell_type": "markdown",
      "source": [
        "###RNN classifier"
      ],
      "metadata": {
        "id": "RCZ3sIdn3jvQ"
      }
    },
    {
      "cell_type": "code",
      "source": [
        "def build_RNN(input_length, vocab_size, embedding_size,\n",
        "              hidden_size, output_size,\n",
        "              num_rnn_layers, num_mlp_layers,\n",
        "              rnn_type=\"lstm\",\n",
        "              bidirectional=False,\n",
        "              embedding_matrix=None,\n",
        "              activation=\"tanh\",\n",
        "              dropout_rate=0.0,\n",
        "              batch_norm=False,\n",
        "              l2_reg=0.0,\n",
        "              loss=\"categorical_crossentropy\",\n",
        "              optimizer=\"Adam\",\n",
        "              learning_rate=0.001,\n",
        "              metric=\"accuracy\"):\n",
        "    \"\"\"\n",
        "    :param input_length: the maximum length of sentences, type: int\n",
        "    :param vocab_size: the vacabulary size, type: int\n",
        "    :param embedding_size: the dimension of word representations, type: int\n",
        "    :param hidden_size: the dimension of the hidden states, type: int\n",
        "    :param output_size: the dimension of the prediction, type: int\n",
        "    :param num_rnn_layers: the number of layers of the RNN, type: int\n",
        "    :param num_mlp_layers: the number of layers of the MLP, type: int\n",
        "    :param rnn_type: the type of RNN, type: str\n",
        "    :param bidirectional: whether to use bidirectional rnn, type: bool\n",
        "    :param activation: the activation type, type: str\n",
        "    :param dropout_rate: the probability of dropout, type: float\n",
        "    :param batch_norm: whether to enable batch normalization, type: bool\n",
        "    :param l2_reg: the weight for the L2 regularizer, type: str\n",
        "    :param loss: the training loss, type: str\n",
        "    :param optimizer: the optimizer, type: str\n",
        "    :param learning_rate: the learning rate for the optimizer, type: float\n",
        "    :param metric: the metric, type: str\n",
        "    return a RNN for text classification,\n",
        "    # activation document: https://keras.io/activations/\n",
        "    # dropout document: https://keras.io/layers/core/#dropout\n",
        "    # embedding document: https://keras.io/layers/embeddings/#embedding\n",
        "    # recurrent layers document: https://keras.io/layers/recurrent\n",
        "    # batch normalization document: https://keras.io/layers/normalization/\n",
        "    # losses document: https://keras.io/losses/\n",
        "    # optimizers document: https://keras.io/optimizers/\n",
        "    # metrics document: https://keras.io/metrics/\n",
        "    \"\"\"\n",
        "    x = Input(shape=(input_length,))\n",
        "    \n",
        "    ################################\n",
        "    ###### Word Representation #####\n",
        "    ################################\n",
        "    # word representation layer\n",
        "    if embedding_matrix is not None:\n",
        "        emb = Embedding(input_dim=vocab_size,\n",
        "                        output_dim=embedding_size,\n",
        "                        input_length=input_length,\n",
        "                        embeddings_initializer=keras.initializers.Constant(embedding_matrix),\n",
        "                        trainable=False)(x)\n",
        "    else:\n",
        "        emb = Embedding(input_dim=vocab_size,\n",
        "                        output_dim=embedding_size,\n",
        "                        input_length=input_length,\n",
        "                        embeddings_initializer=keras.initializers.TruncatedNormal(mean=0.0, stddev=0.1, seed=0))(x)\n",
        "    \n",
        "    ################################\n",
        "    ####### Recurrent Layers #######\n",
        "    ################################\n",
        "    # recurrent layers\n",
        "    if rnn_type == \"rnn\":\n",
        "        fn = SimpleRNN\n",
        "    elif rnn_type == \"lstm\":\n",
        "        fn = LSTM\n",
        "    elif rnn_type == \"gru\":\n",
        "        fn = GRU\n",
        "    else:\n",
        "        raise NotImplementedError\n",
        "    h = emb\n",
        "    for i in range(num_rnn_layers):\n",
        "        is_last = (i == num_rnn_layers-1)\n",
        "        if bidirectional:\n",
        "            h = Bidirectional(fn(hidden_size,\n",
        "                                 kernel_initializer=keras.initializers.glorot_uniform(seed=0),\n",
        "                                 recurrent_initializer=keras.initializers.Orthogonal(gain=1.0, seed=0),\n",
        "                                 return_sequences=not is_last))(h)\n",
        "        else:\n",
        "            h = fn(hidden_size,\n",
        "                   kernel_initializer=keras.initializers.glorot_uniform(seed=0),\n",
        "                   recurrent_initializer=keras.initializers.Orthogonal(gain=1.0, seed=0),\n",
        "                   return_sequences=not is_last)(h)\n",
        "        h = Dropout(dropout_rate, seed=0)(h)\n",
        "    \n",
        "    ################################\n",
        "    #### Fully Connected Layers ####\n",
        "    ################################\n",
        "    # multi-layer perceptron\n",
        "    for i in range(num_mlp_layers-1):\n",
        "        new_h = Dense(hidden_size,\n",
        "                      kernel_initializer=keras.initializers.he_normal(seed=0),\n",
        "                      bias_initializer=\"zeros\",\n",
        "                      kernel_regularizer=keras.regularizers.l2(l2_reg))(h)\n",
        "        # add batch normalization layer\n",
        "        if batch_norm:\n",
        "            new_h = BatchNormalization()(new_h)\n",
        "        # add residual connection\n",
        "        if i == 0:\n",
        "            h = new_h\n",
        "        else:\n",
        "            h = Add()([h, new_h])\n",
        "        # add activation\n",
        "        h = Activation(activation)(h)\n",
        "    y = Dense(output_size,\n",
        "              activation=\"softmax\",\n",
        "              kernel_initializer=keras.initializers.he_normal(seed=0),\n",
        "              bias_initializer=\"zeros\")(h)\n",
        "    \n",
        "    # set the loss, the optimizer, and the metric\n",
        "    if optimizer == \"SGD\":\n",
        "        optimizer = tf.keras.optimizers.SGD(lr=learning_rate)\n",
        "    elif optimizer == \"RMSprop\":\n",
        "        optmizer = tf.keras.optimizers.RMSprop(learning_rate=learning_rate)\n",
        "    elif optimizer == \"Adam\":\n",
        "        optmizer = tf.keras.optimizers.Adam(learning_rate=learning_rate)\n",
        "    else:\n",
        "        raise NotImplementedError\n",
        "    model = Model(x, y)\n",
        "    model.compile(loss=loss, optimizer=optimizer, metrics=[metric])\n",
        "    \n",
        "    return model"
      ],
      "metadata": {
        "id": "GdTUVugG3lYL"
      },
      "execution_count": 10,
      "outputs": []
    },
    {
      "cell_type": "markdown",
      "source": [
        "###Preprocessing"
      ],
      "metadata": {
        "id": "7SVt9-ZXET77"
      }
    },
    {
      "cell_type": "code",
      "source": [
        "print(train_df.shape)\n",
        "print(valid_df.shape)\n",
        "print(test_df.shape)"
      ],
      "metadata": {
        "colab": {
          "base_uri": "https://localhost:8080/"
        },
        "id": "eTzCbSkqTYFI",
        "outputId": "db2cd211-e973-41ea-a221-25093b677c7b"
      },
      "execution_count": 11,
      "outputs": [
        {
          "output_type": "stream",
          "name": "stdout",
          "text": [
            "(18000, 4)\n",
            "(2000, 3)\n",
            "(4000, 2)\n"
          ]
        }
      ]
    },
    {
      "cell_type": "markdown",
      "source": [
        "Tokenize texts"
      ],
      "metadata": {
        "id": "gb4oZohAGDeW"
      }
    },
    {
      "cell_type": "code",
      "source": [
        "train_df['tokens'] = train_df['text'].map(tokenize).map(filter_stopwords).map(filter_punctuations).map(lower)\n",
        "valid_df['tokens'] = valid_df['text'].map(tokenize).map(filter_stopwords).map(filter_punctuations).map(lower)\n",
        "test_df['tokens'] = test_df['text'].map(tokenize).map(filter_stopwords).map(filter_punctuations).map(lower)"
      ],
      "metadata": {
        "id": "VNVDJ1Wu_V0D"
      },
      "execution_count": 12,
      "outputs": []
    },
    {
      "cell_type": "code",
      "source": [
        "print(test_df.head())"
      ],
      "metadata": {
        "colab": {
          "base_uri": "https://localhost:8080/"
        },
        "id": "QvGMP33vSyRm",
        "outputId": "7112fc61-5136-4ecb-9294-5225e734ab0a"
      },
      "execution_count": 13,
      "outputs": [
        {
          "output_type": "stream",
          "name": "stdout",
          "text": [
            "                                                text               review_id  \\\n",
            "0  OMG! I'm an avid spray tanner and have been al...  I77zZlSdCFAClxdjHwPcxw   \n",
            "1  Sets the standard. Authentic. Outstanding. Cou...  ioFNKarf29KGjRZdH0qC8Q   \n",
            "2  Came on 7/23/2014 with a group of 10 - service...  9429anmcYIcaEcMptJCNKQ   \n",
            "3  I love Bobs Subs! Tasty n made to order...yum!...  PsUCdt7PKjzgBC0c7xXhJA   \n",
            "4  This is my hotel of choice on the strip.  I re...  GQBlykKyShQcNeu2ivLdSA   \n",
            "\n",
            "                                              tokens  \n",
            "0  [omg, i, 'm, avid, spray, tanner, valley, with...  \n",
            "1  [sets, standard, authentic, outstanding, could...  \n",
            "2  [came, 7/23/2014, group, service, awful, food,...  \n",
            "3  [i, love, bobs, subs, tasty, n, made, order, ....  \n",
            "4  [this, hotel, choice, strip, i, really, like, ...  \n"
          ]
        }
      ]
    },
    {
      "cell_type": "code",
      "source": [
        "print(train_df['tokens'][5]) #all 'n't' i.e. 'not' are maintained"
      ],
      "metadata": {
        "colab": {
          "base_uri": "https://localhost:8080/"
        },
        "id": "IE8nFXfeRJK2",
        "outputId": "c31e402e-1f1f-43cf-c6a7-5d1362e603e5"
      },
      "execution_count": 14,
      "outputs": [
        {
          "output_type": "stream",
          "name": "stdout",
          "text": [
            "['my', 'first', 'time', 'vegas', 'however', 'first', 'time', 'buffet', 'i', 'watched', 'tube', 'read', 'reviews', 'talked', 'friends', 'came', 'conclusion', 'place', 'best', 'food', 'money', 'it', 'wasnt', 'terrible', \"n't\", 'good', 'most', 'food', 'cold', 'undesirable', 'the', 'wicked', 'chicken', 'wings', 'good', 'the', 'bone', 'marrow', 'nice', 'touch', 'the', 'pho', 'flavorful', 'the', 'omelet', 'delicious', 'but', 'carving', 'station', 'meat', 'cold', 'the', 'pasta', 'bland', 'the', 'sushi', 'like', 'grocery', 'store', 'the', 'deserts', \"n't\", 'anything', 'crazy', 'delicious', 'honestly', 'items', 'okay', 'we', 'waited', 'hours', 'eat', 'okay', 'food', 'sure', 'i', 'left', 'full', 'i', 'would', 'much', 'rather', 'checked', 'better', 'las', 'vegas', 'food', 'i', 'came', 'i', 'saw', 'ill', 'go', 'somewhere', 'else', 'next', 'time']\n"
          ]
        }
      ]
    },
    {
      "cell_type": "code",
      "source": [
        "min_freq = 3 #select words with frequencies >= 3\n",
        "feats_dict = get_feats_dict(\n",
        "    chain.from_iterable(list(train_df['tokens'])+list(valid_df['tokens'])))\n",
        "    #,min_freq=min_freq)"
      ],
      "metadata": {
        "colab": {
          "base_uri": "https://localhost:8080/"
        },
        "id": "q8kSiiseT6ao",
        "outputId": "7c2a16d3-25f5-4ac7-ea1c-d069be229cb5"
      },
      "execution_count": 15,
      "outputs": [
        {
          "output_type": "stream",
          "name": "stdout",
          "text": [
            "Size of features: 45619\n"
          ]
        }
      ]
    },
    {
      "cell_type": "code",
      "source": [
        "len(list(train_df['tokens'])+list(valid_df['tokens']))"
      ],
      "metadata": {
        "colab": {
          "base_uri": "https://localhost:8080/"
        },
        "id": "G4c7VxjwNBdd",
        "outputId": "aaa1c993-d9ee-46c4-fa99-14fef4996238"
      },
      "execution_count": 16,
      "outputs": [
        {
          "output_type": "execute_result",
          "data": {
            "text/plain": [
              "20000"
            ]
          },
          "metadata": {},
          "execution_count": 16
        }
      ]
    },
    {
      "cell_type": "code",
      "source": [
        "print(dict(list(feats_dict.items())[0:10]))"
      ],
      "metadata": {
        "colab": {
          "base_uri": "https://localhost:8080/"
        },
        "id": "mJb5JF6fTogB",
        "outputId": "108e4312-8795-4ed8-9e17-bc2dd3f51777"
      },
      "execution_count": 17,
      "outputs": [
        {
          "output_type": "stream",
          "name": "stdout",
          "text": [
            "{'i': 0, 'the': 1, \"n't\": 2, \"'s\": 3, 'food': 4, 'good': 5, 'place': 6, 'great': 7, 'service': 8, 'we': 9}\n"
          ]
        }
      ]
    },
    {
      "cell_type": "code",
      "source": [
        "max_len = 250\n",
        "\n",
        "# build the feats_matrix\n",
        "# convert each example to a index vector, and then stack vectors as a matrix\n",
        "train_feats_matrix = np.vstack(\n",
        "    [get_index_vector(f, feats_dict, max_len) for f in train_df['tokens']])\n",
        "valid_feats_matrix = np.vstack(\n",
        "    [get_index_vector(f, feats_dict, max_len) for f in valid_df['tokens']])\n",
        "test_feats_matrix = np.vstack(\n",
        "    [get_index_vector(f, feats_dict, max_len) for f in test_df['tokens']])\n",
        "\n",
        "\n",
        "# convert labels to label_matrix\n",
        "num_classes = 5\n",
        "# convert each label to a one-hot vector, and then stack vectors as a matrix\n",
        "train_label_matrix = tf.keras.utils.to_categorical(train_df['stars']-1, num_classes=num_classes)\n",
        "valid_label_matrix = tf.keras.utils.to_categorical(valid_df['stars']-1, num_classes=num_classes)"
      ],
      "metadata": {
        "id": "Bc1HO7DVUH-J"
      },
      "execution_count": 18,
      "outputs": []
    },
    {
      "cell_type": "code",
      "source": [
        "print(test_feats_matrix.shape)"
      ],
      "metadata": {
        "colab": {
          "base_uri": "https://localhost:8080/"
        },
        "id": "wCFBY-j4kGMU",
        "outputId": "7f42dd17-3554-435c-dc1b-bda04217a427"
      },
      "execution_count": 19,
      "outputs": [
        {
          "output_type": "stream",
          "name": "stdout",
          "text": [
            "(4000, 250)\n"
          ]
        }
      ]
    },
    {
      "cell_type": "code",
      "source": [
        "print(train_feats_matrix.shape)\n",
        "print(train_feats_matrix[0])\n",
        "print(train_label_matrix.shape)\n",
        "print(train_label_matrix[:3])"
      ],
      "metadata": {
        "id": "pvHRMEl9Ub5H",
        "colab": {
          "base_uri": "https://localhost:8080/"
        },
        "outputId": "94a2c4ab-f0d0-4df1-8fd8-451c600a0f37"
      },
      "execution_count": 20,
      "outputs": [
        {
          "output_type": "stream",
          "name": "stdout",
          "text": [
            "(18000, 250)\n",
            "[    0    25  2670   113     0    25    44   263     1     4    37     5\n",
            "   576   272    81   273    67   174   260 14144   171  3337 14144  1830\n",
            "    26     0   599   756  4401     0 14144   171     1   550    34   159\n",
            "    78   933     0    37   383  1068   131     1   550    47   959   142\n",
            "   143    67   328  2740     0    25    21   257  5507   135   368    68\n",
            "    78   199     0    25   482   279    45    12   852   205   177     5\n",
            "     1   576    37    43    26    19   223     0     0     0     0     0\n",
            "     0     0     0     0     0     0     0     0     0     0     0     0\n",
            "     0     0     0     0     0     0     0     0     0     0     0     0\n",
            "     0     0     0     0     0     0     0     0     0     0     0     0\n",
            "     0     0     0     0     0     0     0     0     0     0     0     0\n",
            "     0     0     0     0     0     0     0     0     0     0     0     0\n",
            "     0     0     0     0     0     0     0     0     0     0     0     0\n",
            "     0     0     0     0     0     0     0     0     0     0     0     0\n",
            "     0     0     0     0     0     0     0     0     0     0     0     0\n",
            "     0     0     0     0     0     0     0     0     0     0     0     0\n",
            "     0     0     0     0     0     0     0     0     0     0     0     0\n",
            "     0     0     0     0     0     0     0     0     0     0     0     0\n",
            "     0     0     0     0     0     0     0     0     0     0     0     0\n",
            "     0     0     0     0     0     0     0     0     0     0     0     0\n",
            "     0     0     0     0     0     0     0     0     0     0]\n",
            "(18000, 5)\n",
            "[[0. 0. 0. 0. 1.]\n",
            " [1. 0. 0. 0. 0.]\n",
            " [0. 0. 0. 1. 0.]]\n"
          ]
        }
      ]
    },
    {
      "cell_type": "markdown",
      "source": [
        "###Simple RNN"
      ],
      "metadata": {
        "id": "ezAffG_it5QA"
      }
    },
    {
      "cell_type": "markdown",
      "source": [
        "####LSTM"
      ],
      "metadata": {
        "id": "J0SNhstNUx5j"
      }
    },
    {
      "cell_type": "code",
      "source": [
        "os.makedirs(\"models\", exist_ok=True)\n",
        "model = build_RNN(input_length=max_len, vocab_size=len(feats_dict),\n",
        "                  embedding_size=100, hidden_size=100, output_size=num_classes,\n",
        "                  rnn_type=\"lstm\", num_rnn_layers=1, num_mlp_layers=2,\n",
        "                  activation=\"tanh\",\n",
        "                  batch_norm=True,\n",
        "                  l2_reg=0.005, dropout_rate=0.5)\n",
        "checkpointer = keras.callbacks.ModelCheckpoint(\n",
        "    filepath=os.path.join(\"models\", \"weights.hdf5\"),\n",
        "    monitor=\"val_accuracy\",\n",
        "    verbose=0,\n",
        "    save_best_only=True)\n",
        "earlystopping = keras.callbacks.EarlyStopping(\n",
        "    monitor='val_loss',\n",
        "    patience=5,\n",
        "    verbose=0)\n",
        "\n",
        "np.random.seed(0)\n",
        "tf.random.set_seed(0)\n",
        "\n",
        "with tf.device('/gpu:0'):\n",
        "  lstm_history = model.fit(train_feats_matrix, train_label_matrix,\n",
        "                    validation_split=0.1,\n",
        "                    epochs=100, batch_size=100, verbose=0,\n",
        "                    callbacks=[checkpointer, earlystopping])\n",
        "\n",
        "model = keras.models.load_model(os.path.join(\"models\", \"weights.hdf5\"))\n",
        "\n",
        "train_score = model.evaluate(train_feats_matrix, train_label_matrix,\n",
        "                             batch_size=100)\n",
        "test_score = model.evaluate(valid_feats_matrix, valid_label_matrix,\n",
        "                            batch_size=100)\n",
        "print(\"training loss:\", train_score[0], \"training accuracy\", train_score[1])\n",
        "print(\"test loss:\", test_score[0], \"test accuracy\", test_score[1])"
      ],
      "metadata": {
        "colab": {
          "base_uri": "https://localhost:8080/"
        },
        "id": "Ik1a1Zr4UwtN",
        "outputId": "98ab4ae2-e1ac-488c-bb80-dedaa257f69c"
      },
      "execution_count": 21,
      "outputs": [
        {
          "output_type": "stream",
          "name": "stdout",
          "text": [
            "180/180 [==============================] - 2s 8ms/step - loss: 1.5149 - accuracy: 0.4466\n",
            "20/20 [==============================] - 0s 8ms/step - loss: 1.4816 - accuracy: 0.4555\n",
            "training loss: 1.514910101890564 training accuracy 0.44655555486679077\n",
            "test loss: 1.4815969467163086 test accuracy 0.4555000066757202\n"
          ]
        }
      ]
    },
    {
      "cell_type": "code",
      "source": [
        "pred = np.argmax(model.predict(valid_feats_matrix), axis = 1) + 1\n",
        "print(classification_report(valid_df[\"stars\"], pred, digits=4))"
      ],
      "metadata": {
        "colab": {
          "base_uri": "https://localhost:8080/"
        },
        "id": "WwvHxRuzqhF8",
        "outputId": "a7c2fc27-2c9c-445c-bf91-22e744d2f5e9"
      },
      "execution_count": 22,
      "outputs": [
        {
          "output_type": "stream",
          "name": "stdout",
          "text": [
            "              precision    recall  f1-score   support\n",
            "\n",
            "           1     0.4643    0.0461    0.0839       282\n",
            "           2     0.0000    0.0000    0.0000       136\n",
            "           3     0.0000    0.0000    0.0000       212\n",
            "           4     0.0000    0.0000    0.0000       466\n",
            "           5     0.4556    0.9934    0.6247       904\n",
            "\n",
            "    accuracy                         0.4555      2000\n",
            "   macro avg     0.1840    0.2079    0.1417      2000\n",
            "weighted avg     0.2714    0.4555    0.2942      2000\n",
            "\n"
          ]
        }
      ]
    },
    {
      "cell_type": "markdown",
      "source": [
        "####GRU"
      ],
      "metadata": {
        "id": "CFSr5-qlVYsK"
      }
    },
    {
      "cell_type": "code",
      "source": [
        "os.makedirs(\"models\", exist_ok=True)\n",
        "model = build_RNN(input_length=max_len, vocab_size=len(feats_dict),\n",
        "                  embedding_size=100, hidden_size=100, output_size=num_classes,\n",
        "                  rnn_type=\"gru\", num_rnn_layers=1, num_mlp_layers=2,\n",
        "                  activation=\"tanh\",\n",
        "                  batch_norm=True,\n",
        "                  l2_reg=0.005, dropout_rate=0.5)\n",
        "checkpointer = keras.callbacks.ModelCheckpoint(\n",
        "    filepath=os.path.join(\"models\", \"weights.hdf5\"),\n",
        "    monitor=\"val_accuracy\",\n",
        "    verbose=0,\n",
        "    save_best_only=True)\n",
        "earlystopping = keras.callbacks.EarlyStopping(\n",
        "    monitor='val_loss',\n",
        "    patience=5,\n",
        "    verbose=0)\n",
        "\n",
        "np.random.seed(0)\n",
        "tf.random.set_seed(0)\n",
        "\n",
        "with tf.device('/gpu:0'):\n",
        "  gru_history = model.fit(train_feats_matrix, train_label_matrix,\n",
        "                    validation_split=0.1,\n",
        "                    epochs=100, batch_size=100, verbose=0,\n",
        "                    callbacks=[checkpointer, earlystopping])\n",
        "\n",
        "model = keras.models.load_model(os.path.join(\"models\", \"weights.hdf5\"))\n",
        "\n",
        "train_score = model.evaluate(train_feats_matrix, train_label_matrix,\n",
        "                             batch_size=100)\n",
        "test_score = model.evaluate(valid_feats_matrix, valid_label_matrix,\n",
        "                            batch_size=100)\n",
        "print(\"training loss:\", train_score[0], \"training accuracy\", train_score[1])\n",
        "print(\"test loss:\", test_score[0], \"test accuracy\", test_score[1])"
      ],
      "metadata": {
        "colab": {
          "base_uri": "https://localhost:8080/"
        },
        "id": "Tf7NVfy_VbeZ",
        "outputId": "d5373181-720f-47e9-c79b-c5d127a18b64"
      },
      "execution_count": 23,
      "outputs": [
        {
          "output_type": "stream",
          "name": "stdout",
          "text": [
            "180/180 [==============================] - 2s 7ms/step - loss: 0.5965 - accuracy: 0.7859\n",
            "20/20 [==============================] - 0s 7ms/step - loss: 1.0166 - accuracy: 0.6235\n",
            "training loss: 0.5965202450752258 training accuracy 0.7858889102935791\n",
            "test loss: 1.0166301727294922 test accuracy 0.6234999895095825\n"
          ]
        }
      ]
    },
    {
      "cell_type": "code",
      "source": [
        "pred = np.argmax(model.predict(valid_feats_matrix), axis = 1) + 1\n",
        "print(classification_report(valid_df[\"stars\"], pred, digits=4))"
      ],
      "metadata": {
        "colab": {
          "base_uri": "https://localhost:8080/"
        },
        "id": "YWvL9Z2Trval",
        "outputId": "45e55e07-a5af-47bd-949a-a271e092f670"
      },
      "execution_count": 24,
      "outputs": [
        {
          "output_type": "stream",
          "name": "stdout",
          "text": [
            "              precision    recall  f1-score   support\n",
            "\n",
            "           1     0.7257    0.7411    0.7333       282\n",
            "           2     0.2876    0.3235    0.3045       136\n",
            "           3     0.4101    0.4198    0.4149       212\n",
            "           4     0.4804    0.3155    0.3808       466\n",
            "           5     0.7317    0.8385    0.7814       904\n",
            "\n",
            "    accuracy                         0.6235      2000\n",
            "   macro avg     0.5271    0.5277    0.5230      2000\n",
            "weighted avg     0.6080    0.6235    0.6100      2000\n",
            "\n"
          ]
        }
      ]
    },
    {
      "cell_type": "markdown",
      "source": [
        "####Bi-directional LSTM"
      ],
      "metadata": {
        "id": "9Sd1zl-tVnbK"
      }
    },
    {
      "cell_type": "code",
      "source": [
        "os.makedirs(\"models\", exist_ok=True)\n",
        "model = build_RNN(input_length=max_len, vocab_size=len(feats_dict),\n",
        "                  embedding_size=100, hidden_size=100, output_size=num_classes,\n",
        "                  rnn_type=\"lstm\", num_rnn_layers=1, bidirectional=True, num_mlp_layers=2,\n",
        "                  activation=\"tanh\",\n",
        "                  batch_norm=True,\n",
        "                  l2_reg=0.005, dropout_rate=0.5)\n",
        "checkpointer = keras.callbacks.ModelCheckpoint(\n",
        "    filepath=os.path.join(\"models\", \"weights.hdf5\"),\n",
        "    monitor=\"val_accuracy\",\n",
        "    verbose=0,\n",
        "    save_best_only=True)\n",
        "earlystopping = keras.callbacks.EarlyStopping(\n",
        "    monitor='val_loss',\n",
        "    patience=5,\n",
        "    verbose=0)\n",
        "\n",
        "np.random.seed(0)\n",
        "tf.random.set_seed(0)\n",
        "\n",
        "with tf.device('/gpu:0'):\n",
        "  bilstm_history = model.fit(train_feats_matrix, train_label_matrix,\n",
        "                    validation_split=0.1,\n",
        "                    epochs=100, batch_size=100, verbose=0,\n",
        "                    callbacks=[checkpointer, earlystopping])\n",
        "\n",
        "model = keras.models.load_model(os.path.join(\"models\", \"weights.hdf5\"))\n",
        "\n",
        "train_score = model.evaluate(train_feats_matrix, train_label_matrix,\n",
        "                             batch_size=100)\n",
        "test_score = model.evaluate(valid_feats_matrix, valid_label_matrix,\n",
        "                            batch_size=100)\n",
        "print(\"training loss:\", train_score[0], \"training accuracy\", train_score[1])\n",
        "print(\"test loss:\", test_score[0], \"test accuracy\", test_score[1])"
      ],
      "metadata": {
        "colab": {
          "base_uri": "https://localhost:8080/"
        },
        "id": "h_mSIlaUVs4O",
        "outputId": "13540c0e-c0a5-4d66-b4cf-9869f901ad3d"
      },
      "execution_count": 25,
      "outputs": [
        {
          "output_type": "stream",
          "name": "stdout",
          "text": [
            "180/180 [==============================] - 3s 14ms/step - loss: 0.8828 - accuracy: 0.7360\n",
            "20/20 [==============================] - 0s 13ms/step - loss: 1.0810 - accuracy: 0.6275\n",
            "training loss: 0.8828385472297668 training accuracy 0.7360000014305115\n",
            "test loss: 1.0810298919677734 test accuracy 0.6274999976158142\n"
          ]
        }
      ]
    },
    {
      "cell_type": "code",
      "source": [
        "pred = np.argmax(model.predict(valid_feats_matrix), axis = 1) + 1\n",
        "print(classification_report(valid_df[\"stars\"], pred, digits=4))"
      ],
      "metadata": {
        "colab": {
          "base_uri": "https://localhost:8080/"
        },
        "id": "FmzaRwPQrxe9",
        "outputId": "f495917d-4b0d-4860-a100-3d6936224e49"
      },
      "execution_count": 26,
      "outputs": [
        {
          "output_type": "stream",
          "name": "stdout",
          "text": [
            "              precision    recall  f1-score   support\n",
            "\n",
            "           1     0.6250    0.8156    0.7077       282\n",
            "           2     0.0000    0.0000    0.0000       136\n",
            "           3     0.4831    0.2689    0.3455       212\n",
            "           4     0.4492    0.4270    0.4378       466\n",
            "           5     0.7180    0.8507    0.7787       904\n",
            "\n",
            "    accuracy                         0.6275      2000\n",
            "   macro avg     0.4551    0.4724    0.4539      2000\n",
            "weighted avg     0.5685    0.6275    0.5904      2000\n",
            "\n"
          ]
        }
      ]
    },
    {
      "cell_type": "markdown",
      "source": [
        "####Comparison"
      ],
      "metadata": {
        "id": "UVJXDQXnV3o_"
      }
    },
    {
      "cell_type": "code",
      "source": [
        "plt.figure(figsize=(10,4))\n",
        "plt.subplot(1,2,1)\n",
        "plt.plot(bilstm_history.history[\"loss\"], label=\"BiLSTM-training\", color=\"blue\", linestyle=\"dashed\")\n",
        "plt.plot(bilstm_history.history[\"val_loss\"], label=\"BiLSTM-validation\", color=\"blue\")\n",
        "plt.plot(lstm_history.history[\"loss\"], label=\"LSTM-training\", color=\"orange\", linestyle=\"dashed\")\n",
        "plt.plot(lstm_history.history[\"val_loss\"], label=\"LSTM-validation\", color=\"orange\")\n",
        "plt.plot(gru_history.history[\"loss\"], label=\"GRU-training\", color=\"gray\", linestyle=\"dashed\")\n",
        "plt.plot(gru_history.history[\"val_loss\"], label=\"GRU-validation\", color=\"gray\")\n",
        "plt.xlabel(\"Iteration\")\n",
        "plt.ylabel(\"Loss\")\n",
        "plt.legend()\n",
        "plt.subplot(1,2,2)\n",
        "plt.plot(bilstm_history.history[\"accuracy\"], label=\"BiLSTM-training\", color=\"blue\", linestyle=\"dashed\")\n",
        "plt.plot(bilstm_history.history[\"val_accuracy\"], label=\"BiLSTM-validation\", color=\"blue\")\n",
        "plt.plot(lstm_history.history[\"accuracy\"], label=\"LSTM-training\", color=\"orange\", linestyle=\"dashed\")\n",
        "plt.plot(lstm_history.history[\"val_accuracy\"], label=\"LSTM-validation\", color=\"orange\")\n",
        "plt.plot(gru_history.history[\"accuracy\"], label=\"GRU-training\", color=\"gray\", linestyle=\"dashed\")\n",
        "plt.plot(gru_history.history[\"val_accuracy\"], label=\"GRU-validation\", color=\"gray\")\n",
        "plt.xlabel(\"Iteration\")\n",
        "plt.ylabel(\"Accuracy\")\n",
        "plt.legend()\n",
        "plt.show()"
      ],
      "metadata": {
        "colab": {
          "base_uri": "https://localhost:8080/",
          "height": 279
        },
        "id": "oluzyEbIV5G3",
        "outputId": "de0e0fef-28f9-431a-f9da-b81f51d36b2f"
      },
      "execution_count": 27,
      "outputs": [
        {
          "output_type": "display_data",
          "data": {
            "text/plain": [
              "<Figure size 720x288 with 2 Axes>"
            ],
            "image/png": "[encoded data removed]"
          },
          "metadata": {
            "needs_background": "light"
          }
        }
      ]
    },
    {
      "cell_type": "markdown",
      "source": [
        "Not so good, but all models are all stable and fast to train"
      ],
      "metadata": {
        "id": "T-h0VH3ZGofz"
      }
    },
    {
      "cell_type": "markdown",
      "source": [
        "###RNN with Word Embeddings"
      ],
      "metadata": {
        "id": "z9LdcFjduOuQ"
      }
    },
    {
      "cell_type": "markdown",
      "source": [
        "####GRU+FastText (best combination)"
      ],
      "metadata": {
        "id": "5fn6KyOo77-j"
      }
    },
    {
      "cell_type": "code",
      "source": [
        "!git clone https://github.com/facebookresearch/fastText.git\n",
        "%cd fastText\n",
        "!make\n",
        "!cp fasttext ../\n",
        "%cd .."
      ],
      "metadata": {
        "id": "InlXHsxlVS9K",
        "colab": {
          "base_uri": "https://localhost:8080/"
        },
        "outputId": "1f0c9765-dd7a-4a89-bae5-a3efff3d07f3"
      },
      "execution_count": 28,
      "outputs": [
        {
          "output_type": "stream",
          "name": "stdout",
          "text": [
            "Cloning into 'fastText'...\n",
            "remote: Enumerating objects: 3930, done.\u001b[K\n",
            "remote: Counting objects: 100% (944/944), done.\u001b[K\n",
            "remote: Compressing objects: 100% (140/140), done.\u001b[K\n",
            "remote: Total 3930 (delta 854), reused 804 (delta 804), pack-reused 2986\u001b[K\n",
            "Receiving objects: 100% (3930/3930), 8.24 MiB | 39.81 MiB/s, done.\n",
            "Resolving deltas: 100% (2505/2505), done.\n",
            "/content/fastText\n",
            "c++ -pthread -std=c++11 -march=native -O3 -funroll-loops -DNDEBUG -c src/args.cc\n",
            "c++ -pthread -std=c++11 -march=native -O3 -funroll-loops -DNDEBUG -c src/autotune.cc\n",
            "c++ -pthread -std=c++11 -march=native -O3 -funroll-loops -DNDEBUG -c src/matrix.cc\n",
            "c++ -pthread -std=c++11 -march=native -O3 -funroll-loops -DNDEBUG -c src/dictionary.cc\n",
            "c++ -pthread -std=c++11 -march=native -O3 -funroll-loops -DNDEBUG -c src/loss.cc\n",
            "c++ -pthread -std=c++11 -march=native -O3 -funroll-loops -DNDEBUG -c src/productquantizer.cc\n",
            "c++ -pthread -std=c++11 -march=native -O3 -funroll-loops -DNDEBUG -c src/densematrix.cc\n",
            "c++ -pthread -std=c++11 -march=native -O3 -funroll-loops -DNDEBUG -c src/quantmatrix.cc\n",
            "c++ -pthread -std=c++11 -march=native -O3 -funroll-loops -DNDEBUG -c src/vector.cc\n",
            "c++ -pthread -std=c++11 -march=native -O3 -funroll-loops -DNDEBUG -c src/model.cc\n",
            "c++ -pthread -std=c++11 -march=native -O3 -funroll-loops -DNDEBUG -c src/utils.cc\n",
            "c++ -pthread -std=c++11 -march=native -O3 -funroll-loops -DNDEBUG -c src/meter.cc\n",
            "c++ -pthread -std=c++11 -march=native -O3 -funroll-loops -DNDEBUG -c src/fasttext.cc\n",
            "c++ -pthread -std=c++11 -march=native -O3 -funroll-loops -DNDEBUG args.o autotune.o matrix.o dictionary.o loss.o productquantizer.o densematrix.o quantmatrix.o vector.o model.o utils.o meter.o fasttext.o src/main.cc -o fasttext\n",
            "/content\n"
          ]
        }
      ]
    },
    {
      "cell_type": "code",
      "source": [
        "pwd"
      ],
      "metadata": {
        "id": "L5jjtbmAXQ1p",
        "colab": {
          "base_uri": "https://localhost:8080/",
          "height": 36
        },
        "outputId": "cd0ddbca-8a42-4526-8c9a-aa6e274ac8c5"
      },
      "execution_count": 29,
      "outputs": [
        {
          "output_type": "execute_result",
          "data": {
            "text/plain": [
              "'/content'"
            ],
            "application/vnd.google.colaboratory.intrinsic+json": {
              "type": "string"
            }
          },
          "metadata": {},
          "execution_count": 29
        }
      ]
    },
    {
      "cell_type": "markdown",
      "source": [
        "The code below is to write save training texts into a 'reviews.txt' where each line is a sentence or a review"
      ],
      "metadata": {
        "id": "FqjaCP3Uapy4"
      }
    },
    {
      "cell_type": "code",
      "source": [
        "with open(\"reviews.txt\", \"w\") as f:\n",
        "    for x in train_df['tokens']:\n",
        "        sent = [w if w in feats_dict else \"<unk>\" for w in x]\n",
        "        f.write(\" \".join(sent))\n",
        "        f.write(\"\\n\")\n",
        "    for x in valid_df['tokens']:\n",
        "        sent = [w if w in feats_dict else \"<unk>\" for w in x]\n",
        "        f.write(\" \".join(sent))\n",
        "        f.write(\"\\n\")"
      ],
      "metadata": {
        "id": "0DTI7bckadmS"
      },
      "execution_count": 30,
      "outputs": []
    },
    {
      "cell_type": "code",
      "source": [
        "!./fastText/fasttext skipgram -input reviews.txt -output word2vec -dim 100 -minCount 3 -epoch 10"
      ],
      "metadata": {
        "colab": {
          "base_uri": "https://localhost:8080/"
        },
        "id": "Trp0vLryWF6o",
        "outputId": "03e1839e-b2fe-4f36-cf4d-1c90f02a44ff"
      },
      "execution_count": 31,
      "outputs": [
        {
          "output_type": "stream",
          "name": "stdout",
          "text": [
            "\rRead 1M words\rRead 1M words\n",
            "Number of words:  17140\n",
            "Number of labels: 0\n",
            "Progress: 100.0% words/sec/thread:   11463 lr:  0.000000 avg.loss:  2.229092 ETA:   0h 0m 0s\n"
          ]
        }
      ]
    },
    {
      "cell_type": "markdown",
      "source": [
        "Build embedding matrix"
      ],
      "metadata": {
        "id": "oF_FlTXCG2Ou"
      }
    },
    {
      "cell_type": "code",
      "source": [
        "embedding_matrix = np.zeros((len(feats_dict), 100), dtype=np.float32)\n",
        "with open(\"word2vec.vec\", \"r\") as f:\n",
        "    n_words, n_dim = f.readline().split()\n",
        "    n_words, n_dim = int(n_words), int(n_dim) \n",
        "    print(\"number of words:\", n_words, \"word dimension:\", n_dim)\n",
        "    while True:\n",
        "        line = f.readline()\n",
        "        if not line:\n",
        "            break\n",
        "        word, vec = line.split(\" \", 1)\n",
        "        word_idx = feats_dict.get(word, -1)\n",
        "        if word_idx != -1:\n",
        "            embedding_matrix[word_idx] = np.array(vec.split(), dtype=np.float32)"
      ],
      "metadata": {
        "colab": {
          "base_uri": "https://localhost:8080/"
        },
        "id": "ULCwKGUsX5PZ",
        "outputId": "df75f684-65d4-431b-d547-0dcb26c8e809"
      },
      "execution_count": 33,
      "outputs": [
        {
          "output_type": "stream",
          "name": "stdout",
          "text": [
            "number of words: 17140 word dimension: 100\n"
          ]
        }
      ]
    },
    {
      "cell_type": "code",
      "source": [
        "print(embedding_matrix[:5])"
      ],
      "metadata": {
        "id": "G-orta_ELSPp",
        "colab": {
          "base_uri": "https://localhost:8080/"
        },
        "outputId": "115bb40b-3795-47ca-c39b-289d0e8f25ef"
      },
      "execution_count": 34,
      "outputs": [
        {
          "output_type": "stream",
          "name": "stdout",
          "text": [
            "[[ 2.9940e-01  1.0787e-01  2.6570e-01 -2.0154e-01  4.4366e-02  1.5901e-01\n",
            "   7.4728e-02 -1.5945e-01  9.4917e-02  1.1043e-01 -6.6370e-02  1.7468e-01\n",
            "  -2.8960e-02  5.1952e-02 -1.9535e-01 -1.7225e-01  2.3413e-01 -4.7336e-02\n",
            "  -1.7992e-01 -3.8821e-02  7.8607e-02  3.5578e-01 -1.2861e-02 -1.5123e-01\n",
            "  -1.2822e-01 -3.9803e-02 -5.8060e-02  1.2697e-01  4.5375e-03  1.0228e-01\n",
            "  -1.6500e-01 -2.9522e-02  1.2817e-01  5.2963e-03 -1.1983e-01 -1.9379e-02\n",
            "   9.0288e-02 -5.6694e-01 -3.0226e-01 -1.5199e-01 -1.9520e-01  1.6754e-01\n",
            "   1.1331e-01 -3.2007e-01 -1.0674e-01 -2.1841e-01  1.0829e-01 -3.4203e-01\n",
            "   3.6338e-02  1.9256e-01  1.2707e-01  5.9673e-02  2.1937e-01  2.2118e-02\n",
            "  -2.6571e-01  1.1348e-01 -2.3028e-01 -2.2358e-01 -1.4083e-01  1.2715e-01\n",
            "  -8.1688e-02 -2.0647e-01  1.8050e-01 -1.7363e-01  1.2856e-01 -2.9429e-02\n",
            "  -1.4810e-01 -6.8222e-02  2.5054e-01 -2.1676e-02  4.4733e-03  5.0836e-02\n",
            "  -5.1425e-02  2.7037e-02  6.0986e-02  6.2140e-02  2.0335e-01  1.5712e-01\n",
            "  -8.2894e-02 -1.3846e-01  7.4277e-02 -4.6544e-02  3.0310e-01  6.4639e-02\n",
            "   1.5649e-01  9.2050e-03 -9.6009e-02 -4.3452e-02 -2.0440e-01 -6.4036e-02\n",
            "   2.0988e-01  1.7243e-01 -2.3106e-02 -8.3980e-02 -1.7449e-01 -6.6748e-02\n",
            "  -5.7835e-02 -4.8419e-02 -1.8530e-01 -1.4810e-01]\n",
            " [ 2.6745e-01  3.2305e-01  2.1578e-01  9.6420e-02  3.2773e-01  5.2150e-02\n",
            "  -1.5515e-01 -3.7653e-01  3.7410e-02  1.1557e-01 -4.4752e-02  2.1722e-02\n",
            "   1.0035e-02  7.2464e-02 -1.9826e-01 -1.0508e-01  2.0801e-01  1.6312e-02\n",
            "  -7.2606e-02  1.6914e-01  2.0881e-01  1.3001e-01  3.8114e-02 -5.8701e-02\n",
            "  -2.5698e-01 -2.2640e-01  4.3354e-02  3.6555e-01 -1.2552e-01 -2.2704e-02\n",
            "   2.5225e-02  6.8059e-02  7.9168e-02  3.3657e-01 -8.6069e-02  7.1744e-02\n",
            "  -4.7147e-02 -4.1851e-01  8.8400e-03  1.5776e-01 -1.5475e-01  1.6813e-01\n",
            "   7.1358e-02 -1.6480e-01  1.7987e-01 -3.6231e-01  3.0987e-01  6.5352e-02\n",
            "  -7.8020e-02  2.8480e-01  3.8568e-01  1.4712e-02  2.5094e-01 -6.2529e-02\n",
            "  -5.1170e-02  7.7342e-02 -3.6095e-01 -7.0504e-02 -2.2469e-01  1.7413e-01\n",
            "  -8.8222e-02 -1.3424e-01  1.9844e-01 -4.0880e-03 -1.2625e-01 -1.7570e-01\n",
            "   5.5732e-02 -2.2704e-01  3.0170e-03 -1.3319e-02 -5.4369e-02 -1.2402e-01\n",
            "   2.0391e-01  2.0536e-02 -1.3792e-01 -2.9180e-02 -1.3420e-01  2.5197e-01\n",
            "  -4.4168e-02 -5.6547e-02  2.2810e-01 -3.2388e-01  1.4886e-01  2.1573e-01\n",
            "  -5.5297e-02  1.4383e-01 -1.5756e-01 -5.0340e-02 -3.6944e-01  7.0208e-03\n",
            "   4.1087e-02  4.5343e-01  5.8146e-03  1.8275e-01  3.4652e-03  2.2126e-01\n",
            "   2.5935e-02  1.3064e-02  2.7492e-03 -1.8680e-01]\n",
            " [ 1.0357e-01  2.7732e-01  2.6191e-01 -3.2956e-01  5.1609e-03  2.8915e-01\n",
            "  -4.4697e-02 -1.4133e-01  1.5100e-01 -4.9317e-02 -3.3769e-02 -1.3468e-01\n",
            "  -1.1171e-01  1.8009e-01 -5.9631e-02 -1.2983e-01  2.5357e-01  9.7628e-02\n",
            "  -2.4590e-01 -8.5615e-02 -1.0073e-01  3.4420e-01  2.5565e-01 -1.4100e-01\n",
            "  -4.4383e-01 -1.2328e-01  1.3751e-01  1.4821e-01  1.8402e-01  7.5444e-02\n",
            "  -1.8187e-01 -2.2568e-01  1.2069e-01  9.7348e-02 -1.5887e-01  3.0906e-03\n",
            "  -2.8608e-03 -3.7638e-01 -2.1289e-01  3.4797e-02 -1.5279e-01  3.8282e-02\n",
            "   8.9364e-02 -1.9192e-01 -1.4720e-01 -2.7806e-02  2.0982e-01 -2.9839e-01\n",
            "  -1.9904e-01  1.6892e-01  2.6115e-01  1.1444e-01  5.8605e-03  1.0973e-01\n",
            "  -1.1553e-01 -6.3856e-02 -3.2468e-01 -3.2740e-01 -1.8102e-01  1.0641e-01\n",
            "  -2.4491e-02 -9.7638e-02  2.6030e-01  1.5933e-01  1.6658e-01 -8.5795e-02\n",
            "  -3.0431e-01  1.1445e-01  8.1427e-02 -1.4245e-02 -1.0739e-01  1.0802e-01\n",
            "  -2.0789e-02 -1.0411e-01 -3.5383e-02  3.8120e-02  2.3415e-01  2.9830e-01\n",
            "  -1.7811e-01 -3.6887e-01  1.7549e-01 -3.7070e-02  3.2945e-01  2.5078e-01\n",
            "   1.1242e-01 -1.0408e-02 -5.2609e-02 -1.3805e-01 -1.2192e-01 -1.2032e-01\n",
            "   1.2033e-01  2.1411e-01  1.9601e-01  4.8140e-02 -2.9820e-01  2.0774e-03\n",
            "   1.2632e-01  2.3590e-01 -4.2292e-01 -2.5485e-01]\n",
            " [ 2.4385e-01  1.7789e-01  1.2636e-01 -1.4874e-01  8.1652e-02 -3.2212e-02\n",
            "  -2.1473e-01 -1.0096e-01  1.1959e-01 -1.3051e-01 -1.0714e-01  7.6470e-02\n",
            "  -7.8562e-02  1.0865e-01 -2.7737e-01 -2.2032e-01  4.8262e-02  1.4130e-01\n",
            "  -2.4880e-01  1.4186e-01  3.0630e-02  3.8867e-01 -1.3193e-01 -1.6837e-01\n",
            "  -3.4715e-01 -1.4491e-01  3.9647e-02  2.7682e-01 -3.3234e-02  1.2641e-02\n",
            "   5.8390e-03 -7.2113e-03  9.1027e-02  5.3160e-02  6.0478e-02  1.3049e-01\n",
            "  -1.8680e-02 -3.3730e-01 -1.5285e-01 -4.2629e-02 -2.8760e-01  2.1336e-01\n",
            "   2.8800e-01 -1.6513e-01 -1.0808e-01 -1.8980e-01  1.9974e-01 -9.7573e-03\n",
            "   7.8034e-02  3.3455e-02  1.1491e-01  9.8524e-02 -1.0093e-01  1.5359e-02\n",
            "  -1.4306e-01  1.8061e-01 -3.7689e-01 -2.2148e-01 -1.2108e-01  1.7732e-01\n",
            "  -6.1540e-03 -2.3972e-01 -1.4824e-02 -2.0867e-01  2.3040e-01 -9.3554e-02\n",
            "  -1.3552e-01 -2.2208e-01 -7.0455e-02  7.6648e-02 -1.6104e-01  1.5739e-02\n",
            "   1.0479e-01  7.4865e-02  1.4367e-01  2.3306e-01 -5.5275e-02  2.2410e-01\n",
            "  -1.2666e-01 -1.0202e-01 -8.1714e-02 -2.8850e-01  1.9810e-01 -1.6228e-02\n",
            "   4.2660e-02  8.4803e-02 -2.1419e-03  2.2077e-01  1.7589e-02 -2.3096e-02\n",
            "  -2.6544e-02  3.0723e-01  1.5299e-01 -1.8717e-02  2.2897e-02  4.8649e-02\n",
            "   1.7197e-01  4.5930e-02 -1.5860e-01 -2.8685e-01]\n",
            " [ 4.9251e-01  1.2339e-01  2.4639e-01  7.0589e-03  2.9044e-01  4.5056e-02\n",
            "  -1.2305e-01  1.3963e-01 -5.0938e-02  1.6019e-01 -1.2698e-01 -1.6332e-01\n",
            "  -2.0708e-02  3.0067e-01 -2.1733e-01  1.2674e-02  2.2932e-01  1.9871e-01\n",
            "  -6.6405e-02 -1.6447e-01 -2.3379e-01  5.4967e-01 -1.5606e-01 -1.2299e-01\n",
            "  -1.8483e-01 -1.3394e-01 -1.0645e-01  6.8468e-01  1.3303e-01  4.6521e-03\n",
            "  -3.1826e-01  7.9223e-02 -2.0270e-02  2.2089e-01 -4.2014e-01  1.1399e-01\n",
            "  -2.2964e-01 -3.1930e-01  1.6164e-01  6.4383e-02 -1.2481e-01 -2.4317e-01\n",
            "   9.2644e-02 -2.5400e-02  4.4831e-01 -4.4685e-01  8.6426e-02 -1.2884e-01\n",
            "   1.5747e-01  9.6634e-02  1.1715e-01 -4.7200e-01  2.9054e-02  6.2027e-02\n",
            "   2.2580e-02  1.6160e-02 -6.5229e-01 -1.8922e-02 -4.5293e-01  2.9601e-01\n",
            "  -2.3545e-01 -4.8365e-01  2.6020e-01 -1.8539e-01 -3.8681e-02 -8.9528e-02\n",
            "  -8.4407e-02  1.5797e-02 -1.4811e-01 -5.6718e-02 -2.9391e-01  8.4692e-02\n",
            "   1.0304e-01 -1.4803e-01  6.8061e-02  6.4418e-02  2.8277e-01  2.9828e-01\n",
            "  -2.3119e-01 -1.8092e-01  3.2664e-02 -1.8811e-01  1.7832e-01  4.0020e-01\n",
            "   8.3001e-02 -1.2946e-01 -2.2260e-02 -4.9694e-02 -1.7040e-01 -2.8856e-01\n",
            "  -5.5951e-02 -5.1628e-02 -6.3172e-04  1.2333e-01  1.3069e-01  1.2164e-01\n",
            "  -1.3516e-01 -1.2283e-02  8.4371e-03 -1.8116e-01]]\n"
          ]
        }
      ]
    },
    {
      "cell_type": "code",
      "source": [
        "from keras.callbacks import Callback\n",
        "from sklearn.metrics import confusion_matrix, f1_score\n",
        "\n",
        "class Metrics(Callback):\n",
        "  \n",
        "  def on_train_begin(self, logs={}):\n",
        "    self.f1s = []\n",
        " \n",
        "  def on_epoch_end(self, epoch, logs={}):\n",
        "    val_predict = np.argmax(self.model.predict(valid_feats_matrix), axis = 1) + 1\n",
        "    val_targ = valid_df[\"stars\"]\n",
        "    f1 = f1_score(val_targ, val_predict, average='macro')\n",
        "    self.f1s.append(f1)\n",
        "    print(\"\\nmacro-f1: \",f1)\n",
        "    return\n",
        " \n",
        "metrics = Metrics()\n",
        "#pred = np.argmax(self.model.predict(valid_feats_matrix), axis = 1) + 1\n",
        "\n",
        "def f1(y_true, y_pred):\n",
        "    val_predict = np.argmax(y_true, axis = 1) + 1\n",
        "    val_targ = valid_df[\"stars\"]\n",
        "    f1 = f1_score(val_targ, val_predict, average='macro')\n",
        "    return f1"
      ],
      "metadata": {
        "id": "dv9WtLi8PitC"
      },
      "execution_count": 35,
      "outputs": []
    },
    {
      "cell_type": "markdown",
      "source": [
        "Save all models"
      ],
      "metadata": {
        "id": "yMfqbNJ1d0Ck"
      }
    },
    {
      "cell_type": "code",
      "source": [
        "models_path = \"/models\"\n",
        "checkpoint_path = os.path.join(models_path, \"cp-{epoch:04d}.ckpt\")\n",
        "checkpoint_dir = os.path.dirname(checkpoint_path)"
      ],
      "metadata": {
        "id": "Rho-4gmsdVbQ"
      },
      "execution_count": 38,
      "outputs": []
    },
    {
      "cell_type": "code",
      "source": [
        "os.makedirs(\"models\", exist_ok=True)\n",
        "model = build_RNN(input_length=max_len, vocab_size=len(feats_dict),\n",
        "                  embedding_size=100, hidden_size=100, output_size=num_classes,\n",
        "                  rnn_type=\"gru\", num_rnn_layers=1, num_mlp_layers=2,\n",
        "                  embedding_matrix=embedding_matrix,\n",
        "                  activation=\"tanh\",\n",
        "                  batch_norm=True,\n",
        "                  l2_reg=0.005, dropout_rate=0.5)\n",
        "checkpointer = keras.callbacks.ModelCheckpoint(\n",
        "    filepath=checkpoint_path,\n",
        "    monitor=\"val_accuracy\",\n",
        "    verbose=0)#,\n",
        "    #save_best_only=True)\n",
        "earlystopping = keras.callbacks.EarlyStopping(\n",
        "    monitor='val_loss',\n",
        "    patience=10,\n",
        "    verbose=0)\n",
        "\n",
        "np.random.seed(0)\n",
        "tf.random.set_seed(0)\n",
        "\n",
        "with tf.device('/gpu:0'):\n",
        "  gru_history = model.fit(train_feats_matrix, train_label_matrix,\n",
        "                    validation_split=0.1,\n",
        "                    epochs=40, batch_size=100, verbose=1,\n",
        "                    callbacks=[checkpointer, metrics])#, earlystopping]) #train for 40 epochs"
      ],
      "metadata": {
        "id": "AiRMWukKGdB1",
        "colab": {
          "base_uri": "https://localhost:8080/"
        },
        "outputId": "cf44b63d-24bd-4c23-e6b8-3ced8ac594c9"
      },
      "execution_count": 41,
      "outputs": [
        {
          "output_type": "stream",
          "name": "stdout",
          "text": [
            "Epoch 1/40\n",
            "162/162 [==============================] - ETA: 0s - loss: 2.2008 - accuracy: 0.3551"
          ]
        },
        {
          "output_type": "stream",
          "name": "stderr",
          "text": [
            "WARNING:absl:Found untraced functions such as gru_cell_2_layer_call_fn, gru_cell_2_layer_call_and_return_conditional_losses while saving (showing 2 of 2). These functions will not be directly callable after loading.\n",
            "WARNING:absl:<keras.layers.recurrent.GRUCell object at 0x7f6c8190ea90> has the same name 'GRUCell' as a built-in Keras object. Consider renaming <class 'keras.layers.recurrent.GRUCell'> to avoid naming conflicts when loading with `tf.keras.models.load_model`. If renaming is not possible, pass the object in the `custom_objects` parameter of the load function.\n"
          ]
        },
        {
          "output_type": "stream",
          "name": "stdout",
          "text": [
            "\n",
            "macro-f1:  0.12601217227555547\n",
            "\b\b\b\b\b\b\b\b\b\b\b\b\b\b\b\b\b\b\b\b\b\b\b\b\b\b\b\b\b\b\b\b\b\b\b\b\b\b\b\b\b\b\b\b\b\b\b\b\b\b\b\b\b\b\b\b\b\b\b\b\b\b\b\b\b\b\b\b\b\b\b\b\b\b\b\b\b\b\b\b\b\b\b\b\r162/162 [==============================] - 26s 150ms/step - loss: 2.2008 - accuracy: 0.3551 - val_loss: 1.8627 - val_accuracy: 0.4300\n",
            "Epoch 2/40\n",
            "161/162 [============================>.] - ETA: 0s - loss: 1.7033 - accuracy: 0.4381"
          ]
        },
        {
          "output_type": "stream",
          "name": "stderr",
          "text": [
            "WARNING:absl:Found untraced functions such as gru_cell_2_layer_call_fn, gru_cell_2_layer_call_and_return_conditional_losses while saving (showing 2 of 2). These functions will not be directly callable after loading.\n",
            "WARNING:absl:<keras.layers.recurrent.GRUCell object at 0x7f6c8190ea90> has the same name 'GRUCell' as a built-in Keras object. Consider renaming <class 'keras.layers.recurrent.GRUCell'> to avoid naming conflicts when loading with `tf.keras.models.load_model`. If renaming is not possible, pass the object in the `custom_objects` parameter of the load function.\n"
          ]
        },
        {
          "output_type": "stream",
          "name": "stdout",
          "text": [
            "\n",
            "macro-f1:  0.1325960435378718\n",
            "\b\b\b\b\b\b\b\b\b\b\b\b\b\b\b\b\b\b\b\b\b\b\b\b\b\b\b\b\b\b\b\b\b\b\b\b\b\b\b\b\b\b\b\b\b\b\b\b\b\b\b\b\b\b\b\b\b\b\b\b\b\b\b\b\b\b\b\b\b\b\b\b\b\b\b\b\b\b\b\b\b\b\b\b\r162/162 [==============================] - 20s 125ms/step - loss: 1.7031 - accuracy: 0.4379 - val_loss: 1.6542 - val_accuracy: 0.4294\n",
            "Epoch 3/40\n",
            "161/162 [============================>.] - ETA: 0s - loss: 1.5591 - accuracy: 0.4420"
          ]
        },
        {
          "output_type": "stream",
          "name": "stderr",
          "text": [
            "WARNING:absl:Found untraced functions such as gru_cell_2_layer_call_fn, gru_cell_2_layer_call_and_return_conditional_losses while saving (showing 2 of 2). These functions will not be directly callable after loading.\n",
            "WARNING:absl:<keras.layers.recurrent.GRUCell object at 0x7f6c8190ea90> has the same name 'GRUCell' as a built-in Keras object. Consider renaming <class 'keras.layers.recurrent.GRUCell'> to avoid naming conflicts when loading with `tf.keras.models.load_model`. If renaming is not possible, pass the object in the `custom_objects` parameter of the load function.\n"
          ]
        },
        {
          "output_type": "stream",
          "name": "stdout",
          "text": [
            "\n",
            "macro-f1:  0.13382747295790773\n",
            "\b\b\b\b\b\b\b\b\b\b\b\b\b\b\b\b\b\b\b\b\b\b\b\b\b\b\b\b\b\b\b\b\b\b\b\b\b\b\b\b\b\b\b\b\b\b\b\b\b\b\b\b\b\b\b\b\b\b\b\b\b\b\b\b\b\b\b\b\b\b\b\b\b\b\b\b\b\b\b\b\b\b\b\b\r162/162 [==============================] - 19s 120ms/step - loss: 1.5591 - accuracy: 0.4420 - val_loss: 1.6114 - val_accuracy: 0.4306\n",
            "Epoch 4/40\n",
            "162/162 [==============================] - ETA: 0s - loss: 1.5058 - accuracy: 0.4436"
          ]
        },
        {
          "output_type": "stream",
          "name": "stderr",
          "text": [
            "WARNING:absl:Found untraced functions such as gru_cell_2_layer_call_fn, gru_cell_2_layer_call_and_return_conditional_losses while saving (showing 2 of 2). These functions will not be directly callable after loading.\n",
            "WARNING:absl:<keras.layers.recurrent.GRUCell object at 0x7f6c8190ea90> has the same name 'GRUCell' as a built-in Keras object. Consider renaming <class 'keras.layers.recurrent.GRUCell'> to avoid naming conflicts when loading with `tf.keras.models.load_model`. If renaming is not possible, pass the object in the `custom_objects` parameter of the load function.\n"
          ]
        },
        {
          "output_type": "stream",
          "name": "stdout",
          "text": [
            "\n",
            "macro-f1:  0.13700254731136519\n",
            "\b\b\b\b\b\b\b\b\b\b\b\b\b\b\b\b\b\b\b\b\b\b\b\b\b\b\b\b\b\b\b\b\b\b\b\b\b\b\b\b\b\b\b\b\b\b\b\b\b\b\b\b\b\b\b\b\b\b\b\b\b\b\b\b\b\b\b\b\b\b\b\b\b\b\b\b\b\b\b\b\b\b\b\b\r162/162 [==============================] - 19s 120ms/step - loss: 1.5058 - accuracy: 0.4436 - val_loss: 1.6184 - val_accuracy: 0.4306\n",
            "Epoch 5/40\n",
            "161/162 [============================>.] - ETA: 0s - loss: 1.4961 - accuracy: 0.4352"
          ]
        },
        {
          "output_type": "stream",
          "name": "stderr",
          "text": [
            "WARNING:absl:Found untraced functions such as gru_cell_2_layer_call_fn, gru_cell_2_layer_call_and_return_conditional_losses while saving (showing 2 of 2). These functions will not be directly callable after loading.\n",
            "WARNING:absl:<keras.layers.recurrent.GRUCell object at 0x7f6c8190ea90> has the same name 'GRUCell' as a built-in Keras object. Consider renaming <class 'keras.layers.recurrent.GRUCell'> to avoid naming conflicts when loading with `tf.keras.models.load_model`. If renaming is not possible, pass the object in the `custom_objects` parameter of the load function.\n"
          ]
        },
        {
          "output_type": "stream",
          "name": "stdout",
          "text": [
            "\n",
            "macro-f1:  0.14385767061155902\n",
            "\b\b\b\b\b\b\b\b\b\b\b\b\b\b\b\b\b\b\b\b\b\b\b\b\b\b\b\b\b\b\b\b\b\b\b\b\b\b\b\b\b\b\b\b\b\b\b\b\b\b\b\b\b\b\b\b\b\b\b\b\b\b\b\b\b\b\b\b\b\b\b\b\b\b\b\b\b\b\b\b\b\b\b\b\r162/162 [==============================] - 19s 117ms/step - loss: 1.4961 - accuracy: 0.4352 - val_loss: 1.5188 - val_accuracy: 0.4322\n",
            "Epoch 6/40\n",
            "161/162 [============================>.] - ETA: 0s - loss: 1.3711 - accuracy: 0.4738"
          ]
        },
        {
          "output_type": "stream",
          "name": "stderr",
          "text": [
            "WARNING:absl:Found untraced functions such as gru_cell_2_layer_call_fn, gru_cell_2_layer_call_and_return_conditional_losses while saving (showing 2 of 2). These functions will not be directly callable after loading.\n",
            "WARNING:absl:<keras.layers.recurrent.GRUCell object at 0x7f6c8190ea90> has the same name 'GRUCell' as a built-in Keras object. Consider renaming <class 'keras.layers.recurrent.GRUCell'> to avoid naming conflicts when loading with `tf.keras.models.load_model`. If renaming is not possible, pass the object in the `custom_objects` parameter of the load function.\n"
          ]
        },
        {
          "output_type": "stream",
          "name": "stdout",
          "text": [
            "\n",
            "macro-f1:  0.3746657521139555\n",
            "\b\b\b\b\b\b\b\b\b\b\b\b\b\b\b\b\b\b\b\b\b\b\b\b\b\b\b\b\b\b\b\b\b\b\b\b\b\b\b\b\b\b\b\b\b\b\b\b\b\b\b\b\b\b\b\b\b\b\b\b\b\b\b\b\b\b\b\b\b\b\b\b\b\b\b\b\b\b\b\b\b\b\b\b\r162/162 [==============================] - 20s 122ms/step - loss: 1.3702 - accuracy: 0.4739 - val_loss: 1.0537 - val_accuracy: 0.5767\n",
            "Epoch 7/40\n",
            "159/162 [============================>.] - ETA: 0s - loss: 0.9927 - accuracy: 0.6013"
          ]
        },
        {
          "output_type": "stream",
          "name": "stderr",
          "text": [
            "WARNING:absl:Found untraced functions such as gru_cell_2_layer_call_fn, gru_cell_2_layer_call_and_return_conditional_losses while saving (showing 2 of 2). These functions will not be directly callable after loading.\n",
            "WARNING:absl:<keras.layers.recurrent.GRUCell object at 0x7f6c8190ea90> has the same name 'GRUCell' as a built-in Keras object. Consider renaming <class 'keras.layers.recurrent.GRUCell'> to avoid naming conflicts when loading with `tf.keras.models.load_model`. If renaming is not possible, pass the object in the `custom_objects` parameter of the load function.\n"
          ]
        },
        {
          "output_type": "stream",
          "name": "stdout",
          "text": [
            "\n",
            "macro-f1:  0.3772703194154425\n",
            "\b\b\b\b\b\b\b\b\b\b\b\b\b\b\b\b\b\b\b\b\b\b\b\b\b\b\b\b\b\b\b\b\b\b\b\b\b\b\b\b\b\b\b\b\b\b\b\b\b\b\b\b\b\b\b\b\b\b\b\b\b\b\b\b\b\b\b\b\b\b\b\b\b\b\b\b\b\b\b\b\b\b\b\b\r162/162 [==============================] - 23s 145ms/step - loss: 0.9927 - accuracy: 0.6005 - val_loss: 1.2289 - val_accuracy: 0.5400\n",
            "Epoch 8/40\n",
            "160/162 [============================>.] - ETA: 0s - loss: 0.9025 - accuracy: 0.6337"
          ]
        },
        {
          "output_type": "stream",
          "name": "stderr",
          "text": [
            "WARNING:absl:Found untraced functions such as gru_cell_2_layer_call_fn, gru_cell_2_layer_call_and_return_conditional_losses while saving (showing 2 of 2). These functions will not be directly callable after loading.\n",
            "WARNING:absl:<keras.layers.recurrent.GRUCell object at 0x7f6c8190ea90> has the same name 'GRUCell' as a built-in Keras object. Consider renaming <class 'keras.layers.recurrent.GRUCell'> to avoid naming conflicts when loading with `tf.keras.models.load_model`. If renaming is not possible, pass the object in the `custom_objects` parameter of the load function.\n"
          ]
        },
        {
          "output_type": "stream",
          "name": "stdout",
          "text": [
            "\n",
            "macro-f1:  0.5012113366403029\n",
            "\b\b\b\b\b\b\b\b\b\b\b\b\b\b\b\b\b\b\b\b\b\b\b\b\b\b\b\b\b\b\b\b\b\b\b\b\b\b\b\b\b\b\b\b\b\b\b\b\b\b\b\b\b\b\b\b\b\b\b\b\b\b\b\b\b\b\b\b\b\b\b\b\b\b\b\b\b\b\b\b\b\b\b\b\r162/162 [==============================] - 19s 118ms/step - loss: 0.9027 - accuracy: 0.6340 - val_loss: 0.9440 - val_accuracy: 0.6267\n",
            "Epoch 9/40\n",
            "162/162 [==============================] - ETA: 0s - loss: 0.8734 - accuracy: 0.6412"
          ]
        },
        {
          "output_type": "stream",
          "name": "stderr",
          "text": [
            "WARNING:absl:Found untraced functions such as gru_cell_2_layer_call_fn, gru_cell_2_layer_call_and_return_conditional_losses while saving (showing 2 of 2). These functions will not be directly callable after loading.\n",
            "WARNING:absl:<keras.layers.recurrent.GRUCell object at 0x7f6c8190ea90> has the same name 'GRUCell' as a built-in Keras object. Consider renaming <class 'keras.layers.recurrent.GRUCell'> to avoid naming conflicts when loading with `tf.keras.models.load_model`. If renaming is not possible, pass the object in the `custom_objects` parameter of the load function.\n"
          ]
        },
        {
          "output_type": "stream",
          "name": "stdout",
          "text": [
            "\n",
            "macro-f1:  0.5491935775650172\n",
            "\b\b\b\b\b\b\b\b\b\b\b\b\b\b\b\b\b\b\b\b\b\b\b\b\b\b\b\b\b\b\b\b\b\b\b\b\b\b\b\b\b\b\b\b\b\b\b\b\b\b\b\b\b\b\b\b\b\b\b\b\b\b\b\b\b\b\b\b\b\b\b\b\b\b\b\b\b\b\b\b\b\b\b\b\r162/162 [==============================] - 20s 122ms/step - loss: 0.8734 - accuracy: 0.6412 - val_loss: 0.9202 - val_accuracy: 0.6206\n",
            "Epoch 10/40\n",
            "161/162 [============================>.] - ETA: 0s - loss: 0.8579 - accuracy: 0.6474"
          ]
        },
        {
          "output_type": "stream",
          "name": "stderr",
          "text": [
            "WARNING:absl:Found untraced functions such as gru_cell_2_layer_call_fn, gru_cell_2_layer_call_and_return_conditional_losses while saving (showing 2 of 2). These functions will not be directly callable after loading.\n",
            "WARNING:absl:<keras.layers.recurrent.GRUCell object at 0x7f6c8190ea90> has the same name 'GRUCell' as a built-in Keras object. Consider renaming <class 'keras.layers.recurrent.GRUCell'> to avoid naming conflicts when loading with `tf.keras.models.load_model`. If renaming is not possible, pass the object in the `custom_objects` parameter of the load function.\n"
          ]
        },
        {
          "output_type": "stream",
          "name": "stdout",
          "text": [
            "\n",
            "macro-f1:  0.5207619666578384\n",
            "\b\b\b\b\b\b\b\b\b\b\b\b\b\b\b\b\b\b\b\b\b\b\b\b\b\b\b\b\b\b\b\b\b\b\b\b\b\b\b\b\b\b\b\b\b\b\b\b\b\b\b\b\b\b\b\b\b\b\b\b\b\b\b\b\b\b\b\b\b\b\b\b\b\b\b\b\b\b\b\b\b\b\b\b\r162/162 [==============================] - 18s 115ms/step - loss: 0.8578 - accuracy: 0.6475 - val_loss: 0.8858 - val_accuracy: 0.6511\n",
            "Epoch 11/40\n",
            "162/162 [==============================] - ETA: 0s - loss: 0.8331 - accuracy: 0.6562"
          ]
        },
        {
          "output_type": "stream",
          "name": "stderr",
          "text": [
            "WARNING:absl:Found untraced functions such as gru_cell_2_layer_call_fn, gru_cell_2_layer_call_and_return_conditional_losses while saving (showing 2 of 2). These functions will not be directly callable after loading.\n",
            "WARNING:absl:<keras.layers.recurrent.GRUCell object at 0x7f6c8190ea90> has the same name 'GRUCell' as a built-in Keras object. Consider renaming <class 'keras.layers.recurrent.GRUCell'> to avoid naming conflicts when loading with `tf.keras.models.load_model`. If renaming is not possible, pass the object in the `custom_objects` parameter of the load function.\n"
          ]
        },
        {
          "output_type": "stream",
          "name": "stdout",
          "text": [
            "\n",
            "macro-f1:  0.542039055958597\n",
            "\b\b\b\b\b\b\b\b\b\b\b\b\b\b\b\b\b\b\b\b\b\b\b\b\b\b\b\b\b\b\b\b\b\b\b\b\b\b\b\b\b\b\b\b\b\b\b\b\b\b\b\b\b\b\b\b\b\b\b\b\b\b\b\b\b\b\b\b\b\b\b\b\b\b\b\b\b\b\b\b\b\b\b\b\r162/162 [==============================] - 20s 122ms/step - loss: 0.8331 - accuracy: 0.6562 - val_loss: 0.9148 - val_accuracy: 0.6522\n",
            "Epoch 12/40\n",
            "159/162 [============================>.] - ETA: 0s - loss: 0.8227 - accuracy: 0.6611"
          ]
        },
        {
          "output_type": "stream",
          "name": "stderr",
          "text": [
            "WARNING:absl:Found untraced functions such as gru_cell_2_layer_call_fn, gru_cell_2_layer_call_and_return_conditional_losses while saving (showing 2 of 2). These functions will not be directly callable after loading.\n",
            "WARNING:absl:<keras.layers.recurrent.GRUCell object at 0x7f6c8190ea90> has the same name 'GRUCell' as a built-in Keras object. Consider renaming <class 'keras.layers.recurrent.GRUCell'> to avoid naming conflicts when loading with `tf.keras.models.load_model`. If renaming is not possible, pass the object in the `custom_objects` parameter of the load function.\n"
          ]
        },
        {
          "output_type": "stream",
          "name": "stdout",
          "text": [
            "\n",
            "macro-f1:  0.556155838980305\n",
            "\b\b\b\b\b\b\b\b\b\b\b\b\b\b\b\b\b\b\b\b\b\b\b\b\b\b\b\b\b\b\b\b\b\b\b\b\b\b\b\b\b\b\b\b\b\b\b\b\b\b\b\b\b\b\b\b\b\b\b\b\b\b\b\b\b\b\b\b\b\b\b\b\b\b\b\b\b\b\b\b\b\b\b\b\r162/162 [==============================] - 19s 117ms/step - loss: 0.8243 - accuracy: 0.6606 - val_loss: 0.9342 - val_accuracy: 0.6261\n",
            "Epoch 13/40\n",
            "161/162 [============================>.] - ETA: 0s - loss: 0.8096 - accuracy: 0.6629"
          ]
        },
        {
          "output_type": "stream",
          "name": "stderr",
          "text": [
            "WARNING:absl:Found untraced functions such as gru_cell_2_layer_call_fn, gru_cell_2_layer_call_and_return_conditional_losses while saving (showing 2 of 2). These functions will not be directly callable after loading.\n",
            "WARNING:absl:<keras.layers.recurrent.GRUCell object at 0x7f6c8190ea90> has the same name 'GRUCell' as a built-in Keras object. Consider renaming <class 'keras.layers.recurrent.GRUCell'> to avoid naming conflicts when loading with `tf.keras.models.load_model`. If renaming is not possible, pass the object in the `custom_objects` parameter of the load function.\n"
          ]
        },
        {
          "output_type": "stream",
          "name": "stdout",
          "text": [
            "\n",
            "macro-f1:  0.5541364278819298\n",
            "\b\b\b\b\b\b\b\b\b\b\b\b\b\b\b\b\b\b\b\b\b\b\b\b\b\b\b\b\b\b\b\b\b\b\b\b\b\b\b\b\b\b\b\b\b\b\b\b\b\b\b\b\b\b\b\b\b\b\b\b\b\b\b\b\b\b\b\b\b\b\b\b\b\b\b\b\b\b\b\b\b\b\b\b\r162/162 [==============================] - 19s 117ms/step - loss: 0.8089 - accuracy: 0.6629 - val_loss: 0.9343 - val_accuracy: 0.6167\n",
            "Epoch 14/40\n",
            "160/162 [============================>.] - ETA: 0s - loss: 0.7920 - accuracy: 0.6701"
          ]
        },
        {
          "output_type": "stream",
          "name": "stderr",
          "text": [
            "WARNING:absl:Found untraced functions such as gru_cell_2_layer_call_fn, gru_cell_2_layer_call_and_return_conditional_losses while saving (showing 2 of 2). These functions will not be directly callable after loading.\n",
            "WARNING:absl:<keras.layers.recurrent.GRUCell object at 0x7f6c8190ea90> has the same name 'GRUCell' as a built-in Keras object. Consider renaming <class 'keras.layers.recurrent.GRUCell'> to avoid naming conflicts when loading with `tf.keras.models.load_model`. If renaming is not possible, pass the object in the `custom_objects` parameter of the load function.\n"
          ]
        },
        {
          "output_type": "stream",
          "name": "stdout",
          "text": [
            "\n",
            "macro-f1:  0.5082897537779629\n",
            "\b\b\b\b\b\b\b\b\b\b\b\b\b\b\b\b\b\b\b\b\b\b\b\b\b\b\b\b\b\b\b\b\b\b\b\b\b\b\b\b\b\b\b\b\b\b\b\b\b\b\b\b\b\b\b\b\b\b\b\b\b\b\b\b\b\b\b\b\b\b\b\b\b\b\b\b\b\b\b\b\b\b\b\b\r162/162 [==============================] - 19s 117ms/step - loss: 0.7923 - accuracy: 0.6702 - val_loss: 1.0012 - val_accuracy: 0.6211\n",
            "Epoch 15/40\n",
            "159/162 [============================>.] - ETA: 0s - loss: 0.7787 - accuracy: 0.6761"
          ]
        },
        {
          "output_type": "stream",
          "name": "stderr",
          "text": [
            "WARNING:absl:Found untraced functions such as gru_cell_2_layer_call_fn, gru_cell_2_layer_call_and_return_conditional_losses while saving (showing 2 of 2). These functions will not be directly callable after loading.\n",
            "WARNING:absl:<keras.layers.recurrent.GRUCell object at 0x7f6c8190ea90> has the same name 'GRUCell' as a built-in Keras object. Consider renaming <class 'keras.layers.recurrent.GRUCell'> to avoid naming conflicts when loading with `tf.keras.models.load_model`. If renaming is not possible, pass the object in the `custom_objects` parameter of the load function.\n"
          ]
        },
        {
          "output_type": "stream",
          "name": "stdout",
          "text": [
            "\n",
            "macro-f1:  0.5197581191603549\n",
            "\b\b\b\b\b\b\b\b\b\b\b\b\b\b\b\b\b\b\b\b\b\b\b\b\b\b\b\b\b\b\b\b\b\b\b\b\b\b\b\b\b\b\b\b\b\b\b\b\b\b\b\b\b\b\b\b\b\b\b\b\b\b\b\b\b\b\b\b\b\b\b\b\b\b\b\b\b\b\b\b\b\b\b\b\r162/162 [==============================] - 20s 123ms/step - loss: 0.7790 - accuracy: 0.6762 - val_loss: 0.9684 - val_accuracy: 0.6394\n",
            "Epoch 16/40\n",
            "160/162 [============================>.] - ETA: 0s - loss: 0.7619 - accuracy: 0.6839"
          ]
        },
        {
          "output_type": "stream",
          "name": "stderr",
          "text": [
            "WARNING:absl:Found untraced functions such as gru_cell_2_layer_call_fn, gru_cell_2_layer_call_and_return_conditional_losses while saving (showing 2 of 2). These functions will not be directly callable after loading.\n",
            "WARNING:absl:<keras.layers.recurrent.GRUCell object at 0x7f6c8190ea90> has the same name 'GRUCell' as a built-in Keras object. Consider renaming <class 'keras.layers.recurrent.GRUCell'> to avoid naming conflicts when loading with `tf.keras.models.load_model`. If renaming is not possible, pass the object in the `custom_objects` parameter of the load function.\n"
          ]
        },
        {
          "output_type": "stream",
          "name": "stdout",
          "text": [
            "\n",
            "macro-f1:  0.5011303153898768\n",
            "\b\b\b\b\b\b\b\b\b\b\b\b\b\b\b\b\b\b\b\b\b\b\b\b\b\b\b\b\b\b\b\b\b\b\b\b\b\b\b\b\b\b\b\b\b\b\b\b\b\b\b\b\b\b\b\b\b\b\b\b\b\b\b\b\b\b\b\b\b\b\b\b\b\b\b\b\b\b\b\b\b\b\b\b\r162/162 [==============================] - 19s 117ms/step - loss: 0.7616 - accuracy: 0.6840 - val_loss: 1.0163 - val_accuracy: 0.6078\n",
            "Epoch 17/40\n",
            "162/162 [==============================] - ETA: 0s - loss: 0.7475 - accuracy: 0.6877"
          ]
        },
        {
          "output_type": "stream",
          "name": "stderr",
          "text": [
            "WARNING:absl:Found untraced functions such as gru_cell_2_layer_call_fn, gru_cell_2_layer_call_and_return_conditional_losses while saving (showing 2 of 2). These functions will not be directly callable after loading.\n",
            "WARNING:absl:<keras.layers.recurrent.GRUCell object at 0x7f6c8190ea90> has the same name 'GRUCell' as a built-in Keras object. Consider renaming <class 'keras.layers.recurrent.GRUCell'> to avoid naming conflicts when loading with `tf.keras.models.load_model`. If renaming is not possible, pass the object in the `custom_objects` parameter of the load function.\n"
          ]
        },
        {
          "output_type": "stream",
          "name": "stdout",
          "text": [
            "\n",
            "macro-f1:  0.5637848177792882\n",
            "\b\b\b\b\b\b\b\b\b\b\b\b\b\b\b\b\b\b\b\b\b\b\b\b\b\b\b\b\b\b\b\b\b\b\b\b\b\b\b\b\b\b\b\b\b\b\b\b\b\b\b\b\b\b\b\b\b\b\b\b\b\b\b\b\b\b\b\b\b\b\b\b\b\b\b\b\b\b\b\b\b\b\b\b\r162/162 [==============================] - 19s 115ms/step - loss: 0.7475 - accuracy: 0.6877 - val_loss: 0.8873 - val_accuracy: 0.6533\n",
            "Epoch 18/40\n",
            "160/162 [============================>.] - ETA: 0s - loss: 0.7371 - accuracy: 0.6937"
          ]
        },
        {
          "output_type": "stream",
          "name": "stderr",
          "text": [
            "WARNING:absl:Found untraced functions such as gru_cell_2_layer_call_fn, gru_cell_2_layer_call_and_return_conditional_losses while saving (showing 2 of 2). These functions will not be directly callable after loading.\n",
            "WARNING:absl:<keras.layers.recurrent.GRUCell object at 0x7f6c8190ea90> has the same name 'GRUCell' as a built-in Keras object. Consider renaming <class 'keras.layers.recurrent.GRUCell'> to avoid naming conflicts when loading with `tf.keras.models.load_model`. If renaming is not possible, pass the object in the `custom_objects` parameter of the load function.\n"
          ]
        },
        {
          "output_type": "stream",
          "name": "stdout",
          "text": [
            "\n",
            "macro-f1:  0.5033599475739885\n",
            "\b\b\b\b\b\b\b\b\b\b\b\b\b\b\b\b\b\b\b\b\b\b\b\b\b\b\b\b\b\b\b\b\b\b\b\b\b\b\b\b\b\b\b\b\b\b\b\b\b\b\b\b\b\b\b\b\b\b\b\b\b\b\b\b\b\b\b\b\b\b\b\b\b\b\b\b\b\b\b\b\b\b\b\b\r162/162 [==============================] - 19s 115ms/step - loss: 0.7371 - accuracy: 0.6942 - val_loss: 0.9768 - val_accuracy: 0.6244\n",
            "Epoch 19/40\n",
            "160/162 [============================>.] - ETA: 0s - loss: 0.7137 - accuracy: 0.7027"
          ]
        },
        {
          "output_type": "stream",
          "name": "stderr",
          "text": [
            "WARNING:absl:Found untraced functions such as gru_cell_2_layer_call_fn, gru_cell_2_layer_call_and_return_conditional_losses while saving (showing 2 of 2). These functions will not be directly callable after loading.\n",
            "WARNING:absl:<keras.layers.recurrent.GRUCell object at 0x7f6c8190ea90> has the same name 'GRUCell' as a built-in Keras object. Consider renaming <class 'keras.layers.recurrent.GRUCell'> to avoid naming conflicts when loading with `tf.keras.models.load_model`. If renaming is not possible, pass the object in the `custom_objects` parameter of the load function.\n"
          ]
        },
        {
          "output_type": "stream",
          "name": "stdout",
          "text": [
            "\n",
            "macro-f1:  0.4889954225124116\n",
            "\b\b\b\b\b\b\b\b\b\b\b\b\b\b\b\b\b\b\b\b\b\b\b\b\b\b\b\b\b\b\b\b\b\b\b\b\b\b\b\b\b\b\b\b\b\b\b\b\b\b\b\b\b\b\b\b\b\b\b\b\b\b\b\b\b\b\b\b\b\b\b\b\b\b\b\b\b\b\b\b\b\b\b\b\r162/162 [==============================] - 19s 120ms/step - loss: 0.7130 - accuracy: 0.7028 - val_loss: 1.1006 - val_accuracy: 0.6311\n",
            "Epoch 20/40\n",
            "160/162 [============================>.] - ETA: 0s - loss: 0.6942 - accuracy: 0.7147"
          ]
        },
        {
          "output_type": "stream",
          "name": "stderr",
          "text": [
            "WARNING:absl:Found untraced functions such as gru_cell_2_layer_call_fn, gru_cell_2_layer_call_and_return_conditional_losses while saving (showing 2 of 2). These functions will not be directly callable after loading.\n",
            "WARNING:absl:<keras.layers.recurrent.GRUCell object at 0x7f6c8190ea90> has the same name 'GRUCell' as a built-in Keras object. Consider renaming <class 'keras.layers.recurrent.GRUCell'> to avoid naming conflicts when loading with `tf.keras.models.load_model`. If renaming is not possible, pass the object in the `custom_objects` parameter of the load function.\n"
          ]
        },
        {
          "output_type": "stream",
          "name": "stdout",
          "text": [
            "\n",
            "macro-f1:  0.5476473968850792\n",
            "\b\b\b\b\b\b\b\b\b\b\b\b\b\b\b\b\b\b\b\b\b\b\b\b\b\b\b\b\b\b\b\b\b\b\b\b\b\b\b\b\b\b\b\b\b\b\b\b\b\b\b\b\b\b\b\b\b\b\b\b\b\b\b\b\b\b\b\b\b\b\b\b\b\b\b\b\b\b\b\b\b\b\b\b\r162/162 [==============================] - 19s 116ms/step - loss: 0.6943 - accuracy: 0.7141 - val_loss: 0.9405 - val_accuracy: 0.6294\n",
            "Epoch 21/40\n",
            "162/162 [==============================] - ETA: 0s - loss: 0.6676 - accuracy: 0.7286"
          ]
        },
        {
          "output_type": "stream",
          "name": "stderr",
          "text": [
            "WARNING:absl:Found untraced functions such as gru_cell_2_layer_call_fn, gru_cell_2_layer_call_and_return_conditional_losses while saving (showing 2 of 2). These functions will not be directly callable after loading.\n",
            "WARNING:absl:<keras.layers.recurrent.GRUCell object at 0x7f6c8190ea90> has the same name 'GRUCell' as a built-in Keras object. Consider renaming <class 'keras.layers.recurrent.GRUCell'> to avoid naming conflicts when loading with `tf.keras.models.load_model`. If renaming is not possible, pass the object in the `custom_objects` parameter of the load function.\n"
          ]
        },
        {
          "output_type": "stream",
          "name": "stdout",
          "text": [
            "\n",
            "macro-f1:  0.5488152562378966\n",
            "\b\b\b\b\b\b\b\b\b\b\b\b\b\b\b\b\b\b\b\b\b\b\b\b\b\b\b\b\b\b\b\b\b\b\b\b\b\b\b\b\b\b\b\b\b\b\b\b\b\b\b\b\b\b\b\b\b\b\b\b\b\b\b\b\b\b\b\b\b\b\b\b\b\b\b\b\b\b\b\b\b\b\b\b\r162/162 [==============================] - 19s 117ms/step - loss: 0.6676 - accuracy: 0.7286 - val_loss: 0.9469 - val_accuracy: 0.6394\n",
            "Epoch 22/40\n",
            "160/162 [============================>.] - ETA: 0s - loss: 0.6510 - accuracy: 0.7334"
          ]
        },
        {
          "output_type": "stream",
          "name": "stderr",
          "text": [
            "WARNING:absl:Found untraced functions such as gru_cell_2_layer_call_fn, gru_cell_2_layer_call_and_return_conditional_losses while saving (showing 2 of 2). These functions will not be directly callable after loading.\n",
            "WARNING:absl:<keras.layers.recurrent.GRUCell object at 0x7f6c8190ea90> has the same name 'GRUCell' as a built-in Keras object. Consider renaming <class 'keras.layers.recurrent.GRUCell'> to avoid naming conflicts when loading with `tf.keras.models.load_model`. If renaming is not possible, pass the object in the `custom_objects` parameter of the load function.\n"
          ]
        },
        {
          "output_type": "stream",
          "name": "stdout",
          "text": [
            "\n",
            "macro-f1:  0.542179475524783\n",
            "\b\b\b\b\b\b\b\b\b\b\b\b\b\b\b\b\b\b\b\b\b\b\b\b\b\b\b\b\b\b\b\b\b\b\b\b\b\b\b\b\b\b\b\b\b\b\b\b\b\b\b\b\b\b\b\b\b\b\b\b\b\b\b\b\b\b\b\b\b\b\b\b\b\b\b\b\b\b\b\b\b\b\b\b\r162/162 [==============================] - 20s 126ms/step - loss: 0.6515 - accuracy: 0.7332 - val_loss: 0.9496 - val_accuracy: 0.6522\n",
            "Epoch 23/40\n",
            "159/162 [============================>.] - ETA: 0s - loss: 0.6294 - accuracy: 0.7414"
          ]
        },
        {
          "output_type": "stream",
          "name": "stderr",
          "text": [
            "WARNING:absl:Found untraced functions such as gru_cell_2_layer_call_fn, gru_cell_2_layer_call_and_return_conditional_losses while saving (showing 2 of 2). These functions will not be directly callable after loading.\n",
            "WARNING:absl:<keras.layers.recurrent.GRUCell object at 0x7f6c8190ea90> has the same name 'GRUCell' as a built-in Keras object. Consider renaming <class 'keras.layers.recurrent.GRUCell'> to avoid naming conflicts when loading with `tf.keras.models.load_model`. If renaming is not possible, pass the object in the `custom_objects` parameter of the load function.\n"
          ]
        },
        {
          "output_type": "stream",
          "name": "stdout",
          "text": [
            "\n",
            "macro-f1:  0.5439287654430465\n",
            "\b\b\b\b\b\b\b\b\b\b\b\b\b\b\b\b\b\b\b\b\b\b\b\b\b\b\b\b\b\b\b\b\b\b\b\b\b\b\b\b\b\b\b\b\b\b\b\b\b\b\b\b\b\b\b\b\b\b\b\b\b\b\b\b\b\b\b\b\b\b\b\b\b\b\b\b\b\b\b\b\b\b\b\b\r162/162 [==============================] - 20s 122ms/step - loss: 0.6284 - accuracy: 0.7422 - val_loss: 1.0214 - val_accuracy: 0.6356\n",
            "Epoch 24/40\n",
            "160/162 [============================>.] - ETA: 0s - loss: 0.5982 - accuracy: 0.7588"
          ]
        },
        {
          "output_type": "stream",
          "name": "stderr",
          "text": [
            "WARNING:absl:Found untraced functions such as gru_cell_2_layer_call_fn, gru_cell_2_layer_call_and_return_conditional_losses while saving (showing 2 of 2). These functions will not be directly callable after loading.\n",
            "WARNING:absl:<keras.layers.recurrent.GRUCell object at 0x7f6c8190ea90> has the same name 'GRUCell' as a built-in Keras object. Consider renaming <class 'keras.layers.recurrent.GRUCell'> to avoid naming conflicts when loading with `tf.keras.models.load_model`. If renaming is not possible, pass the object in the `custom_objects` parameter of the load function.\n"
          ]
        },
        {
          "output_type": "stream",
          "name": "stdout",
          "text": [
            "\n",
            "macro-f1:  0.5393143014682897\n",
            "\b\b\b\b\b\b\b\b\b\b\b\b\b\b\b\b\b\b\b\b\b\b\b\b\b\b\b\b\b\b\b\b\b\b\b\b\b\b\b\b\b\b\b\b\b\b\b\b\b\b\b\b\b\b\b\b\b\b\b\b\b\b\b\b\b\b\b\b\b\b\b\b\b\b\b\b\b\b\b\b\b\b\b\b\r162/162 [==============================] - 19s 118ms/step - loss: 0.5989 - accuracy: 0.7585 - val_loss: 1.0499 - val_accuracy: 0.6483\n",
            "Epoch 25/40\n",
            "159/162 [============================>.] - ETA: 0s - loss: 0.5749 - accuracy: 0.7689"
          ]
        },
        {
          "output_type": "stream",
          "name": "stderr",
          "text": [
            "WARNING:absl:Found untraced functions such as gru_cell_2_layer_call_fn, gru_cell_2_layer_call_and_return_conditional_losses while saving (showing 2 of 2). These functions will not be directly callable after loading.\n",
            "WARNING:absl:<keras.layers.recurrent.GRUCell object at 0x7f6c8190ea90> has the same name 'GRUCell' as a built-in Keras object. Consider renaming <class 'keras.layers.recurrent.GRUCell'> to avoid naming conflicts when loading with `tf.keras.models.load_model`. If renaming is not possible, pass the object in the `custom_objects` parameter of the load function.\n"
          ]
        },
        {
          "output_type": "stream",
          "name": "stdout",
          "text": [
            "\n",
            "macro-f1:  0.5634364640281333\n",
            "\b\b\b\b\b\b\b\b\b\b\b\b\b\b\b\b\b\b\b\b\b\b\b\b\b\b\b\b\b\b\b\b\b\b\b\b\b\b\b\b\b\b\b\b\b\b\b\b\b\b\b\b\b\b\b\b\b\b\b\b\b\b\b\b\b\b\b\b\b\b\b\b\b\b\b\b\b\b\b\b\b\b\b\b\r162/162 [==============================] - 19s 119ms/step - loss: 0.5742 - accuracy: 0.7694 - val_loss: 1.0183 - val_accuracy: 0.6278\n",
            "Epoch 26/40\n",
            "162/162 [==============================] - ETA: 0s - loss: 0.5503 - accuracy: 0.7784"
          ]
        },
        {
          "output_type": "stream",
          "name": "stderr",
          "text": [
            "WARNING:absl:Found untraced functions such as gru_cell_2_layer_call_fn, gru_cell_2_layer_call_and_return_conditional_losses while saving (showing 2 of 2). These functions will not be directly callable after loading.\n",
            "WARNING:absl:<keras.layers.recurrent.GRUCell object at 0x7f6c8190ea90> has the same name 'GRUCell' as a built-in Keras object. Consider renaming <class 'keras.layers.recurrent.GRUCell'> to avoid naming conflicts when loading with `tf.keras.models.load_model`. If renaming is not possible, pass the object in the `custom_objects` parameter of the load function.\n"
          ]
        },
        {
          "output_type": "stream",
          "name": "stdout",
          "text": [
            "\n",
            "macro-f1:  0.5455793093294847\n",
            "\b\b\b\b\b\b\b\b\b\b\b\b\b\b\b\b\b\b\b\b\b\b\b\b\b\b\b\b\b\b\b\b\b\b\b\b\b\b\b\b\b\b\b\b\b\b\b\b\b\b\b\b\b\b\b\b\b\b\b\b\b\b\b\b\b\b\b\b\b\b\b\b\b\b\b\b\b\b\b\b\b\b\b\b\r162/162 [==============================] - 19s 119ms/step - loss: 0.5503 - accuracy: 0.7784 - val_loss: 1.0819 - val_accuracy: 0.6444\n",
            "Epoch 27/40\n",
            "159/162 [============================>.] - ETA: 0s - loss: 0.5166 - accuracy: 0.7940"
          ]
        },
        {
          "output_type": "stream",
          "name": "stderr",
          "text": [
            "WARNING:absl:Found untraced functions such as gru_cell_2_layer_call_fn, gru_cell_2_layer_call_and_return_conditional_losses while saving (showing 2 of 2). These functions will not be directly callable after loading.\n",
            "WARNING:absl:<keras.layers.recurrent.GRUCell object at 0x7f6c8190ea90> has the same name 'GRUCell' as a built-in Keras object. Consider renaming <class 'keras.layers.recurrent.GRUCell'> to avoid naming conflicts when loading with `tf.keras.models.load_model`. If renaming is not possible, pass the object in the `custom_objects` parameter of the load function.\n"
          ]
        },
        {
          "output_type": "stream",
          "name": "stdout",
          "text": [
            "\n",
            "macro-f1:  0.5136475850736429\n",
            "\b\b\b\b\b\b\b\b\b\b\b\b\b\b\b\b\b\b\b\b\b\b\b\b\b\b\b\b\b\b\b\b\b\b\b\b\b\b\b\b\b\b\b\b\b\b\b\b\b\b\b\b\b\b\b\b\b\b\b\b\b\b\b\b\b\b\b\b\b\b\b\b\b\b\b\b\b\b\b\b\b\b\b\b\r162/162 [==============================] - 19s 117ms/step - loss: 0.5188 - accuracy: 0.7932 - val_loss: 1.2083 - val_accuracy: 0.6344\n",
            "Epoch 28/40\n",
            "162/162 [==============================] - ETA: 0s - loss: 0.4984 - accuracy: 0.8071"
          ]
        },
        {
          "output_type": "stream",
          "name": "stderr",
          "text": [
            "WARNING:absl:Found untraced functions such as gru_cell_2_layer_call_fn, gru_cell_2_layer_call_and_return_conditional_losses while saving (showing 2 of 2). These functions will not be directly callable after loading.\n",
            "WARNING:absl:<keras.layers.recurrent.GRUCell object at 0x7f6c8190ea90> has the same name 'GRUCell' as a built-in Keras object. Consider renaming <class 'keras.layers.recurrent.GRUCell'> to avoid naming conflicts when loading with `tf.keras.models.load_model`. If renaming is not possible, pass the object in the `custom_objects` parameter of the load function.\n"
          ]
        },
        {
          "output_type": "stream",
          "name": "stdout",
          "text": [
            "\n",
            "macro-f1:  0.5396591962089732\n",
            "\b\b\b\b\b\b\b\b\b\b\b\b\b\b\b\b\b\b\b\b\b\b\b\b\b\b\b\b\b\b\b\b\b\b\b\b\b\b\b\b\b\b\b\b\b\b\b\b\b\b\b\b\b\b\b\b\b\b\b\b\b\b\b\b\b\b\b\b\b\b\b\b\b\b\b\b\b\b\b\b\b\b\b\b\r162/162 [==============================] - 20s 124ms/step - loss: 0.4984 - accuracy: 0.8071 - val_loss: 1.1839 - val_accuracy: 0.6367\n",
            "Epoch 29/40\n",
            "159/162 [============================>.] - ETA: 0s - loss: 0.4874 - accuracy: 0.8105"
          ]
        },
        {
          "output_type": "stream",
          "name": "stderr",
          "text": [
            "WARNING:absl:Found untraced functions such as gru_cell_2_layer_call_fn, gru_cell_2_layer_call_and_return_conditional_losses while saving (showing 2 of 2). These functions will not be directly callable after loading.\n",
            "WARNING:absl:<keras.layers.recurrent.GRUCell object at 0x7f6c8190ea90> has the same name 'GRUCell' as a built-in Keras object. Consider renaming <class 'keras.layers.recurrent.GRUCell'> to avoid naming conflicts when loading with `tf.keras.models.load_model`. If renaming is not possible, pass the object in the `custom_objects` parameter of the load function.\n"
          ]
        },
        {
          "output_type": "stream",
          "name": "stdout",
          "text": [
            "\n",
            "macro-f1:  0.5331007569477871\n",
            "\b\b\b\b\b\b\b\b\b\b\b\b\b\b\b\b\b\b\b\b\b\b\b\b\b\b\b\b\b\b\b\b\b\b\b\b\b\b\b\b\b\b\b\b\b\b\b\b\b\b\b\b\b\b\b\b\b\b\b\b\b\b\b\b\b\b\b\b\b\b\b\b\b\b\b\b\b\b\b\b\b\b\b\b\r162/162 [==============================] - 19s 119ms/step - loss: 0.4860 - accuracy: 0.8112 - val_loss: 1.1759 - val_accuracy: 0.6372\n",
            "Epoch 30/40\n",
            "161/162 [============================>.] - ETA: 0s - loss: 0.4412 - accuracy: 0.8339"
          ]
        },
        {
          "output_type": "stream",
          "name": "stderr",
          "text": [
            "WARNING:absl:Found untraced functions such as gru_cell_2_layer_call_fn, gru_cell_2_layer_call_and_return_conditional_losses while saving (showing 2 of 2). These functions will not be directly callable after loading.\n",
            "WARNING:absl:<keras.layers.recurrent.GRUCell object at 0x7f6c8190ea90> has the same name 'GRUCell' as a built-in Keras object. Consider renaming <class 'keras.layers.recurrent.GRUCell'> to avoid naming conflicts when loading with `tf.keras.models.load_model`. If renaming is not possible, pass the object in the `custom_objects` parameter of the load function.\n"
          ]
        },
        {
          "output_type": "stream",
          "name": "stdout",
          "text": [
            "\n",
            "macro-f1:  0.5396632314524139\n",
            "\b\b\b\b\b\b\b\b\b\b\b\b\b\b\b\b\b\b\b\b\b\b\b\b\b\b\b\b\b\b\b\b\b\b\b\b\b\b\b\b\b\b\b\b\b\b\b\b\b\b\b\b\b\b\b\b\b\b\b\b\b\b\b\b\b\b\b\b\b\b\b\b\b\b\b\b\b\b\b\b\b\b\b\b\r162/162 [==============================] - 19s 116ms/step - loss: 0.4417 - accuracy: 0.8336 - val_loss: 1.2029 - val_accuracy: 0.6178\n",
            "Epoch 31/40\n",
            "161/162 [============================>.] - ETA: 0s - loss: 0.4194 - accuracy: 0.8436"
          ]
        },
        {
          "output_type": "stream",
          "name": "stderr",
          "text": [
            "WARNING:absl:Found untraced functions such as gru_cell_2_layer_call_fn, gru_cell_2_layer_call_and_return_conditional_losses while saving (showing 2 of 2). These functions will not be directly callable after loading.\n",
            "WARNING:absl:<keras.layers.recurrent.GRUCell object at 0x7f6c8190ea90> has the same name 'GRUCell' as a built-in Keras object. Consider renaming <class 'keras.layers.recurrent.GRUCell'> to avoid naming conflicts when loading with `tf.keras.models.load_model`. If renaming is not possible, pass the object in the `custom_objects` parameter of the load function.\n"
          ]
        },
        {
          "output_type": "stream",
          "name": "stdout",
          "text": [
            "\n",
            "macro-f1:  0.542403314674318\n",
            "\b\b\b\b\b\b\b\b\b\b\b\b\b\b\b\b\b\b\b\b\b\b\b\b\b\b\b\b\b\b\b\b\b\b\b\b\b\b\b\b\b\b\b\b\b\b\b\b\b\b\b\b\b\b\b\b\b\b\b\b\b\b\b\b\b\b\b\b\b\b\b\b\b\b\b\b\b\b\b\b\b\b\b\b\r162/162 [==============================] - 19s 117ms/step - loss: 0.4200 - accuracy: 0.8434 - val_loss: 1.3121 - val_accuracy: 0.6189\n",
            "Epoch 32/40\n",
            "162/162 [==============================] - ETA: 0s - loss: 0.3860 - accuracy: 0.8579"
          ]
        },
        {
          "output_type": "stream",
          "name": "stderr",
          "text": [
            "WARNING:absl:Found untraced functions such as gru_cell_2_layer_call_fn, gru_cell_2_layer_call_and_return_conditional_losses while saving (showing 2 of 2). These functions will not be directly callable after loading.\n",
            "WARNING:absl:<keras.layers.recurrent.GRUCell object at 0x7f6c8190ea90> has the same name 'GRUCell' as a built-in Keras object. Consider renaming <class 'keras.layers.recurrent.GRUCell'> to avoid naming conflicts when loading with `tf.keras.models.load_model`. If renaming is not possible, pass the object in the `custom_objects` parameter of the load function.\n"
          ]
        },
        {
          "output_type": "stream",
          "name": "stdout",
          "text": [
            "\n",
            "macro-f1:  0.5199136688154353\n",
            "\b\b\b\b\b\b\b\b\b\b\b\b\b\b\b\b\b\b\b\b\b\b\b\b\b\b\b\b\b\b\b\b\b\b\b\b\b\b\b\b\b\b\b\b\b\b\b\b\b\b\b\b\b\b\b\b\b\b\b\b\b\b\b\b\b\b\b\b\b\b\b\b\b\b\b\b\b\b\b\b\b\b\b\b\r162/162 [==============================] - 20s 126ms/step - loss: 0.3860 - accuracy: 0.8579 - val_loss: 1.4116 - val_accuracy: 0.6067\n",
            "Epoch 33/40\n",
            "161/162 [============================>.] - ETA: 0s - loss: 0.3652 - accuracy: 0.8667"
          ]
        },
        {
          "output_type": "stream",
          "name": "stderr",
          "text": [
            "WARNING:absl:Found untraced functions such as gru_cell_2_layer_call_fn, gru_cell_2_layer_call_and_return_conditional_losses while saving (showing 2 of 2). These functions will not be directly callable after loading.\n",
            "WARNING:absl:<keras.layers.recurrent.GRUCell object at 0x7f6c8190ea90> has the same name 'GRUCell' as a built-in Keras object. Consider renaming <class 'keras.layers.recurrent.GRUCell'> to avoid naming conflicts when loading with `tf.keras.models.load_model`. If renaming is not possible, pass the object in the `custom_objects` parameter of the load function.\n"
          ]
        },
        {
          "output_type": "stream",
          "name": "stdout",
          "text": [
            "\n",
            "macro-f1:  0.5111403292724296\n",
            "\b\b\b\b\b\b\b\b\b\b\b\b\b\b\b\b\b\b\b\b\b\b\b\b\b\b\b\b\b\b\b\b\b\b\b\b\b\b\b\b\b\b\b\b\b\b\b\b\b\b\b\b\b\b\b\b\b\b\b\b\b\b\b\b\b\b\b\b\b\b\b\b\b\b\b\b\b\b\b\b\b\b\b\b\r162/162 [==============================] - 19s 120ms/step - loss: 0.3653 - accuracy: 0.8665 - val_loss: 1.3895 - val_accuracy: 0.6200\n",
            "Epoch 34/40\n",
            "159/162 [============================>.] - ETA: 0s - loss: 0.3412 - accuracy: 0.8801"
          ]
        },
        {
          "output_type": "stream",
          "name": "stderr",
          "text": [
            "WARNING:absl:Found untraced functions such as gru_cell_2_layer_call_fn, gru_cell_2_layer_call_and_return_conditional_losses while saving (showing 2 of 2). These functions will not be directly callable after loading.\n",
            "WARNING:absl:<keras.layers.recurrent.GRUCell object at 0x7f6c8190ea90> has the same name 'GRUCell' as a built-in Keras object. Consider renaming <class 'keras.layers.recurrent.GRUCell'> to avoid naming conflicts when loading with `tf.keras.models.load_model`. If renaming is not possible, pass the object in the `custom_objects` parameter of the load function.\n"
          ]
        },
        {
          "output_type": "stream",
          "name": "stdout",
          "text": [
            "\n",
            "macro-f1:  0.5151870897390569\n",
            "\b\b\b\b\b\b\b\b\b\b\b\b\b\b\b\b\b\b\b\b\b\b\b\b\b\b\b\b\b\b\b\b\b\b\b\b\b\b\b\b\b\b\b\b\b\b\b\b\b\b\b\b\b\b\b\b\b\b\b\b\b\b\b\b\b\b\b\b\b\b\b\b\b\b\b\b\b\b\b\b\b\b\b\b\r162/162 [==============================] - 19s 118ms/step - loss: 0.3402 - accuracy: 0.8804 - val_loss: 1.5390 - val_accuracy: 0.6250\n",
            "Epoch 35/40\n",
            "159/162 [============================>.] - ETA: 0s - loss: 0.3110 - accuracy: 0.8902"
          ]
        },
        {
          "output_type": "stream",
          "name": "stderr",
          "text": [
            "WARNING:absl:Found untraced functions such as gru_cell_2_layer_call_fn, gru_cell_2_layer_call_and_return_conditional_losses while saving (showing 2 of 2). These functions will not be directly callable after loading.\n",
            "WARNING:absl:<keras.layers.recurrent.GRUCell object at 0x7f6c8190ea90> has the same name 'GRUCell' as a built-in Keras object. Consider renaming <class 'keras.layers.recurrent.GRUCell'> to avoid naming conflicts when loading with `tf.keras.models.load_model`. If renaming is not possible, pass the object in the `custom_objects` parameter of the load function.\n"
          ]
        },
        {
          "output_type": "stream",
          "name": "stdout",
          "text": [
            "\n",
            "macro-f1:  0.5054062416940202\n",
            "\b\b\b\b\b\b\b\b\b\b\b\b\b\b\b\b\b\b\b\b\b\b\b\b\b\b\b\b\b\b\b\b\b\b\b\b\b\b\b\b\b\b\b\b\b\b\b\b\b\b\b\b\b\b\b\b\b\b\b\b\b\b\b\b\b\b\b\b\b\b\b\b\b\b\b\b\b\b\b\b\b\b\b\b\r162/162 [==============================] - 19s 117ms/step - loss: 0.3108 - accuracy: 0.8899 - val_loss: 1.6479 - val_accuracy: 0.6144\n",
            "Epoch 36/40\n",
            "162/162 [==============================] - ETA: 0s - loss: 0.2966 - accuracy: 0.8984"
          ]
        },
        {
          "output_type": "stream",
          "name": "stderr",
          "text": [
            "WARNING:absl:Found untraced functions such as gru_cell_2_layer_call_fn, gru_cell_2_layer_call_and_return_conditional_losses while saving (showing 2 of 2). These functions will not be directly callable after loading.\n",
            "WARNING:absl:<keras.layers.recurrent.GRUCell object at 0x7f6c8190ea90> has the same name 'GRUCell' as a built-in Keras object. Consider renaming <class 'keras.layers.recurrent.GRUCell'> to avoid naming conflicts when loading with `tf.keras.models.load_model`. If renaming is not possible, pass the object in the `custom_objects` parameter of the load function.\n"
          ]
        },
        {
          "output_type": "stream",
          "name": "stdout",
          "text": [
            "\n",
            "macro-f1:  0.5297604400123135\n",
            "\b\b\b\b\b\b\b\b\b\b\b\b\b\b\b\b\b\b\b\b\b\b\b\b\b\b\b\b\b\b\b\b\b\b\b\b\b\b\b\b\b\b\b\b\b\b\b\b\b\b\b\b\b\b\b\b\b\b\b\b\b\b\b\b\b\b\b\b\b\b\b\b\b\b\b\b\b\b\b\b\b\b\b\b\r162/162 [==============================] - 20s 123ms/step - loss: 0.2966 - accuracy: 0.8984 - val_loss: 1.5962 - val_accuracy: 0.6133\n",
            "Epoch 37/40\n",
            "160/162 [============================>.] - ETA: 0s - loss: 0.2745 - accuracy: 0.9094"
          ]
        },
        {
          "output_type": "stream",
          "name": "stderr",
          "text": [
            "WARNING:absl:Found untraced functions such as gru_cell_2_layer_call_fn, gru_cell_2_layer_call_and_return_conditional_losses while saving (showing 2 of 2). These functions will not be directly callable after loading.\n",
            "WARNING:absl:<keras.layers.recurrent.GRUCell object at 0x7f6c8190ea90> has the same name 'GRUCell' as a built-in Keras object. Consider renaming <class 'keras.layers.recurrent.GRUCell'> to avoid naming conflicts when loading with `tf.keras.models.load_model`. If renaming is not possible, pass the object in the `custom_objects` parameter of the load function.\n"
          ]
        },
        {
          "output_type": "stream",
          "name": "stdout",
          "text": [
            "\n",
            "macro-f1:  0.5178450555864693\n",
            "\b\b\b\b\b\b\b\b\b\b\b\b\b\b\b\b\b\b\b\b\b\b\b\b\b\b\b\b\b\b\b\b\b\b\b\b\b\b\b\b\b\b\b\b\b\b\b\b\b\b\b\b\b\b\b\b\b\b\b\b\b\b\b\b\b\b\b\b\b\b\b\b\b\b\b\b\b\b\b\b\b\b\b\b\r162/162 [==============================] - 19s 119ms/step - loss: 0.2753 - accuracy: 0.9088 - val_loss: 1.6461 - val_accuracy: 0.6133\n",
            "Epoch 38/40\n",
            "160/162 [============================>.] - ETA: 0s - loss: 0.2503 - accuracy: 0.9213"
          ]
        },
        {
          "output_type": "stream",
          "name": "stderr",
          "text": [
            "WARNING:absl:Found untraced functions such as gru_cell_2_layer_call_fn, gru_cell_2_layer_call_and_return_conditional_losses while saving (showing 2 of 2). These functions will not be directly callable after loading.\n",
            "WARNING:absl:<keras.layers.recurrent.GRUCell object at 0x7f6c8190ea90> has the same name 'GRUCell' as a built-in Keras object. Consider renaming <class 'keras.layers.recurrent.GRUCell'> to avoid naming conflicts when loading with `tf.keras.models.load_model`. If renaming is not possible, pass the object in the `custom_objects` parameter of the load function.\n"
          ]
        },
        {
          "output_type": "stream",
          "name": "stdout",
          "text": [
            "\n",
            "macro-f1:  0.5095610657214309\n",
            "\b\b\b\b\b\b\b\b\b\b\b\b\b\b\b\b\b\b\b\b\b\b\b\b\b\b\b\b\b\b\b\b\b\b\b\b\b\b\b\b\b\b\b\b\b\b\b\b\b\b\b\b\b\b\b\b\b\b\b\b\b\b\b\b\b\b\b\b\b\b\b\b\b\b\b\b\b\b\b\b\b\b\b\b\r162/162 [==============================] - 19s 116ms/step - loss: 0.2498 - accuracy: 0.9212 - val_loss: 1.7385 - val_accuracy: 0.6133\n",
            "Epoch 39/40\n",
            "160/162 [============================>.] - ETA: 0s - loss: 0.2466 - accuracy: 0.9200"
          ]
        },
        {
          "output_type": "stream",
          "name": "stderr",
          "text": [
            "WARNING:absl:Found untraced functions such as gru_cell_2_layer_call_fn, gru_cell_2_layer_call_and_return_conditional_losses while saving (showing 2 of 2). These functions will not be directly callable after loading.\n",
            "WARNING:absl:<keras.layers.recurrent.GRUCell object at 0x7f6c8190ea90> has the same name 'GRUCell' as a built-in Keras object. Consider renaming <class 'keras.layers.recurrent.GRUCell'> to avoid naming conflicts when loading with `tf.keras.models.load_model`. If renaming is not possible, pass the object in the `custom_objects` parameter of the load function.\n"
          ]
        },
        {
          "output_type": "stream",
          "name": "stdout",
          "text": [
            "\n",
            "macro-f1:  0.5114853407803029\n",
            "\b\b\b\b\b\b\b\b\b\b\b\b\b\b\b\b\b\b\b\b\b\b\b\b\b\b\b\b\b\b\b\b\b\b\b\b\b\b\b\b\b\b\b\b\b\b\b\b\b\b\b\b\b\b\b\b\b\b\b\b\b\b\b\b\b\b\b\b\b\b\b\b\b\b\b\b\b\b\b\b\b\b\b\b\r162/162 [==============================] - 19s 117ms/step - loss: 0.2461 - accuracy: 0.9199 - val_loss: 1.8563 - val_accuracy: 0.6139\n",
            "Epoch 40/40\n",
            "159/162 [============================>.] - ETA: 0s - loss: 0.2166 - accuracy: 0.9333"
          ]
        },
        {
          "output_type": "stream",
          "name": "stderr",
          "text": [
            "WARNING:absl:Found untraced functions such as gru_cell_2_layer_call_fn, gru_cell_2_layer_call_and_return_conditional_losses while saving (showing 2 of 2). These functions will not be directly callable after loading.\n",
            "WARNING:absl:<keras.layers.recurrent.GRUCell object at 0x7f6c8190ea90> has the same name 'GRUCell' as a built-in Keras object. Consider renaming <class 'keras.layers.recurrent.GRUCell'> to avoid naming conflicts when loading with `tf.keras.models.load_model`. If renaming is not possible, pass the object in the `custom_objects` parameter of the load function.\n"
          ]
        },
        {
          "output_type": "stream",
          "name": "stdout",
          "text": [
            "\n",
            "macro-f1:  0.49218279469726234\n",
            "\b\b\b\b\b\b\b\b\b\b\b\b\b\b\b\b\b\b\b\b\b\b\b\b\b\b\b\b\b\b\b\b\b\b\b\b\b\b\b\b\b\b\b\b\b\b\b\b\b\b\b\b\b\b\b\b\b\b\b\b\b\b\b\b\b\b\b\b\b\b\b\b\b\b\b\b\b\b\b\b\b\b\b\b\r162/162 [==============================] - 20s 124ms/step - loss: 0.2164 - accuracy: 0.9332 - val_loss: 1.8208 - val_accuracy: 0.6200\n"
          ]
        }
      ]
    },
    {
      "cell_type": "code",
      "source": [
        "model = keras.models.load_model(os.path.join(\"models\", \"weights.hdf5\"))\n",
        "\n",
        "train_score = model.evaluate(train_feats_matrix, train_label_matrix,\n",
        "                             batch_size=100)\n",
        "test_score = model.evaluate(valid_feats_matrix, valid_label_matrix,\n",
        "                            batch_size=100)\n",
        "print(\"training loss:\", train_score[0], \"training accuracy\", train_score[1])\n",
        "print(\"test loss:\", test_score[0], \"test accuracy\", test_score[1])"
      ],
      "metadata": {
        "colab": {
          "base_uri": "https://localhost:8080/"
        },
        "id": "xM63uY4ujQIZ",
        "outputId": "5e5e44e9-df5c-497b-d53c-7411511893bf"
      },
      "execution_count": 42,
      "outputs": [
        {
          "output_type": "stream",
          "name": "stdout",
          "text": [
            "180/180 [==============================] - 3s 13ms/step - loss: 0.8828 - accuracy: 0.7360\n",
            "20/20 [==============================] - 0s 14ms/step - loss: 1.0810 - accuracy: 0.6275\n",
            "training loss: 0.8828385472297668 training accuracy 0.7360000014305115\n",
            "test loss: 1.0810298919677734 test accuracy 0.6274999976158142\n"
          ]
        }
      ]
    },
    {
      "cell_type": "markdown",
      "source": [
        "Loss and Accuracy"
      ],
      "metadata": {
        "id": "TpkjiknvetBJ"
      }
    },
    {
      "cell_type": "code",
      "source": [
        "plt.figure(figsize=(10,4))\n",
        "plt.subplot(1,2,1)\n",
        "plt.plot(gru_history.history[\"loss\"], label=\"GRU-training\", color=\"blue\", linestyle=\"dashed\")\n",
        "plt.plot(gru_history.history[\"val_loss\"], label=\"GRU-validation\", color=\"blue\")\n",
        "plt.xlabel(\"Iteration\")\n",
        "plt.ylabel(\"Loss\")\n",
        "plt.legend()\n",
        "plt.subplot(1,2,2)\n",
        "plt.plot(gru_history.history[\"accuracy\"], label=\"GRU-training\", color=\"blue\", linestyle=\"dashed\")\n",
        "plt.plot(gru_history.history[\"val_accuracy\"], label=\"GRU-validation\", color=\"blue\")\n",
        "plt.xlabel(\"Iteration\")\n",
        "plt.ylabel(\"Accuracy\")\n",
        "plt.legend()\n",
        "plt.show()"
      ],
      "metadata": {
        "colab": {
          "base_uri": "https://localhost:8080/",
          "height": 279
        },
        "id": "XzL8kp6WmZ-9",
        "outputId": "b7e5449f-9d74-44ef-b039-2d1e97938c25"
      },
      "execution_count": 43,
      "outputs": [
        {
          "output_type": "display_data",
          "data": {
            "text/plain": [
              "<Figure size 720x288 with 2 Axes>"
            ],
            "image/png": "[encoded data removed]"
          },
          "metadata": {
            "needs_background": "light"
          }
        }
      ]
    },
    {
      "cell_type": "markdown",
      "source": [
        "Macro-f1 score"
      ],
      "metadata": {
        "id": "czNQzWw0exlm"
      }
    },
    {
      "cell_type": "code",
      "source": [
        "plt.plot(metrics.f1s, color=\"blue\")\n",
        "plt.xlabel(\"Iteration\")\n",
        "plt.ylabel(\"macro-f1\")\n",
        "plt.show()"
      ],
      "metadata": {
        "colab": {
          "base_uri": "https://localhost:8080/",
          "height": 279
        },
        "id": "0I65zRuEmeZp",
        "outputId": "91f131cb-4f6a-4abc-8ba2-b394e2381303"
      },
      "execution_count": 44,
      "outputs": [
        {
          "output_type": "display_data",
          "data": {
            "text/plain": [
              "<Figure size 432x288 with 1 Axes>"
            ],
            "image/png": "[encoded data removed]"
          },
          "metadata": {
            "needs_background": "light"
          }
        }
      ]
    },
    {
      "cell_type": "markdown",
      "source": [
        "Load best model"
      ],
      "metadata": {
        "id": "PNZYeWPwe3Lw"
      }
    },
    {
      "cell_type": "code",
      "source": [
        "os.listdir(checkpoint_dir)[:3]"
      ],
      "metadata": {
        "id": "Y25dp_6xjOz7",
        "colab": {
          "base_uri": "https://localhost:8080/"
        },
        "outputId": "b9dbd107-2c3a-4fdf-9294-410e906a1589"
      },
      "execution_count": 45,
      "outputs": [
        {
          "output_type": "execute_result",
          "data": {
            "text/plain": [
              "['cp-0006.ckpt', 'cp-0038.ckpt', 'cp-0013.ckpt']"
            ]
          },
          "metadata": {},
          "execution_count": 45
        }
      ]
    },
    {
      "cell_type": "code",
      "source": [
        "print(np.argmax(metrics.f1s)+1)\n",
        "metrics.f1s[np.argmax(metrics.f1s)]"
      ],
      "metadata": {
        "colab": {
          "base_uri": "https://localhost:8080/"
        },
        "id": "etZx7qN9ZoBY",
        "outputId": "534597a0-2ddd-4093-9fd8-b3bd367ef8d6"
      },
      "execution_count": 47,
      "outputs": [
        {
          "output_type": "stream",
          "name": "stdout",
          "text": [
            "17\n"
          ]
        },
        {
          "output_type": "execute_result",
          "data": {
            "text/plain": [
              "0.5637848177792882"
            ]
          },
          "metadata": {},
          "execution_count": 47
        }
      ]
    },
    {
      "cell_type": "code",
      "source": [
        "models_path"
      ],
      "metadata": {
        "id": "9isE695pk8jh",
        "colab": {
          "base_uri": "https://localhost:8080/",
          "height": 36
        },
        "outputId": "f04dd691-6268-4539-d7ae-3a48e63d0731"
      },
      "execution_count": 48,
      "outputs": [
        {
          "output_type": "execute_result",
          "data": {
            "text/plain": [
              "'/models'"
            ],
            "application/vnd.google.colaboratory.intrinsic+json": {
              "type": "string"
            }
          },
          "metadata": {},
          "execution_count": 48
        }
      ]
    },
    {
      "cell_type": "markdown",
      "source": [
        "#####Load best model"
      ],
      "metadata": {
        "id": "lGjxozdIfPKb"
      }
    },
    {
      "cell_type": "code",
      "source": [
        "model = keras.models.load_model(os.path.join(models_path, \"cp-0017.ckpt\"))\n",
        "\n",
        "train_score = model.evaluate(train_feats_matrix, train_label_matrix,\n",
        "                             batch_size=100)\n",
        "test_score = model.evaluate(valid_feats_matrix, valid_label_matrix,\n",
        "                            batch_size=100)\n",
        "print(\"training loss:\", train_score[0], \"training accuracy\", train_score[1])\n",
        "print(\"test loss:\", test_score[0], \"test accuracy\", test_score[1])"
      ],
      "metadata": {
        "colab": {
          "base_uri": "https://localhost:8080/"
        },
        "id": "ioeR6ublfqs7",
        "outputId": "63042404-d67c-4968-ff49-dc1cb8130d8b"
      },
      "execution_count": 49,
      "outputs": [
        {
          "output_type": "stream",
          "name": "stdout",
          "text": [
            "180/180 [==============================] - 2s 8ms/step - loss: 0.7266 - accuracy: 0.6968\n",
            "20/20 [==============================] - 0s 8ms/step - loss: 0.8421 - accuracy: 0.6695\n",
            "training loss: 0.7265549898147583 training accuracy 0.6968333125114441\n",
            "test loss: 0.84206223487854 test accuracy 0.6694999933242798\n"
          ]
        }
      ]
    },
    {
      "cell_type": "code",
      "source": [
        "pred = np.argmax(model.predict(valid_feats_matrix), axis = 1) + 1\n",
        "print(classification_report(valid_df[\"stars\"], pred, digits=4))"
      ],
      "metadata": {
        "colab": {
          "base_uri": "https://localhost:8080/"
        },
        "id": "JGfaHtqNmpoG",
        "outputId": "07470ae6-b3e4-4c9c-ef0d-af402226edb8"
      },
      "execution_count": 50,
      "outputs": [
        {
          "output_type": "stream",
          "name": "stdout",
          "text": [
            "              precision    recall  f1-score   support\n",
            "\n",
            "           1     0.7091    0.8298    0.7647       282\n",
            "           2     0.4034    0.3529    0.3765       136\n",
            "           3     0.4852    0.3868    0.4304       212\n",
            "           4     0.5593    0.3541    0.4336       466\n",
            "           5     0.7452    0.8960    0.8137       904\n",
            "\n",
            "    accuracy                         0.6695      2000\n",
            "   macro avg     0.5804    0.5639    0.5638      2000\n",
            "weighted avg     0.6460    0.6695    0.6479      2000\n",
            "\n"
          ]
        }
      ]
    },
    {
      "cell_type": "markdown",
      "source": [
        "evaluate.py"
      ],
      "metadata": {
        "id": "bJznsduYksVr"
      }
    },
    {
      "cell_type": "code",
      "source": [
        "pred = np.argmax(model.predict(valid_feats_matrix), axis = 1) + 1\n",
        "print(len(pred))\n",
        "# save model validation predictions\n",
        "pred_df = pd.DataFrame({'stars': pred, 'review_id': valid_df['review_id']})\n",
        "pred_df.to_csv('valid_pred.csv', index=False)"
      ],
      "metadata": {
        "colab": {
          "base_uri": "https://localhost:8080/"
        },
        "id": "LD19lM7Wo23M",
        "outputId": "675db8e1-fa6b-4304-ddc3-847e9421d2ce"
      },
      "execution_count": 54,
      "outputs": [
        {
          "output_type": "stream",
          "name": "stdout",
          "text": [
            "2000\n"
          ]
        }
      ]
    },
    {
      "cell_type": "code",
      "source": [
        "import pandas as pd\n",
        "from sklearn.metrics import precision_recall_fscore_support, accuracy_score\n",
        "\n",
        "ans = pd.read_csv(data_dir+\"/valid.csv\", usecols=[\"review_id\", \"stars\"])\n",
        "pred = pd.read_csv(\"valid_pred.csv\", usecols=[\"review_id\", \"stars\"])\n",
        "df = pd.merge(ans, pred, how=\"left\", on=[\"review_id\"])\n",
        "df.fillna(0, inplace=True)\n",
        "acc = accuracy_score(df[\"stars_x\"], df[\"stars_y\"])\n",
        "p, r, f1, _ = precision_recall_fscore_support(df[\"stars_x\"], df[\"stars_y\"], average=\"macro\")\n",
        "print(\"accuracy:\", acc, \"\\tprecision:\", p, \"\\trecall:\", r, \"\\tf1:\", f1)"
      ],
      "metadata": {
        "colab": {
          "base_uri": "https://localhost:8080/"
        },
        "id": "Fx2GpM-zk0FW",
        "outputId": "84c8c3fc-d66b-4c8b-966d-d5d6133af150"
      },
      "execution_count": 58,
      "outputs": [
        {
          "output_type": "stream",
          "name": "stdout",
          "text": [
            "accuracy: 0.6695 \tprecision: 0.5804303162622035 \trecall: 0.5639231631354517 \tf1: 0.5637848177792882\n"
          ]
        }
      ]
    },
    {
      "cell_type": "markdown",
      "source": [
        "#####Final prediction"
      ],
      "metadata": {
        "id": "RpcoSFevC0X-"
      }
    },
    {
      "cell_type": "code",
      "source": [
        "pred = np.argmax(model.predict(test_feats_matrix), axis = 1) + 1\n",
        "print(len(pred))\n",
        "# save your model predictions\n",
        "pred_df = pd.DataFrame({'stars': pred, 'review_id': test_df['review_id']})\n",
        "pred_df.to_csv('pred.csv', index=False)"
      ],
      "metadata": {
        "colab": {
          "base_uri": "https://localhost:8080/"
        },
        "id": "uFgxZm3yCzqq",
        "outputId": "188d832a-6c30-4344-f644-e94580c74e27"
      },
      "execution_count": 59,
      "outputs": [
        {
          "output_type": "stream",
          "name": "stdout",
          "text": [
            "4000\n"
          ]
        }
      ]
    },
    {
      "cell_type": "markdown",
      "source": [
        "####LSTM+Word2Vec"
      ],
      "metadata": {
        "id": "MFL_5ppQPh88"
      }
    },
    {
      "cell_type": "code",
      "source": [
        "os.makedirs(\"models\", exist_ok=True)\n",
        "model = build_RNN(input_length=max_len, vocab_size=len(feats_dict),\n",
        "                  embedding_size=100, hidden_size=100, output_size=num_classes,\n",
        "                  rnn_type=\"lstm\", num_rnn_layers=1, num_mlp_layers=2,\n",
        "                  embedding_matrix=embedding_matrix,\n",
        "                  activation=\"tanh\",\n",
        "                  batch_norm=True,\n",
        "                  l2_reg=0.005, dropout_rate=0.5)\n",
        "checkpointer = keras.callbacks.ModelCheckpoint(\n",
        "    filepath=os.path.join(\"models\", \"weights.hdf5\"),\n",
        "    monitor=\"val_accuracy\",\n",
        "    verbose=0,\n",
        "    save_best_only=True)\n",
        "earlystopping = keras.callbacks.EarlyStopping(\n",
        "    monitor='val_loss',\n",
        "    patience=10,\n",
        "    verbose=0)\n",
        "\n",
        "np.random.seed(0)\n",
        "tf.random.set_seed(0)\n",
        "\n",
        "with tf.device('/gpu:0'):\n",
        "  lstm_history = model.fit(train_feats_matrix, train_label_matrix,\n",
        "                    validation_split=0.1,\n",
        "                    epochs=50, batch_size=100, verbose=0,\n",
        "                    callbacks=[checkpointer, earlystopping])\n",
        "\n",
        "model = keras.models.load_model(os.path.join(\"models\", \"weights.hdf5\"))\n",
        "\n",
        "train_score = model.evaluate(train_feats_matrix, train_label_matrix,\n",
        "                             batch_size=100)\n",
        "test_score = model.evaluate(valid_feats_matrix, valid_label_matrix,\n",
        "                            batch_size=100)\n",
        "print(\"training loss:\", train_score[0], \"training accuracy\", train_score[1])\n",
        "print(\"test loss:\", test_score[0], \"test accuracy\", test_score[1])"
      ],
      "metadata": {
        "colab": {
          "base_uri": "https://localhost:8080/"
        },
        "id": "lL14PVtyQETr",
        "outputId": "1952c83d-b95a-4219-c6a7-c3d6ad2f2a9f"
      },
      "execution_count": 60,
      "outputs": [
        {
          "output_type": "stream",
          "name": "stdout",
          "text": [
            "180/180 [==============================] - 2s 8ms/step - loss: 0.7845 - accuracy: 0.6696\n",
            "20/20 [==============================] - 0s 7ms/step - loss: 0.8318 - accuracy: 0.6620\n",
            "training loss: 0.784489095211029 training accuracy 0.6696110963821411\n",
            "test loss: 0.8318044543266296 test accuracy 0.6620000004768372\n"
          ]
        }
      ]
    },
    {
      "cell_type": "code",
      "source": [
        "pred = np.argmax(model.predict(valid_feats_matrix), axis = 1) + 1\n",
        "print(classification_report(valid_df[\"stars\"], pred, digits=4))"
      ],
      "metadata": {
        "colab": {
          "base_uri": "https://localhost:8080/"
        },
        "id": "AjGkeG6_QtF7",
        "outputId": "7dd03496-f732-4e7b-e093-803ee05930c8"
      },
      "execution_count": 61,
      "outputs": [
        {
          "output_type": "stream",
          "name": "stdout",
          "text": [
            "              precision    recall  f1-score   support\n",
            "\n",
            "           1     0.6703    0.8652    0.7554       282\n",
            "           2     0.3671    0.2132    0.2698       136\n",
            "           3     0.4387    0.4387    0.4387       212\n",
            "           4     0.5472    0.4356    0.4851       466\n",
            "           5     0.7752    0.8352    0.8040       904\n",
            "\n",
            "    accuracy                         0.6620      2000\n",
            "   macro avg     0.5597    0.5576    0.5506      2000\n",
            "weighted avg     0.6438    0.6620    0.6478      2000\n",
            "\n"
          ]
        }
      ]
    },
    {
      "cell_type": "code",
      "source": [
        "plt.figure(figsize=(10,4))\n",
        "plt.subplot(1,2,1)\n",
        "plt.plot(lstm_history.history[\"loss\"], label=\"LSTM-training\", color=\"blue\", linestyle=\"dashed\")\n",
        "plt.plot(lstm_history.history[\"val_loss\"], label=\"LSTM-validation\", color=\"blue\")\n",
        "plt.xlabel(\"Iteration\")\n",
        "plt.ylabel(\"Loss\")\n",
        "plt.legend()\n",
        "plt.subplot(1,2,2)\n",
        "plt.plot(lstm_history.history[\"accuracy\"], label=\"LSTM-training\", color=\"blue\", linestyle=\"dashed\")\n",
        "plt.plot(lstm_history.history[\"val_accuracy\"], label=\"LSTM-validation\", color=\"blue\")\n",
        "plt.xlabel(\"Iteration\")\n",
        "plt.ylabel(\"Accuracy\")\n",
        "plt.legend()\n",
        "plt.show()"
      ],
      "metadata": {
        "colab": {
          "base_uri": "https://localhost:8080/",
          "height": 279
        },
        "id": "1-W6QF0tT3vM",
        "outputId": "4b1ebb12-d7eb-4232-affc-8f0a44ff359c"
      },
      "execution_count": 62,
      "outputs": [
        {
          "output_type": "display_data",
          "data": {
            "text/plain": [
              "<Figure size 720x288 with 2 Axes>"
            ],
            "image/png": "[encoded data removed]"
          },
          "metadata": {
            "needs_background": "light"
          }
        }
      ]
    },
    {
      "cell_type": "markdown",
      "source": [
        "####BiLSTM+Word2Vec\n"
      ],
      "metadata": {
        "id": "lXTZANZ-PiHq"
      }
    },
    {
      "cell_type": "code",
      "source": [
        "os.makedirs(\"models\", exist_ok=True)\n",
        "model = build_RNN(input_length=max_len, vocab_size=len(feats_dict),\n",
        "                  embedding_size=100, hidden_size=100, output_size=num_classes,\n",
        "                  rnn_type=\"lstm\", num_rnn_layers=1, bidirectional=True, num_mlp_layers=2,\n",
        "                  embedding_matrix=embedding_matrix,\n",
        "                  activation=\"tanh\",\n",
        "                  batch_norm=True,\n",
        "                  l2_reg=0.005, dropout_rate=0.5)\n",
        "checkpointer = keras.callbacks.ModelCheckpoint(\n",
        "    filepath=os.path.join(\"models\", \"weights.hdf5\"),\n",
        "    monitor=\"val_accuracy\",\n",
        "    verbose=0,\n",
        "    save_best_only=True)\n",
        "earlystopping = keras.callbacks.EarlyStopping(\n",
        "    monitor='val_loss',\n",
        "    patience=5,\n",
        "    verbose=0)\n",
        "\n",
        "np.random.seed(0)\n",
        "tf.random.set_seed(0)\n",
        "\n",
        "with tf.device('/gpu:0'):\n",
        "  bilstm_history = model.fit(train_feats_matrix, train_label_matrix,\n",
        "                    validation_split=0.1,\n",
        "                    epochs=100, batch_size=100, verbose=0,\n",
        "                    callbacks=[checkpointer, earlystopping])\n",
        "\n",
        "model = keras.models.load_model(os.path.join(\"models\", \"weights.hdf5\"))\n",
        "\n",
        "train_score = model.evaluate(train_feats_matrix, train_label_matrix,\n",
        "                             batch_size=100)\n",
        "test_score = model.evaluate(valid_feats_matrix, valid_label_matrix,\n",
        "                            batch_size=100)\n",
        "print(\"training loss:\", train_score[0], \"training accuracy\", train_score[1])\n",
        "print(\"test loss:\", test_score[0], \"test accuracy\", test_score[1])"
      ],
      "metadata": {
        "colab": {
          "base_uri": "https://localhost:8080/"
        },
        "id": "TiXz_dwRQMXf",
        "outputId": "2464f6e1-9824-49ba-e480-4a26ed4e2347"
      },
      "execution_count": 63,
      "outputs": [
        {
          "output_type": "stream",
          "name": "stdout",
          "text": [
            "180/180 [==============================] - 3s 13ms/step - loss: 0.6795 - accuracy: 0.7227\n",
            "20/20 [==============================] - 0s 13ms/step - loss: 0.8684 - accuracy: 0.6360\n",
            "training loss: 0.679492175579071 training accuracy 0.7227222323417664\n",
            "test loss: 0.8683652281761169 test accuracy 0.6359999775886536\n"
          ]
        }
      ]
    },
    {
      "cell_type": "code",
      "source": [
        "pred = np.argmax(model.predict(valid_feats_matrix), axis = 1) + 1\n",
        "print(classification_report(valid_df[\"stars\"], pred, digits=4))"
      ],
      "metadata": {
        "colab": {
          "base_uri": "https://localhost:8080/"
        },
        "id": "hYYghAc2QxIM",
        "outputId": "194305c4-9aaa-45c2-d5dc-07aee06d0214"
      },
      "execution_count": 64,
      "outputs": [
        {
          "output_type": "stream",
          "name": "stdout",
          "text": [
            "              precision    recall  f1-score   support\n",
            "\n",
            "           1     0.6648    0.8227    0.7353       282\n",
            "           2     0.3485    0.3382    0.3433       136\n",
            "           3     0.3725    0.4340    0.4009       212\n",
            "           4     0.5034    0.3176    0.3895       466\n",
            "           5     0.7710    0.8341    0.8013       904\n",
            "\n",
            "    accuracy                         0.6360      2000\n",
            "   macro avg     0.5320    0.5493    0.5340      2000\n",
            "weighted avg     0.6227    0.6360    0.6224      2000\n",
            "\n"
          ]
        }
      ]
    },
    {
      "cell_type": "code",
      "source": [
        "plt.figure(figsize=(10,4))\n",
        "plt.subplot(1,2,1)\n",
        "plt.plot(bilstm_history.history[\"loss\"], label=\"LSTM-training\", color=\"blue\", linestyle=\"dashed\")\n",
        "plt.plot(bilstm_history.history[\"val_loss\"], label=\"LSTM-validation\", color=\"blue\")\n",
        "plt.xlabel(\"Iteration\")\n",
        "plt.ylabel(\"Loss\")\n",
        "plt.legend()\n",
        "plt.subplot(1,2,2)\n",
        "plt.plot(bilstm_history.history[\"accuracy\"], label=\"LSTM-training\", color=\"blue\", linestyle=\"dashed\")\n",
        "plt.plot(bilstm_history.history[\"val_accuracy\"], label=\"LSTM-validation\", color=\"blue\")\n",
        "plt.xlabel(\"Iteration\")\n",
        "plt.ylabel(\"Accuracy\")\n",
        "plt.legend()\n",
        "plt.show()"
      ],
      "metadata": {
        "colab": {
          "base_uri": "https://localhost:8080/",
          "height": 279
        },
        "id": "qT6BAnYgUG3V",
        "outputId": "e0ec57ce-e797-4d77-f8cc-052795347a62"
      },
      "execution_count": 65,
      "outputs": [
        {
          "output_type": "display_data",
          "data": {
            "text/plain": [
              "<Figure size 720x288 with 2 Axes>"
            ],
            "image/png": "[encoded data removed]"
          },
          "metadata": {
            "needs_background": "light"
          }
        }
      ]
    },
    {
      "cell_type": "markdown",
      "source": [
        "Diverged already -> maybe not good"
      ],
      "metadata": {
        "id": "fOyOL4ylUyqs"
      }
    },
    {
      "cell_type": "markdown",
      "source": [
        "####GRU+GloVe\n"
      ],
      "metadata": {
        "id": "eySRvloqNA95"
      }
    },
    {
      "cell_type": "markdown",
      "source": [
        "Load GloVe"
      ],
      "metadata": {
        "id": "c3y1sNs85REI"
      }
    },
    {
      "cell_type": "code",
      "source": [
        "!wget http://nlp.stanford.edu/data/glove.6B.zip\n",
        "!unzip glove*.zip"
      ],
      "metadata": {
        "colab": {
          "base_uri": "https://localhost:8080/"
        },
        "id": "7IXAw604pmmH",
        "outputId": "0d24e81b-879d-455b-a349-bdcb2e03b382"
      },
      "execution_count": 68,
      "outputs": [
        {
          "output_type": "stream",
          "name": "stdout",
          "text": [
            "--2022-09-03 04:40:28--  http://nlp.stanford.edu/data/glove.6B.zip\n",
            "Resolving nlp.stanford.edu (nlp.stanford.edu)... 171.64.67.140\n",
            "Connecting to nlp.stanford.edu (nlp.stanford.edu)|171.64.67.140|:80... connected.\n",
            "HTTP request sent, awaiting response... 302 Found\n",
            "Location: https://nlp.stanford.edu/data/glove.6B.zip [following]\n",
            "--2022-09-03 04:40:28--  https://nlp.stanford.edu/data/glove.6B.zip\n",
            "Connecting to nlp.stanford.edu (nlp.stanford.edu)|171.64.67.140|:443... connected.\n",
            "HTTP request sent, awaiting response... 301 Moved Permanently\n",
            "Location: https://downloads.cs.stanford.edu/nlp/data/glove.6B.zip [following]\n",
            "--2022-09-03 04:40:29--  https://downloads.cs.stanford.edu/nlp/data/glove.6B.zip\n",
            "Resolving downloads.cs.stanford.edu (downloads.cs.stanford.edu)... 171.64.64.22\n",
            "Connecting to downloads.cs.stanford.edu (downloads.cs.stanford.edu)|171.64.64.22|:443... connected.\n",
            "HTTP request sent, awaiting response... 200 OK\n",
            "Length: 862182613 (822M) [application/zip]\n",
            "Saving to: ‘glove.6B.zip’\n",
            "\n",
            "glove.6B.zip        100%[===================>] 822.24M  5.02MB/s    in 2m 39s  \n",
            "\n",
            "2022-09-03 04:43:08 (5.17 MB/s) - ‘glove.6B.zip’ saved [862182613/862182613]\n",
            "\n",
            "Archive:  glove.6B.zip\n",
            "  inflating: glove.6B.50d.txt        \n",
            "  inflating: glove.6B.100d.txt       \n",
            "  inflating: glove.6B.200d.txt       \n",
            "  inflating: glove.6B.300d.txt       \n"
          ]
        }
      ]
    },
    {
      "cell_type": "code",
      "source": [
        "path_to_glove_file = os.path.join('','glove.6B.100d.txt')\n",
        "\n",
        "embedding_index = {}\n",
        "with open(path_to_glove_file) as f:\n",
        "    for line in f:\n",
        "        word, coefs = line.split(maxsplit=1)\n",
        "        coefs = np.fromstring(coefs, \"f\", sep=\" \")\n",
        "        embedding_index[word] = coefs\n",
        "\n",
        "print(\"Found %s word vectors.\" % len(embedding_index))"
      ],
      "metadata": {
        "colab": {
          "base_uri": "https://localhost:8080/"
        },
        "id": "0Ic2Wqbj5Qzu",
        "outputId": "e487d5b9-83f7-4004-841f-04008e21ae79"
      },
      "execution_count": 69,
      "outputs": [
        {
          "output_type": "stream",
          "name": "stdout",
          "text": [
            "Found 400000 word vectors.\n"
          ]
        }
      ]
    },
    {
      "cell_type": "markdown",
      "source": [
        "Build Embedding matrix"
      ],
      "metadata": {
        "id": "bt2cVz4-8HaJ"
      }
    },
    {
      "cell_type": "code",
      "source": [
        "embedding_dim = 100\n",
        "hits = 0\n",
        "misses = 0\n",
        "\n",
        "# Prepare embedding matrix\n",
        "embedding_matrix = np.zeros((len(feats_dict), embedding_dim))\n",
        "for word, i in feats_dict.items():\n",
        "    embedding_vector = embedding_index.get(word)\n",
        "    if embedding_vector is not None:\n",
        "        # Words not found in embedding index will be all-zeros.\n",
        "        # This includes the representation for \"padding\" and \"OOV\"\n",
        "        embedding_matrix[i] = embedding_vector\n",
        "        hits += 1\n",
        "    else:\n",
        "        misses += 1\n",
        "print(\"Converted %d words (%d misses)\" % (hits, misses))\n"
      ],
      "metadata": {
        "colab": {
          "base_uri": "https://localhost:8080/"
        },
        "id": "qB-_M5xB8OVl",
        "outputId": "f72f9e03-f877-4691-e17d-d91447258927"
      },
      "execution_count": 70,
      "outputs": [
        {
          "output_type": "stream",
          "name": "stdout",
          "text": [
            "Converted 32198 words (13421 misses)\n"
          ]
        }
      ]
    },
    {
      "cell_type": "code",
      "source": [
        "embedding_matrix[:5]"
      ],
      "metadata": {
        "id": "-uUSmg1y-sr6",
        "colab": {
          "base_uri": "https://localhost:8080/"
        },
        "outputId": "30112f65-42bc-4b74-e0ca-36ab55defd0e"
      },
      "execution_count": 71,
      "outputs": [
        {
          "output_type": "execute_result",
          "data": {
            "text/plain": [
              "array([[-4.65390012e-02,  6.19660020e-01,  5.66470027e-01,\n",
              "        -4.65840012e-01, -1.18900001e+00,  4.45989996e-01,\n",
              "         6.60350025e-02,  3.19099993e-01,  1.46789998e-01,\n",
              "        -2.21190006e-01,  7.92389989e-01,  2.99050003e-01,\n",
              "         1.60730004e-01,  2.53240000e-02,  1.86780006e-01,\n",
              "        -3.10009986e-01, -2.81080008e-01,  6.05149984e-01,\n",
              "        -1.06540000e+00,  5.24760008e-01,  6.41520023e-02,\n",
              "         1.03579998e+00, -4.07790005e-01, -3.80109996e-01,\n",
              "         3.08010012e-01,  5.99640012e-01, -2.69910008e-01,\n",
              "        -7.60349989e-01,  9.42219973e-01, -4.69190001e-01,\n",
              "        -1.82779998e-01,  9.06520009e-01,  7.96710014e-01,\n",
              "         2.48249993e-01,  2.57129997e-01,  6.23199999e-01,\n",
              "        -4.47679996e-01,  6.53569996e-01,  7.69020021e-01,\n",
              "        -5.12290001e-01, -4.43329990e-01, -2.18669996e-01,\n",
              "         3.83700013e-01, -1.14830005e+00, -9.43979979e-01,\n",
              "        -1.50619999e-01,  3.00119996e-01, -5.78059971e-01,\n",
              "         2.01749995e-01, -1.65910006e+00, -7.91950002e-02,\n",
              "         2.64229998e-02,  2.20510006e-01,  9.97139990e-01,\n",
              "        -5.75389981e-01, -2.72659993e+00,  3.14480007e-01,\n",
              "         7.05219984e-01,  1.43809998e+00,  9.91259992e-01,\n",
              "         1.39760002e-01,  1.34739995e+00, -1.17530000e+00,\n",
              "         3.95030016e-03,  1.02980006e+00,  6.46369979e-02,\n",
              "         9.08869982e-01,  8.28719974e-01, -4.70030010e-01,\n",
              "        -1.05750002e-01,  5.91600001e-01, -4.22100008e-01,\n",
              "         5.73310018e-01, -5.41140020e-01,  1.07680000e-01,\n",
              "         3.97839993e-01, -4.87440005e-02,  6.45959973e-02,\n",
              "        -6.14369988e-01, -2.86000013e-01,  5.06699979e-01,\n",
              "        -4.97579992e-01, -8.15699995e-01,  1.64079994e-01,\n",
              "        -1.96300006e+00, -2.66930014e-01, -3.75930011e-01,\n",
              "        -9.58469987e-01, -8.58399987e-01, -7.15770006e-01,\n",
              "        -3.23430002e-01, -4.31210011e-01,  4.13919985e-01,\n",
              "         2.83740014e-01, -7.09309995e-01,  1.50030002e-01,\n",
              "        -2.15399995e-01, -3.76159996e-01, -3.25019993e-02,\n",
              "         8.06200027e-01],\n",
              "       [-3.81940007e-02, -2.44870007e-01,  7.28120029e-01,\n",
              "        -3.99610013e-01,  8.31720009e-02,  4.39530015e-02,\n",
              "        -3.91409993e-01,  3.34399998e-01, -5.75450003e-01,\n",
              "         8.74589980e-02,  2.87869990e-01, -6.73099980e-02,\n",
              "         3.09060007e-01, -2.63839990e-01, -1.32310003e-01,\n",
              "        -2.07570001e-01,  3.33950013e-01, -3.38479996e-01,\n",
              "        -3.17429990e-01, -4.83359993e-01,  1.46400005e-01,\n",
              "        -3.73039991e-01,  3.45770001e-01,  5.20410016e-02,\n",
              "         4.49460000e-01, -4.69709992e-01,  2.62800008e-02,\n",
              "        -5.41549981e-01, -1.55180007e-01, -1.41069993e-01,\n",
              "        -3.97219993e-02,  2.82770008e-01,  1.43930003e-01,\n",
              "         2.34640002e-01, -3.10209990e-01,  8.61729980e-02,\n",
              "         2.03970000e-01,  5.26239991e-01,  1.71639994e-01,\n",
              "        -8.23780000e-02, -7.17869997e-01, -4.15309995e-01,\n",
              "         2.03349993e-01, -1.27629995e-01,  4.13670003e-01,\n",
              "         5.51869988e-01,  5.79079986e-01, -3.34769994e-01,\n",
              "        -3.65590006e-01, -5.48569977e-01, -6.28919974e-02,\n",
              "         2.65839994e-01,  3.02049994e-01,  9.97749984e-01,\n",
              "        -8.04809988e-01, -3.02430010e+00,  1.25399996e-02,\n",
              "        -3.69419992e-01,  2.21670008e+00,  7.22010016e-01,\n",
              "        -2.49779999e-01,  9.21360016e-01,  3.45139988e-02,\n",
              "         4.67449993e-01,  1.10790002e+00, -1.93580002e-01,\n",
              "        -7.45749995e-02,  2.33530000e-01, -5.20620011e-02,\n",
              "        -2.20440000e-01,  5.71620017e-02, -1.58059999e-01,\n",
              "        -3.07980001e-01, -4.16249990e-01,  3.79720002e-01,\n",
              "         1.50059998e-01, -5.32119989e-01, -2.05500007e-01,\n",
              "        -1.25259995e+00,  7.16240034e-02,  7.05649972e-01,\n",
              "         4.97440010e-01, -4.20630008e-01,  2.61480004e-01,\n",
              "        -1.53799999e+00, -3.02230000e-01, -7.34380037e-02,\n",
              "        -2.83120006e-01,  3.71039987e-01, -2.52169997e-01,\n",
              "         1.62150003e-02, -1.70990005e-02, -3.89840007e-01,\n",
              "         8.74239981e-01, -7.25690007e-01, -5.10580003e-01,\n",
              "        -5.20280004e-01, -1.45899996e-01,  8.27799976e-01,\n",
              "         2.70619988e-01],\n",
              "       [ 1.57309994e-01,  3.95300001e-01,  6.35860026e-01,\n",
              "        -1.09749997e+00, -9.57679987e-01, -1.38410004e-02,\n",
              "        -1.98530003e-01,  2.54180014e-01,  3.67309988e-01,\n",
              "        -1.74860001e-01,  2.76849985e-01,  3.19429994e-01,\n",
              "         3.00779998e-01,  6.85309991e-02, -1.59170002e-01,\n",
              "        -2.19439998e-01,  6.40970021e-02,  8.47450018e-01,\n",
              "        -6.19889975e-01,  5.41729987e-01,  2.79210001e-01,\n",
              "         5.03830016e-01,  2.14600004e-02, -2.05709994e-01,\n",
              "         7.79939964e-02,  3.22290003e-01, -4.91829991e-01,\n",
              "        -1.14110005e+00,  2.33329996e-01, -5.43579996e-01,\n",
              "         9.22849998e-02,  8.68600011e-01,  6.91270009e-02,\n",
              "         1.92289993e-01,  2.83740014e-01,  4.60139990e-01,\n",
              "        -2.83199996e-01,  4.53839988e-01,  3.52090001e-01,\n",
              "        -4.91730005e-01, -1.47709996e-01, -7.17670023e-02,\n",
              "        -2.43550003e-01, -6.30890012e-01, -6.77969992e-01,\n",
              "        -1.31640002e-01,  3.59739989e-01, -7.52919972e-01,\n",
              "         3.82039994e-02, -1.76950002e+00,  1.88930005e-01,\n",
              "        -1.88720003e-01, -2.02680007e-01,  8.30900013e-01,\n",
              "         7.78699964e-02, -2.62129998e+00,  8.19410011e-02,\n",
              "         2.72619992e-01,  1.62160003e+00,  8.61660004e-01,\n",
              "        -2.15820000e-01,  1.00979996e+00, -7.81220019e-01,\n",
              "        -1.16630003e-01,  1.06289995e+00,  1.58299997e-01,\n",
              "         1.10090005e+00,  7.03239977e-01, -6.04809999e-01,\n",
              "        -4.59069997e-01,  7.98619986e-02, -6.17940009e-01,\n",
              "        -9.38960016e-02, -5.03629982e-01, -1.22170001e-01,\n",
              "        -1.78569998e-03, -3.22350003e-02, -1.05899997e-01,\n",
              "        -6.92319989e-01,  7.64850006e-02,  6.03839993e-01,\n",
              "        -5.60750008e-01, -9.63720024e-01, -7.01920018e-02,\n",
              "        -2.07879996e+00, -5.64230025e-01,  1.75740004e-01,\n",
              "        -2.49610003e-02, -4.53489989e-01, -3.92870009e-01,\n",
              "        -8.05730000e-02, -3.76340002e-01,  3.50829996e-02,\n",
              "        -3.96620005e-01, -7.61650026e-01,  1.51130006e-01,\n",
              "        -1.30329996e-01, -2.85129994e-01,  1.98530003e-01,\n",
              "         6.74640000e-01],\n",
              "       [ 5.88540018e-01, -2.02500001e-01,  7.34790027e-01,\n",
              "        -6.83380008e-01, -1.96750000e-01, -1.80199996e-01,\n",
              "        -3.91770005e-01,  3.41720015e-01, -6.05610013e-01,\n",
              "         6.38159990e-01, -2.66950011e-01,  3.64859998e-01,\n",
              "        -4.03789997e-01, -1.13399997e-01, -5.87180018e-01,\n",
              "         2.83800006e-01,  8.02500010e-01, -3.53029996e-01,\n",
              "         3.00830007e-01,  7.89349973e-02,  4.44160014e-01,\n",
              "        -4.59060013e-01,  7.92940021e-01,  5.03650010e-01,\n",
              "         3.28049988e-01,  2.80270010e-01, -4.93299991e-01,\n",
              "        -3.84820014e-01, -3.92839983e-02, -2.48300001e-01,\n",
              "        -1.98799998e-01,  1.14690006e+00,  1.32280007e-01,\n",
              "         9.16909993e-01, -3.67390007e-01,  8.94249976e-01,\n",
              "         5.42599976e-01,  6.17380023e-01, -6.22049987e-01,\n",
              "        -3.11320007e-01, -5.09329975e-01,  2.33349994e-01,\n",
              "         1.08260000e+00, -4.46369983e-02, -1.27670005e-01,\n",
              "         2.76279986e-01, -3.26169990e-02, -2.73970008e-01,\n",
              "         7.77639985e-01, -5.08610010e-01,  3.83070000e-02,\n",
              "        -3.36789995e-01,  4.23440009e-01,  1.22710001e+00,\n",
              "        -5.38259983e-01, -3.24110007e+00,  4.26259995e-01,\n",
              "         2.51889993e-02,  1.39479995e+00,  6.50849998e-01,\n",
              "         3.32500003e-02,  3.71410012e-01,  4.04399991e-01,\n",
              "         3.55580002e-01,  9.82649982e-01, -6.17240012e-01,\n",
              "         5.39009988e-01,  7.62189984e-01,  3.06890011e-01,\n",
              "         3.30650002e-01,  3.09560001e-01, -1.51610002e-01,\n",
              "        -1.13130003e-01, -8.12810004e-01,  6.14499986e-01,\n",
              "        -4.43410009e-01, -1.91630006e-01, -8.95510018e-02,\n",
              "        -1.59270000e+00,  3.74049991e-01,  8.58569980e-01,\n",
              "         5.46130002e-01, -3.19279999e-01,  5.25979996e-01,\n",
              "        -1.48020005e+00, -9.79309976e-01, -2.93900013e-01,\n",
              "        -1.47239998e-01,  2.58029997e-01, -1.81700006e-01,\n",
              "         1.01489997e+00,  7.76489973e-01,  1.25980005e-01,\n",
              "         5.47789991e-01, -1.03160000e+00,  6.45989999e-02,\n",
              "        -3.75230014e-01, -9.44750011e-01,  6.18019998e-01,\n",
              "         3.95909995e-01],\n",
              "       [-1.64859995e-01,  9.19969976e-01,  2.27369994e-01,\n",
              "        -4.90310013e-01, -1.80820003e-03, -3.38030010e-01,\n",
              "         5.72209992e-02,  1.46009997e-01,  4.02020007e-01,\n",
              "        -2.88580000e-01, -4.74949986e-01, -5.63690007e-01,\n",
              "         2.70370007e-01,  5.17019987e-01, -1.12410001e-01,\n",
              "         1.83139995e-01,  2.20660001e-01, -4.86059994e-01,\n",
              "        -8.72839987e-01, -6.25870004e-02,  4.30160016e-02,\n",
              "         2.36410007e-01,  5.97050011e-01, -3.86400014e-01,\n",
              "        -2.51940012e-01,  9.68620002e-01, -4.31120008e-01,\n",
              "        -4.83700007e-01, -1.13960004e+00,  9.24250036e-02,\n",
              "        -1.14759997e-01, -7.42909983e-02, -6.25239983e-02,\n",
              "        -9.51220021e-02, -2.27139995e-01,  8.82910013e-01,\n",
              "         3.99780005e-01,  7.66309977e-01, -6.76970005e-01,\n",
              "        -6.28289998e-01, -1.18720002e-01, -2.44920000e-01,\n",
              "        -5.88930011e-01, -8.50880027e-01,  1.11070001e+00,\n",
              "         4.21900004e-01, -1.50720000e+00, -1.95089996e-01,\n",
              "        -2.67120004e-01, -7.08010018e-01,  5.50750017e-01,\n",
              "        -4.69290018e-02, -2.52029985e-01,  7.44109988e-01,\n",
              "        -1.83249995e-01, -1.48850000e+00, -4.63930011e-01,\n",
              "        -1.03380002e-01,  2.35249996e+00, -1.54210001e-01,\n",
              "         3.98330003e-01,  1.53440004e-02,  8.07079971e-02,\n",
              "        -2.73730010e-01,  9.70570028e-01, -1.93830002e-02,\n",
              "         2.08989993e-01, -6.40330017e-01,  9.25090015e-01,\n",
              "        -4.53709990e-01, -7.05640018e-01, -1.60329998e-01,\n",
              "        -7.17609972e-02,  6.28560007e-01,  3.57320011e-01,\n",
              "         8.88019979e-01, -6.91269994e-01,  4.96339984e-02,\n",
              "        -9.33470011e-01,  6.53959990e-01,  3.71650010e-01,\n",
              "         5.83630018e-02, -1.01520002e+00,  7.08450019e-01,\n",
              "        -1.35420001e+00, -3.63900006e-01,  2.59939998e-01,\n",
              "        -1.82600006e-01, -9.89300013e-01, -4.46990013e-01,\n",
              "         8.50160003e-01,  9.45319980e-02,  3.70189995e-01,\n",
              "        -5.03539979e-01, -1.20829999e+00, -3.57760012e-01,\n",
              "         2.38989994e-01, -6.79040030e-02,  1.50720000e+00,\n",
              "         6.08889997e-01]])"
            ]
          },
          "metadata": {},
          "execution_count": 71
        }
      ]
    },
    {
      "cell_type": "code",
      "source": [
        "os.makedirs(\"models\", exist_ok=True)\n",
        "model = build_RNN(input_length=max_len, vocab_size=len(feats_dict),\n",
        "                  embedding_size=100, hidden_size=100, output_size=num_classes,\n",
        "                  rnn_type=\"gru\", num_rnn_layers=1, num_mlp_layers=2,\n",
        "                  embedding_matrix=embedding_matrix,\n",
        "                  activation=\"softmax\",\n",
        "                  optimizer=\"RMSprop\",\n",
        "                  batch_norm=True,\n",
        "                  l2_reg=0.005, dropout_rate=0.5)\n",
        "checkpointer = keras.callbacks.ModelCheckpoint(\n",
        "    filepath=os.path.join(\"models\", \"weights.hdf5\"),\n",
        "    monitor=\"val_accuracy\",\n",
        "    verbose=0,\n",
        "    save_best_only=True)\n",
        "earlystopping = keras.callbacks.EarlyStopping(\n",
        "    monitor='val_loss',\n",
        "    patience=10,\n",
        "    verbose=0)\n",
        "\n",
        "np.random.seed(0)\n",
        "tf.random.set_seed(0)\n",
        "\n",
        "with tf.device('/gpu:0'):\n",
        "  gru_history = model.fit(train_feats_matrix, train_label_matrix,\n",
        "                    validation_split=0.1,\n",
        "                    epochs=40, batch_size=100, verbose=0,\n",
        "                    callbacks=[checkpointer, metrics])#earlystopping, metrics])\n",
        "\n",
        "model = keras.models.load_model(os.path.join(\"models\", \"weights.hdf5\"))\n",
        "\n",
        "train_score = model.evaluate(train_feats_matrix, train_label_matrix,\n",
        "                             batch_size=100)\n",
        "test_score = model.evaluate(valid_feats_matrix, valid_label_matrix,\n",
        "                            batch_size=100)\n",
        "print(\"training loss:\", train_score[0], \"training accuracy\", train_score[1])\n",
        "print(\"test loss:\", test_score[0], \"test accuracy\", test_score[1])"
      ],
      "metadata": {
        "id": "otK1NVq7xKqg",
        "colab": {
          "base_uri": "https://localhost:8080/"
        },
        "outputId": "5766421e-d787-4223-a831-6f4a9c761298"
      },
      "execution_count": 72,
      "outputs": [
        {
          "output_type": "stream",
          "name": "stdout",
          "text": [
            "\n",
            "macro-f1:  0.12451790633608817\n",
            "\n",
            "macro-f1:  0.12451790633608817\n",
            "\n",
            "macro-f1:  0.12451790633608817\n",
            "\n",
            "macro-f1:  0.12451790633608817\n",
            "\n",
            "macro-f1:  0.2720296457693704\n",
            "\n",
            "macro-f1:  0.2980424171918556\n",
            "\n",
            "macro-f1:  0.34733969867493436\n",
            "\n",
            "macro-f1:  0.4471299062700891\n",
            "\n",
            "macro-f1:  0.4212581115279967\n",
            "\n",
            "macro-f1:  0.4692524819151873\n",
            "\n",
            "macro-f1:  0.4583051073241845\n",
            "\n",
            "macro-f1:  0.47339258506016774\n",
            "\n",
            "macro-f1:  0.5036595919709811\n",
            "\n",
            "macro-f1:  0.5362698744938867\n",
            "\n",
            "macro-f1:  0.49546447975611035\n",
            "\n",
            "macro-f1:  0.5260135886503735\n",
            "\n",
            "macro-f1:  0.5326199004556702\n",
            "\n",
            "macro-f1:  0.5435462840699865\n",
            "\n",
            "macro-f1:  0.469109822182852\n",
            "\n",
            "macro-f1:  0.496522760617552\n",
            "\n",
            "macro-f1:  0.47987468002050654\n",
            "\n",
            "macro-f1:  0.5121016131561124\n",
            "\n",
            "macro-f1:  0.5322546729568367\n",
            "\n",
            "macro-f1:  0.5022609898481738\n",
            "\n",
            "macro-f1:  0.5193653808257459\n",
            "\n",
            "macro-f1:  0.48920279770858566\n",
            "\n",
            "macro-f1:  0.49510611760699985\n",
            "\n",
            "macro-f1:  0.49982936023770874\n",
            "\n",
            "macro-f1:  0.5078752092773424\n",
            "\n",
            "macro-f1:  0.5220421761516005\n",
            "\n",
            "macro-f1:  0.4874552571179243\n",
            "\n",
            "macro-f1:  0.518499761801922\n",
            "\n",
            "macro-f1:  0.5069482955672411\n",
            "\n",
            "macro-f1:  0.5088176382862798\n",
            "\n",
            "macro-f1:  0.4980990157292893\n",
            "\n",
            "macro-f1:  0.4880613244835981\n",
            "\n",
            "macro-f1:  0.48914542536927036\n",
            "\n",
            "macro-f1:  0.5042500786664531\n",
            "\n",
            "macro-f1:  0.4884016137140841\n",
            "\n",
            "macro-f1:  0.49179635035534675\n",
            "180/180 [==============================] - 2s 8ms/step - loss: 0.6705 - accuracy: 0.7558\n",
            "20/20 [==============================] - 0s 7ms/step - loss: 0.9536 - accuracy: 0.6345\n",
            "training loss: 0.6705419421195984 training accuracy 0.7558333277702332\n",
            "test loss: 0.953563928604126 test accuracy 0.6345000267028809\n"
          ]
        }
      ]
    },
    {
      "cell_type": "code",
      "source": [
        "pred = np.argmax(model.predict(valid_feats_matrix), axis = 1) + 1\n",
        "print(classification_report(valid_df[\"stars\"], pred, digits=4))"
      ],
      "metadata": {
        "colab": {
          "base_uri": "https://localhost:8080/"
        },
        "id": "OI_2vCzOf4HZ",
        "outputId": "78c92dca-2599-4478-d6de-f9c718f3ca2b"
      },
      "execution_count": 73,
      "outputs": [
        {
          "output_type": "stream",
          "name": "stdout",
          "text": [
            "              precision    recall  f1-score   support\n",
            "\n",
            "           1     0.7055    0.8156    0.7566       282\n",
            "           2     0.3636    0.2647    0.3064       136\n",
            "           3     0.4076    0.3538    0.3788       212\n",
            "           4     0.4717    0.4120    0.4399       466\n",
            "           5     0.7480    0.8142    0.7797       904\n",
            "\n",
            "    accuracy                         0.6345      2000\n",
            "   macro avg     0.5393    0.5321    0.5323      2000\n",
            "weighted avg     0.6154    0.6345    0.6226      2000\n",
            "\n"
          ]
        }
      ]
    },
    {
      "cell_type": "code",
      "source": [
        "plt.figure(figsize=(10,4))\n",
        "plt.subplot(1,2,1)\n",
        "plt.plot(gru_history.history[\"loss\"], label=\"LSTM-training\", color=\"blue\", linestyle=\"dashed\")\n",
        "plt.plot(gru_history.history[\"val_loss\"], label=\"LSTM-validation\", color=\"blue\")\n",
        "plt.xlabel(\"Iteration\")\n",
        "plt.ylabel(\"Loss\")\n",
        "plt.legend()\n",
        "plt.subplot(1,2,2)\n",
        "plt.plot(gru_history.history[\"accuracy\"], label=\"LSTM-training\", color=\"blue\", linestyle=\"dashed\")\n",
        "plt.plot(gru_history.history[\"val_accuracy\"], label=\"LSTM-validation\", color=\"blue\")\n",
        "plt.xlabel(\"Iteration\")\n",
        "plt.ylabel(\"Accuracy\")\n",
        "plt.legend()\n",
        "plt.show()"
      ],
      "metadata": {
        "colab": {
          "base_uri": "https://localhost:8080/",
          "height": 279
        },
        "id": "xtxXbd45AZ2E",
        "outputId": "c7b18dcc-786d-48ad-a3a3-b2ac4826d22b"
      },
      "execution_count": 74,
      "outputs": [
        {
          "output_type": "display_data",
          "data": {
            "text/plain": [
              "<Figure size 720x288 with 2 Axes>"
            ],
            "image/png": "[encoded data removed]"
          },
          "metadata": {
            "needs_background": "light"
          }
        }
      ]
    },
    {
      "cell_type": "markdown",
      "source": [
        "No signal for GloVe"
      ],
      "metadata": {
        "id": "wvPoXdgQHz2L"
      }
    }
  ]
}