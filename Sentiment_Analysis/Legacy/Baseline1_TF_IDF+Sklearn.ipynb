{
  "cells": [
    {
      "cell_type": "markdown",
      "metadata": {
        "id": "view-in-github",
        "colab_type": "text"
      },
      "source": [
        "<a href=\"https://colab.research.google.com/github/VanHoann/Yelp_Dataset_Challenges/blob/main/Sentiment_Analysis/Legacy/Baseline1_TF_IDF%2BSklearn.ipynb\" target=\"_parent\"><img src=\"https://colab.research.google.com/assets/colab-badge.svg\" alt=\"Open In Colab\"/></a>"
      ]
    },
    {
      "cell_type": "markdown",
      "metadata": {
        "id": "1KqPWk95nBhf"
      },
      "source": [
        "# General pipeline for project 1\n",
        "This is an example pipeline showing you how to  \n",
        "(1) Load the provided data;  \n",
        "(2) Train models on the train set, and use the validation set to evaluate your model performance;  \n",
        "(3) Generate predictions (pred.csv) on the test set, which is ready for submission."
      ]
    },
    {
      "cell_type": "code",
      "execution_count": 1,
      "metadata": {
        "id": "fVdfYSI5nBhl"
      },
      "outputs": [],
      "source": [
        "import numpy as np\n",
        "import pandas as pd\n",
        "from sklearn.pipeline import Pipeline\n",
        "from sklearn.feature_extraction.text import TfidfVectorizer\n",
        "from sklearn.metrics import confusion_matrix, classification_report, accuracy_score, f1_score\n",
        "from sklearn.linear_model import LogisticRegression"
      ]
    },
    {
      "cell_type": "markdown",
      "metadata": {
        "id": "CZbFM3TsnBhn"
      },
      "source": [
        "### (1) Loading data\n",
        "The following code shows how to load the datasets for this project.  \n",
        "Among which, we do not release the labels (the \"stars\" column) for the test set. You may evaluate your trained model on the validation set instead.\n",
        "\n",
        "However, your submitted predictions (``pred.csv``) should be generated on the test set."
      ]
    },
    {
      "cell_type": "code",
      "execution_count": 2,
      "metadata": {
        "id": "3b7HHIdSnBhp"
      },
      "outputs": [],
      "source": [
        "def load_data(split_name='train', columns=['text', 'stars'], folder='data'):\n",
        "    '''\n",
        "        \"split_name\" may be set as 'train', 'valid' or 'test' to load the corresponding dataset.\n",
        "        \n",
        "        You may also specify the column names to load any columns in the .csv data file.\n",
        "        Among many, \"text\" can be used as model input, and \"stars\" column is the labels (sentiment). \n",
        "        If you like, you are free to use columns other than \"text\" for prediction.\n",
        "    '''\n",
        "    try:\n",
        "        print(f\"select [{', '.join(columns)}] columns from the {split_name} split\")\n",
        "        df = pd.read_csv(f'{folder}/{split_name}.csv')\n",
        "        df = df.loc[:,columns]\n",
        "        print(\"Success\")\n",
        "        return df\n",
        "    except:\n",
        "        print(f\"Failed loading specified columns... Returning all columns from the {split_name} split\")\n",
        "        df = pd.read_csv(f'{folder}/{split_name}.csv')\n",
        "        return df"
      ]
    },
    {
      "cell_type": "code",
      "execution_count": 3,
      "metadata": {
        "colab": {
          "base_uri": "https://localhost:8080/"
        },
        "id": "gEDJ99Z7nBhq",
        "outputId": "2018a62a-d917-4ee1-f09c-7f6e98989154"
      },
      "outputs": [
        {
          "output_type": "stream",
          "name": "stdout",
          "text": [
            "select [text, stars] columns from the train split\n",
            "Success\n",
            "select [text, stars] columns from the valid split\n",
            "Success\n",
            "select [text, review_id] columns from the test split\n",
            "Success\n"
          ]
        }
      ],
      "source": [
        "data_dir = \"https://raw.githubusercontent.com/VanHoann/Yelp_Dataset_Challenges/main/Sentiment_Analysis/data\"\n",
        "\n",
        "train_df = load_data('train', columns=['text', 'stars'], folder=data_dir)\n",
        "valid_df = load_data('valid', columns=['text', 'stars'], folder=data_dir)\n",
        "test_df = load_data('test', columns=['text', 'review_id'], folder=data_dir)"
      ]
    },
    {
      "cell_type": "code",
      "execution_count": 4,
      "metadata": {
        "colab": {
          "base_uri": "https://localhost:8080/"
        },
        "id": "MPEIgLkylHjD",
        "outputId": "3663d626-bc65-4dcc-89f1-687b249e452d"
      },
      "outputs": [
        {
          "output_type": "stream",
          "name": "stdout",
          "text": [
            "5    7911\n",
            "4    3971\n",
            "1    2672\n",
            "3    1989\n",
            "2    1457\n",
            "Name: stars, dtype: int64\n",
            "5    904\n",
            "4    466\n",
            "1    282\n",
            "3    212\n",
            "2    136\n",
            "Name: stars, dtype: int64\n",
            "                                                text  stars\n",
            "0  I've been here a handful of times now and I've...      5\n",
            "1  The service was terrible. The food was just ok...      1\n",
            "2  Alil pricey for the location but completly get...      4\n",
            "3  Don't get your car washed here. Paid 11 and my...      1\n",
            "4  Cute but tight. Not expensive and creative. I ...      5\n"
          ]
        }
      ],
      "source": [
        "print(train_df['stars'].value_counts(),\n",
        "      valid_df['stars'].value_counts(),\n",
        "      train_df.head(5), sep='\\n'\n",
        ")"
      ]
    },
    {
      "cell_type": "code",
      "execution_count": 5,
      "metadata": {
        "id": "ZflryzoonBht"
      },
      "outputs": [],
      "source": [
        "# Prepare the data.\n",
        "# As an example, we only use the text data. \n",
        "x_train = train_df['text']\n",
        "y_train = train_df['stars']#.apply(lambda x: 3 if (2 <= x and x <= 4) else x)\n",
        "\n",
        "x_valid = valid_df['text']\n",
        "y_valid = valid_df['stars']#.apply(lambda x: 3 if (2 <= x and x <= 4) else x)\n",
        "\n",
        "x_test = test_df['text']"
      ]
    },
    {
      "cell_type": "markdown",
      "metadata": {
        "id": "rtCj89VgXSO3"
      },
      "source": [
        "### (1.1) Data Exploration"
      ]
    },
    {
      "cell_type": "code",
      "execution_count": 6,
      "metadata": {
        "colab": {
          "base_uri": "https://localhost:8080/"
        },
        "id": "Q_QwWjY3lPSc",
        "outputId": "dd3f2391-1863-4a28-cfdf-4cb387b6c99b"
      },
      "outputs": [
        {
          "output_type": "stream",
          "name": "stdout",
          "text": [
            "{'same', 'myself', 'him', 'weren', 'a', 'after', 'yourselves', 'been', \"haven't\", 'between', 'when', 'their', 'do', 'so', 'my', 'was', 'where', 'again', 'of', \"it's\", \"wouldn't\", 'and', 'wasn', 'can', 'under', \"that'll\", 'before', 'own', 'about', 'doing', 'than', 'wouldn', 'ain', 'yourself', 'had', 'it', 'up', 'whom', 'how', 'both', 'too', 'y', 'shouldn', 'she', 'ours', 'out', 'having', 'other', 'now', \"doesn't\", 't', 'each', 'yours', 'few', 'through', \"shouldn't\", \"won't\", 'mustn', 'o', 'further', 'off', 'above', 'll', 'isn', \"she's\", 'not', \"couldn't\", 'who', 'has', \"hasn't\", 'd', 's', 'aren', \"you've\", 'then', 'our', 'why', 'the', 'that', 'should', 'his', 'itself', 'haven', \"hadn't\", 'being', 'be', 'is', 'your', 'will', 'am', 've', 'hasn', 'while', 'during', 'with', 'on', 'but', 'her', 'we', 'm', 'or', 'no', 'there', 'in', 'some', 'for', 'below', 'doesn', \"don't\", \"shan't\", 'which', 'hadn', 'at', 'them', 'against', 'most', 'into', 'down', 'needn', 'theirs', \"isn't\", 'such', 'if', 'ourselves', 'any', 'as', 'did', 'what', 're', 'here', \"didn't\", 'won', \"you're\", 'himself', 'me', 'themselves', 'this', 'from', 'nor', 'shan', 'were', \"you'll\", 'because', \"should've\", 'they', 'didn', 'these', 'couldn', 'mightn', 'over', 'have', \"mustn't\", 'only', 'very', 'he', \"mightn't\", 'all', \"wasn't\", 'its', 'an', 'don', 'those', 'ma', 'are', 'herself', \"needn't\", 'by', 'you', 'more', \"you'd\", 'just', \"weren't\", 'to', \"aren't\", 'once', 'hers', 'does', 'until', 'i'}\n"
          ]
        },
        {
          "output_type": "stream",
          "name": "stderr",
          "text": [
            "[nltk_data] Downloading package stopwords to /root/nltk_data...\n",
            "[nltk_data]   Unzipping corpora/stopwords.zip.\n"
          ]
        }
      ],
      "source": [
        "import nltk\n",
        "nltk.download('stopwords')\n",
        "from nltk.corpus import stopwords\n",
        "sw = set(stopwords.words(\"english\"))\n",
        "print(sw)\n",
        "# all are important words for sentiment analysis @@"
      ]
    },
    {
      "cell_type": "code",
      "execution_count": 7,
      "metadata": {
        "colab": {
          "base_uri": "https://localhost:8080/"
        },
        "id": "KmvRdr2Td7iG",
        "outputId": "5c1658d7-0ae1-4682-ec59-6c0ec6bbe0aa"
      },
      "outputs": [
        {
          "output_type": "stream",
          "name": "stdout",
          "text": [
            "0.053517964071856286 0.05673758865248227\n",
            "0.10020590253946465 0.08823529411764706\n",
            "0.10055304172951232 0.13679245283018868\n",
            "0.12364643666582725 0.10085836909871244\n",
            "0.1776008090001264 0.17256637168141592\n"
          ]
        }
      ],
      "source": [
        "pattern = 'best'\n",
        "for i in range(1,6):\n",
        "    print(sum((x_train.apply(lambda x: pattern in x) * (y_train == i)).astype('int32'))/y_train.value_counts()[i],\n",
        "          sum((x_valid.apply(lambda x: pattern in x) * (y_valid == i)).astype('int32'))/y_valid.value_counts()[i])"
      ]
    },
    {
      "cell_type": "markdown",
      "metadata": {
        "id": "BI7AJuc3xe6d"
      },
      "source": [
        "#### tSNE plot"
      ]
    },
    {
      "cell_type": "code",
      "execution_count": 8,
      "metadata": {
        "id": "0B1wzDbvqHPf"
      },
      "outputs": [],
      "source": [
        "from sklearn.manifold import TSNE\n",
        "import seaborn as sns\n",
        "import matplotlib.pyplot as plt"
      ]
    },
    {
      "cell_type": "code",
      "execution_count": 9,
      "metadata": {
        "id": "JOw9unthoVK9"
      },
      "outputs": [],
      "source": [
        "def plot_scatter(tsne_data, colors):\n",
        "    # choose a color palette with seaborn.\n",
        "    tsne_data = np.vstack((tsne_data.T, colors)).T\n",
        "    tsne_df = pd.DataFrame(data = tsne_data,\n",
        "         columns =(\"Dim_1\", \"Dim_2\", \"label\"))\n",
        "      \n",
        "    # Ploting the result of tsne\n",
        "    sns.FacetGrid(tsne_df, hue =\"label\", size = 6).map(\n",
        "           plt.scatter, 'Dim_1', 'Dim_2').add_legend()\n",
        "      \n",
        "    plt.show()"
      ]
    },
    {
      "cell_type": "code",
      "execution_count": 10,
      "metadata": {
        "colab": {
          "base_uri": "https://localhost:8080/",
          "height": 718
        },
        "id": "63CZANGYoCYg",
        "outputId": "573db7ba-a44d-4ba4-b2c0-104cfa3a411f"
      },
      "outputs": [
        {
          "output_type": "stream",
          "name": "stderr",
          "text": [
            "/usr/local/lib/python3.7/dist-packages/sklearn/manifold/_t_sne.py:783: FutureWarning: The default initialization in TSNE will change from 'random' to 'pca' in 1.2.\n",
            "  FutureWarning,\n",
            "/usr/local/lib/python3.7/dist-packages/sklearn/manifold/_t_sne.py:793: FutureWarning: The default learning rate in TSNE will change from 200.0 to 'auto' in 1.2.\n",
            "  FutureWarning,\n"
          ]
        },
        {
          "output_type": "stream",
          "name": "stdout",
          "text": [
            "x_tsne [[ 5.6048126 -4.964953 ]\n",
            " [-1.8925803  0.7042772]\n",
            " [-9.533467  -6.68443  ]\n",
            " ...\n",
            " [-2.460132   2.03553  ]\n",
            " [-4.2058315 -6.8359666]\n",
            " [-2.2081647  6.142149 ]]\n",
            "y [5 4 4 ... 5 5 5]\n"
          ]
        },
        {
          "output_type": "stream",
          "name": "stderr",
          "text": [
            "/usr/local/lib/python3.7/dist-packages/seaborn/axisgrid.py:337: UserWarning: The `size` parameter has been renamed to `height`; please update your code.\n",
            "  warnings.warn(msg, UserWarning)\n"
          ]
        },
        {
          "output_type": "display_data",
          "data": {
            "text/plain": [
              "<Figure size 483.875x432 with 1 Axes>"
            ],
            "image/png": "[encoded data removed]"
          },
          "metadata": {
            "needs_background": "light"
          }
        }
      ],
      "source": [
        "tfidf = TfidfVectorizer(stop_words=stopwords.words('english'))\n",
        "tfidf.fit(x_train)\n",
        "x_embeds = tfidf.transform(x_valid)\n",
        "\n",
        "x_tsne = TSNE().fit_transform(x_embeds)\n",
        "y = np.array(y_valid)\n",
        "print('x_tsne',x_tsne)\n",
        "print('y',y)\n",
        "\n",
        "plot_scatter(x_tsne, y)\n",
        "# too many data of high dimension -> tSNE plot is not meaningful"
      ]
    },
    {
      "cell_type": "code",
      "execution_count": 11,
      "metadata": {
        "colab": {
          "base_uri": "https://localhost:8080/",
          "height": 571
        },
        "id": "YT39wmzwt5fe",
        "outputId": "718b64ba-de8c-4c08-ef0c-db13643a2d7b"
      },
      "outputs": [
        {
          "output_type": "stream",
          "name": "stderr",
          "text": [
            "/usr/local/lib/python3.7/dist-packages/sklearn/manifold/_t_sne.py:783: FutureWarning: The default initialization in TSNE will change from 'random' to 'pca' in 1.2.\n",
            "  FutureWarning,\n",
            "/usr/local/lib/python3.7/dist-packages/sklearn/manifold/_t_sne.py:793: FutureWarning: The default learning rate in TSNE will change from 200.0 to 'auto' in 1.2.\n",
            "  FutureWarning,\n",
            "/usr/local/lib/python3.7/dist-packages/seaborn/axisgrid.py:337: UserWarning: The `size` parameter has been renamed to `height`; please update your code.\n",
            "  warnings.warn(msg, UserWarning)\n"
          ]
        },
        {
          "output_type": "display_data",
          "data": {
            "text/plain": [
              "<Figure size 483.875x432 with 1 Axes>"
            ],
            "image/png": "[encoded data removed]"
          },
          "metadata": {
            "needs_background": "light"
          }
        }
      ],
      "source": [
        "# use smaller set of data\n",
        "aggre_df = pd.DataFrame({'text':[], 'stars':[]})\n",
        "num_per_class = 100\n",
        "\n",
        "for s in range(1,6):\n",
        "    temp = train_df[train_df['stars']==s]\n",
        "    aggre_df = aggre_df.append(temp[:num_per_class])\n",
        "\n",
        "x_embeds = tfidf.transform(aggre_df['text'])\n",
        "\n",
        "x_tsne = TSNE().fit_transform(x_embeds)\n",
        "y = np.array(aggre_df['stars'])\n",
        "\n",
        "plot_scatter(x_tsne, y)\n",
        "# still very chaostic"
      ]
    },
    {
      "cell_type": "markdown",
      "metadata": {
        "id": "uXoCXIs4xU3A"
      },
      "source": [
        "#### Wordcloud to observe word frequency"
      ]
    },
    {
      "cell_type": "code",
      "execution_count": 15,
      "metadata": {
        "id": "_W74vAFmXXro",
        "colab": {
          "base_uri": "https://localhost:8080/"
        },
        "outputId": "6c48941e-b640-4676-8dee-74c6e64a4abf"
      },
      "outputs": [
        {
          "output_type": "stream",
          "name": "stdout",
          "text": [
            "---------- voting 1 ----------\n",
            " 5395\n",
            "one 1151\n",
            "told 1015\n",
            "will 1003\n",
            "food 978\n",
            "even 969\n",
            "back 969\n",
            "time 947\n",
            "place 945\n",
            "us 919\n",
            "never 914\n",
            "go 914\n",
            "said 884\n",
            "service 878\n",
            "got 773\n",
            "asked 679\n",
            "went 646\n",
            "came 643\n",
            "good 572\n",
            "minutes 542\n",
            "called 542\n",
            "people 537\n",
            "going 533\n",
            "ordered 524\n",
            "know 521\n",
            "another 520\n",
            "---------- voting 2 ----------\n",
            " 3816\n",
            "food 811\n",
            "one 628\n",
            "place 576\n",
            "good 549\n",
            "time 490\n",
            "really 445\n",
            "service 440\n",
            "got 418\n",
            "even 410\n",
            "ordered 408\n",
            "came 406\n",
            "go 400\n",
            "back 375\n",
            "- 361\n",
            "us 327\n",
            "will 319\n",
            "went 308\n",
            "order 301\n",
            "much 284\n",
            "two 276\n",
            "first 273\n",
            "little 265\n",
            "said 264\n",
            "---------- voting 3 ----------\n",
            " 4015\n",
            "food 1050\n",
            "good 970\n",
            "place 869\n",
            "one 682\n",
            "really 671\n",
            "service 547\n",
            "time 539\n",
            "go 501\n",
            "got 501\n",
            "pretty 479\n",
            "ordered 463\n",
            "back 445\n",
            "great 436\n",
            "- 425\n",
            "will 419\n",
            "little 417\n",
            "nice 381\n",
            "much 379\n",
            "came 377\n",
            "bit 344\n",
            "us 329\n",
            "chicken 321\n",
            "---------- voting 4 ----------\n",
            " 7359\n",
            "good 1858\n",
            "place 1772\n",
            "great 1645\n",
            "food 1592\n",
            "really 1286\n",
            "one 1188\n",
            "- 896\n",
            "go 894\n",
            "nice 893\n",
            "little 887\n",
            "time 865\n",
            "will 862\n",
            "service 851\n",
            "got 726\n",
            "back 726\n",
            "always 690\n",
            "definitely 683\n",
            "ordered 679\n",
            "pretty 653\n",
            "love 622\n",
            "chicken 614\n",
            "come 583\n",
            "try 574\n",
            "came 559\n",
            "bit 546\n",
            "much 545\n",
            "best 543\n",
            "order 540\n",
            "even 539\n",
            "---------- voting 5 ----------\n",
            " 10300\n",
            "great 3682\n",
            "place 2672\n",
            "food 2170\n",
            "good 2013\n",
            "will 1987\n",
            "best 1774\n",
            "time 1714\n",
            "one 1674\n",
            "service 1614\n",
            "love 1605\n",
            "go 1593\n",
            "always 1537\n",
            "really 1537\n",
            "back 1445\n",
            "definitely 1285\n",
            "got 1198\n",
            "even 1152\n",
            "recommend 1081\n",
            "us 1044\n",
            "staff 1024\n",
            "friendly 987\n",
            "- 985\n",
            "nice 965\n",
            "first 946\n",
            "made 937\n",
            "new 907\n",
            "amazing 875\n"
          ]
        }
      ],
      "source": [
        "from collections import Counter\n",
        "from wordcloud.wordcloud import WordCloud, STOPWORDS\n",
        "\n",
        "# let see which words exist the most in each 'voting' class\n",
        "most_common_words = [[] for i in range(5)]\n",
        "\n",
        "for v in range(1,6):\n",
        "    corpus = ' '.join(train_df['text'][train_df['stars'] == v].to_list())\n",
        "    bow = corpus.lower().split(' ')\n",
        "    count_list = Counter(bow)\n",
        "    print('-'*10, 'voting {}'.format(v), '-'*10)\n",
        "    for w, c in count_list.most_common(100):\n",
        "        if w not in STOPWORDS: # stopwords.words('english'):\n",
        "            print(w, c)\n",
        "            most_common_words[v-1].append(w)"
      ]
    },
    {
      "cell_type": "code",
      "execution_count": 16,
      "metadata": {
        "id": "nMjNqD3qjexz",
        "colab": {
          "base_uri": "https://localhost:8080/"
        },
        "outputId": "8b48597d-3baf-401c-8f06-68d2fb5d23af"
      },
      "outputs": [
        {
          "output_type": "stream",
          "name": "stdout",
          "text": [
            " 5\n",
            "one 5\n",
            "will 5\n",
            "food 5\n",
            "back 5\n",
            "time 5\n",
            "place 5\n",
            "go 5\n",
            "service 5\n",
            "got 5\n",
            "good 5\n",
            "even 4\n",
            "us 4\n",
            "came 4\n",
            "ordered 4\n",
            "really 4\n",
            "- 4\n",
            "much 3\n",
            "little 3\n",
            "great 3\n",
            "nice 3\n",
            "said 2\n",
            "went 2\n",
            "order 2\n",
            "first 2\n",
            "pretty 2\n",
            "bit 2\n",
            "chicken 2\n",
            "always 2\n",
            "definitely 2\n",
            "love 2\n",
            "best 2\n",
            "told 1\n",
            "never 1\n",
            "asked 1\n",
            "minutes 1\n",
            "called 1\n",
            "people 1\n",
            "going 1\n",
            "know 1\n",
            "another 1\n",
            "two 1\n",
            "come 1\n",
            "try 1\n",
            "recommend 1\n",
            "staff 1\n",
            "friendly 1\n",
            "made 1\n",
            "new 1\n",
            "amazing 1\n"
          ]
        }
      ],
      "source": [
        "bow = []\n",
        "for i in range(5):\n",
        "    bow += most_common_words[i]\n",
        "count_list = Counter(bow)\n",
        "for w,c in count_list.most_common():\n",
        "    print(w, c)"
      ]
    },
    {
      "cell_type": "code",
      "execution_count": 17,
      "metadata": {
        "id": "AsozydlzhaZo",
        "colab": {
          "base_uri": "https://localhost:8080/"
        },
        "outputId": "c78057ef-4059-4c2c-bfe9-0ea884a09e3e"
      },
      "outputs": [
        {
          "output_type": "stream",
          "name": "stdout",
          "text": [
            "0 1\n",
            "set 1 minus set 2 {'going', 'minutes', 'people', 'asked', 'another', 'told', 'called', 'know', 'never'}\n",
            "set 2 minus set 1 {'-', 'two', 'much', 'first', 'order', 'little', 'really'}\n",
            "0 2\n",
            "set 1 minus set 3 {'going', 'minutes', 'know', 'people', 'went', 'even', 'asked', 'another', 'told', 'said', 'called', 'never'}\n",
            "set 3 minus set 1 {'pretty', '-', 'bit', 'chicken', 'much', 'little', 'great', 'nice', 'really'}\n",
            "0 3\n",
            "set 1 minus set 4 {'going', 'minutes', 'know', 'people', 'went', 'asked', 'another', 'told', 'us', 'said', 'called', 'never'}\n",
            "set 4 minus set 1 {'-', 'pretty', 'bit', 'chicken', 'much', 'order', 'little', 'try', 'come', 'love', 'great', 'always', 'definitely', 'best', 'nice', 'really'}\n",
            "0 4\n",
            "set 1 minus set 5 {'going', 'minutes', 'know', 'people', 'went', 'asked', 'another', 'told', 'said', 'called', 'ordered', 'came', 'never'}\n",
            "set 5 minus set 1 {'-', 'made', 'recommend', 'friendly', 'love', 'staff', 'new', 'amazing', 'great', 'first', 'always', 'definitely', 'best', 'nice', 'really'}\n",
            "1 2\n",
            "set 2 minus set 3 {'two', 'first', 'order', 'said', 'went', 'even'}\n",
            "set 3 minus set 2 {'bit', 'pretty', 'chicken', 'great', 'nice'}\n",
            "1 3\n",
            "set 2 minus set 4 {'us', 'two', 'first', 'said', 'went'}\n",
            "set 4 minus set 2 {'bit', 'pretty', 'chicken', 'try', 'come', 'love', 'great', 'always', 'definitely', 'best', 'nice'}\n",
            "1 4\n",
            "set 2 minus set 5 {'much', 'order', 'little', 'went', 'two', 'said', 'ordered', 'came'}\n",
            "set 5 minus set 2 {'made', 'nice', 'recommend', 'friendly', 'staff', 'love', 'new', 'great', 'always', 'definitely', 'best', 'amazing'}\n",
            "2 3\n",
            "set 3 minus set 4 {'us'}\n",
            "set 4 minus set 3 {'order', 'try', 'even', 'come', 'love', 'always', 'definitely', 'best'}\n",
            "2 4\n",
            "set 3 minus set 5 {'bit', 'pretty', 'chicken', 'much', 'ordered', 'little', 'came'}\n",
            "set 5 minus set 3 {'made', 'recommend', 'friendly', 'even', 'staff', 'love', 'new', 'first', 'always', 'definitely', 'best', 'amazing'}\n",
            "3 4\n",
            "set 4 minus set 5 {'bit', 'pretty', 'chicken', 'much', 'order', 'little', 'try', 'come', 'ordered', 'came'}\n",
            "set 5 minus set 4 {'made', 'recommend', 'friendly', 'staff', 'us', 'new', 'first', 'amazing'}\n"
          ]
        }
      ],
      "source": [
        "for i in range(5):\n",
        "    for j in range(i+1,5):\n",
        "        print(i,j)\n",
        "        mcw_i = most_common_words[i]\n",
        "        mcw_j = most_common_words[j]\n",
        "        print('set {} minus set {}'.format(i+1,j+1), set(mcw_i).difference(mcw_j))\n",
        "        print('set {} minus set {}'.format(j+1,i+1), set(mcw_j).difference(mcw_i))"
      ]
    },
    {
      "cell_type": "markdown",
      "source": [
        "### (2) Training and validating ⭐\n",
        "The following example shows you how to train your model using the train set, and evaluate on the validation set.  \n",
        "As an example, we only use the text data for training. Feel free to use other columns in your implementation.  \n",
        "\n",
        "The model performance on the validation set can be roughly regarded as your models final performance, so we can use it to search for optimal hyper-parameters."
      ],
      "metadata": {
        "id": "Z6E09YmMdQmg"
      }
    },
    {
      "cell_type": "markdown",
      "metadata": {
        "id": "gal_hQlenBhs"
      },
      "source": [
        "#### Results table ⭐\n",
        "\n",
        "\n",
        "Validation Performance | Macro-F1|Precision\t|Recall|Accuracy\n",
        "-----------------------|---------|----------|------|--------\n",
        "Weak baseline\t| 0.4270|0.5420 |0.4325|0.6135\n",
        "Strong baseline | 0.5370|\n",
        "\n",
        "\n",
        "Our model | Marco-F1 | Note\n",
        "----------|----------|--------\n",
        "SGDClassifier(loss='log', alpha=1) | 0.1245 | all predictions are 5\n",
        "MultinomialNB() | 0.15x | most of predictions are 5\n",
        "MultinomialNB(alpha=0.001) | 0.3966 | not good\n",
        "-- LogisticR, fixed plain Tfidf() | | NOTE: weight scaling DOES affect model performance\n",
        "(C=1, class_weight=None) | 0.5279 | a bit worse than strong baseline\n",
        "(C=1, class_weight=[3,6,4,2,1]) | 0.54x |\n",
        "(C=2, class_weight=None) | 0.5362 | better\n",
        "(C=2, class_weight='balanced') | 0.542 | better\n",
        "(C=2, class_weight=[3,6,4,2,1]) | 0.5460 |\n",
        "(C=2, class_weight=[3,10,10,2,1]) | 0.526 |\n",
        "(C=3, class_weight=[3,6,4,2,1]) | 0.5465 |\n",
        "-- Tfidf, fixed LR(C=3,cw=[3,6,4,2,1]) \n",
        "ngram=(1,2) | 0.5563 | better\n",
        "ngram=(1,2), max_features=10000, binary=False | 0.5511 | DON'T use binarize vector! (actually use low_case=False)\n",
        "ngram=(1,2), max_features=10000, binary=True | 0.5247 | use low_case=False\n",
        "ngram=(1,2), max_features=30000, low_case=False | 0.5602 \n",
        "ngram=(1,4) (yield 3m500k tokens @@) | 0.5730 | OMG!, but cost 6 mins instead of 15s, and acc is roughly the same at 0.65x\n",
        "ngram=(1,4), lowercase=False | 0.5533 | @@ 7m20s to train, acc 0.6465\n",
        "ngram=(1,4), max_features=30000, low_case=False | 0.5627 | ->> **best** + cheap\n",
        " + max_df=0.9 (min_df=5) | 0.55xx | accuracy also decreases to 0.63x\n",
        " + sublinear_tf=True, smooth_idf=True | 0.56x | acc=0.643, not improve\n",
        "ngram=(1,4), max_features=30000 | 0.5512 | not recommended to use low_case=True as default \n",
        "ngram=(1,4), max_features=30000, low_case=False, stopw='english' | 0.5369 | accuracy also decreases -> don't use stop words @@ seem counter-intuitive!\n",
        "ngram=(1,4), max_features=60000, low_case=False | 0.5489\n",
        "ngram=(1,4), max_features=60000 | 0.5617 | wait, what?\n",
        "-- MLPClassifier(hs=(100,)) | -- |fixed **best** Tfidf(ngram=(1,4), max_features=30000, low_case=False)\n",
        "activation='relu', alpha=1e-2, lr=\"invscaling\", 30 iters | 0.5647 | at iter 4\n",
        "activation='relu', alpha=1e-2, lr=\"constant\"/\"adaptive\", 10 iters | 0.5647 | at iter 4, no difference when using different lr\n",
        "activation='relu', alpha=1e-2, lr_init = 0.0001 |  | learning slower vs default lr_init=0.001\n",
        "activation='relu', alpha=1e-2, lr_init = 0.01 | 0.55x | at iter 1, then decline -> use default\n",
        "activation='relu', alpha=1e-3 | 0.5585 | no diff, seem that param of MLP is not big\n",
        "activation='relu', alpha=1e-1 | 0.5656 | at iter 9, then stable at 0.55x\n",
        "activation='logistic', alpha=1e-1 | 0.264 | at iter 20/20, slowly better\n",
        "activation='tanh', alpha=1e-1 | 0.5607 | at iter 8/20, slowly better\n",
        "-- How many epochs to fit LR\n",
        "200 | 0.5558\n",
        "100 | 0.5627\n",
        "50 | 0.5573\n",
        "-- Ensemble\n",
        "135 ([3,1,1]), 234 ([3,2,1]) | 0.5677\n",
        "\n",
        "\n",
        "'LogisticRegression' object has no attribute 'partial_fit'\n",
        "\n",
        "Using np.array is slower to fit LR than sparse matrix (output of tfidf)\n",
        "\n",
        "Models will be evaluated by [Macro F1](https://towardsdatascience.com/micro-macro-weighted-averages-of-f1-score-clearly-explained-b603420b292f#989c)(unweighted avg of F1 score per class) on test data"
      ]
    },
    {
      "cell_type": "code",
      "execution_count": 18,
      "metadata": {
        "colab": {
          "base_uri": "https://localhost:8080/"
        },
        "id": "EHvCjZh7aWdS",
        "outputId": "08724630-22c0-45ec-ed24-235724d747f1"
      },
      "outputs": [
        {
          "output_type": "stream",
          "name": "stderr",
          "text": [
            "[nltk_data] Downloading package stopwords to /root/nltk_data...\n",
            "[nltk_data]   Package stopwords is already up-to-date!\n"
          ]
        }
      ],
      "source": [
        "import string, nltk\n",
        "from nltk.corpus import stopwords\n",
        "nltk.download('stopwords')\n",
        "\n",
        "def text_clean(message):\n",
        "    nopunc = [i for i in message if i not in string.punctuation]\n",
        "    nn = \"\".join(nopunc)\n",
        "    nn = nn.lower().split()\n",
        "    nostop = [words for words in nn if words not in stopwords.words('english')]\n",
        "    return(nostop)"
      ]
    },
    {
      "cell_type": "code",
      "execution_count": 19,
      "metadata": {
        "id": "jViC2HFFNbaj"
      },
      "outputs": [],
      "source": [
        "## display loss during training\n",
        "# https://stackoverflow.com/questions/44443479/python-sklearn-show-loss-values-during-training\n",
        "\n",
        "import sys\n",
        "import io\n",
        "import matplotlib.pyplot as plt\n",
        "\n",
        "class DisplayLossCurve(object):\n",
        "  def __init__(self, print_loss=False):\n",
        "    self.print_loss = print_loss\n",
        "\n",
        "  \"\"\"Make sure the model verbose is set to 1\"\"\"\n",
        "  def __enter__(self):\n",
        "    self.old_stdout = sys.stdout\n",
        "    sys.stdout = self.mystdout = io.StringIO()\n",
        "  \n",
        "  def __exit__(self, *args, **kwargs):\n",
        "    sys.stdout = self.old_stdout\n",
        "    loss_history = self.mystdout.getvalue()\n",
        "    loss_list = []\n",
        "    for line in loss_history.split('\\n'):\n",
        "      if(len(line.split(\"loss: \")) == 1):\n",
        "        continue\n",
        "      loss_list.append(float(line.split(\"loss: \")[-1]))\n",
        "    plt.figure()\n",
        "    plt.plot(np.arange(len(loss_list)), loss_list)\n",
        "    plt.xlabel(\"Epoch\")\n",
        "    plt.ylabel(\"Loss\")\n",
        "\n",
        "    if self.print_loss:\n",
        "      print(\"=============== Loss Array ===============\")\n",
        "      print(np.array(loss_list))\n",
        "      \n",
        "    return True"
      ]
    },
    {
      "cell_type": "markdown",
      "metadata": {
        "id": "UR67rdbgnBhu"
      },
      "source": [
        " You can use the valid data to choose the hyperparameters.\n",
        "As an example, you can decide which value of C (1 or 100) is better by evaluating on the valid data."
      ]
    },
    {
      "cell_type": "markdown",
      "metadata": {
        "id": "RbkAM183X2mh"
      },
      "source": [
        "#### Get Tfidf embedding"
      ]
    },
    {
      "cell_type": "code",
      "execution_count": 20,
      "metadata": {
        "id": "q0p-vZFNzWYn"
      },
      "outputs": [],
      "source": [
        "tfidf = TfidfVectorizer(ngram_range=(1,4), #max_df=0.9, min_df=5,\n",
        "                        max_features=30000,\n",
        "                        lowercase=False)\n",
        "\n",
        "x_train_embeds = tfidf.fit_transform(x_train)\n",
        "x_valid_embeds = tfidf.transform(x_valid)"
      ]
    },
    {
      "cell_type": "code",
      "source": [
        "x_valid_embeds.shape"
      ],
      "metadata": {
        "colab": {
          "base_uri": "https://localhost:8080/"
        },
        "id": "pp1_7zIBdcwi",
        "outputId": "379a703b-68d7-4175-e272-2abeb11aa523"
      },
      "execution_count": 21,
      "outputs": [
        {
          "output_type": "execute_result",
          "data": {
            "text/plain": [
              "(2000, 30000)"
            ]
          },
          "metadata": {},
          "execution_count": 21
        }
      ]
    },
    {
      "cell_type": "markdown",
      "metadata": {
        "id": "6ls5XS5vZuU8"
      },
      "source": [
        "#### MLP"
      ]
    },
    {
      "cell_type": "code",
      "execution_count": 22,
      "metadata": {
        "colab": {
          "base_uri": "https://localhost:8080/"
        },
        "id": "EwyE8xS6ZvvS",
        "outputId": "7c5cea31-428d-417b-d5b0-8548cfa8aa6a"
      },
      "outputs": [
        {
          "output_type": "stream",
          "name": "stdout",
          "text": [
            "After training 1 iterations\n",
            "0.30355209169373293\n",
            "After training 2 iterations\n",
            "0.41608223342162487\n",
            "After training 3 iterations\n",
            "0.4834339583467459\n",
            "After training 4 iterations\n",
            "0.5196737640087669\n",
            "After training 5 iterations\n",
            "0.544806287092283\n",
            "After training 6 iterations\n",
            "0.5532375722630112\n",
            "After training 7 iterations\n",
            "0.554382874639308\n",
            "After training 8 iterations\n",
            "0.5571202719848026\n",
            "After training 9 iterations\n",
            "0.5642986482108558\n",
            "After training 10 iterations\n",
            "0.5656606183807659\n",
            "After training 11 iterations\n",
            "0.5644133156687069\n",
            "After training 12 iterations\n",
            "0.5602356080758004\n",
            "After training 13 iterations\n",
            "0.5618450034608076\n",
            "After training 14 iterations\n",
            "0.5633011107516204\n"
          ]
        }
      ],
      "source": [
        "from sklearn.neural_network import MLPClassifier\n",
        "\n",
        "mlp1 = MLPClassifier(activation='relu',\n",
        "                     alpha=1e-1,\n",
        "                     random_state=44,\n",
        "                     max_iter=100)\n",
        "\n",
        "for i in range(1,15):\n",
        "    mlp1.partial_fit(x_train_embeds, y_train, [1,2,3,4,5])\n",
        "\n",
        "    if i%1 == 0:\n",
        "        # validate on the validation set\n",
        "        y_pred = mlp1.predict(x_valid_embeds)\n",
        "        print('After training {} iterations'.format(i))\n",
        "        print(f1_score(y_valid, y_pred, average='macro'))"
      ]
    },
    {
      "cell_type": "markdown",
      "metadata": {
        "id": "CGTkg6XnOGKm"
      },
      "source": [
        "#### Model 2"
      ]
    },
    {
      "cell_type": "code",
      "execution_count": 23,
      "metadata": {
        "colab": {
          "base_uri": "https://localhost:8080/"
        },
        "id": "wvzCqJ6XWcpw",
        "outputId": "fcf84cc8-e596-4a56-e9eb-fc737e9b8007"
      },
      "outputs": [
        {
          "output_type": "stream",
          "name": "stdout",
          "text": [
            "              precision    recall  f1-score   support\n",
            "\n",
            "           1     0.7061    0.7837    0.7429       282\n",
            "           2     0.3380    0.3529    0.3453       136\n",
            "           3     0.4155    0.4057    0.4105       212\n",
            "           4     0.5139    0.5536    0.5331       466\n",
            "           5     0.8134    0.7522    0.7816       904\n",
            "\n",
            "    accuracy                         0.6465      2000\n",
            "   macro avg     0.5574    0.5696    0.5627      2000\n",
            "weighted avg     0.6540    0.6465    0.6492      2000\n",
            "\n",
            "\n",
            "\n",
            "\n",
            "[[221  33  16   6   6]\n",
            " [ 43  48  37   7   1]\n",
            " [ 19  36  86  56  15]\n",
            " [ 13  16  45 258 134]\n",
            " [ 17   9  23 175 680]]\n",
            "accuracy 0.6465\n"
          ]
        },
        {
          "output_type": "stream",
          "name": "stderr",
          "text": [
            "/usr/local/lib/python3.7/dist-packages/sklearn/linear_model/_logistic.py:818: ConvergenceWarning: lbfgs failed to converge (status=1):\n",
            "STOP: TOTAL NO. of ITERATIONS REACHED LIMIT.\n",
            "\n",
            "Increase the number of iterations (max_iter) or scale the data as shown in:\n",
            "    https://scikit-learn.org/stable/modules/preprocessing.html\n",
            "Please also refer to the documentation for alternative solver options:\n",
            "    https://scikit-learn.org/stable/modules/linear_model.html#logistic-regression\n",
            "  extra_warning_msg=_LOGISTIC_SOLVER_CONVERGENCE_MSG,\n"
          ]
        }
      ],
      "source": [
        "lr2 = LogisticRegression(C=3,\n",
        "                         class_weight={i+1: w for i,w in enumerate([3,6,4,2,1])}\n",
        "                         )\n",
        "\n",
        "# train the second model\n",
        "lr2.fit(x_train_embeds, y_train)\n",
        "\n",
        "# validate on the validation set\n",
        "y_pred = lr2.predict(x_valid_embeds)\n",
        "print(classification_report(y_valid, y_pred, digits=4))\n",
        "print(\"\\n\\n\")\n",
        "print(confusion_matrix(y_valid, y_pred))\n",
        "print('accuracy', np.mean(y_valid == y_pred))"
      ]
    },
    {
      "cell_type": "code",
      "execution_count": 24,
      "metadata": {
        "colab": {
          "base_uri": "https://localhost:8080/"
        },
        "id": "ElLetrAtgh1n",
        "outputId": "31945ba7-833e-410c-b66e-09d201f91b99"
      },
      "outputs": [
        {
          "output_type": "stream",
          "name": "stdout",
          "text": [
            "              precision    recall  f1-score   support\n",
            "\n",
            "           1     0.6939    0.8121    0.7484       282\n",
            "           2     0.3475    0.3015    0.3228       136\n",
            "           3     0.4144    0.3538    0.3817       212\n",
            "           4     0.5140    0.4742    0.4933       466\n",
            "           5     0.7843    0.8164    0.8000       904\n",
            "\n",
            "    accuracy                         0.6520      2000\n",
            "   macro avg     0.5508    0.5516    0.5492      2000\n",
            "weighted avg     0.6396    0.6520    0.6445      2000\n",
            "\n",
            "\n",
            "\n",
            "\n",
            "[[229  26  13   6   8]\n",
            " [ 49  41  38   7   1]\n",
            " [ 22  31  75  67  17]\n",
            " [ 14  15  39 221 177]\n",
            " [ 16   5  16 129 738]]\n",
            "accuracy 0.652\n"
          ]
        }
      ],
      "source": [
        "lr2 = LogisticRegression(C=3,\n",
        "                         class_weight={i+1: w for i,w in enumerate([3,6,4,2,1])},\n",
        "                         solver='liblinear', random_state=1\n",
        "                         )\n",
        "\n",
        "# train the second model\n",
        "lr2.fit(x_train_embeds, y_train)\n",
        "\n",
        "# validate on the validation set\n",
        "y_pred = lr2.predict(x_valid_embeds)\n",
        "print(classification_report(y_valid, y_pred, digits=4))\n",
        "print(\"\\n\\n\")\n",
        "print(confusion_matrix(y_valid, y_pred))\n",
        "print('accuracy', np.mean(y_valid == y_pred))"
      ]
    },
    {
      "cell_type": "markdown",
      "metadata": {
        "id": "kY0bOmFXm0t_"
      },
      "source": [
        "#### Experiment with various models \n",
        "\n",
        "[Naive Bayes](https://towardsdatascience.com/machine-learning-nlp-text-classification-using-scikit-learn-python-and-nltk-c52b92a7c73a)\n",
        "[Light GBM](https://stackoverflow.com/questions/50250432/python-lightgbm-text-classicication-with-tfidf)"
      ]
    },
    {
      "cell_type": "code",
      "execution_count": 26,
      "metadata": {
        "colab": {
          "base_uri": "https://localhost:8080/"
        },
        "id": "ayd-grDFL_ZH",
        "outputId": "40048e6c-764f-48f0-d56c-865ccfa2482e"
      },
      "outputs": [
        {
          "output_type": "stream",
          "name": "stdout",
          "text": [
            "              precision    recall  f1-score   support\n",
            "\n",
            "           1     0.4448    0.5000    0.4708       282\n",
            "           2     0.0620    0.7647    0.1147       136\n",
            "           3     1.0000    0.0094    0.0187       212\n",
            "           4     1.0000    0.0021    0.0043       466\n",
            "           5     0.0000    0.0000    0.0000       904\n",
            "\n",
            "    accuracy                         0.1240      2000\n",
            "   macro avg     0.5014    0.2553    0.1217      2000\n",
            "weighted avg     0.4059    0.1240    0.0772      2000\n",
            "\n",
            "\n",
            "\n",
            "\n",
            "[[141 141   0   0   0]\n",
            " [ 32 104   0   0   0]\n",
            " [ 27 182   2   0   1]\n",
            " [ 42 422   0   1   1]\n",
            " [ 75 829   0   0   0]]\n"
          ]
        }
      ],
      "source": [
        "from sklearn.neighbors import KNeighborsClassifier\n",
        "neigh = KNeighborsClassifier(n_neighbors=5)\n",
        "\n",
        "neigh.fit(x_train_embeds, y_train)\n",
        "y_pred = neigh.predict(x_valid_embeds)\n",
        "\n",
        "print(classification_report(y_valid, y_pred, digits=4))\n",
        "print(\"\\n\\n\")\n",
        "print(confusion_matrix(y_valid, y_pred))"
      ]
    },
    {
      "cell_type": "code",
      "execution_count": 27,
      "metadata": {
        "colab": {
          "base_uri": "https://localhost:8080/"
        },
        "id": "vpqwR7PBF1WU",
        "outputId": "3119e46f-148a-4e71-93c1-924d0afe3609"
      },
      "outputs": [
        {
          "output_type": "stream",
          "name": "stdout",
          "text": [
            "              precision    recall  f1-score   support\n",
            "\n",
            "           1     0.6524    0.4858    0.5569       282\n",
            "           2     0.4000    0.0147    0.0284       136\n",
            "           3     0.6000    0.0283    0.0541       212\n",
            "           4     0.3113    0.0708    0.1154       466\n",
            "           5     0.5231    0.9657    0.6786       904\n",
            "\n",
            "    accuracy                         0.5255      2000\n",
            "   macro avg     0.4974    0.3131    0.2867      2000\n",
            "weighted avg     0.4918    0.5255    0.4198      2000\n",
            "\n",
            "\n",
            "\n",
            "\n",
            "[[137   1   1   5 138]\n",
            " [ 44   2   1  11  78]\n",
            " [ 11   1   6  39 155]\n",
            " [  6   0   2  33 425]\n",
            " [ 12   1   0  18 873]]\n"
          ]
        }
      ],
      "source": [
        "from sklearn.ensemble import RandomForestClassifier\n",
        "\n",
        "clf_RF = RandomForestClassifier(criterion='entropy', \n",
        "                                  class_weight={i+1: w for i,w in enumerate([3,6,4,2,1])},\n",
        "                                  )\n",
        "clf_RF.fit(x_train_embeds, y_train)\n",
        "y_pred = clf_RF.predict(x_valid_embeds)\n",
        "\n",
        "print(classification_report(y_valid, y_pred, digits=4))\n",
        "print(\"\\n\\n\")\n",
        "print(confusion_matrix(y_valid, y_pred))"
      ]
    },
    {
      "cell_type": "code",
      "execution_count": 28,
      "metadata": {
        "colab": {
          "base_uri": "https://localhost:8080/"
        },
        "id": "Gl7XlSix7_uJ",
        "outputId": "6e753092-afb3-4f86-dc10-7da22f6f402c"
      },
      "outputs": [
        {
          "output_type": "stream",
          "name": "stdout",
          "text": [
            "              precision    recall  f1-score   support\n",
            "\n",
            "           0     0.7006    0.4397    0.5403       282\n",
            "           1     1.0000    0.0221    0.0432       136\n",
            "           2     0.5000    0.0047    0.0093       212\n",
            "           3     0.4184    0.0880    0.1454       466\n",
            "           4     0.5116    0.9735    0.6707       904\n",
            "\n",
            "    accuracy                         0.5245      2000\n",
            "   macro avg     0.6261    0.3056    0.2818      2000\n",
            "weighted avg     0.5485    0.5245    0.4172      2000\n",
            "\n",
            "\n",
            "\n",
            "\n",
            "[[124   0   0   5 153]\n",
            " [ 25   3   1   8  99]\n",
            " [ 14   0   1  25 172]\n",
            " [  9   0   0  41 416]\n",
            " [  5   0   0  19 880]]\n"
          ]
        }
      ],
      "source": [
        "import lightgbm as lgbm\n",
        "from lightgbm import LGBMClassifier, LGBMRegressor\n",
        "\n",
        "clf_LGBM = lgbm.LGBMClassifier(objective='multiclass', verbose=-1, learning_rate=0.01, max_depth=20, \n",
        "                               num_leaves=32, n_estimators=120, max_bin=200, \n",
        "                            #    class_weight={i: w for i,w in enumerate([3,6,4,2,1])} # not use class weight -> 0.51\n",
        "                               )\n",
        "clf_LGBM.fit(x_train_embeds, y_train-1, verbose=True)\n",
        "y_pred = clf_LGBM.predict(x_valid_embeds)\n",
        "\n",
        "print(classification_report(y_valid-1, y_pred, digits=4))\n",
        "print(\"\\n\\n\")\n",
        "print(confusion_matrix(y_valid-1, y_pred))"
      ]
    },
    {
      "cell_type": "code",
      "execution_count": 29,
      "metadata": {
        "id": "dn3oe3Fdf9ey",
        "colab": {
          "base_uri": "https://localhost:8080/"
        },
        "outputId": "bd07b6ed-2e41-4ff5-fd64-cd71419ba2a0"
      },
      "outputs": [
        {
          "output_type": "stream",
          "name": "stdout",
          "text": [
            "              precision    recall  f1-score   support\n",
            "\n",
            "           1     0.6059    0.6596    0.6316       282\n",
            "           2     0.2545    0.1029    0.1466       136\n",
            "           3     0.2727    0.0991    0.1453       212\n",
            "           4     0.3569    0.3798    0.3680       466\n",
            "           5     0.6394    0.7533    0.6917       904\n",
            "\n",
            "    accuracy                         0.5395      2000\n",
            "   macro avg     0.4259    0.3989    0.3966      2000\n",
            "weighted avg     0.5038    0.5395    0.5128      2000\n",
            "\n",
            "\n",
            "\n",
            "\n",
            "[[186  25   9  24  38]\n",
            " [ 41  14  25  30  26]\n",
            " [ 34  11  21  86  60]\n",
            " [ 18   1  10 177 260]\n",
            " [ 28   4  12 179 681]]\n",
            "accuracy 0.5395\n"
          ]
        }
      ],
      "source": [
        "from sklearn.naive_bayes import MultinomialNB\n",
        "\n",
        "# build the second linear model with TFIDF feature\n",
        "tfidf = TfidfVectorizer()\n",
        "\n",
        "lr2 = MultinomialNB(alpha= 0.001)\n",
        "steps = [('tfidf', tfidf),('lr', lr2)]\n",
        "pipe2 = Pipeline(steps)\n",
        "\n",
        "# train the second model\n",
        "pipe2.fit(x_train, y_train)\n",
        "\n",
        "# validate on the validation set\n",
        "y_pred = pipe2.predict(x_valid)\n",
        "print(classification_report(y_valid, y_pred, digits=4))\n",
        "print(\"\\n\\n\")\n",
        "print(confusion_matrix(y_valid, y_pred))\n",
        "print('accuracy', np.mean(y_valid == y_pred))"
      ]
    },
    {
      "cell_type": "code",
      "source": [
        "pipe2"
      ],
      "metadata": {
        "colab": {
          "base_uri": "https://localhost:8080/"
        },
        "id": "hdKSP5ORiVBy",
        "outputId": "53ed1cb2-89f8-4fb3-92f9-7cce55ae4ebd"
      },
      "execution_count": 33,
      "outputs": [
        {
          "output_type": "execute_result",
          "data": {
            "text/plain": [
              "Pipeline(steps=[('tfidf', TfidfVectorizer()),\n",
              "                ('lr', MultinomialNB(alpha=0.001))])"
            ]
          },
          "metadata": {},
          "execution_count": 33
        }
      ]
    },
    {
      "cell_type": "code",
      "execution_count": 31,
      "metadata": {
        "colab": {
          "base_uri": "https://localhost:8080/"
        },
        "id": "GUhlC8W1wKPQ",
        "outputId": "ffcb1381-faa4-41ec-814e-13a0ecae6a2f"
      },
      "outputs": [
        {
          "output_type": "stream",
          "name": "stdout",
          "text": [
            "              precision    recall  f1-score   support\n",
            "\n",
            "           1       0.90      0.94      0.92      2672\n",
            "           2       0.97      0.81      0.88      1457\n",
            "           3       0.96      0.79      0.86      1989\n",
            "           4       0.86      0.82      0.84      3971\n",
            "           5       0.89      0.97      0.93      7911\n",
            "\n",
            "    accuracy                           0.90     18000\n",
            "   macro avg       0.92      0.87      0.89     18000\n",
            "weighted avg       0.90      0.90      0.90     18000\n",
            "\n",
            "\n",
            "\n",
            "\n",
            "[[2505   34   36   46   51]\n",
            " [ 107 1186   21   82   61]\n",
            " [  76    5 1564  173  171]\n",
            " [  55    1    5 3267  643]\n",
            " [  36    2    4  219 7650]]\n",
            "accuracy 0.8984444444444445\n"
          ]
        }
      ],
      "source": [
        "# on train set\n",
        "y_pred = pipe2.predict(x_train)\n",
        "print(classification_report(y_train, y_pred))\n",
        "print(\"\\n\\n\")\n",
        "print(confusion_matrix(y_train, y_pred))\n",
        "print('accuracy', np.mean(y_train == y_pred))"
      ]
    },
    {
      "cell_type": "markdown",
      "metadata": {
        "id": "kCPKsRqHFaWE"
      },
      "source": [
        "#### Ensemble of two LogisticReg\n",
        "\n",
        "Our model | Marco-F1 | Accuracy | Note\n",
        "----------|----------|----------|------\n",
        "-- lr_135\n",
        "w=[3,1,1] | 0.7574\n",
        "w=[1,1,1] | 0.7487\n",
        "w=[5,1,1] | 0.7517\n",
        "-- Ensemble\n",
        "135 ([3,1,1]), 234 ([3,2,1]) | 0.5677 \n",
        "135 ([3,1,1]), 234 ([5,3,1]) | 0.5636 \n",
        "135 ([3,1,1]), 234 ([10,5,1]) | 0.5569  \n",
        "135 ([1,3,1]), 234 ([3,2,1]) | 0.5414 | 0.6020\n",
        "135 ([2,1,1]), 234 ([3,2,1]) | 0.5651 | 0.6530  \n",
        "135 (balanced), 234 (balanced) | 0.5654 | 0.6525 \n",
        "- 12 + 45 + 135 cw\n",
        "balanced balanced balanced  | 0.5585 | 0.6385\n",
        "[2,4,1] balanced balanced  | 0.5763 | 0.657\n",
        "[2,4,1] [2,3] balanced  | 0.5732 | 0.657\n",
        "[2,4,1] [2,3] [3,2]  | 0.5711 | 0.6605\n",
        "[1,3,1] balanced balanced | 0.5755 |0.6575    \n",
        "(try other weight, just get similar result)"
      ]
    },
    {
      "cell_type": "markdown",
      "metadata": {
        "id": "IZhtHaBfoisW"
      },
      "source": [
        "##### 135 + 234"
      ]
    },
    {
      "cell_type": "code",
      "execution_count": 37,
      "metadata": {
        "id": "V62Omma4M3s2",
        "colab": {
          "base_uri": "https://localhost:8080/"
        },
        "outputId": "b8f8f636-61c5-4247-82fd-cb9b32169752"
      },
      "outputs": [
        {
          "output_type": "stream",
          "name": "stdout",
          "text": [
            "[1 3 5]\n",
            "[1 3 5]\n"
          ]
        }
      ],
      "source": [
        "y_train_135 = y_train.copy()\n",
        "y_train_135[y_train_135.between(2,4)] = 3\n",
        "print(np.unique(y_train_135))\n",
        "\n",
        "y_valid_135 = y_valid.copy()\n",
        "y_valid_135[y_valid_135.between(2,4)] = 3\n",
        "print(np.unique(y_valid_135))"
      ]
    },
    {
      "cell_type": "code",
      "execution_count": 38,
      "metadata": {
        "id": "-lwIklRFTkbt",
        "colab": {
          "base_uri": "https://localhost:8080/"
        },
        "outputId": "3169e9e7-0bbe-42b6-ca59-a95389f9c36b"
      },
      "outputs": [
        {
          "output_type": "stream",
          "name": "stdout",
          "text": [
            "  (0, 36478)\t0.1316013115766094\n",
            "  (0, 32689)\t0.10352116130855428\n",
            "  (0, 31915)\t0.18709120356121495\n",
            "  (0, 25311)\t0.23704722059321698\n",
            "  (0, 24735)\t0.20471035698888193\n",
            "  (0, 22740)\t0.0856437438589801\n",
            "  (0, 19266)\t0.16998054667575802\n",
            "  (0, 14074)\t0.11313589782719291\n",
            "  (0, 13489)\t0.19320817238906732\n",
            "  (0, 13174)\t0.13891277950366715\n",
            "  (0, 7564)\t0.4714224640095493\n",
            "  (0, 5363)\t0.08234384245666566\n",
            "  (0, 5119)\t0.32721843200481604\n",
            "  (0, 3369)\t0.3392467356242494\n",
            "  (0, 1786)\t0.4714224640095493\n",
            "  (0, 33)\t0.2445208914728616\n",
            "  (1, 36465)\t0.036441913424346564\n",
            "  (1, 36153)\t0.048398485449323195\n",
            "  (1, 35924)\t0.09642713575780644\n",
            "  (1, 35816)\t0.14553729665417023\n",
            "  (1, 35627)\t0.0986842856693934\n",
            "  (1, 35626)\t0.08229237774428562\n",
            "  (1, 35500)\t0.03998732576122383\n",
            "  (1, 35439)\t0.12161070151218958\n",
            "  (1, 35425)\t0.13396067255383895\n",
            "  :\t:\n",
            "  (7416, 16066)\t0.10929364635481673\n",
            "  (7416, 15326)\t0.13724422261852387\n",
            "  (7416, 15005)\t0.10769126016108722\n",
            "  (7416, 14618)\t0.058632572035954386\n",
            "  (7416, 14372)\t0.057368859461350515\n",
            "  (7416, 14074)\t0.06649719420608233\n",
            "  (7416, 13449)\t0.09861140967296712\n",
            "  (7416, 13174)\t0.08164791417902904\n",
            "  (7416, 13135)\t0.057794417648211555\n",
            "  (7416, 12507)\t0.1425800224169618\n",
            "  (7416, 10221)\t0.07942169010914198\n",
            "  (7416, 9710)\t0.08416246635761361\n",
            "  (7416, 9250)\t0.16878527511241279\n",
            "  (7416, 5363)\t0.04839873628686439\n",
            "  (7416, 5361)\t0.11245552711133014\n",
            "  (7416, 3696)\t0.07912895976707633\n",
            "  (7416, 3634)\t0.11496521860437668\n",
            "  (7416, 2969)\t0.14148504764064884\n",
            "  (7416, 2482)\t0.09958895981819522\n",
            "  (7416, 2266)\t0.10932382852331206\n",
            "  (7416, 2065)\t0.13946798090670778\n",
            "  (7416, 1920)\t0.08487123524859654\n",
            "  (7416, 1886)\t0.07503290910236864\n",
            "  (7416, 1800)\t0.062485604857696074\n",
            "  (7416, 494)\t0.11749552794867706 7417\n",
            "  (0, 35975)\t0.031777915537398595\n",
            "  (0, 35727)\t0.06419115700980658\n",
            "  (0, 35604)\t0.05407549710464626\n",
            "  (0, 35272)\t0.06350227280127738\n",
            "  (0, 34999)\t0.12904561922455274\n",
            "  (0, 34270)\t0.15630463938644393\n",
            "  (0, 33949)\t0.11608498955305448\n",
            "  (0, 33114)\t0.3063958117113945\n",
            "  (0, 33110)\t0.02371128613208841\n",
            "  (0, 33050)\t0.10002959738876119\n",
            "  (0, 32849)\t0.08052131509550164\n",
            "  (0, 32755)\t0.033015721059919484\n",
            "  (0, 32689)\t0.20412897100659935\n",
            "  (0, 32672)\t0.05634941101627467\n",
            "  (0, 31915)\t0.07378343593636097\n",
            "  (0, 31698)\t0.0685789380036001\n",
            "  (0, 31597)\t0.10322918056969829\n",
            "  (0, 30908)\t0.05480021901210593\n",
            "  (0, 30589)\t0.09910317096405769\n",
            "  (0, 30302)\t0.05159300264197288\n",
            "  (0, 30181)\t0.037088412964798236\n",
            "  (0, 29523)\t0.07022960435539234\n",
            "  (0, 28971)\t0.17973970195274275\n",
            "  (0, 28852)\t0.07584444705535918\n",
            "  (0, 28374)\t0.10213193723713151\n",
            "  :\t:\n",
            "  (813, 20563)\t0.11563363757315892\n",
            "  (813, 20360)\t0.08130193892520882\n",
            "  (813, 19403)\t0.24016325471156974\n",
            "  (813, 18276)\t0.11372912517707076\n",
            "  (813, 16561)\t0.05376717917825017\n",
            "  (813, 15512)\t0.15014589370919704\n",
            "  (813, 14372)\t0.21628406062442804\n",
            "  (813, 14302)\t0.08672330991493589\n",
            "  (813, 14184)\t0.12078439453533447\n",
            "  (813, 14074)\t0.08356614440924487\n",
            "  (813, 13484)\t0.1376907579764453\n",
            "  (813, 13205)\t0.1933423133369544\n",
            "  (813, 13174)\t0.05130292690134504\n",
            "  (813, 13135)\t0.07262948021943609\n",
            "  (813, 11832)\t0.11869257441920063\n",
            "  (813, 10323)\t0.19984631454877724\n",
            "  (813, 9715)\t0.10776313473135626\n",
            "  (813, 7387)\t0.10763485547188052\n",
            "  (813, 5363)\t0.18246615518417453\n",
            "  (813, 3959)\t0.11452132044030124\n",
            "  (813, 3190)\t0.08408747018133902\n",
            "  (813, 2797)\t0.1636266961400832\n",
            "  (813, 2793)\t0.07094987695521461\n",
            "  (813, 2119)\t0.2560607506453082\n",
            "  (813, 2086)\t0.07678547935865777 814\n"
          ]
        }
      ],
      "source": [
        "# x_train_embeds = tfidf.transform(x_train)\n",
        "\n",
        "x_train_embeds_234 = tfidf.transform(x_train[y_train_135==3])\n",
        "y_train_234 = y_train[y_train_135==3]\n",
        "print(x_train_embeds_234, len(y_train_234))\n",
        "\n",
        "x_valid_embeds_234 = tfidf.transform(x_valid[y_valid_135==3])\n",
        "y_valid_234 = y_valid[y_valid_135==3]\n",
        "print(x_valid_embeds_234, len(y_valid_234))"
      ]
    },
    {
      "cell_type": "code",
      "execution_count": 39,
      "metadata": {
        "id": "VtQC_DTQQJ4M",
        "colab": {
          "base_uri": "https://localhost:8080/"
        },
        "outputId": "4814b7e2-5f3a-4fd9-a625-947a04417404"
      },
      "outputs": [
        {
          "output_type": "stream",
          "name": "stdout",
          "text": [
            "              precision    recall  f1-score   support\n",
            "\n",
            "           1     0.7108    0.8191    0.7611       282\n",
            "           3     0.7171    0.7101    0.7136       814\n",
            "           5     0.8101    0.7788    0.7941       904\n",
            "\n",
            "    accuracy                         0.7565      2000\n",
            "   macro avg     0.7460    0.7693    0.7563      2000\n",
            "weighted avg     0.7583    0.7565    0.7567      2000\n",
            "\n",
            "\n",
            "\n",
            "\n",
            "[[231  46   5]\n",
            " [ 76 578 160]\n",
            " [ 18 182 704]]\n",
            "accuracy 0.7565\n"
          ]
        },
        {
          "output_type": "stream",
          "name": "stderr",
          "text": [
            "/usr/local/lib/python3.7/dist-packages/sklearn/linear_model/_logistic.py:818: ConvergenceWarning: lbfgs failed to converge (status=1):\n",
            "STOP: TOTAL NO. of ITERATIONS REACHED LIMIT.\n",
            "\n",
            "Increase the number of iterations (max_iter) or scale the data as shown in:\n",
            "    https://scikit-learn.org/stable/modules/preprocessing.html\n",
            "Please also refer to the documentation for alternative solver options:\n",
            "    https://scikit-learn.org/stable/modules/linear_model.html#logistic-regression\n",
            "  extra_warning_msg=_LOGISTIC_SOLVER_CONVERGENCE_MSG,\n"
          ]
        }
      ],
      "source": [
        "lr_135 = LogisticRegression(C=3, max_iter=100,\n",
        "                         class_weight='balanced' #{i: w for i,w in zip([1,3,5],[3,1,1])}\n",
        "                         )\n",
        "\n",
        "lr_135.fit(x_train_embeds, y_train_135)\n",
        "\n",
        "# validate on the validation set\n",
        "y_pred_135 = lr_135.predict(x_valid_embeds)\n",
        "print(classification_report(y_valid_135, y_pred_135, digits=4))\n",
        "print(\"\\n\\n\")\n",
        "print(confusion_matrix(y_valid_135, y_pred_135))\n",
        "print('accuracy', np.mean(y_valid_135 == y_pred_135))"
      ]
    },
    {
      "cell_type": "code",
      "execution_count": 40,
      "metadata": {
        "id": "_kL6ecLyRleb",
        "colab": {
          "base_uri": "https://localhost:8080/"
        },
        "outputId": "66bc0443-39a4-4763-c214-b878b0fcc967"
      },
      "outputs": [
        {
          "output_type": "stream",
          "name": "stdout",
          "text": [
            "              precision    recall  f1-score   support\n",
            "\n",
            "           2     0.4624    0.5882    0.5178       136\n",
            "           3     0.4717    0.4717    0.4717       212\n",
            "           4     0.8392    0.7725    0.8045       466\n",
            "\n",
            "    accuracy                         0.6634       814\n",
            "   macro avg     0.5911    0.6108    0.5980       814\n",
            "weighted avg     0.6805    0.6634    0.6699       814\n",
            "\n",
            "\n",
            "\n",
            "\n",
            "[[ 80  44  12]\n",
            " [ 55 100  57]\n",
            " [ 38  68 360]]\n",
            "accuracy 0.6633906633906634\n"
          ]
        },
        {
          "output_type": "stream",
          "name": "stderr",
          "text": [
            "/usr/local/lib/python3.7/dist-packages/sklearn/linear_model/_logistic.py:818: ConvergenceWarning: lbfgs failed to converge (status=1):\n",
            "STOP: TOTAL NO. of ITERATIONS REACHED LIMIT.\n",
            "\n",
            "Increase the number of iterations (max_iter) or scale the data as shown in:\n",
            "    https://scikit-learn.org/stable/modules/preprocessing.html\n",
            "Please also refer to the documentation for alternative solver options:\n",
            "    https://scikit-learn.org/stable/modules/linear_model.html#logistic-regression\n",
            "  extra_warning_msg=_LOGISTIC_SOLVER_CONVERGENCE_MSG,\n"
          ]
        }
      ],
      "source": [
        "lr_234 = LogisticRegression(C=3, max_iter=100,\n",
        "                         class_weight='balanced' #{i: w for i,w in zip([2,3,4],[3,2,1])}\n",
        "                         )\n",
        "\n",
        "lr_234.fit(x_train_embeds_234, y_train_234)\n",
        "\n",
        "# validate on the validation set\n",
        "y_pred_234 = lr_234.predict(x_valid_embeds_234)\n",
        "print(classification_report(y_valid_234, y_pred_234, digits=4))\n",
        "print(\"\\n\\n\")\n",
        "print(confusion_matrix(y_valid_234, y_pred_234))\n",
        "print('accuracy', np.mean(y_valid_234 == y_pred_234))"
      ]
    },
    {
      "cell_type": "code",
      "execution_count": 41,
      "metadata": {
        "id": "XpZ3edlTW3tr",
        "colab": {
          "base_uri": "https://localhost:8080/"
        },
        "outputId": "5b2edebb-0c9e-49da-f760-d45bed877d32"
      },
      "outputs": [
        {
          "output_type": "stream",
          "name": "stdout",
          "text": [
            "              precision    recall  f1-score   support\n",
            "\n",
            "           1     0.7108    0.8191    0.7611       282\n",
            "           2     0.3007    0.3382    0.3183       136\n",
            "           3     0.4017    0.4528    0.4257       212\n",
            "           4     0.5193    0.4614    0.4886       466\n",
            "           5     0.8101    0.7788    0.7941       904\n",
            "\n",
            "    accuracy                         0.6460      2000\n",
            "   macro avg     0.5485    0.5701    0.5576      2000\n",
            "weighted avg     0.6504    0.6460    0.6469      2000\n",
            "\n",
            "\n",
            "\n",
            "\n",
            "[[231  29  15   2   5]\n",
            " [ 44  46  36  10   0]\n",
            " [ 19  39  96  50   8]\n",
            " [ 13  26  60 215 152]\n",
            " [ 18  13  32 137 704]]\n",
            "accuracy 0.646\n"
          ]
        }
      ],
      "source": [
        "## end-to-end prediction\n",
        "y_pred_135 = lr_135.predict(x_valid_embeds) #1:1, 3:234, 5:5\n",
        "x_valid_embeds_3 = tfidf.transform(x_valid[y_pred_135==3])\n",
        "y_pred_234 = lr_234.predict(x_valid_embeds_3) #2:2, 3:3, 4:4\n",
        "\n",
        "y_pred = y_pred_135.copy()\n",
        "y_pred[y_pred==3] = y_pred_234\n",
        "\n",
        "print(classification_report(y_valid, y_pred, digits=4))\n",
        "print(\"\\n\\n\")\n",
        "print(confusion_matrix(y_valid, y_pred))\n",
        "print('accuracy', np.mean(y_valid == y_pred))"
      ]
    },
    {
      "cell_type": "markdown",
      "metadata": {
        "id": "pHhK_fD8olft"
      },
      "source": [
        "##### 12 + 45 + 135"
      ]
    },
    {
      "cell_type": "code",
      "execution_count": 42,
      "metadata": {
        "id": "Qk-LPu7cssAj",
        "colab": {
          "base_uri": "https://localhost:8080/"
        },
        "outputId": "3e6bce4a-8b06-4639-f5c5-ec9af1ba8152"
      },
      "outputs": [
        {
          "output_type": "stream",
          "name": "stdout",
          "text": [
            "[1 3 5]\n",
            "[1 3 5]\n"
          ]
        }
      ],
      "source": [
        "y_train_135 = y_train.copy()\n",
        "y_train_135[y_train_135 < 3] = 1\n",
        "y_train_135[y_train_135 > 3] = 5\n",
        "print(np.unique(y_train_135))\n",
        "\n",
        "y_valid_135 = y_valid.copy()\n",
        "y_valid_135[y_valid_135 < 3] = 1\n",
        "y_valid_135[y_valid_135 > 3] = 5\n",
        "print(np.unique(y_valid_135))"
      ]
    },
    {
      "cell_type": "code",
      "execution_count": 44,
      "metadata": {
        "id": "7Iw3k5jysJak",
        "colab": {
          "base_uri": "https://localhost:8080/"
        },
        "outputId": "f51bf859-2a3b-4414-8141-71aa99d800aa"
      },
      "outputs": [
        {
          "output_type": "stream",
          "name": "stdout",
          "text": [
            "[1 2]\n",
            "[1 2]\n"
          ]
        }
      ],
      "source": [
        "y_train_12 = y_train.copy()\n",
        "y_train_12 = y_train_12[y_train_12 < 3]\n",
        "print(np.unique(y_train_12))\n",
        "\n",
        "y_valid_12 = y_valid.copy()\n",
        "y_valid_12 = y_valid_12[y_valid_12 < 3]\n",
        "print(np.unique(y_valid_12))"
      ]
    },
    {
      "cell_type": "code",
      "execution_count": 45,
      "metadata": {
        "id": "ZU0B7gl_sc09",
        "colab": {
          "base_uri": "https://localhost:8080/"
        },
        "outputId": "b8a6a3c4-31d6-4af1-f6fe-13a500eefd8b"
      },
      "outputs": [
        {
          "output_type": "stream",
          "name": "stdout",
          "text": [
            "[4 5]\n",
            "[4 5]\n"
          ]
        }
      ],
      "source": [
        "y_train_45 = y_train.copy()\n",
        "y_train_45 = y_train_45[y_train_45 > 3]\n",
        "print(np.unique(y_train_45))\n",
        "\n",
        "y_valid_45 = y_valid.copy()\n",
        "y_valid_45 = y_valid_45[y_valid_45 > 3]\n",
        "print(np.unique(y_valid_45))"
      ]
    },
    {
      "cell_type": "markdown",
      "metadata": {
        "id": "idpqgpFNt3s3"
      },
      "source": [
        "Our model | Marco-F1 | Accuracy |class 3| Note\n",
        "----------|----------|----------|-|------\n",
        "-- lr_135\n",
        "1,3,1 | 0.7382 | 0.8570 | \n",
        "1,10,1 | 0.7271 | 0.8350 |\n",
        "balanced | 0.7300 | 0.8415 | \n",
        "2,4,1 | 0.7324 | 0.8565 | 0.4539\n",
        "2,6,1 | 0.7342 | 0.8465 | 0.4719\n",
        "\n",
        "Need to raise score of class 3"
      ]
    },
    {
      "cell_type": "code",
      "execution_count": 46,
      "metadata": {
        "id": "0--viJ2CpM0E",
        "colab": {
          "base_uri": "https://localhost:8080/"
        },
        "outputId": "144506b2-e2ca-4a39-9646-801e30c40d11"
      },
      "outputs": [
        {
          "output_type": "stream",
          "name": "stdout",
          "text": [
            "              precision    recall  f1-score   support\n",
            "\n",
            "           1     0.7790    0.8517    0.8137       418\n",
            "           3     0.4815    0.4292    0.4539       212\n",
            "           5     0.9350    0.9241    0.9295      1370\n",
            "\n",
            "    accuracy                         0.8565      2000\n",
            "   macro avg     0.7318    0.7350    0.7324      2000\n",
            "weighted avg     0.8543    0.8565    0.8549      2000\n",
            "\n",
            "\n",
            "\n",
            "\n",
            "[[ 356   40   22]\n",
            " [  55   91   66]\n",
            " [  46   58 1266]]\n"
          ]
        },
        {
          "output_type": "stream",
          "name": "stderr",
          "text": [
            "/usr/local/lib/python3.7/dist-packages/sklearn/linear_model/_logistic.py:818: ConvergenceWarning: lbfgs failed to converge (status=1):\n",
            "STOP: TOTAL NO. of ITERATIONS REACHED LIMIT.\n",
            "\n",
            "Increase the number of iterations (max_iter) or scale the data as shown in:\n",
            "    https://scikit-learn.org/stable/modules/preprocessing.html\n",
            "Please also refer to the documentation for alternative solver options:\n",
            "    https://scikit-learn.org/stable/modules/linear_model.html#logistic-regression\n",
            "  extra_warning_msg=_LOGISTIC_SOLVER_CONVERGENCE_MSG,\n"
          ]
        }
      ],
      "source": [
        "lr_135 = LogisticRegression(C=3, max_iter=100,\n",
        "                         class_weight={i: w for i,w in zip([1,3,5],[2,4,1])}\n",
        "                         )\n",
        "\n",
        "lr_135.fit(x_train_embeds, y_train_135)\n",
        "\n",
        "# validate on the validation set\n",
        "y_pred_135 = lr_135.predict(x_valid_embeds)\n",
        "print(classification_report(y_valid_135, y_pred_135, digits=4))\n",
        "print(\"\\n\\n\")\n",
        "print(confusion_matrix(y_valid_135, y_pred_135))\n",
        "# print('accuracy', np.mean(y_valid_135 == y_pred_135))"
      ]
    },
    {
      "cell_type": "code",
      "execution_count": 47,
      "metadata": {
        "id": "5JwioewsvCL1"
      },
      "outputs": [],
      "source": [
        "x_train_embeds_12 = tfidf.transform(x_train[y_train < 3])\n",
        "y_train_12 = y_train[y_train < 3]\n",
        "# print(x_train_embeds_12, len(y_train_12))\n",
        "\n",
        "x_valid_embeds_12 = tfidf.transform(x_valid[y_valid < 3])\n",
        "y_valid_12 = y_valid[y_valid < 3]\n",
        "# print(x_valid_embeds_12, len(y_valid_12))"
      ]
    },
    {
      "cell_type": "code",
      "execution_count": 48,
      "metadata": {
        "id": "b5xCh6QRvlIU"
      },
      "outputs": [],
      "source": [
        "x_train_embeds_45 = tfidf.transform(x_train[y_train > 3])\n",
        "y_train_45 = y_train[y_train > 3]\n",
        "# print(x_train_embeds_45, len(y_train_45))\n",
        "\n",
        "x_valid_embeds_45 = tfidf.transform(x_valid[y_valid > 3])\n",
        "y_valid_45 = y_valid[y_valid > 3]\n",
        "# print(x_valid_embeds_45, len(y_valid_45))"
      ]
    },
    {
      "cell_type": "code",
      "execution_count": 49,
      "metadata": {
        "id": "f1xWpddAv2Xk",
        "colab": {
          "base_uri": "https://localhost:8080/"
        },
        "outputId": "d201870f-6707-4870-c8be-23e9df0304f0"
      },
      "outputs": [
        {
          "output_type": "stream",
          "name": "stdout",
          "text": [
            "              precision    recall  f1-score   support\n",
            "\n",
            "           1     0.8315    0.7872    0.8087       282\n",
            "           2     0.6026    0.6691    0.6341       136\n",
            "\n",
            "    accuracy                         0.7488       418\n",
            "   macro avg     0.7171    0.7282    0.7214       418\n",
            "weighted avg     0.7570    0.7488    0.7519       418\n",
            "\n",
            "\n",
            "\n",
            "\n",
            "[[222  60]\n",
            " [ 45  91]]\n",
            "accuracy 0.7488038277511961\n"
          ]
        }
      ],
      "source": [
        "lr_12 = LogisticRegression(C=3, max_iter=100,\n",
        "                         class_weight='balanced'#{i: w for i,w in zip([1,2],[2,3])}\n",
        "                         )\n",
        "\n",
        "lr_12.fit(x_train_embeds_12, y_train_12)\n",
        "\n",
        "# validate on the validation set\n",
        "y_pred_12 = lr_12.predict(x_valid_embeds_12)\n",
        "print(classification_report(y_valid_12, y_pred_12, digits=4))\n",
        "print(\"\\n\\n\")\n",
        "print(confusion_matrix(y_valid_12, y_pred_12))\n",
        "print('accuracy', np.mean(y_valid_12 == y_pred_12))"
      ]
    },
    {
      "cell_type": "code",
      "execution_count": 50,
      "metadata": {
        "id": "pHlEIduuwhbz",
        "colab": {
          "base_uri": "https://localhost:8080/"
        },
        "outputId": "d4e098be-8a34-4ca0-c910-4809bce64230"
      },
      "outputs": [
        {
          "output_type": "stream",
          "name": "stdout",
          "text": [
            "              precision    recall  f1-score   support\n",
            "\n",
            "           4     0.5946    0.7082    0.6464       466\n",
            "           5     0.8331    0.7511    0.7900       904\n",
            "\n",
            "    accuracy                         0.7365      1370\n",
            "   macro avg     0.7139    0.7296    0.7182      1370\n",
            "weighted avg     0.7520    0.7365    0.7412      1370\n",
            "\n",
            "\n",
            "\n",
            "\n",
            "[[330 136]\n",
            " [225 679]]\n",
            "accuracy 0.7364963503649635\n"
          ]
        },
        {
          "output_type": "stream",
          "name": "stderr",
          "text": [
            "/usr/local/lib/python3.7/dist-packages/sklearn/linear_model/_logistic.py:818: ConvergenceWarning: lbfgs failed to converge (status=1):\n",
            "STOP: TOTAL NO. of ITERATIONS REACHED LIMIT.\n",
            "\n",
            "Increase the number of iterations (max_iter) or scale the data as shown in:\n",
            "    https://scikit-learn.org/stable/modules/preprocessing.html\n",
            "Please also refer to the documentation for alternative solver options:\n",
            "    https://scikit-learn.org/stable/modules/linear_model.html#logistic-regression\n",
            "  extra_warning_msg=_LOGISTIC_SOLVER_CONVERGENCE_MSG,\n"
          ]
        }
      ],
      "source": [
        "lr_45 = LogisticRegression(C=3, max_iter=100,\n",
        "                         class_weight='balanced'#{i: w for i,w in zip([4,5],[6,4])}\n",
        "                         )\n",
        "\n",
        "lr_45.fit(x_train_embeds_45, y_train_45)\n",
        "\n",
        "# validate on the validation set\n",
        "y_pred_45 = lr_45.predict(x_valid_embeds_45)\n",
        "print(classification_report(y_valid_45, y_pred_45, digits=4))\n",
        "print(\"\\n\\n\")\n",
        "print(confusion_matrix(y_valid_45, y_pred_45))\n",
        "print('accuracy', np.mean(y_valid_45 == y_pred_45))"
      ]
    },
    {
      "cell_type": "code",
      "execution_count": 51,
      "metadata": {
        "id": "byVCrr7kwvZ-",
        "colab": {
          "base_uri": "https://localhost:8080/"
        },
        "outputId": "29981918-d8b5-4ae0-e47d-71fef008b527"
      },
      "outputs": [
        {
          "output_type": "stream",
          "name": "stdout",
          "text": [
            "              precision    recall  f1-score   support\n",
            "\n",
            "           1     0.7285    0.7518    0.7400       282\n",
            "           2     0.3193    0.3897    0.3510       136\n",
            "           3     0.4815    0.4292    0.4539       212\n",
            "           4     0.5019    0.5794    0.5378       466\n",
            "           5     0.8186    0.7389    0.7767       904\n",
            "\n",
            "    accuracy                         0.6470      2000\n",
            "   macro avg     0.5700    0.5778    0.5719      2000\n",
            "weighted avg     0.6624    0.6470    0.6527      2000\n",
            "\n",
            "\n",
            "\n",
            "\n",
            "[[212  51   7   5   7]\n",
            " [ 40  53  33   8   2]\n",
            " [ 15  40  91  56  10]\n",
            " [ 12  14  41 270 129]\n",
            " [ 12   8  17 199 668]]\n",
            "accuracy 0.647\n"
          ]
        }
      ],
      "source": [
        "## end-to-end prediction\n",
        "y_pred_135 = lr_135.predict(x_valid_embeds)\n",
        "x_valid_embeds_1 = tfidf.transform(x_valid[y_pred_135==1])\n",
        "x_valid_embeds_5 = tfidf.transform(x_valid[y_pred_135==5])\n",
        "\n",
        "y_pred_12 = lr_12.predict(x_valid_embeds_1)\n",
        "y_pred_45 = lr_45.predict(x_valid_embeds_5)\n",
        "\n",
        "y_pred = y_pred_135.copy()\n",
        "y_pred[y_pred==1] = y_pred_12\n",
        "y_pred[y_pred==5] = y_pred_45\n",
        "\n",
        "print(classification_report(y_valid, y_pred, digits=4))\n",
        "print(\"\\n\\n\")\n",
        "print(confusion_matrix(y_valid, y_pred))\n",
        "print('accuracy', np.mean(y_valid == y_pred))"
      ]
    },
    {
      "cell_type": "markdown",
      "metadata": {
        "id": "C7-bcMbbQSkC"
      },
      "source": [
        "#### Reserved"
      ]
    },
    {
      "cell_type": "code",
      "execution_count": 52,
      "metadata": {
        "colab": {
          "base_uri": "https://localhost:8080/"
        },
        "id": "h-KgfyfAnBhx",
        "outputId": "9b231cef-8c09-44f7-af4e-48a17bedc851"
      },
      "outputs": [
        {
          "output_type": "stream",
          "name": "stderr",
          "text": [
            "/usr/local/lib/python3.7/dist-packages/sklearn/linear_model/_logistic.py:818: ConvergenceWarning: lbfgs failed to converge (status=1):\n",
            "STOP: TOTAL NO. of ITERATIONS REACHED LIMIT.\n",
            "\n",
            "Increase the number of iterations (max_iter) or scale the data as shown in:\n",
            "    https://scikit-learn.org/stable/modules/preprocessing.html\n",
            "Please also refer to the documentation for alternative solver options:\n",
            "    https://scikit-learn.org/stable/modules/linear_model.html#logistic-regression\n",
            "  extra_warning_msg=_LOGISTIC_SOLVER_CONVERGENCE_MSG,\n"
          ]
        },
        {
          "output_type": "stream",
          "name": "stdout",
          "text": [
            "              precision    recall  f1-score   support\n",
            "\n",
            "           1     0.6928    0.8156    0.7492       282\n",
            "           2     0.3966    0.3382    0.3651       136\n",
            "           3     0.4555    0.4104    0.4318       212\n",
            "           4     0.5100    0.5472    0.5280       466\n",
            "           5     0.8107    0.7721    0.7909       904\n",
            "\n",
            "    accuracy                         0.6580      2000\n",
            "   macro avg     0.5731    0.5767    0.5730      2000\n",
            "weighted avg     0.6582    0.6580    0.6567      2000\n",
            "\n",
            "\n",
            "\n",
            "\n",
            "[[230  27  11   8   6]\n",
            " [ 42  46  35  11   2]\n",
            " [ 22  24  87  65  14]\n",
            " [ 18  11  41 255 141]\n",
            " [ 20   8  17 161 698]]\n",
            "accuracy 0.658\n"
          ]
        }
      ],
      "source": [
        "# build the second linear model with TFIDF feature\n",
        "tfidf = TfidfVectorizer(ngram_range=(1,4),\n",
        "                        # lowercase=False,\n",
        "                        # max_features=30000\n",
        "                        )\n",
        "\n",
        "lr2 = LogisticRegression(C=3,\n",
        "                         class_weight={i+1: w for i,w in enumerate([3,6,4,2,1])}\n",
        "                         )\n",
        "steps = [('tfidf', tfidf),('lr', lr2)]\n",
        "pipe2 = Pipeline(steps)\n",
        "\n",
        "# train the second model\n",
        "pipe2.fit(x_train, y_train)\n",
        "\n",
        "# validate on the validation set\n",
        "y_pred = pipe2.predict(x_valid)\n",
        "print(classification_report(y_valid, y_pred, digits=4))\n",
        "print(\"\\n\\n\")\n",
        "print(confusion_matrix(y_valid, y_pred))\n",
        "print('accuracy', np.mean(y_valid == y_pred))"
      ]
    },
    {
      "cell_type": "code",
      "source": [
        "train_df_234 = train_df[train_df['stars'].between(2,4)]\n",
        "valid_df_234 = valid_df[valid_df['stars'].between(2,4)]"
      ],
      "metadata": {
        "id": "Zef1FmCGkIzt"
      },
      "execution_count": 53,
      "outputs": []
    },
    {
      "cell_type": "code",
      "execution_count": 54,
      "metadata": {
        "id": "hIPzKhTmijvS",
        "colab": {
          "base_uri": "https://localhost:8080/"
        },
        "outputId": "ffda006e-8b85-46cc-90d6-5b267196e8c6"
      },
      "outputs": [
        {
          "output_type": "stream",
          "name": "stdout",
          "text": [
            "              precision    recall  f1-score   support\n",
            "\n",
            "           1     0.0000    0.0000    0.0000         0\n",
            "           2     0.5679    0.3382    0.4240       136\n",
            "           3     0.5337    0.4104    0.4640       212\n",
            "           4     0.7704    0.5472    0.6399       466\n",
            "           5     0.0000    0.0000    0.0000         0\n",
            "\n",
            "    accuracy                         0.4767       814\n",
            "   macro avg     0.3744    0.2592    0.3056       814\n",
            "weighted avg     0.6749    0.4767    0.5580       814\n",
            "\n",
            "\n",
            "\n",
            "\n",
            "[[  0   0   0   0   0]\n",
            " [ 42  46  35  11   2]\n",
            " [ 22  24  87  65  14]\n",
            " [ 18  11  41 255 141]\n",
            " [  0   0   0   0   0]]\n",
            "accuracy 0.47665847665847666\n"
          ]
        },
        {
          "output_type": "stream",
          "name": "stderr",
          "text": [
            "/usr/local/lib/python3.7/dist-packages/sklearn/metrics/_classification.py:1318: UndefinedMetricWarning: Recall and F-score are ill-defined and being set to 0.0 in labels with no true samples. Use `zero_division` parameter to control this behavior.\n",
            "  _warn_prf(average, modifier, msg_start, len(result))\n",
            "/usr/local/lib/python3.7/dist-packages/sklearn/metrics/_classification.py:1318: UndefinedMetricWarning: Recall and F-score are ill-defined and being set to 0.0 in labels with no true samples. Use `zero_division` parameter to control this behavior.\n",
            "  _warn_prf(average, modifier, msg_start, len(result))\n",
            "/usr/local/lib/python3.7/dist-packages/sklearn/metrics/_classification.py:1318: UndefinedMetricWarning: Recall and F-score are ill-defined and being set to 0.0 in labels with no true samples. Use `zero_division` parameter to control this behavior.\n",
            "  _warn_prf(average, modifier, msg_start, len(result))\n"
          ]
        }
      ],
      "source": [
        "# validate on the validation set\n",
        "y_pred = pipe2.predict(valid_df_234['text'])\n",
        "print(classification_report(valid_df_234['stars'], y_pred, digits=4))\n",
        "print(\"\\n\\n\")\n",
        "print(confusion_matrix(valid_df_234['stars'], y_pred))\n",
        "print('accuracy', np.mean(valid_df_234['stars'] == y_pred))"
      ]
    },
    {
      "cell_type": "code",
      "execution_count": 55,
      "metadata": {
        "colab": {
          "base_uri": "https://localhost:8080/"
        },
        "id": "ANFlFLfczGCd",
        "outputId": "ad20104d-775a-43f1-cc4f-abafbeaee61a"
      },
      "outputs": [
        {
          "output_type": "stream",
          "name": "stderr",
          "text": [
            "/usr/local/lib/python3.7/dist-packages/sklearn/linear_model/_logistic.py:818: ConvergenceWarning: lbfgs failed to converge (status=1):\n",
            "STOP: TOTAL NO. of ITERATIONS REACHED LIMIT.\n",
            "\n",
            "Increase the number of iterations (max_iter) or scale the data as shown in:\n",
            "    https://scikit-learn.org/stable/modules/preprocessing.html\n",
            "Please also refer to the documentation for alternative solver options:\n",
            "    https://scikit-learn.org/stable/modules/linear_model.html#logistic-regression\n",
            "  extra_warning_msg=_LOGISTIC_SOLVER_CONVERGENCE_MSG,\n"
          ]
        },
        {
          "output_type": "stream",
          "name": "stdout",
          "text": [
            "              precision    recall  f1-score   support\n",
            "\n",
            "           2     0.5600    0.4118    0.4746       136\n",
            "           3     0.5071    0.3349    0.4034       212\n",
            "           4     0.7404    0.9120    0.8173       466\n",
            "\n",
            "    accuracy                         0.6781       814\n",
            "   macro avg     0.6025    0.5529    0.5651       814\n",
            "weighted avg     0.6495    0.6781    0.6522       814\n",
            "\n",
            "\n",
            "\n",
            "\n",
            "[[ 56  44  36]\n",
            " [ 28  71 113]\n",
            " [ 16  25 425]]\n",
            "accuracy 0.6781326781326781\n"
          ]
        }
      ],
      "source": [
        "# build the second linear model with TFIDF feature\n",
        "tfidf = TfidfVectorizer(stop_words=stopwords.words('english'))\n",
        "lr = LogisticRegression(C=1)\n",
        "steps = [('tfidf', tfidf),('clf', lr)]\n",
        "pipe = Pipeline(steps)\n",
        "\n",
        "# train the second model\n",
        "pipe.fit(train_df_234['text'], train_df_234['stars'])\n",
        "\n",
        "# validate on the validation set\n",
        "y_pred = pipe.predict(valid_df_234['text'])\n",
        "print(classification_report(valid_df_234['stars'], y_pred, digits=4))\n",
        "print(\"\\n\\n\")\n",
        "print(confusion_matrix(valid_df_234['stars'], y_pred))\n",
        "print('accuracy', np.mean(valid_df_234['stars'] == y_pred))"
      ]
    },
    {
      "cell_type": "code",
      "execution_count": 2,
      "metadata": {
        "id": "SHUlecuYXLvQ",
        "colab": {
          "base_uri": "https://localhost:8080/"
        },
        "outputId": "7333bbb7-40e2-466a-a4f4-622f2dac810d"
      },
      "outputs": [
        {
          "output_type": "stream",
          "name": "stdout",
          "text": [
            "\n"
          ]
        }
      ],
      "source": [
        "from sklearn.model_selection import GridSearchCV\n",
        "\n",
        "param_grid = {\n",
        "    'lr__C':[0.1,0.3]#,1,3,10,30,100]\n",
        "}\n",
        "\n",
        "gs_pipe2 = GridSearchCV(pipe2, param_grid, scoring='f1_macro')\n",
        "gs_pipe2.fit(x_train, y_train)\n",
        "\n",
        "print(\n",
        "    gs_pipe2.best_score_,\n",
        "    gs_pipe2.best_params_,\n",
        "    sep='\\n'\n",
        ")"
      ]
    },
    {
      "cell_type": "markdown",
      "metadata": {
        "id": "jCYTuOUVvYl5"
      },
      "source": [
        "##### Class-weighted loss\n",
        "\n",
        "Discrimination between stars 2,3,4 is absent! Need to focus on those categories, by class weight!\n",
        "\n",
        "* [1,3,3,3,1], [1,1,5,1,1] -> not good as unweight!\n",
        "* bingliu_svocab -> decrease performance!!"
      ]
    },
    {
      "cell_type": "code",
      "execution_count": null,
      "metadata": {
        "colab": {
          "base_uri": "https://localhost:8080/"
        },
        "id": "zAaZwEtvv055",
        "outputId": "affa5f54-585b-4e6d-a48d-f93968a92b43"
      },
      "outputs": [
        {
          "name": "stderr",
          "output_type": "stream",
          "text": [
            "/usr/local/lib/python3.7/dist-packages/sklearn/linear_model/_logistic.py:818: ConvergenceWarning: lbfgs failed to converge (status=1):\n",
            "STOP: TOTAL NO. of ITERATIONS REACHED LIMIT.\n",
            "\n",
            "Increase the number of iterations (max_iter) or scale the data as shown in:\n",
            "    https://scikit-learn.org/stable/modules/preprocessing.html\n",
            "Please also refer to the documentation for alternative solver options:\n",
            "    https://scikit-learn.org/stable/modules/linear_model.html#logistic-regression\n",
            "  extra_warning_msg=_LOGISTIC_SOLVER_CONVERGENCE_MSG,\n"
          ]
        },
        {
          "name": "stdout",
          "output_type": "stream",
          "text": [
            "              precision    recall  f1-score   support\n",
            "\n",
            "           1       0.80      0.68      0.74      2672\n",
            "           2       0.75      0.06      0.11      1457\n",
            "           3       0.29      0.90      0.44      1989\n",
            "           4       0.66      0.19      0.29      3971\n",
            "           5       0.77      0.81      0.79      7911\n",
            "\n",
            "    accuracy                           0.60     18000\n",
            "   macro avg       0.66      0.53      0.47     18000\n",
            "weighted avg       0.70      0.60      0.58     18000\n",
            "\n",
            "\n",
            "\n",
            "\n",
            "[[1811   22  715   11  113]\n",
            " [ 299   85  947   25  101]\n",
            " [  27    1 1792   31  138]\n",
            " [  49    3 1573  743 1603]\n",
            " [  65    2 1086  311 6447]]\n",
            "accuracy 0.6043333333333333\n",
            "              precision    recall  f1-score   support\n",
            "\n",
            "           1       0.72      0.58      0.64       282\n",
            "           2       0.43      0.04      0.08       136\n",
            "           3       0.21      0.69      0.33       212\n",
            "           4       0.38      0.11      0.16       466\n",
            "           5       0.72      0.75      0.74       904\n",
            "\n",
            "    accuracy                           0.52      2000\n",
            "   macro avg       0.49      0.43      0.39      2000\n",
            "weighted avg       0.57      0.52      0.50      2000\n",
            "\n",
            "\n",
            "\n",
            "\n",
            "[[163   4  99   1  15]\n",
            " [ 29   6  91   1   9]\n",
            " [ 15   4 147  13  33]\n",
            " [ 10   0 204  49 203]\n",
            " [  9   0 150  64 681]]\n",
            "accuracy 0.523\n"
          ]
        }
      ],
      "source": [
        "tfidf = TfidfVectorizer(vocabulary=set(bingliu_svocab))\n",
        "lr2 = LogisticRegression(C=1,\n",
        "                         max_iter=100,\n",
        "                         class_weight={i+1: w for i,w in enumerate([1,1,5,1,1])},\n",
        "                         random_state=328)\n",
        "steps = [('tfidf', tfidf),('lr', lr2)]\n",
        "pipe2 = Pipeline(steps)\n",
        "\n",
        "# train the second model\n",
        "pipe2.fit(x_train, y_train)\n",
        "\n",
        "# on train set\n",
        "y_pred = pipe2.predict(x_train)\n",
        "print(classification_report(y_train, y_pred))\n",
        "print(\"\\n\\n\")\n",
        "print(confusion_matrix(y_train, y_pred))\n",
        "print('accuracy', np.mean(y_train == y_pred))\n",
        "\n",
        "# validate on the validation set\n",
        "y_pred = pipe2.predict(x_valid)\n",
        "print(classification_report(y_valid, y_pred))\n",
        "print(\"\\n\\n\")\n",
        "print(confusion_matrix(y_valid, y_pred))\n",
        "print('accuracy', np.mean(y_valid == y_pred))"
      ]
    },
    {
      "cell_type": "markdown",
      "metadata": {
        "id": "jlG-0FGenBhy"
      },
      "source": [
        " We find the second model (pipe2) has higher accuracy, then we use the second model to make predictions on test data. In practice, you may not only focus on the accuracy, but also other metrics (precision, recall, f1), since the label distribution is not always balanced."
      ]
    },
    {
      "cell_type": "markdown",
      "metadata": {
        "id": "q7rvIhaenBhz"
      },
      "source": [
        "### (3) Generate predictions on the test set"
      ]
    },
    {
      "cell_type": "code",
      "execution_count": null,
      "metadata": {
        "id": "PVQ_SlwCnBhz"
      },
      "outputs": [],
      "source": [
        "x_test_embeds = tfidf.transform(x_test)\n",
        "\n",
        "predict_test_135 = lr_135.predict(x_test_embeds)\n",
        "x_test_embeds_1 = tfidf.transform(x_test[predict_test_135==1])\n",
        "x_test_embeds_5 = tfidf.transform(x_test[predict_test_135==5])\n",
        "\n",
        "predict_test_12 = lr_12.predict(x_test_embeds_1)\n",
        "predict_test_45 = lr_45.predict(x_test_embeds_5)\n",
        "\n",
        "predict_test = predict_test_135.copy()\n",
        "predict_test[predict_test==1] = predict_test_12\n",
        "predict_test[predict_test==5] = predict_test_45"
      ]
    },
    {
      "cell_type": "code",
      "execution_count": null,
      "metadata": {
        "colab": {
          "base_uri": "https://localhost:8080/"
        },
        "id": "bcObLlh0nBhz",
        "outputId": "f1637616-1ad8-4c41-c9fd-1ba48f3749ac"
      },
      "outputs": [
        {
          "data": {
            "text/plain": [
              "array([5, 5, 2, ..., 2, 1, 2])"
            ]
          },
          "execution_count": 19,
          "metadata": {},
          "output_type": "execute_result"
        }
      ],
      "source": [
        "predict_test"
      ]
    },
    {
      "cell_type": "code",
      "execution_count": null,
      "metadata": {
        "id": "qy9b5vEVnBh0"
      },
      "outputs": [],
      "source": [
        "# save your model predictions\n",
        "pred_df = pd.DataFrame({'stars': predict_test, 'review_id': test_df['review_id']})\n",
        "pred_df.to_csv('data/pred_StatML.csv', index=False)"
      ]
    },
    {
      "cell_type": "markdown",
      "metadata": {
        "id": "i2yq6RrAnBh0"
      },
      "source": [
        " Then you may submit the predictions `pred.csv` on the test set. "
      ]
    }
  ],
  "metadata": {
    "colab": {
      "collapsed_sections": [],
      "toc_visible": true,
      "provenance": [],
      "include_colab_link": true
    },
    "kernelspec": {
      "display_name": "Python 3",
      "language": "python",
      "name": "python3"
    },
    "language_info": {
      "codemirror_mode": {
        "name": "ipython",
        "version": 3
      },
      "file_extension": ".py",
      "mimetype": "text/x-python",
      "name": "python",
      "nbconvert_exporter": "python",
      "pygments_lexer": "ipython3",
      "version": "3.8.12"
    }
  },
  "nbformat": 4,
  "nbformat_minor": 0
}