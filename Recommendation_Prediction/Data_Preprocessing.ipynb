{
  "cells": [
    {
      "cell_type": "markdown",
      "metadata": {
        "id": "view-in-github",
        "colab_type": "text"
      },
      "source": [
        "<a href=\"https://colab.research.google.com/github/VanHoann/Yelp_Dataset_Challenges/blob/main/Recommendation_Prediction/Data_Preprocessing.ipynb\" target=\"_parent\"><img src=\"https://colab.research.google.com/assets/colab-badge.svg\" alt=\"Open In Colab\"/></a>"
      ]
    },
    {
      "cell_type": "markdown",
      "source": [
        "# Setup"
      ],
      "metadata": {
        "id": "HT3fr7yEgQr5"
      }
    },
    {
      "cell_type": "code",
      "execution_count": 1,
      "metadata": {
        "id": "pUzX_Ji9GDCh"
      },
      "outputs": [],
      "source": [
        "import os\n",
        "from collections import Counter\n",
        "from itertools import combinations\n",
        "import random\n",
        "import numpy as np\n",
        "import pandas as pd\n",
        "import tensorflow \n",
        "from tensorflow.keras.layers import Concatenate, Dense, Dot, Dropout, Embedding, Input, Reshape\n",
        "from tensorflow.keras.models import Model\n",
        "from tensorflow.keras.callbacks import Callback, ModelCheckpoint\n",
        "import keras\n",
        "import matplotlib.pyplot as plt\n",
        "\n",
        "from sklearn.metrics import mean_squared_error\n",
        "from sklearn.preprocessing import StandardScaler #normalize some features\n",
        "\n",
        "# Setting random seeds to replicate results easily\n",
        "random.seed(0)\n",
        "np.random.seed(0)\n",
        "tensorflow.random.set_seed(0)"
      ]
    },
    {
      "cell_type": "markdown",
      "metadata": {
        "id": "ymqKIJ5QGDCo"
      },
      "source": [
        "# Data Preprocessing\n",
        "Utility functions that helps us retrieve the numerical values of different features from the dataset, and generate combinations of features to be used by the WDL model."
      ]
    },
    {
      "cell_type": "markdown",
      "metadata": {
        "id": "pVPsXnCNGDCt"
      },
      "source": [
        "# Load train, valid, test data (core)"
      ]
    },
    {
      "cell_type": "code",
      "execution_count": 3,
      "metadata": {
        "id": "wmAt9DMfGDCt"
      },
      "outputs": [],
      "source": [
        "data = \"https://raw.githubusercontent.com/VanHoann/Yelp_Dataset_Challenges/main/Recommendation_Prediction/data\"\n",
        "tr_df = pd.read_csv(f\"{data}/train.csv\")\n",
        "val_df = pd.read_csv(f\"{data}/valid.csv\")\n",
        "te_df = pd.read_csv(f\"{data}/test.csv\")\n",
        "\n",
        "tr_ratings = tr_df['stars'].values\n",
        "val_ratings = val_df['stars'].values"
      ]
    },
    {
      "cell_type": "code",
      "source": [
        "print(tr_df.shape, val_df.shape, te_df.shape)\n",
        "print(tr_df[:1])"
      ],
      "metadata": {
        "colab": {
          "base_uri": "https://localhost:8080/"
        },
        "id": "SrHRWlujomZT",
        "outputId": "6d4b1bf5-7729-48b4-e835-03ce715dc54e"
      },
      "execution_count": 4,
      "outputs": [
        {
          "output_type": "stream",
          "name": "stdout",
          "text": [
            "(60080, 3) (7509, 3) (7509, 3)\n",
            "                            user_id                       business_id  stars\n",
            "0  7cf33b34bb6ffe993c5f208222860eb3  16d09ff5f22e701e1b729b74f565f825    4.0\n"
          ]
        }
      ]
    },
    {
      "cell_type": "markdown",
      "metadata": {
        "id": "Cjh6JhEgGDCt"
      },
      "source": [
        "# Load users and items (supplement)"
      ]
    },
    {
      "cell_type": "code",
      "execution_count": 5,
      "metadata": {
        "id": "WoX6kl75GDCu"
      },
      "outputs": [],
      "source": [
        "user_df = pd.read_csv(f\"{data}/user.csv\", index_col=0)\n",
        "item_df = pd.read_csv(f\"{data}/business.csv\", index_col=0)\n",
        "user_df = user_df.rename(index=str) \n",
        "item_df = item_df.rename(index=str)"
      ]
    },
    {
      "cell_type": "markdown",
      "source": [
        "##User info"
      ],
      "metadata": {
        "id": "ELx4PeeZ5CkI"
      }
    },
    {
      "cell_type": "code",
      "source": [
        "print(user_df.shape)\n",
        "print(user_df.loc['1'])"
      ],
      "metadata": {
        "colab": {
          "base_uri": "https://localhost:8080/"
        },
        "id": "gKEUAsFjp4nf",
        "outputId": "5ef9d99e-4d45-4f48-92f6-ea00db3d711d"
      },
      "execution_count": 7,
      "outputs": [
        {
          "output_type": "stream",
          "name": "stdout",
          "text": [
            "(2980, 21)\n",
            "user_id               9de9e40b3727c667a5b7c1664aa59a5b\n",
            "name                                             Bobby\n",
            "review_count                                       376\n",
            "yelping_since                      2010-03-10 23:55:33\n",
            "useful                                            1754\n",
            "funny                                             1036\n",
            "cool                                              1124\n",
            "elite                    2013,2014,2015,2016,2017,2018\n",
            "fans                                                39\n",
            "average_stars                                     3.64\n",
            "compliment_hot                                      47\n",
            "compliment_more                                      6\n",
            "compliment_profile                                   2\n",
            "compliment_cute                                      2\n",
            "compliment_list                                      1\n",
            "compliment_note                                     38\n",
            "compliment_plain                                    77\n",
            "compliment_cool                                    106\n",
            "compliment_funny                                   106\n",
            "compliment_writer                                   52\n",
            "compliment_photos                                    3\n",
            "Name: 1, dtype: object\n"
          ]
        }
      ]
    },
    {
      "cell_type": "markdown",
      "source": [
        "##Item info"
      ],
      "metadata": {
        "id": "AOQXAN_65LOi"
      }
    },
    {
      "cell_type": "code",
      "source": [
        "print(item_df.shape)\n",
        "print(item_df.loc['1'])"
      ],
      "metadata": {
        "colab": {
          "base_uri": "https://localhost:8080/"
        },
        "id": "MYljczgfqv1N",
        "outputId": "00331168-2a15-49c7-b3d6-b6237b395eb3"
      },
      "execution_count": 8,
      "outputs": [
        {
          "output_type": "stream",
          "name": "stdout",
          "text": [
            "(5964, 14)\n",
            "business_id                      334a85d83ec4545b5b2b4581e5182c47\n",
            "name                                 Nee House Chinese Restaurant\n",
            "address                                13843 N Tatum Blvd, Ste 15\n",
            "city                                                      Phoenix\n",
            "state                                                          AZ\n",
            "postal_code                                                 85032\n",
            "latitude                                                 33.61302\n",
            "longitude                                             -111.977036\n",
            "stars                                                         3.5\n",
            "review_count                                                  269\n",
            "is_open                                                         1\n",
            "attributes      {'Caters': 'True', 'GoodForKids': 'True', 'Noi...\n",
            "categories                                   Chinese, Restaurants\n",
            "hours           {'Monday': '11:0-21:0', 'Tuesday': '11:0-21:0'...\n",
            "Name: 1, dtype: object\n"
          ]
        }
      ]
    },
    {
      "cell_type": "markdown",
      "source": [
        "## Nested columns info"
      ],
      "metadata": {
        "id": "PA_g8af5m2hb"
      }
    },
    {
      "cell_type": "markdown",
      "source": [
        "### 'item_hours'"
      ],
      "metadata": {
        "id": "_9m-DNvPm_c1"
      }
    },
    {
      "cell_type": "code",
      "source": [
        "print(type(item_df.loc['0']['hours']))\n",
        "print(item_df.loc['10']['hours'])\n",
        "print(item_df.loc['100']['hours'])\n",
        "print(item_df.loc['1000']['hours'])"
      ],
      "metadata": {
        "colab": {
          "base_uri": "https://localhost:8080/"
        },
        "id": "IWYiIWGOnBSv",
        "outputId": "a9918b19-f662-4cbc-906e-625c984aaaad"
      },
      "execution_count": 9,
      "outputs": [
        {
          "output_type": "stream",
          "name": "stdout",
          "text": [
            "<class 'str'>\n",
            "{'Monday': '0:0-0:0', 'Tuesday': '11:0-22:0', 'Wednesday': '11:0-22:0', 'Thursday': '11:0-22:0', 'Friday': '11:0-23:0', 'Saturday': '11:0-23:0', 'Sunday': '11:0-0:0'}\n",
            "{'Monday': '11:0-22:0', 'Tuesday': '11:0-22:0', 'Wednesday': '11:0-22:0', 'Thursday': '11:0-22:0', 'Friday': '11:0-23:0', 'Saturday': '10:30-23:0', 'Sunday': '10:30-22:0'}\n",
            "{'Monday': '10:30-21:0', 'Tuesday': '10:30-21:0', 'Wednesday': '10:30-21:0', 'Thursday': '10:30-21:0', 'Friday': '10:30-21:0', 'Saturday': '10:30-21:0', 'Sunday': '11:0-20:0'}\n"
          ]
        }
      ]
    },
    {
      "cell_type": "markdown",
      "source": [
        "### 'item_attributes'"
      ],
      "metadata": {
        "id": "74sf5dnrABGH"
      }
    },
    {
      "cell_type": "code",
      "source": [
        "print(type(item_df.loc['0']['attributes']))\n",
        "print(item_df.loc['0']['attributes'])\n",
        "print(item_df.loc['10']['attributes'])\n",
        "print(item_df.loc['50']['attributes'])\n",
        "print(item_df.loc['100']['attributes'])\n",
        "print(item_df.loc['500']['attributes'])\n",
        "print(item_df.loc['1000']['attributes'])\n",
        "print(item_df.loc['5000']['attributes'])"
      ],
      "metadata": {
        "colab": {
          "base_uri": "https://localhost:8080/"
        },
        "id": "ttht43LPABqM",
        "outputId": "5c68ebfc-d8e8-4381-bf03-d09ef3e2f108"
      },
      "execution_count": 10,
      "outputs": [
        {
          "output_type": "stream",
          "name": "stdout",
          "text": [
            "<class 'str'>\n",
            "{'CoatCheck': 'False', 'BusinessParking': \"{'garage': False, 'street': True, 'validated': False, 'lot': False, 'valet': False}\", 'HappyHour': 'True', 'Smoking': \"u'no'\", 'WiFi': \"u'free'\", 'RestaurantsTableService': 'False', 'RestaurantsDelivery': 'False', 'Alcohol': \"u'full_bar'\", 'RestaurantsPriceRange2': '2', 'HasTV': 'False', 'Caters': 'True', 'Music': \"{'dj': False, 'background_music': True, 'jukebox': False, 'live': False, 'video': False, 'karaoke': False}\", 'RestaurantsTakeOut': 'True', 'BestNights': \"{'monday': False, 'tuesday': False, 'friday': True, 'wednesday': True, 'thursday': True, 'sunday': False, 'saturday': False}\", 'WheelchairAccessible': 'True', 'BusinessAcceptsCreditCards': 'True', 'GoodForKids': 'False', 'BusinessAcceptsBitcoin': 'False', 'GoodForDancing': 'False', 'BikeParking': 'True', 'RestaurantsAttire': \"u'casual'\", 'RestaurantsGoodForGroups': 'True', 'NoiseLevel': \"u'average'\", 'RestaurantsReservations': 'False', 'Ambience': \"{'romantic': False, 'intimate': False, 'classy': False, 'hipster': True, 'divey': False, 'touristy': False, 'trendy': False, 'upscale': False, 'casual': True}\", 'GoodForMeal': \"{'dessert': False, 'latenight': False, 'lunch': False, 'dinner': True, 'brunch': False, 'breakfast': False}\", 'OutdoorSeating': 'False'}\n",
            "{'HasTV': 'True', 'RestaurantsTakeOut': 'True', 'NoiseLevel': \"u'average'\", 'RestaurantsGoodForGroups': 'True', 'BusinessParking': \"{'garage': False, 'street': True, 'validated': False, 'lot': False, 'valet': False}\", 'Alcohol': \"u'full_bar'\", 'RestaurantsPriceRange2': '2', 'OutdoorSeating': 'True', 'RestaurantsReservations': 'True', 'RestaurantsAttire': \"u'casual'\", 'Caters': 'False', 'RestaurantsDelivery': 'True', 'BikeParking': 'True', 'Ambience': \"{'touristy': False, 'hipster': False, 'romantic': False, 'intimate': False, 'trendy': True, 'upscale': False, 'classy': False, 'casual': True}\", 'WheelchairAccessible': 'True', 'GoodForKids': 'True', 'GoodForMeal': \"{'dessert': False, 'latenight': False, 'lunch': False, 'dinner': True, 'brunch': False, 'breakfast': False}\", 'WiFi': \"'free'\", 'RestaurantsTableService': 'True'}\n",
            "{'Alcohol': \"'full_bar'\", 'BikeParking': 'True', 'RestaurantsPriceRange2': '2', 'RestaurantsGoodForGroups': 'True', 'BYOBCorkage': \"'no'\", 'RestaurantsTakeOut': 'True', 'HasTV': 'True', 'WiFi': \"u'free'\", 'OutdoorSeating': 'True', 'NoiseLevel': \"'loud'\", 'GoodForKids': 'True', 'RestaurantsAttire': \"'casual'\", 'RestaurantsDelivery': 'False', 'BusinessParking': \"{'garage': False, 'street': False, 'validated': False, 'lot': True, 'valet': False}\", 'BusinessAcceptsCreditCards': 'True', 'GoodForMeal': \"{'dessert': False, 'latenight': False, 'lunch': False, 'dinner': True, 'brunch': False, 'breakfast': False}\", 'Ambience': \"{'romantic': False, 'intimate': False, 'touristy': False, 'hipster': False, 'divey': False, 'classy': False, 'trendy': False, 'upscale': False, 'casual': True}\", 'Caters': 'True', 'RestaurantsReservations': 'False'}\n",
            "{'Caters': 'False', 'BusinessAcceptsCreditCards': 'True', 'WiFi': \"u'free'\", 'RestaurantsTakeOut': 'True', 'WheelchairAccessible': 'True', 'RestaurantsTableService': 'True', 'BusinessParking': \"{'garage': False, 'street': False, 'validated': False, 'lot': True, 'valet': True}\", 'Alcohol': \"u'full_bar'\", 'HasTV': 'True', 'RestaurantsDelivery': 'False', 'RestaurantsReservations': 'True', 'Ambience': \"{'touristy': False, 'hipster': False, 'romantic': False, 'divey': False, 'intimate': False, 'trendy': True, 'upscale': False, 'classy': False, 'casual': False}\", 'GoodForKids': 'False', 'GoodForMeal': \"{'dessert': False, 'latenight': False, 'lunch': True, 'dinner': True, 'brunch': True, 'breakfast': False}\", 'DogsAllowed': 'False', 'RestaurantsGoodForGroups': 'True', 'BestNights': \"{'monday': False, 'tuesday': False, 'friday': True, 'wednesday': False, 'thursday': False, 'sunday': True, 'saturday': True}\", 'RestaurantsPriceRange2': '3', 'CoatCheck': 'False', 'HappyHour': 'True', 'OutdoorSeating': 'False', 'NoiseLevel': \"u'loud'\", 'GoodForDancing': 'False', 'BikeParking': 'False', 'Smoking': \"u'no'\", 'RestaurantsAttire': \"u'casual'\", 'Music': \"{'dj': False, 'background_music': False, 'no_music': False, 'jukebox': False, 'live': False, 'video': False, 'karaoke': False}\"}\n",
            "{'BusinessParking': \"{'garage': False, 'street': False, 'validated': False, 'lot': False, 'valet': False}\", 'Alcohol': \"u'none'\", 'RestaurantsDelivery': 'False', 'RestaurantsAttire': \"u'casual'\", 'GoodForMeal': \"{'dessert': False, 'latenight': False, 'lunch': True, 'dinner': False, 'brunch': True, 'breakfast': True}\", 'RestaurantsReservations': 'False', 'Caters': 'False', 'HasTV': 'False', 'RestaurantsTakeOut': 'True', 'NoiseLevel': \"u'average'\", 'RestaurantsGoodForGroups': 'True', 'BikeParking': 'True', 'GoodForKids': 'True', 'BusinessAcceptsCreditCards': 'True', 'OutdoorSeating': 'True', 'WiFi': \"u'no'\", 'RestaurantsPriceRange2': '2', 'Ambience': \"{'romantic': False, 'intimate': False, 'classy': False, 'hipster': False, 'divey': False, 'touristy': False, 'trendy': False, 'upscale': False, 'casual': True}\", 'RestaurantsTableService': 'True'}\n",
            "{'HasTV': 'False', 'BusinessAcceptsCreditCards': 'True', 'RestaurantsDelivery': 'False', 'RestaurantsGoodForGroups': 'True', 'OutdoorSeating': 'True', 'RestaurantsReservations': 'False', 'BusinessParking': \"{'garage': False, 'street': False, 'validated': False, 'lot': True, 'valet': False}\", 'BikeParking': 'True', 'GoodForKids': 'True', 'RestaurantsPriceRange2': '2', 'Ambience': \"{'romantic': False, 'intimate': False, 'touristy': False, 'hipster': False, 'divey': False, 'classy': False, 'trendy': False, 'upscale': False, 'casual': True}\", 'Alcohol': \"u'none'\", 'GoodForMeal': \"{'dessert': False, 'latenight': False, 'lunch': True, 'dinner': True, 'brunch': False, 'breakfast': False}\", 'RestaurantsTakeOut': 'True', 'WiFi': \"'no'\", 'NoiseLevel': \"u'average'\", 'RestaurantsAttire': \"'casual'\", 'Caters': 'True'}\n",
            "{'RestaurantsReservations': 'True', 'BusinessAcceptsCreditCards': 'True', 'GoodForMeal': \"{'dessert': True, 'latenight': False, 'lunch': True, 'dinner': True, 'brunch': False, 'breakfast': False}\", 'NoiseLevel': \"u'average'\", 'BusinessAcceptsBitcoin': 'False', 'DogsAllowed': 'False', 'Alcohol': \"'full_bar'\", 'RestaurantsTableService': 'True', 'RestaurantsDelivery': 'False', 'BikeParking': 'True', 'Ambience': \"{'romantic': False, 'intimate': False, 'classy': False, 'hipster': False, 'divey': False, 'touristy': False, 'trendy': False, 'upscale': False, 'casual': True}\", 'WiFi': \"u'free'\", 'RestaurantsAttire': \"'casual'\", 'RestaurantsGoodForGroups': 'True', 'RestaurantsTakeOut': 'True', 'Caters': 'False', 'GoodForKids': 'True', 'HasTV': 'True', 'RestaurantsPriceRange2': '2', 'BusinessParking': \"{'garage': False, 'street': False, 'validated': False, 'lot': True, 'valet': False}\", 'WheelchairAccessible': 'True', 'OutdoorSeating': 'True'}\n"
          ]
        }
      ]
    },
    {
      "cell_type": "markdown",
      "source": [
        "#### nested attributes"
      ],
      "metadata": {
        "id": "Ii8BA-1ZnYVG"
      }
    },
    {
      "cell_type": "markdown",
      "source": [
        "Inside 'item_attributes': 'BusinessParking', 'GoodForMeal', 'Ambience', 'BestNights', 'Music' have their own attributes\n"
      ],
      "metadata": {
        "id": "R6H9cxTf9eld"
      }
    },
    {
      "cell_type": "markdown",
      "source": [
        "# Extract item_attributes"
      ],
      "metadata": {
        "id": "vBkuQ98-8ORk"
      }
    },
    {
      "cell_type": "markdown",
      "source": [
        "These features will be considered:\n",
        "* NoiseLevel\n",
        "* RestaurantsAttire\n",
        "* RestaurantsTakeOut\n",
        "* RestaurantsReservations\n",
        "* RestaurantsDelivery\n",
        "* Alcohol\n",
        "* RestaurantsPriceRange2\n",
        "* BikeParking\n",
        "* HappyHour\n",
        "* OutdoorSeating\n",
        "* RestaurantsGoodForGroups\n",
        "* HasTV\n",
        "* Caters\n",
        "* GoodForKids\n",
        "* BusinessAcceptsCreditCards\n",
        "* WiFi\n",
        "* GoodForDancing\n",
        "* Smoking\n",
        "* RestaurantsTableService\n",
        "* BYOBCorkage\n",
        "* CoatCheck\n",
        "\n",
        "-> Create a vocab of possible vals of each feat listed above. \\\n",
        "-> A corresponding id val will map to each val in its vocab. \n",
        "\n",
        "Note that not every business has all listed feats \\\n",
        "-> Give NaN to the missing feat of a restaurant and map to index 0 in a feat’s vocabulary. The same was done for the other cate feats."
      ],
      "metadata": {
        "id": "U4QPi9kJ-dAB"
      }
    },
    {
      "cell_type": "code",
      "source": [
        "import json\n",
        "import ast\n",
        "import csv\n",
        "from tqdm import tqdm\n",
        "import numpy as np"
      ],
      "metadata": {
        "id": "3Xat5nio8eUq"
      },
      "execution_count": 11,
      "outputs": []
    },
    {
      "cell_type": "markdown",
      "source": [
        "Parse 'item_hours' and 'item_attributes'"
      ],
      "metadata": {
        "id": "VW1VwbiRvk0Q"
      }
    },
    {
      "cell_type": "code",
      "source": [
        "for i in range(10):\n",
        "  print(item_df['hours'][i])"
      ],
      "metadata": {
        "colab": {
          "base_uri": "https://localhost:8080/"
        },
        "id": "2a7Xe0izr2md",
        "outputId": "60af4229-faa0-4286-8c93-32de36568a96"
      },
      "execution_count": 12,
      "outputs": [
        {
          "output_type": "stream",
          "name": "stdout",
          "text": [
            "{'Wednesday': '17:0-0:0', 'Thursday': '17:0-0:0', 'Friday': '17:0-0:0', 'Saturday': '17:0-0:0', 'Sunday': '17:0-0:0'}\n",
            "{'Monday': '11:0-21:0', 'Tuesday': '11:0-21:0', 'Wednesday': '11:0-21:0', 'Thursday': '11:0-21:0', 'Friday': '11:0-21:30', 'Saturday': '11:0-21:30', 'Sunday': '11:0-21:30'}\n",
            "{'Monday': '11:0-22:0', 'Tuesday': '11:0-22:0', 'Wednesday': '11:0-22:0', 'Thursday': '11:0-22:0', 'Friday': '11:0-0:0', 'Saturday': '11:0-0:0', 'Sunday': '10:0-22:0'}\n",
            "{'Monday': '0:0-0:0', 'Tuesday': '9:0-15:0', 'Wednesday': '9:0-14:0', 'Thursday': '11:0-16:0', 'Friday': '9:0-15:0', 'Saturday': '9:0-15:0', 'Sunday': '9:0-16:0'}\n",
            "{'Monday': '11:0-21:0', 'Tuesday': '11:0-21:0', 'Wednesday': '11:0-21:0', 'Thursday': '11:0-21:0', 'Friday': '11:0-21:0', 'Saturday': '11:0-21:0', 'Sunday': '11:0-21:0'}\n",
            "{'Monday': '11:0-22:0', 'Tuesday': '11:0-22:0', 'Wednesday': '11:0-22:0', 'Thursday': '11:0-22:0', 'Friday': '11:0-22:0', 'Saturday': '11:0-22:0', 'Sunday': '11:0-20:0'}\n",
            "{'Monday': '16:0-0:0', 'Tuesday': '16:0-0:0', 'Wednesday': '16:0-0:0', 'Thursday': '16:0-0:0', 'Friday': '16:0-0:0', 'Saturday': '16:0-0:0', 'Sunday': '16:0-0:0'}\n",
            "{'Monday': '7:0-23:0', 'Tuesday': '7:0-23:0', 'Wednesday': '7:0-23:0', 'Thursday': '7:0-23:0', 'Friday': '7:0-23:0', 'Saturday': '7:0-23:0', 'Sunday': '7:0-23:0'}\n",
            "{'Monday': '0:0-0:0', 'Tuesday': '0:0-0:0', 'Wednesday': '0:0-0:0', 'Thursday': '0:0-0:0', 'Friday': '0:0-0:0', 'Saturday': '0:0-0:0', 'Sunday': '0:0-0:0'}\n",
            "{'Monday': '11:0-21:30', 'Tuesday': '11:0-21:30', 'Wednesday': '11:0-21:30', 'Thursday': '11:0-21:30', 'Friday': '11:0-22:0', 'Saturday': '11:0-22:0', 'Sunday': '11:0-21:30'}\n"
          ]
        }
      ]
    },
    {
      "cell_type": "code",
      "source": [
        "for i in range(10):\n",
        "  print(item_df['attributes'][i])"
      ],
      "metadata": {
        "colab": {
          "base_uri": "https://localhost:8080/"
        },
        "id": "D5exhOPC225K",
        "outputId": "d828ed2a-51f9-4daf-bff2-aad2950f0592"
      },
      "execution_count": 13,
      "outputs": [
        {
          "output_type": "stream",
          "name": "stdout",
          "text": [
            "{'CoatCheck': 'False', 'BusinessParking': \"{'garage': False, 'street': True, 'validated': False, 'lot': False, 'valet': False}\", 'HappyHour': 'True', 'Smoking': \"u'no'\", 'WiFi': \"u'free'\", 'RestaurantsTableService': 'False', 'RestaurantsDelivery': 'False', 'Alcohol': \"u'full_bar'\", 'RestaurantsPriceRange2': '2', 'HasTV': 'False', 'Caters': 'True', 'Music': \"{'dj': False, 'background_music': True, 'jukebox': False, 'live': False, 'video': False, 'karaoke': False}\", 'RestaurantsTakeOut': 'True', 'BestNights': \"{'monday': False, 'tuesday': False, 'friday': True, 'wednesday': True, 'thursday': True, 'sunday': False, 'saturday': False}\", 'WheelchairAccessible': 'True', 'BusinessAcceptsCreditCards': 'True', 'GoodForKids': 'False', 'BusinessAcceptsBitcoin': 'False', 'GoodForDancing': 'False', 'BikeParking': 'True', 'RestaurantsAttire': \"u'casual'\", 'RestaurantsGoodForGroups': 'True', 'NoiseLevel': \"u'average'\", 'RestaurantsReservations': 'False', 'Ambience': \"{'romantic': False, 'intimate': False, 'classy': False, 'hipster': True, 'divey': False, 'touristy': False, 'trendy': False, 'upscale': False, 'casual': True}\", 'GoodForMeal': \"{'dessert': False, 'latenight': False, 'lunch': False, 'dinner': True, 'brunch': False, 'breakfast': False}\", 'OutdoorSeating': 'False'}\n",
            "{'Caters': 'True', 'GoodForKids': 'True', 'NoiseLevel': \"u'average'\", 'RestaurantsPriceRange2': '2', 'BusinessAcceptsCreditCards': 'True', 'HasTV': 'False', 'OutdoorSeating': 'False', 'RestaurantsTakeOut': 'True', 'RestaurantsTableService': 'True', 'RestaurantsDelivery': 'False', 'BusinessParking': \"{'garage': False, 'street': False, 'validated': False, 'lot': True, 'valet': False}\", 'RestaurantsReservations': 'True', 'BikeParking': 'True', 'GoodForMeal': \"{'dessert': False, 'latenight': False, 'lunch': True, 'dinner': True, 'brunch': False, 'breakfast': False}\", 'Ambience': \"{'romantic': False, 'intimate': False, 'touristy': False, 'hipster': False, 'divey': False, 'classy': False, 'trendy': False, 'upscale': False, 'casual': True}\", 'WiFi': \"u'no'\", 'Alcohol': \"'beer_and_wine'\", 'RestaurantsGoodForGroups': 'True', 'RestaurantsAttire': \"'casual'\"}\n",
            "{'OutdoorSeating': 'True', 'HasTV': 'True', 'NoiseLevel': \"u'average'\", 'Alcohol': \"u'full_bar'\", 'BusinessAcceptsCreditCards': 'True', 'RestaurantsAttire': \"u'casual'\", 'Caters': 'False', 'RestaurantsDelivery': 'False', 'RestaurantsTakeOut': 'True', 'Ambience': \"{'romantic': False, 'intimate': True, 'classy': False, 'hipster': False, 'divey': False, 'touristy': False, 'trendy': False, 'upscale': False, 'casual': False}\", 'RestaurantsGoodForGroups': 'True', 'BusinessParking': \"{'garage': False, 'street': True, 'validated': False, 'lot': False, 'valet': False}\", 'GoodForKids': 'False', 'RestaurantsPriceRange2': '2', 'WiFi': \"u'free'\", 'BikeParking': 'True', 'RestaurantsReservations': 'True'}\n",
            "{'DriveThru': 'False', 'RestaurantsAttire': \"'casual'\", 'NoiseLevel': \"'quiet'\", 'RestaurantsGoodForGroups': 'True', 'WiFi': \"'no'\", 'Alcohol': \"u'beer_and_wine'\", 'WheelchairAccessible': 'True', 'DogsAllowed': 'False', 'BusinessAcceptsCreditCards': 'True', 'BusinessAcceptsBitcoin': 'False', 'GoodForMeal': \"{'dessert': False, 'latenight': False, 'lunch': True, 'dinner': False, 'brunch': True, 'breakfast': True}\", 'Caters': 'True', 'HasTV': 'False', 'RestaurantsTakeOut': 'True', 'RestaurantsTableService': 'True', 'BikeParking': 'False', 'RestaurantsReservations': 'True', 'RestaurantsDelivery': 'False', 'RestaurantsPriceRange2': '2', 'GoodForKids': 'True', 'Ambience': \"{'touristy': False, 'hipster': False, 'romantic': False, 'divey': False, 'intimate': False, 'trendy': True, 'upscale': False, 'classy': False, 'casual': True}\", 'BusinessParking': \"{'garage': False, 'street': False, 'validated': False, 'lot': True, 'valet': False}\", 'OutdoorSeating': 'False'}\n",
            "{'RestaurantsReservations': 'True', 'BusinessAcceptsCreditCards': 'True', 'OutdoorSeating': 'True', 'Ambience': \"{'romantic': False, 'intimate': False, 'touristy': False, 'hipster': False, 'divey': False, 'classy': False, 'trendy': False, 'upscale': False, 'casual': True}\", 'HasTV': 'True', 'BusinessParking': \"{'garage': False, 'street': False, 'validated': False, 'lot': True, 'valet': False}\", 'BikeParking': 'True', 'WiFi': \"u'free'\", 'RestaurantsGoodForGroups': 'True', 'RestaurantsTakeOut': 'True', 'NoiseLevel': \"u'average'\", 'GoodForMeal': \"{'dessert': False, 'latenight': False, 'lunch': True, 'dinner': True, 'brunch': False, 'breakfast': False}\", 'Alcohol': \"u'beer_and_wine'\", 'RestaurantsAttire': \"u'casual'\", 'GoodForKids': 'True', 'Caters': 'True', 'RestaurantsPriceRange2': '1', 'RestaurantsDelivery': 'False'}\n",
            "{'Alcohol': \"u'beer_and_wine'\", 'BikeParking': 'True', 'OutdoorSeating': 'True', 'RestaurantsPriceRange2': '2', 'RestaurantsDelivery': 'True', 'HasTV': 'False', 'Ambience': \"{'romantic': False, 'intimate': False, 'classy': False, 'hipster': False, 'divey': False, 'touristy': False, 'trendy': False, 'upscale': False, 'casual': True}\", 'BusinessParking': \"{'garage': False, 'street': True, 'validated': False, 'lot': False, 'valet': False}\", 'RestaurantsAttire': \"u'casual'\", 'RestaurantsReservations': 'False', 'Caters': 'True', 'RestaurantsGoodForGroups': 'True', 'RestaurantsTakeOut': 'True', 'WiFi': \"u'free'\", 'GoodForMeal': \"{'dessert': False, 'latenight': False, 'lunch': True, 'dinner': False, 'brunch': False, 'breakfast': False}\", 'GoodForKids': 'True', 'NoiseLevel': \"u'average'\"}\n",
            "{'BusinessAcceptsCreditCards': 'True', 'RestaurantsTakeOut': 'False', 'RestaurantsReservations': 'True', 'WiFi': \"u'no'\", 'RestaurantsPriceRange2': '3', 'Alcohol': \"'full_bar'\", 'OutdoorSeating': 'False', 'RestaurantsAttire': \"u'casual'\", 'Ambience': \"{'touristy': False, 'hipster': False, 'romantic': False, 'divey': False, 'intimate': False, 'trendy': False, 'upscale': False, 'classy': False, 'casual': False}\", 'GoodForKids': 'False', 'Caters': 'False', 'BikeParking': 'False', 'NoiseLevel': \"u'average'\", 'RestaurantsDelivery': 'False', 'GoodForMeal': \"{'dessert': False, 'latenight': False, 'lunch': False, 'dinner': True, 'brunch': False, 'breakfast': False}\", 'RestaurantsGoodForGroups': 'True', 'HasTV': 'True', 'BusinessParking': \"{'garage': False, 'street': False, 'validated': False, 'lot': True, 'valet': False}\"}\n",
            "{'RestaurantsTakeOut': 'True', 'RestaurantsDelivery': 'False', 'RestaurantsGoodForGroups': 'True', 'RestaurantsAttire': \"'casual'\", 'Ambience': \"{'romantic': False, 'intimate': False, 'touristy': False, 'hipster': False, 'divey': False, 'classy': False, 'trendy': False, 'upscale': False, 'casual': True}\", 'OutdoorSeating': 'False', 'BYOBCorkage': \"'yes_free'\", 'Caters': 'False', 'GoodForKids': 'True', 'RestaurantsPriceRange2': '2', 'Corkage': 'False', 'WiFi': \"'no'\", 'NoiseLevel': \"u'average'\", 'Alcohol': \"'none'\", 'RestaurantsReservations': 'False', 'BusinessParking': \"{'garage': True, 'street': False, 'validated': False, 'lot': False, 'valet': False}\", 'HasTV': 'False', 'BikeParking': 'False', 'GoodForMeal': \"{'dessert': True, 'latenight': False, 'lunch': True, 'dinner': False, 'brunch': False, 'breakfast': True}\", 'BusinessAcceptsCreditCards': 'True'}\n",
            "{'RestaurantsDelivery': 'False', 'RestaurantsTakeOut': 'False', 'RestaurantsGoodForGroups': 'True', 'RestaurantsPriceRange2': '1', 'Alcohol': \"u'beer_and_wine'\", 'BYOBCorkage': \"'yes_free'\", 'Corkage': 'False', 'RestaurantsAttire': \"'casual'\", 'BusinessParking': \"{'garage': True, 'street': False, 'validated': False, 'lot': True, 'valet': False}\", 'WiFi': \"'free'\", 'BYOB': 'False', 'NoiseLevel': \"u'average'\", 'OutdoorSeating': 'False', 'Caters': 'False', 'HasTV': 'False', 'BikeParking': 'True', 'Ambience': \"{'romantic': False, 'intimate': False, 'touristy': False, 'hipster': False, 'divey': False, 'classy': False, 'trendy': False, 'upscale': False, 'casual': True}\", 'RestaurantsReservations': 'False', 'RestaurantsTableService': 'True', 'BusinessAcceptsCreditCards': 'True', 'GoodForMeal': \"{'dessert': False, 'latenight': False, 'lunch': True, 'dinner': False, 'brunch': True, 'breakfast': True}\", 'WheelchairAccessible': 'True', 'GoodForKids': 'True'}\n",
            "{'OutdoorSeating': 'False', 'RestaurantsGoodForGroups': 'False', 'RestaurantsTakeOut': 'True', 'GoodForKids': 'True', 'BikeParking': 'True', 'WiFi': \"u'no'\", 'RestaurantsAttire': \"u'casual'\", 'RestaurantsDelivery': 'True', 'Alcohol': \"u'none'\", 'RestaurantsReservations': 'False', 'HasTV': 'True', 'BusinessAcceptsCreditCards': 'True', 'RestaurantsPriceRange2': '1', 'Caters': 'True', 'BusinessParking': \"{'garage': False, 'street': False, 'validated': False, 'lot': True, 'valet': False}\", 'Ambience': \"{'romantic': False, 'intimate': False, 'touristy': False, 'hipster': False, 'divey': True, 'classy': False, 'trendy': False, 'upscale': False, 'casual': False}\", 'NoiseLevel': \"'average'\"}\n"
          ]
        }
      ]
    },
    {
      "cell_type": "markdown",
      "source": [
        "# Generate full_business.csv"
      ],
      "metadata": {
        "id": "utlTzzrd86EL"
      }
    },
    {
      "cell_type": "code",
      "source": [
        "def parse_data(source, output_path):\n",
        "    # setup an array for writing each row in the csv file\n",
        "    rows = []\n",
        "    # extract fields from business.csv\n",
        "    # setup an array for storing each csv entry\n",
        "    business_data = []\n",
        "    # setup an array for headers we are not using strictly\n",
        "    removed_header = ['hours', 'attributes']\n",
        "    # setup an array for headers we are adding\n",
        "    business_header_additions = [# item_hours\n",
        "                                 'Sunday_Open', 'Sunday_Close', 'Monday_Open', 'Monday_Close', 'Tuesday_Open',\n",
        "                                 'Tuesday_Close', 'Wednesday_Open', 'Wednesday_Close', 'Thursday_Open',\n",
        "                                 'Thursday_Close', 'Friday_Open', 'Friday_Close', 'Saturday_Open', 'Saturday_Close',\n",
        "                                 # item_attributes\n",
        "                                 'NoiseLevel', 'RestaurantsAttire', \"RestaurantsTakeOut\", 'RestaurantsReservations',\n",
        "                                 'RestaurantsDelivery', 'Alcohol','RestaurantsPriceRange2', 'BikeParking',\n",
        "                                 'HappyHour', 'OutdoorSeating','RestaurantsGoodForGroups',\n",
        "                                 'HasTV', 'Caters', 'GoodForKids', 'BusinessAcceptsCreditCards',\n",
        "                                 'WiFi', 'GoodForDancing', 'Smoking', 'RestaurantsTableService', 'BYOBCorkage', 'CoatCheck',\n",
        "                                 # BusinessParking in item_attributes\n",
        "                                 'Parking_Street', 'Parking_Valet', 'Parking_Lot', 'Parking_Garage', 'Parking_Validated',\n",
        "                                 # GoodForMeal in item_attributes\n",
        "                                 'GoodFor_dessert', 'GoodFor_latenight', 'GoodFor_lunch', 'GoodFor_dinner', 'GoodFor_brunch', 'GoodFor_breakfast',\n",
        "                                 # Ambience in item_attributes\n",
        "                                 'Ambience_romantic', 'Ambience_intimate', 'Ambience_classy', 'Ambience_hipster',\n",
        "                                 'Ambience_divey', 'Ambience_touristy', 'Ambience_trendy', 'Ambience_upscale', 'Ambience_casual',\n",
        "                                 # Music in item_attributes\n",
        "                                 'Music_dj', 'Music_background_music', 'Music_jukebox', 'Music_live', 'Music_video', 'Music_karaoke',\n",
        "                                 # BestNights in item_attributes\n",
        "                                 'BestNights_monday', 'BestNights_tuesday', 'BestNights_friday', 'BestNights_wednesday',\n",
        "                                 'BestNights_thursday', 'BestNights_sunday', 'BestNights_saturday']\n",
        "                                 \n",
        "    numData = item_df.shape[0]\n",
        "    for i in range(numData):\n",
        "              business_data.append(item_df.loc[str(i)])\n",
        "    # append the initial keys as csv headers\n",
        "    header = sorted(business_data[0].keys()) \n",
        "    for h in removed_header:\n",
        "        header.remove(h)\n",
        "    orig_header = header\n",
        "\n",
        "    print('processing data in the business dataset...')\n",
        "    # for each entry\n",
        "    # count for an interested attribute\n",
        "    interested = \"HasTV\"\n",
        "    true_count = 0\n",
        "    false_count = 0\n",
        "    nonTFval_count = 0\n",
        "    nan_count = 0\n",
        "    for entry in tqdm(range(0, len(business_data))):\n",
        "        row = []\n",
        "        # keep other columns\n",
        "        for item in orig_header:\n",
        "            if item not in removed_header:\n",
        "                row.append(business_data[entry][item])\n",
        "\n",
        "\n",
        "        # Extract 'item_hours':\n",
        "        curr_dict = {}\n",
        "        source = business_data[entry]['hours'] # str\n",
        "        output = \"\" # convert '' to \"\" for JSON\n",
        "        if str(source) != 'nan':\n",
        "            for char in source:\n",
        "                if char == \"'\":\n",
        "                    output += '\"'\n",
        "                else:\n",
        "                    output += char\n",
        "            curr_dict = json.loads(output)\n",
        "\n",
        "        days_of_week = ['Sunday', 'Monday', 'Tuesday', 'Wednesday', 'Thursday', 'Friday', 'Saturday']\n",
        "        # iterate through the days of the week to extract the open and close times\n",
        "        for time in days_of_week:\n",
        "            # if a time is available\n",
        "            if len(curr_dict) != 0:\n",
        "                if time in curr_dict.keys():\n",
        "                    # append the open time\n",
        "                    row.append(curr_dict[time].split('-')[0])\n",
        "                    # append the closing time\n",
        "                    row.append(curr_dict[time].split('-')[1])\n",
        "                # else if a time is not available\n",
        "                else:\n",
        "                    # append NA for the open time\n",
        "                    row.append(np.nan)\n",
        "                    # append NA for the closing time\n",
        "                    row.append(np.nan)\n",
        "            else:\n",
        "                # append NA for the open time\n",
        "                row.append(np.nan)\n",
        "                # append NA for the closing time\n",
        "                row.append(np.nan)\n",
        "\n",
        "        \n",
        "        # Extract 'item_attributes':\n",
        "        curr_dict = {}\n",
        "        source = business_data[entry]['attributes'] # str\n",
        "        if str(source) != 'nan':\n",
        "            curr_dict = ast.literal_eval(source) # convert str to dict\n",
        "\n",
        "        attributes = ['NoiseLevel', 'RestaurantsAttire', \"RestaurantsTakeOut\", 'RestaurantsReservations',\n",
        "                      'RestaurantsDelivery', 'Alcohol','RestaurantsPriceRange2', 'BikeParking',\n",
        "                      'HappyHour', 'OutdoorSeating','RestaurantsGoodForGroups',\n",
        "                      'HasTV', 'Caters', 'GoodForKids', 'BusinessAcceptsCreditCards',\n",
        "                      'WiFi', 'GoodForDancing', 'Smoking', 'RestaurantsTableService', 'BYOBCorkage', 'CoatCheck']\n",
        "        # for each attribute that is not nested //they are T,F or categorical features\n",
        "        for attribute in attributes:\n",
        "            # if there is an attribute\n",
        "            if len(curr_dict) != 0:\n",
        "                if attribute in curr_dict.keys():\n",
        "                    # if the attribute contains true\n",
        "                    if curr_dict[attribute] == \"True\":\n",
        "                        row.append(1)\n",
        "                        if attribute == interested:\n",
        "                            true_count +=1\n",
        "                    # else if the attribute contains false\n",
        "                    elif curr_dict[attribute] == \"False\":\n",
        "                        row.append(0)\n",
        "                        if attribute == interested:\n",
        "                            false_count +=1\n",
        "                    # else if the attribute is non-empty and not true of false i.e. other types or nested\n",
        "                    elif curr_dict[attribute] is not None:\n",
        "                        # attribute's val != TF\n",
        "                        if attribute == interested:\n",
        "                            nonTFval_count +=1\n",
        "                        row.append(str(curr_dict[attribute]).replace('u', ''))\n",
        "                    else: \n",
        "                        # attribute's val = NaN\n",
        "                        row.append(np.nan)\n",
        "                        if attribute == interested:\n",
        "                            nan_count +=1\n",
        "                else: # attribute not in item_attributes\n",
        "                    row.append(np.nan)\n",
        "                    if attribute == interested:\n",
        "                        nan_count +=1\n",
        "            else: # item_attributes not exist\n",
        "                row.append(np.nan)\n",
        "                if attribute == interested:\n",
        "                    nan_count +=1\n",
        "\n",
        "        # nested attributes: 'BusinessParking', 'GoodForMeal', 'Ambience', 'BestNights', 'Music'\n",
        "        # extract the parking attributes\n",
        "        parking_attributes = ['street', 'valet', 'lot', 'garage', 'validated']\n",
        "        # for each parking attribute\n",
        "        for attribute in parking_attributes:\n",
        "            # if there is an attribute\n",
        "            if len(curr_dict) != 0:\n",
        "                if 'BusinessParking' in curr_dict.keys() and curr_dict['BusinessParking'] != 'None':\n",
        "                    nested_dict = ast.literal_eval(curr_dict['BusinessParking']) # convert str to dict\n",
        "                    # if the parking attribute exists\n",
        "                    if attribute in nested_dict.keys():\n",
        "                        # if the parking attribute is true\n",
        "                        if nested_dict[attribute] == True:\n",
        "                            row.append(1)\n",
        "                        # if the parking attribute is false\n",
        "                        elif nested_dict[attribute] == False:\n",
        "                            row.append(0)\n",
        "                        # note that the parking attributes are all true/false so no need for is not None elif\n",
        "                    # else if the specific attribute is not available\n",
        "                        else:\n",
        "                            row.append(np.nan)\n",
        "                    else:\n",
        "                        row.append(np.nan)\n",
        "                # else if the parking attribute is not availablestr(item).replace('\\n', ' ')\n",
        "                else:\n",
        "                    row.append(np.nan)\n",
        "            else:\n",
        "                row.append(np.nan)\n",
        "\n",
        "        # extract the GoodForMeal attributes\n",
        "        GoodFor_attributes = ['dessert', 'latenight', 'lunch', 'dinner', 'brunch', 'breakfast']\n",
        "        # for each GoodFor attribute\n",
        "        for attribute in GoodFor_attributes:\n",
        "            # if there is an attribute\n",
        "            if len(curr_dict) != 0:\n",
        "                if 'GoodForMeal' in curr_dict.keys() and curr_dict['GoodForMeal'] != 'None':\n",
        "                    nested_dict = ast.literal_eval(curr_dict['GoodForMeal']) # convert str to dict\n",
        "                    # if the GoodFor attribute exists\n",
        "                    if attribute in nested_dict.keys():\n",
        "                        # if the GoodFor attribute is true\n",
        "                        if nested_dict[attribute] == True:\n",
        "                            row.append(1)\n",
        "                        # if the GoodFor attribute is false\n",
        "                        elif nested_dict[attribute] == False:\n",
        "                            row.append(0)\n",
        "                        # note that the GoodFor attributes are all true/false so no need for is not None elif\n",
        "                    # else if the specific attribute is not available\n",
        "                        else:\n",
        "                            row.append(np.nan)\n",
        "                    else:\n",
        "                        row.append(np.nan)\n",
        "                # else if the GoodFor attribute is not availablestr(item).replace('\\n', ' ')\n",
        "                else:\n",
        "                    row.append(np.nan)\n",
        "            else:\n",
        "                row.append(np.nan)\n",
        "\n",
        "        # extract the Ambience attributes\n",
        "        Ambience_attributes = ['romantic', 'intimate', 'classy', 'hipster', 'divey', 'touristy', 'trendy', 'upscale', 'casual']\n",
        "        # for each Ambience attribute\n",
        "        for attribute in Ambience_attributes:\n",
        "            # if there is an attribute\n",
        "            if len(curr_dict) != 0:\n",
        "                if 'Ambience' in curr_dict.keys() and curr_dict['Ambience'] != 'None':\n",
        "                    nested_dict = ast.literal_eval(curr_dict['Ambience']) # convert str to dict\n",
        "                    # if the Ambience attribute exists\n",
        "                    if attribute in nested_dict.keys():\n",
        "                        # if the Ambience attribute is true\n",
        "                        if nested_dict[attribute] == True:\n",
        "                            row.append(1)\n",
        "                        # if the Ambience attribute is false\n",
        "                        elif nested_dict[attribute] == False:\n",
        "                            row.append(0)\n",
        "                        # note that the Ambience attributes are all true/false so no need for is not None elif\n",
        "                    # else if the specific attribute is not available\n",
        "                        else:\n",
        "                            row.append(np.nan)\n",
        "                    else:\n",
        "                        row.append(np.nan)\n",
        "                # else if the Ambience attribute is not availablestr(item).replace('\\n', ' ')\n",
        "                else:\n",
        "                    row.append(np.nan)\n",
        "            else:\n",
        "                row.append(np.nan)\n",
        "\n",
        "        # extract the Music attributes\n",
        "        Music_attributes = ['dj', 'background_music', 'jukebox', 'live', 'video', 'karaoke']\n",
        "        # for each Music attribute\n",
        "        for attribute in Music_attributes:\n",
        "            # if there is an attribute\n",
        "            if len(curr_dict) != 0:\n",
        "                if 'Music' in curr_dict.keys() and curr_dict['Music'] != 'None':\n",
        "                    nested_dict = ast.literal_eval(curr_dict['Music']) # convert str to dict\n",
        "                    # if the Music attribute exists\n",
        "                    if attribute in nested_dict.keys():\n",
        "                        # if the Music attribute is true\n",
        "                        if nested_dict[attribute] == True:\n",
        "                            row.append(1)\n",
        "                        # if the Music attribute is false\n",
        "                        elif nested_dict[attribute] == False:\n",
        "                            row.append(0)\n",
        "                        # note that the Music attributes are all true/false so no need for is not None elif\n",
        "                    # else if the specific attribute is not available\n",
        "                        else:\n",
        "                            row.append(np.nan)\n",
        "                    else:\n",
        "                        row.append(np.nan)\n",
        "                # else if the Music attribute is not availablestr(item).replace('\\n', ' ')\n",
        "                else:\n",
        "                    row.append(np.nan)\n",
        "            else:\n",
        "                row.append(np.nan)\n",
        "\n",
        "        # extract the BestNights attributes\n",
        "        BestNights_attributes = ['monday', 'tuesday', 'friday', 'wednesday', 'thursday', 'sunday', 'saturday']\n",
        "        # for each BestNights attribute\n",
        "        for attribute in BestNights_attributes:\n",
        "            # if there is an attribute\n",
        "            if len(curr_dict) != 0:\n",
        "                if 'BestNights' in curr_dict.keys() and curr_dict['BestNights'] != 'None':\n",
        "                    nested_dict = ast.literal_eval(curr_dict['BestNights']) # convert str to dict\n",
        "                    # if the BestNights attribute exists\n",
        "                    if attribute in nested_dict.keys():\n",
        "                        # if the BestNights attribute is true\n",
        "                        if nested_dict[attribute] == True:\n",
        "                            row.append(1)\n",
        "                        # if the BestNights attribute is false\n",
        "                        elif nested_dict[attribute] == False:\n",
        "                            row.append(0)\n",
        "                        # note that the BestNights attributes are all true/false so no need for is not None elif\n",
        "                    # else if the specific attribute is not available\n",
        "                        else:\n",
        "                            row.append(np.nan)\n",
        "                    else:\n",
        "                        row.append(np.nan)\n",
        "                # else if the BestNights attribute is not availablestr(item).replace('\\n', ' ')\n",
        "                else:\n",
        "                    row.append(np.nan)\n",
        "            else:\n",
        "                row.append(np.nan)\n",
        "        #DONE\n",
        "\n",
        "        # clean up the row entry\n",
        "        row_clean = []\n",
        "        # for every item in the row\n",
        "        for item in row:\n",
        "            # scan and replace for nasty text\n",
        "            row_clean.append(str(item).replace('\\n', ' '))\n",
        "        # after all fields have been extracted and cleaned, append the row to the rows array for writing to csv\n",
        "        rows.append(row_clean)  \n",
        "\n",
        "    # for interested attribute      \n",
        "    print(\"\\n\", len(business_data), interested, \":\", true_count, \"T,\", \n",
        "          false_count, \"F,\", nonTFval_count, \"nonTFval,\", nan_count, \"NaN\")\n",
        "    \n",
        "    #write csv\n",
        "    for headers in business_header_additions:\n",
        "        header.append(headers)\n",
        "    length = len(header)\n",
        "    \n",
        "    # write to csv file\n",
        "    # print(header)\n",
        "    with open(output_path, 'w') as out:\n",
        "        writer = csv.writer(out)\n",
        "        # write the csv headers\n",
        "        writer.writerow(header)\n",
        "        # for each entry in the row array\n",
        "        print('writing contents to csv...')\n",
        "        for entry in tqdm(range(0, len(rows))):\n",
        "            try:\n",
        "                assert(len(rows[entry])==length)\n",
        "                # write the row to the csv\n",
        "                writer.writerow(rows[entry])\n",
        "            # if there is an error, continue to the next row\n",
        "            except UnicodeEncodeError:\n",
        "                continue\n",
        "    out.close()\n",
        "\n",
        "parse_data('business.csv', 'full_business.csv')\n"
      ],
      "metadata": {
        "colab": {
          "base_uri": "https://localhost:8080/"
        },
        "id": "qFO9jjFtVMih",
        "outputId": "32ea589b-645b-4435-c0fb-e1bcca1e7e51"
      },
      "execution_count": 15,
      "outputs": [
        {
          "output_type": "stream",
          "name": "stdout",
          "text": [
            "processing data in the business dataset...\n"
          ]
        },
        {
          "output_type": "stream",
          "name": "stderr",
          "text": [
            "100%|██████████| 5964/5964 [00:05<00:00, 1072.90it/s]\n"
          ]
        },
        {
          "output_type": "stream",
          "name": "stdout",
          "text": [
            "\n",
            " 5964 HasTV : 3052 T, 1880 F, 0 nonTFval, 1032 NaN\n",
            "writing contents to csv...\n"
          ]
        },
        {
          "output_type": "stream",
          "name": "stderr",
          "text": [
            "100%|██████████| 5964/5964 [00:00<00:00, 67396.35it/s]\n"
          ]
        }
      ]
    },
    {
      "cell_type": "markdown",
      "source": [
        "# Test code\n",
        "compare business.csv and full_business.csv"
      ],
      "metadata": {
        "id": "a-czRCRAoThD"
      }
    },
    {
      "cell_type": "code",
      "source": [
        "item_df = pd.read_csv(f\"{data}/business.csv\", index_col=0)\n",
        "item_df = item_df.rename(index=str)\n",
        "itemfull_df = pd.read_csv(\"full_business.csv\")"
      ],
      "metadata": {
        "id": "Rh-XdrUSoTGS"
      },
      "execution_count": 18,
      "outputs": []
    },
    {
      "cell_type": "markdown",
      "source": [
        "## 'item_hours'"
      ],
      "metadata": {
        "id": "jNzA4SdrsPz2"
      }
    },
    {
      "cell_type": "code",
      "source": [
        "item_df.loc['100']['hours']"
      ],
      "metadata": {
        "colab": {
          "base_uri": "https://localhost:8080/",
          "height": 54
        },
        "id": "V-z3Tr9EtUNI",
        "outputId": "7da13f59-b413-431c-bcd1-0843c7d90195"
      },
      "execution_count": 19,
      "outputs": [
        {
          "output_type": "execute_result",
          "data": {
            "text/plain": [
              "\"{'Monday': '11:0-22:0', 'Tuesday': '11:0-22:0', 'Wednesday': '11:0-22:0', 'Thursday': '11:0-22:0', 'Friday': '11:0-23:0', 'Saturday': '10:30-23:0', 'Sunday': '10:30-22:0'}\""
            ],
            "application/vnd.google.colaboratory.intrinsic+json": {
              "type": "string"
            }
          },
          "metadata": {},
          "execution_count": 19
        }
      ]
    },
    {
      "cell_type": "code",
      "source": [
        "itemfull_df.loc[100,'Sunday_Open': 'Saturday_Close']"
      ],
      "metadata": {
        "colab": {
          "base_uri": "https://localhost:8080/"
        },
        "id": "zNHeQ6t0r7DV",
        "outputId": "c61f7ee5-d12a-4524-cb04-a78d1f86b697"
      },
      "execution_count": 20,
      "outputs": [
        {
          "output_type": "execute_result",
          "data": {
            "text/plain": [
              "Sunday_Open        10:30\n",
              "Sunday_Close        22:0\n",
              "Monday_Open         11:0\n",
              "Monday_Close        22:0\n",
              "Tuesday_Open        11:0\n",
              "Tuesday_Close       22:0\n",
              "Wednesday_Open      11:0\n",
              "Wednesday_Close     22:0\n",
              "Thursday_Open       11:0\n",
              "Thursday_Close      22:0\n",
              "Friday_Open         11:0\n",
              "Friday_Close        23:0\n",
              "Saturday_Open      10:30\n",
              "Saturday_Close      23:0\n",
              "Name: 100, dtype: object"
            ]
          },
          "metadata": {},
          "execution_count": 20
        }
      ]
    },
    {
      "cell_type": "markdown",
      "source": [
        "## non-nested 'item_attributes'"
      ],
      "metadata": {
        "id": "IkUYpzCxvuM5"
      }
    },
    {
      "cell_type": "code",
      "source": [
        "keys = ['NoiseLevel', 'RestaurantsAttire', \"RestaurantsTakeOut\", 'RestaurantsReservations',\n",
        "        'RestaurantsDelivery', 'Alcohol','RestaurantsPriceRange2', 'BikeParking',\n",
        "        'HappyHour', 'OutdoorSeating','RestaurantsGoodForGroups',\n",
        "        'HasTV', 'Caters', 'GoodForKids', 'BusinessAcceptsCreditCards',\n",
        "        'WiFi', 'GoodForDancing', 'Smoking', 'RestaurantsTableService', 'BYOBCorkage', 'CoatCheck']\n",
        "curr_dict = ast.literal_eval(item_df.loc['100']['attributes'])\n",
        "[curr_dict.get(key) for key in keys]"
      ],
      "metadata": {
        "colab": {
          "base_uri": "https://localhost:8080/"
        },
        "id": "Th9RXyUjvz-F",
        "outputId": "7867baab-2447-4557-8e1a-3522aadf90e7"
      },
      "execution_count": 21,
      "outputs": [
        {
          "output_type": "execute_result",
          "data": {
            "text/plain": [
              "[\"u'loud'\",\n",
              " \"u'casual'\",\n",
              " 'True',\n",
              " 'True',\n",
              " 'False',\n",
              " \"u'full_bar'\",\n",
              " '3',\n",
              " 'False',\n",
              " 'True',\n",
              " 'False',\n",
              " 'True',\n",
              " 'True',\n",
              " 'False',\n",
              " 'False',\n",
              " 'True',\n",
              " \"u'free'\",\n",
              " 'False',\n",
              " \"u'no'\",\n",
              " 'True',\n",
              " None,\n",
              " 'False']"
            ]
          },
          "metadata": {},
          "execution_count": 21
        }
      ]
    },
    {
      "cell_type": "code",
      "source": [
        "itemfull_df.loc[100,'NoiseLevel': 'CoatCheck']"
      ],
      "metadata": {
        "colab": {
          "base_uri": "https://localhost:8080/"
        },
        "id": "9r-m4zbFwD4H",
        "outputId": "2fe7a2fa-6b38-4cfb-fd19-bda4dc06f4f2"
      },
      "execution_count": 22,
      "outputs": [
        {
          "output_type": "execute_result",
          "data": {
            "text/plain": [
              "NoiseLevel                        'lod'\n",
              "RestaurantsAttire               'casal'\n",
              "RestaurantsTakeOut                  1.0\n",
              "RestaurantsReservations             1.0\n",
              "RestaurantsDelivery                   0\n",
              "Alcohol                       'fll_bar'\n",
              "RestaurantsPriceRange2              3.0\n",
              "BikeParking                           0\n",
              "HappyHour                           1.0\n",
              "OutdoorSeating                      0.0\n",
              "RestaurantsGoodForGroups              1\n",
              "HasTV                               1.0\n",
              "Caters                              0.0\n",
              "GoodForKids                           0\n",
              "BusinessAcceptsCreditCards            1\n",
              "WiFi                             'free'\n",
              "GoodForDancing                      0.0\n",
              "Smoking                            'no'\n",
              "RestaurantsTableService             1.0\n",
              "BYOBCorkage                         NaN\n",
              "CoatCheck                             0\n",
              "Name: 100, dtype: object"
            ]
          },
          "metadata": {},
          "execution_count": 22
        }
      ]
    },
    {
      "cell_type": "markdown",
      "source": [
        "## nested 'item_attributes'"
      ],
      "metadata": {
        "id": "z6yh98zbv26F"
      }
    },
    {
      "cell_type": "markdown",
      "source": [
        "###'BusinessParking'\n"
      ],
      "metadata": {
        "id": "3m9TXetxx6RG"
      }
    },
    {
      "cell_type": "code",
      "source": [
        "keys = ['street', 'valet', 'lot', 'garage', 'validated']\n",
        "curr_dict = ast.literal_eval(item_df.loc['100']['attributes'])\n",
        "nested_dict = ast.literal_eval(curr_dict['BusinessParking'])\n",
        "[nested_dict.get(key) for key in keys]"
      ],
      "metadata": {
        "colab": {
          "base_uri": "https://localhost:8080/"
        },
        "id": "CSwfPwsSyao0",
        "outputId": "f5321fb3-f2b2-4dd7-87b0-9c050b8c3b79"
      },
      "execution_count": 23,
      "outputs": [
        {
          "output_type": "execute_result",
          "data": {
            "text/plain": [
              "[False, True, True, False, False]"
            ]
          },
          "metadata": {},
          "execution_count": 23
        }
      ]
    },
    {
      "cell_type": "code",
      "source": [
        "itemfull_df.loc[100,'Parking_Street': 'Parking_Validated']"
      ],
      "metadata": {
        "colab": {
          "base_uri": "https://localhost:8080/"
        },
        "id": "-iMBWGxGU025",
        "outputId": "47bcacfc-aa42-4270-88dc-418a1bbf46e4"
      },
      "execution_count": 24,
      "outputs": [
        {
          "output_type": "execute_result",
          "data": {
            "text/plain": [
              "Parking_Street       0.0\n",
              "Parking_Valet        1.0\n",
              "Parking_Lot          1.0\n",
              "Parking_Garage       0.0\n",
              "Parking_Validated    0.0\n",
              "Name: 100, dtype: object"
            ]
          },
          "metadata": {},
          "execution_count": 24
        }
      ]
    },
    {
      "cell_type": "markdown",
      "source": [
        "### 'GoodForMeal'"
      ],
      "metadata": {
        "id": "P6Qzt7KU8p76"
      }
    },
    {
      "cell_type": "code",
      "source": [
        "keys = ['dessert', 'latenight', 'lunch', 'dinner', 'brunch', 'breakfast']\n",
        "curr_dict = ast.literal_eval(item_df.loc['100']['attributes'])\n",
        "nested_dict = ast.literal_eval(curr_dict['GoodForMeal'])\n",
        "[nested_dict.get(key) for key in keys]"
      ],
      "metadata": {
        "colab": {
          "base_uri": "https://localhost:8080/"
        },
        "id": "GgC2qpoV-Qiy",
        "outputId": "45a8dae7-3708-4640-c5f2-7edb59a80121"
      },
      "execution_count": 25,
      "outputs": [
        {
          "output_type": "execute_result",
          "data": {
            "text/plain": [
              "[False, False, True, True, True, False]"
            ]
          },
          "metadata": {},
          "execution_count": 25
        }
      ]
    },
    {
      "cell_type": "code",
      "source": [
        "itemfull_df.loc[100,'GoodFor_dessert': 'GoodFor_breakfast']"
      ],
      "metadata": {
        "colab": {
          "base_uri": "https://localhost:8080/"
        },
        "id": "lGUcjQvw8rt8",
        "outputId": "5aaacc53-818e-41e9-8a48-07740bc48987"
      },
      "execution_count": 26,
      "outputs": [
        {
          "output_type": "execute_result",
          "data": {
            "text/plain": [
              "GoodFor_dessert      0.0\n",
              "GoodFor_latenight    0.0\n",
              "GoodFor_lunch        1.0\n",
              "GoodFor_dinner       1.0\n",
              "GoodFor_brunch       1.0\n",
              "GoodFor_breakfast    0.0\n",
              "Name: 100, dtype: object"
            ]
          },
          "metadata": {},
          "execution_count": 26
        }
      ]
    },
    {
      "cell_type": "markdown",
      "source": [
        "### 'Ambience'"
      ],
      "metadata": {
        "id": "gbKkaUMbAweI"
      }
    },
    {
      "cell_type": "code",
      "source": [
        "keys = ['romantic', 'intimate', 'classy', 'hipster', 'divey', 'touristy', 'trendy', 'upscale', 'casual']\n",
        "curr_dict = ast.literal_eval(item_df.loc['100']['attributes'])\n",
        "nested_dict = ast.literal_eval(curr_dict['Ambience'])\n",
        "[nested_dict.get(key) for key in keys]"
      ],
      "metadata": {
        "colab": {
          "base_uri": "https://localhost:8080/"
        },
        "id": "Q_aZwGqIA09f",
        "outputId": "79f0b076-983f-457e-c5fe-c6f6b8e3a7b3"
      },
      "execution_count": 27,
      "outputs": [
        {
          "output_type": "execute_result",
          "data": {
            "text/plain": [
              "[False, False, False, False, False, False, True, False, False]"
            ]
          },
          "metadata": {},
          "execution_count": 27
        }
      ]
    },
    {
      "cell_type": "code",
      "source": [
        "itemfull_df.loc[100, 'Ambience_romantic': 'Ambience_casual']"
      ],
      "metadata": {
        "colab": {
          "base_uri": "https://localhost:8080/"
        },
        "id": "QRRaBahCAzfn",
        "outputId": "8c1d07bc-c7ab-47cc-c7be-d976ebf83849"
      },
      "execution_count": 28,
      "outputs": [
        {
          "output_type": "execute_result",
          "data": {
            "text/plain": [
              "Ambience_romantic    0.0\n",
              "Ambience_intimate    0.0\n",
              "Ambience_classy      0.0\n",
              "Ambience_hipster     0.0\n",
              "Ambience_divey       0.0\n",
              "Ambience_touristy    0.0\n",
              "Ambience_trendy      1.0\n",
              "Ambience_upscale     0.0\n",
              "Ambience_casual      0.0\n",
              "Name: 100, dtype: object"
            ]
          },
          "metadata": {},
          "execution_count": 28
        }
      ]
    },
    {
      "cell_type": "markdown",
      "source": [
        "### 'Music' (sparse)"
      ],
      "metadata": {
        "id": "VslAy5mFCOah"
      }
    },
    {
      "cell_type": "code",
      "source": [
        "keys = ['dj', 'background_music', 'jukebox', 'live', 'video', 'karaoke']\n",
        "curr_dict = ast.literal_eval(item_df.loc['0']['attributes'])\n",
        "nested_dict = ast.literal_eval(curr_dict['Music'])\n",
        "[nested_dict.get(key) for key in keys]"
      ],
      "metadata": {
        "colab": {
          "base_uri": "https://localhost:8080/"
        },
        "id": "Utf-NSrzCV5-",
        "outputId": "99c89b5a-cef9-45cd-d4c9-60ac0d0483bb"
      },
      "execution_count": 29,
      "outputs": [
        {
          "output_type": "execute_result",
          "data": {
            "text/plain": [
              "[False, True, False, False, False, False]"
            ]
          },
          "metadata": {},
          "execution_count": 29
        }
      ]
    },
    {
      "cell_type": "code",
      "source": [
        "itemfull_df.loc[0, 'Music_dj': 'Music_karaoke']                   "
      ],
      "metadata": {
        "colab": {
          "base_uri": "https://localhost:8080/"
        },
        "id": "sGNIJVCUCVv0",
        "outputId": "f8a80737-02dc-4762-8b6d-d05aaf7fe1df"
      },
      "execution_count": 30,
      "outputs": [
        {
          "output_type": "execute_result",
          "data": {
            "text/plain": [
              "Music_dj                  0.0\n",
              "Music_background_music    1.0\n",
              "Music_jukebox             0.0\n",
              "Music_live                0.0\n",
              "Music_video               0.0\n",
              "Music_karaoke             0.0\n",
              "Name: 0, dtype: object"
            ]
          },
          "metadata": {},
          "execution_count": 30
        }
      ]
    },
    {
      "cell_type": "markdown",
      "source": [
        "### 'BestNights'"
      ],
      "metadata": {
        "id": "WfiYs3p6CQlh"
      }
    },
    {
      "cell_type": "code",
      "source": [
        "keys = ['monday', 'tuesday', 'friday', 'wednesday', 'thursday', 'sunday', 'saturday']\n",
        "curr_dict = ast.literal_eval(item_df.loc['0']['attributes'])\n",
        "nested_dict = ast.literal_eval(curr_dict['BestNights'])\n",
        "[nested_dict.get(key) for key in keys]"
      ],
      "metadata": {
        "colab": {
          "base_uri": "https://localhost:8080/"
        },
        "id": "UlmFAphREbdg",
        "outputId": "27cd7662-a523-4fc9-9eb1-a07093a2b6b5"
      },
      "execution_count": 31,
      "outputs": [
        {
          "output_type": "execute_result",
          "data": {
            "text/plain": [
              "[False, False, True, True, True, False, False]"
            ]
          },
          "metadata": {},
          "execution_count": 31
        }
      ]
    },
    {
      "cell_type": "code",
      "source": [
        "itemfull_df.loc[0, 'BestNights_monday': 'BestNights_saturday']                   "
      ],
      "metadata": {
        "colab": {
          "base_uri": "https://localhost:8080/"
        },
        "id": "dtGxYPMGEbV8",
        "outputId": "0ad27e09-ad52-4f02-f737-44956d67c837"
      },
      "execution_count": 32,
      "outputs": [
        {
          "output_type": "execute_result",
          "data": {
            "text/plain": [
              "BestNights_monday       0.0\n",
              "BestNights_tuesday      0.0\n",
              "BestNights_friday       1.0\n",
              "BestNights_wednesday    1.0\n",
              "BestNights_thursday     1.0\n",
              "BestNights_sunday       0.0\n",
              "BestNights_saturday     0.0\n",
              "Name: 0, dtype: object"
            ]
          },
          "metadata": {},
          "execution_count": 32
        }
      ]
    },
    {
      "cell_type": "markdown",
      "source": [
        "# Data exploration"
      ],
      "metadata": {
        "id": "LAa9fpMy2HAn"
      }
    },
    {
      "cell_type": "markdown",
      "source": [
        "## Review"
      ],
      "metadata": {
        "id": "Is82gu0hcZcN"
      }
    },
    {
      "cell_type": "code",
      "source": [
        "print(tr_df[:1], \"\\n\")\n",
        "print(tr_df.shape, val_df.shape, te_df.shape)\n",
        "print(\"In\", tr_df.shape[0], \"train data:\", len(tr_df['user_id'].unique()), \"users,\",\n",
        "      len(tr_df['business_id'].unique()), \"businesses,\", len(tr_df['stars'].unique()), \"stars\")"
      ],
      "metadata": {
        "colab": {
          "base_uri": "https://localhost:8080/"
        },
        "id": "SnAnKsm-dvkq",
        "outputId": "95efa8aa-23e7-4ec9-fdc2-4e35e620f2b6"
      },
      "execution_count": 33,
      "outputs": [
        {
          "output_type": "stream",
          "name": "stdout",
          "text": [
            "                            user_id                       business_id  stars\n",
            "0  7cf33b34bb6ffe993c5f208222860eb3  16d09ff5f22e701e1b729b74f565f825    4.0 \n",
            "\n",
            "(60080, 3) (7509, 3) (7509, 3)\n",
            "In 60080 train data: 2972 users, 5938 businesses, 5 stars\n"
          ]
        }
      ]
    },
    {
      "cell_type": "code",
      "source": [
        "data = dict(tr_df['stars'].value_counts())\n",
        "print(tr_df['stars'].value_counts())\n",
        "stars = list(data.keys())\n",
        "values = list(data.values())\n",
        "\n",
        "fig = plt.figure(figsize = (10, 5))\n",
        " \n",
        "# creating the bar plot\n",
        "plt.bar(stars, values, color ='pink',\n",
        "        width = 0.4)\n",
        " \n",
        "plt.xlabel(\"stars\")\n",
        "plt.ylabel(\"Number\")\n",
        "plt.title(\"Number of stars\")\n",
        "plt.savefig('stars.png')\n",
        "plt.show()"
      ],
      "metadata": {
        "colab": {
          "base_uri": "https://localhost:8080/",
          "height": 460
        },
        "id": "bQ_vaojLdA6r",
        "outputId": "3626aeb8-4900-4d4e-a5cd-97027ecc60f1"
      },
      "execution_count": 34,
      "outputs": [
        {
          "output_type": "stream",
          "name": "stdout",
          "text": [
            "4.0    21300\n",
            "5.0    20557\n",
            "3.0    10512\n",
            "2.0     4780\n",
            "1.0     2931\n",
            "Name: stars, dtype: int64\n"
          ]
        },
        {
          "output_type": "display_data",
          "data": {
            "text/plain": [
              "<Figure size 720x360 with 1 Axes>"
            ],
            "image/png": "[encoded data removed]"
          },
          "metadata": {
            "needs_background": "light"
          }
        }
      ]
    },
    {
      "cell_type": "markdown",
      "source": [
        "## User"
      ],
      "metadata": {
        "id": "VnrZjbpxcVCV"
      }
    },
    {
      "cell_type": "code",
      "source": [
        "user_df.shape"
      ],
      "metadata": {
        "colab": {
          "base_uri": "https://localhost:8080/"
        },
        "id": "Txax6XBUe5t8",
        "outputId": "5710fe2a-4a49-4b03-b542-5ffc7a5524a0"
      },
      "execution_count": 35,
      "outputs": [
        {
          "output_type": "execute_result",
          "data": {
            "text/plain": [
              "(2980, 21)"
            ]
          },
          "metadata": {},
          "execution_count": 35
        }
      ]
    },
    {
      "cell_type": "code",
      "source": [
        "print(user_df.loc['1'])"
      ],
      "metadata": {
        "colab": {
          "base_uri": "https://localhost:8080/"
        },
        "id": "DqJKSYRrcNqx",
        "outputId": "58bfcd8a-0c09-4e2c-d741-334b3094c967"
      },
      "execution_count": 36,
      "outputs": [
        {
          "output_type": "stream",
          "name": "stdout",
          "text": [
            "user_id               9de9e40b3727c667a5b7c1664aa59a5b\n",
            "name                                             Bobby\n",
            "review_count                                       376\n",
            "yelping_since                      2010-03-10 23:55:33\n",
            "useful                                            1754\n",
            "funny                                             1036\n",
            "cool                                              1124\n",
            "elite                    2013,2014,2015,2016,2017,2018\n",
            "fans                                                39\n",
            "average_stars                                     3.64\n",
            "compliment_hot                                      47\n",
            "compliment_more                                      6\n",
            "compliment_profile                                   2\n",
            "compliment_cute                                      2\n",
            "compliment_list                                      1\n",
            "compliment_note                                     38\n",
            "compliment_plain                                    77\n",
            "compliment_cool                                    106\n",
            "compliment_funny                                   106\n",
            "compliment_writer                                   52\n",
            "compliment_photos                                    3\n",
            "Name: 1, dtype: object\n"
          ]
        }
      ]
    },
    {
      "cell_type": "code",
      "source": [
        "len(user_df['name'].unique())"
      ],
      "metadata": {
        "colab": {
          "base_uri": "https://localhost:8080/"
        },
        "id": "6clypeyVev75",
        "outputId": "3864a795-7852-4fad-82f6-de95dfe51a0b"
      },
      "execution_count": 37,
      "outputs": [
        {
          "output_type": "execute_result",
          "data": {
            "text/plain": [
              "1428"
            ]
          },
          "metadata": {},
          "execution_count": 37
        }
      ]
    },
    {
      "cell_type": "code",
      "source": [
        "plt.hist(user_df['average_stars'], color='pink')"
      ],
      "metadata": {
        "colab": {
          "base_uri": "https://localhost:8080/",
          "height": 320
        },
        "id": "Tcp4m9s_hLW3",
        "outputId": "f5195b0e-19a8-4c88-8eae-257d1769da6b"
      },
      "execution_count": 38,
      "outputs": [
        {
          "output_type": "execute_result",
          "data": {
            "text/plain": [
              "(array([  1.,   3.,  19.,  44., 134., 384., 993., 931., 389.,  82.]),\n",
              " array([1. , 1.4, 1.8, 2.2, 2.6, 3. , 3.4, 3.8, 4.2, 4.6, 5. ]),\n",
              " <a list of 10 Patch objects>)"
            ]
          },
          "metadata": {},
          "execution_count": 38
        },
        {
          "output_type": "display_data",
          "data": {
            "text/plain": [
              "<Figure size 432x288 with 1 Axes>"
            ],
            "image/png": "[encoded data removed]"
          },
          "metadata": {
            "needs_background": "light"
          }
        }
      ]
    },
    {
      "cell_type": "markdown",
      "source": [
        "## Business"
      ],
      "metadata": {
        "id": "Qti3xGYIci0M"
      }
    },
    {
      "cell_type": "code",
      "source": [
        "item_df.shape"
      ],
      "metadata": {
        "colab": {
          "base_uri": "https://localhost:8080/"
        },
        "id": "M5c7LgilgYJ3",
        "outputId": "c60b8afe-68e6-46f3-9bed-bd4f646b1af5"
      },
      "execution_count": 39,
      "outputs": [
        {
          "output_type": "execute_result",
          "data": {
            "text/plain": [
              "(5964, 14)"
            ]
          },
          "metadata": {},
          "execution_count": 39
        }
      ]
    },
    {
      "cell_type": "code",
      "source": [
        "print(item_df.loc['1'])"
      ],
      "metadata": {
        "colab": {
          "base_uri": "https://localhost:8080/"
        },
        "id": "sANYYFs423zl",
        "outputId": "3255213d-f51d-4b1e-f114-534146b5da15"
      },
      "execution_count": 40,
      "outputs": [
        {
          "output_type": "stream",
          "name": "stdout",
          "text": [
            "business_id                      334a85d83ec4545b5b2b4581e5182c47\n",
            "name                                 Nee House Chinese Restaurant\n",
            "address                                13843 N Tatum Blvd, Ste 15\n",
            "city                                                      Phoenix\n",
            "state                                                          AZ\n",
            "postal_code                                                 85032\n",
            "latitude                                                 33.61302\n",
            "longitude                                             -111.977036\n",
            "stars                                                         3.5\n",
            "review_count                                                  269\n",
            "is_open                                                         1\n",
            "attributes      {'Caters': 'True', 'GoodForKids': 'True', 'Noi...\n",
            "categories                                   Chinese, Restaurants\n",
            "hours           {'Monday': '11:0-21:0', 'Tuesday': '11:0-21:0'...\n",
            "Name: 1, dtype: object\n"
          ]
        }
      ]
    },
    {
      "cell_type": "code",
      "source": [
        "len(item_df['postal_code'].unique())"
      ],
      "metadata": {
        "colab": {
          "base_uri": "https://localhost:8080/"
        },
        "id": "5bOPjmfigqfA",
        "outputId": "95147d8a-852b-4ed1-e9e8-f9e2ae53bd22"
      },
      "execution_count": 41,
      "outputs": [
        {
          "output_type": "execute_result",
          "data": {
            "text/plain": [
              "798"
            ]
          },
          "metadata": {},
          "execution_count": 41
        }
      ]
    },
    {
      "cell_type": "code",
      "source": [
        "item_df['is_open'].value_counts()"
      ],
      "metadata": {
        "colab": {
          "base_uri": "https://localhost:8080/"
        },
        "id": "y-rb5UygiwFr",
        "outputId": "bb6380b3-a10c-4fe1-acc4-de5a2b1499ee"
      },
      "execution_count": 42,
      "outputs": [
        {
          "output_type": "execute_result",
          "data": {
            "text/plain": [
              "1    5402\n",
              "0     562\n",
              "Name: is_open, dtype: int64"
            ]
          },
          "metadata": {},
          "execution_count": 42
        }
      ]
    },
    {
      "cell_type": "code",
      "source": [
        "plt.yscale('log')\n",
        "plt.hist(item_df['review_count'], color='pink')"
      ],
      "metadata": {
        "colab": {
          "base_uri": "https://localhost:8080/",
          "height": 357
        },
        "id": "6lz2AduEiM4b",
        "outputId": "129f55ad-9705-42ee-cfa2-bfc3dcfc19eb"
      },
      "execution_count": 43,
      "outputs": [
        {
          "output_type": "execute_result",
          "data": {
            "text/plain": [
              "(array([5.605e+03, 2.520e+02, 6.200e+01, 2.300e+01, 1.300e+01, 4.000e+00,\n",
              "        2.000e+00, 1.000e+00, 0.000e+00, 2.000e+00]),\n",
              " array([ 167. ,  985.1, 1803.2, 2621.3, 3439.4, 4257.5, 5075.6, 5893.7,\n",
              "        6711.8, 7529.9, 8348. ]),\n",
              " <a list of 10 Patch objects>)"
            ]
          },
          "metadata": {},
          "execution_count": 43
        },
        {
          "output_type": "display_data",
          "data": {
            "text/plain": [
              "<Figure size 432x288 with 1 Axes>"
            ],
            "image/png": "[encoded data removed]"
          },
          "metadata": {
            "needs_background": "light"
          }
        }
      ]
    },
    {
      "cell_type": "markdown",
      "source": [
        "## Full Business"
      ],
      "metadata": {
        "id": "tuJKaXRhjzF1"
      }
    },
    {
      "cell_type": "code",
      "source": [
        "pd.set_option('max_rows', 99999)\n",
        "pd.set_option('max_colwidth', 400)\n",
        "#pd.describe_option('max_colwidth')"
      ],
      "metadata": {
        "id": "-ogjJlpgkb59"
      },
      "execution_count": 44,
      "outputs": []
    },
    {
      "cell_type": "code",
      "source": [
        "itemfull_df.shape"
      ],
      "metadata": {
        "colab": {
          "base_uri": "https://localhost:8080/"
        },
        "id": "38_1bSiGj2cx",
        "outputId": "b923e022-7086-4173-e068-e9ce2607ce02"
      },
      "execution_count": 45,
      "outputs": [
        {
          "output_type": "execute_result",
          "data": {
            "text/plain": [
              "(5964, 80)"
            ]
          },
          "metadata": {},
          "execution_count": 45
        }
      ]
    },
    {
      "cell_type": "code",
      "source": [
        "itemfull_df.columns"
      ],
      "metadata": {
        "colab": {
          "base_uri": "https://localhost:8080/"
        },
        "id": "7VxM0zaleGQV",
        "outputId": "3f522ba2-324e-4597-93ef-8a75abade7f5"
      },
      "execution_count": 46,
      "outputs": [
        {
          "output_type": "execute_result",
          "data": {
            "text/plain": [
              "Index(['address', 'business_id', 'categories', 'city', 'is_open', 'latitude',\n",
              "       'longitude', 'name', 'postal_code', 'review_count', 'stars', 'state',\n",
              "       'Sunday_Open', 'Sunday_Close', 'Monday_Open', 'Monday_Close',\n",
              "       'Tuesday_Open', 'Tuesday_Close', 'Wednesday_Open', 'Wednesday_Close',\n",
              "       'Thursday_Open', 'Thursday_Close', 'Friday_Open', 'Friday_Close',\n",
              "       'Saturday_Open', 'Saturday_Close', 'NoiseLevel', 'RestaurantsAttire',\n",
              "       'RestaurantsTakeOut', 'RestaurantsReservations', 'RestaurantsDelivery',\n",
              "       'Alcohol', 'RestaurantsPriceRange2', 'BikeParking', 'HappyHour',\n",
              "       'OutdoorSeating', 'RestaurantsGoodForGroups', 'HasTV', 'Caters',\n",
              "       'GoodForKids', 'BusinessAcceptsCreditCards', 'WiFi', 'GoodForDancing',\n",
              "       'Smoking', 'RestaurantsTableService', 'BYOBCorkage', 'CoatCheck',\n",
              "       'Parking_Street', 'Parking_Valet', 'Parking_Lot', 'Parking_Garage',\n",
              "       'Parking_Validated', 'GoodFor_dessert', 'GoodFor_latenight',\n",
              "       'GoodFor_lunch', 'GoodFor_dinner', 'GoodFor_brunch',\n",
              "       'GoodFor_breakfast', 'Ambience_romantic', 'Ambience_intimate',\n",
              "       'Ambience_classy', 'Ambience_hipster', 'Ambience_divey',\n",
              "       'Ambience_touristy', 'Ambience_trendy', 'Ambience_upscale',\n",
              "       'Ambience_casual', 'Music_dj', 'Music_background_music',\n",
              "       'Music_jukebox', 'Music_live', 'Music_video', 'Music_karaoke',\n",
              "       'BestNights_monday', 'BestNights_tuesday', 'BestNights_friday',\n",
              "       'BestNights_wednesday', 'BestNights_thursday', 'BestNights_sunday',\n",
              "       'BestNights_saturday'],\n",
              "      dtype='object')"
            ]
          },
          "metadata": {},
          "execution_count": 46
        }
      ]
    },
    {
      "cell_type": "code",
      "source": [
        "itemfull_df.loc[10, 'Sunday_Open':]                   "
      ],
      "metadata": {
        "colab": {
          "base_uri": "https://localhost:8080/"
        },
        "id": "USWvSRMij6n8",
        "outputId": "eaa6dd10-312e-40b4-bfa7-9c87a981d93e"
      },
      "execution_count": 47,
      "outputs": [
        {
          "output_type": "execute_result",
          "data": {
            "text/plain": [
              "Sunday_Open                        11:0\n",
              "Sunday_Close                        0:0\n",
              "Monday_Open                         0:0\n",
              "Monday_Close                        0:0\n",
              "Tuesday_Open                       11:0\n",
              "Tuesday_Close                      22:0\n",
              "Wednesday_Open                     11:0\n",
              "Wednesday_Close                    22:0\n",
              "Thursday_Open                      11:0\n",
              "Thursday_Close                     22:0\n",
              "Friday_Open                        11:0\n",
              "Friday_Close                       23:0\n",
              "Saturday_Open                      11:0\n",
              "Saturday_Close                     23:0\n",
              "NoiseLevel                    'average'\n",
              "RestaurantsAttire               'casal'\n",
              "RestaurantsTakeOut                  1.0\n",
              "RestaurantsReservations             1.0\n",
              "RestaurantsDelivery                   1\n",
              "Alcohol                       'fll_bar'\n",
              "RestaurantsPriceRange2              2.0\n",
              "BikeParking                           1\n",
              "HappyHour                           NaN\n",
              "OutdoorSeating                      1.0\n",
              "RestaurantsGoodForGroups              1\n",
              "HasTV                               1.0\n",
              "Caters                              0.0\n",
              "GoodForKids                           1\n",
              "BusinessAcceptsCreditCards          NaN\n",
              "WiFi                             'free'\n",
              "GoodForDancing                      NaN\n",
              "Smoking                             NaN\n",
              "RestaurantsTableService             1.0\n",
              "BYOBCorkage                         NaN\n",
              "CoatCheck                           NaN\n",
              "Parking_Street                      1.0\n",
              "Parking_Valet                       0.0\n",
              "Parking_Lot                         0.0\n",
              "Parking_Garage                      0.0\n",
              "Parking_Validated                   0.0\n",
              "GoodFor_dessert                     0.0\n",
              "GoodFor_latenight                   0.0\n",
              "GoodFor_lunch                       0.0\n",
              "GoodFor_dinner                      1.0\n",
              "GoodFor_brunch                      0.0\n",
              "GoodFor_breakfast                   0.0\n",
              "Ambience_romantic                   0.0\n",
              "Ambience_intimate                   0.0\n",
              "Ambience_classy                     0.0\n",
              "Ambience_hipster                    0.0\n",
              "Ambience_divey                      NaN\n",
              "Ambience_touristy                   0.0\n",
              "Ambience_trendy                     1.0\n",
              "Ambience_upscale                    0.0\n",
              "Ambience_casual                     1.0\n",
              "Music_dj                            NaN\n",
              "Music_background_music              NaN\n",
              "Music_jukebox                       NaN\n",
              "Music_live                          NaN\n",
              "Music_video                         NaN\n",
              "Music_karaoke                       NaN\n",
              "BestNights_monday                   NaN\n",
              "BestNights_tuesday                  NaN\n",
              "BestNights_friday                   NaN\n",
              "BestNights_wednesday                NaN\n",
              "BestNights_thursday                 NaN\n",
              "BestNights_sunday                   NaN\n",
              "BestNights_saturday                 NaN\n",
              "Name: 10, dtype: object"
            ]
          },
          "metadata": {},
          "execution_count": 47
        }
      ]
    },
    {
      "cell_type": "markdown",
      "source": [
        "## NaN values"
      ],
      "metadata": {
        "id": "djjcTjxfnMat"
      }
    },
    {
      "cell_type": "code",
      "source": [
        "print(tr_df.shape)\n",
        "print(tr_df.isna().sum())"
      ],
      "metadata": {
        "colab": {
          "base_uri": "https://localhost:8080/"
        },
        "id": "YFHDf-2OnjQm",
        "outputId": "0ce7894d-a71c-4480-c84f-61ce2b096661"
      },
      "execution_count": 48,
      "outputs": [
        {
          "output_type": "stream",
          "name": "stdout",
          "text": [
            "(60080, 3)\n",
            "user_id        0\n",
            "business_id    0\n",
            "stars          0\n",
            "dtype: int64\n"
          ]
        }
      ]
    },
    {
      "cell_type": "code",
      "source": [
        "print(user_df.shape)\n",
        "print(user_df.isna().sum())"
      ],
      "metadata": {
        "colab": {
          "base_uri": "https://localhost:8080/"
        },
        "id": "lK1PFdX8ne10",
        "outputId": "11af8ae2-cd5f-484a-bd65-80d647d0f9a2"
      },
      "execution_count": 49,
      "outputs": [
        {
          "output_type": "stream",
          "name": "stdout",
          "text": [
            "(2980, 21)\n",
            "user_id                  0\n",
            "name                     0\n",
            "review_count             0\n",
            "yelping_since            0\n",
            "useful                   0\n",
            "funny                    0\n",
            "cool                     0\n",
            "elite                 1636\n",
            "fans                     0\n",
            "average_stars            0\n",
            "compliment_hot           0\n",
            "compliment_more          0\n",
            "compliment_profile       0\n",
            "compliment_cute          0\n",
            "compliment_list          0\n",
            "compliment_note          0\n",
            "compliment_plain         0\n",
            "compliment_cool          0\n",
            "compliment_funny         0\n",
            "compliment_writer        0\n",
            "compliment_photos        0\n",
            "dtype: int64\n"
          ]
        }
      ]
    },
    {
      "cell_type": "code",
      "source": [
        "for column_name in user_df.columns:\n",
        "    column = user_df[column_name]\n",
        "    count = (column == 0).sum()\n",
        "    print(column_name, ':', count)"
      ],
      "metadata": {
        "colab": {
          "base_uri": "https://localhost:8080/"
        },
        "id": "9s6uIG5fsHCG",
        "outputId": "1cb8b3b6-3dd2-4a6a-ec10-63742ac1faa6"
      },
      "execution_count": 50,
      "outputs": [
        {
          "output_type": "stream",
          "name": "stdout",
          "text": [
            "user_id : 0\n",
            "name : 0\n",
            "review_count : 0\n",
            "yelping_since : 0\n",
            "useful : 3\n",
            "funny : 38\n",
            "cool : 18\n",
            "elite : 0\n",
            "fans : 572\n",
            "average_stars : 0\n",
            "compliment_hot : 1416\n",
            "compliment_more : 1653\n",
            "compliment_profile : 2267\n",
            "compliment_cute : 2392\n",
            "compliment_list : 2616\n",
            "compliment_note : 829\n",
            "compliment_plain : 750\n",
            "compliment_cool : 1089\n",
            "compliment_funny : 1089\n",
            "compliment_writer : 1217\n",
            "compliment_photos : 1758\n"
          ]
        }
      ]
    },
    {
      "cell_type": "code",
      "source": [
        "print(item_df.shape)\n",
        "print(item_df.isna().sum())"
      ],
      "metadata": {
        "colab": {
          "base_uri": "https://localhost:8080/"
        },
        "id": "8AJ6GL5rm7-K",
        "outputId": "81d367df-bb6e-45df-a8a8-a352652a3596"
      },
      "execution_count": 51,
      "outputs": [
        {
          "output_type": "stream",
          "name": "stdout",
          "text": [
            "(5964, 14)\n",
            "business_id       0\n",
            "name              0\n",
            "address          29\n",
            "city              0\n",
            "state             0\n",
            "postal_code       0\n",
            "latitude          0\n",
            "longitude         0\n",
            "stars             0\n",
            "review_count      0\n",
            "is_open           0\n",
            "attributes       53\n",
            "categories        0\n",
            "hours           120\n",
            "dtype: int64\n"
          ]
        }
      ]
    },
    {
      "cell_type": "code",
      "source": [
        "print(itemfull_df.shape)\n",
        "print(itemfull_df.isna().sum())"
      ],
      "metadata": {
        "colab": {
          "base_uri": "https://localhost:8080/"
        },
        "id": "x4VbC5UGnE3g",
        "outputId": "0e7502d3-30cf-4e8e-80b8-f44ab2832634"
      },
      "execution_count": 52,
      "outputs": [
        {
          "output_type": "stream",
          "name": "stdout",
          "text": [
            "(5964, 80)\n",
            "address                         29\n",
            "business_id                      0\n",
            "categories                       0\n",
            "city                             0\n",
            "is_open                          0\n",
            "latitude                         0\n",
            "longitude                        0\n",
            "name                             0\n",
            "postal_code                      0\n",
            "review_count                     0\n",
            "stars                            0\n",
            "state                            0\n",
            "Sunday_Open                    671\n",
            "Sunday_Close                   671\n",
            "Monday_Open                    467\n",
            "Monday_Close                   467\n",
            "Tuesday_Open                   260\n",
            "Tuesday_Close                  260\n",
            "Wednesday_Open                 196\n",
            "Wednesday_Close                196\n",
            "Thursday_Open                  157\n",
            "Thursday_Close                 157\n",
            "Friday_Open                    141\n",
            "Friday_Close                   141\n",
            "Saturday_Open                  171\n",
            "Saturday_Close                 171\n",
            "NoiseLevel                    1063\n",
            "RestaurantsAttire             1160\n",
            "RestaurantsTakeOut             905\n",
            "RestaurantsReservations       1073\n",
            "RestaurantsDelivery           1047\n",
            "Alcohol                        940\n",
            "RestaurantsPriceRange2         433\n",
            "BikeParking                    551\n",
            "HappyHour                     5099\n",
            "OutdoorSeating                 905\n",
            "RestaurantsGoodForGroups      1006\n",
            "HasTV                         1032\n",
            "Caters                         965\n",
            "GoodForKids                    825\n",
            "BusinessAcceptsCreditCards     638\n",
            "WiFi                           805\n",
            "GoodForDancing                4986\n",
            "Smoking                       5320\n",
            "RestaurantsTableService       3403\n",
            "BYOBCorkage                   5336\n",
            "CoatCheck                     5321\n",
            "Parking_Street                 457\n",
            "Parking_Valet                  457\n",
            "Parking_Lot                    457\n",
            "Parking_Garage                 457\n",
            "Parking_Validated              457\n",
            "GoodFor_dessert               1428\n",
            "GoodFor_latenight             1428\n",
            "GoodFor_lunch                 1428\n",
            "GoodFor_dinner                1428\n",
            "GoodFor_brunch                1428\n",
            "GoodFor_breakfast             1428\n",
            "Ambience_romantic             1043\n",
            "Ambience_intimate             1043\n",
            "Ambience_classy               1043\n",
            "Ambience_hipster              1043\n",
            "Ambience_divey                1166\n",
            "Ambience_touristy             1043\n",
            "Ambience_trendy               1043\n",
            "Ambience_upscale              1043\n",
            "Ambience_casual               1043\n",
            "Music_dj                      4886\n",
            "Music_background_music        5008\n",
            "Music_jukebox                 5005\n",
            "Music_live                    4998\n",
            "Music_video                   5008\n",
            "Music_karaoke                 5007\n",
            "BestNights_monday             4978\n",
            "BestNights_tuesday            4978\n",
            "BestNights_friday             4978\n",
            "BestNights_wednesday          4978\n",
            "BestNights_thursday           4978\n",
            "BestNights_sunday             4978\n",
            "BestNights_saturday           4978\n",
            "dtype: int64\n"
          ]
        }
      ]
    }
  ],
  "metadata": {
    "kernelspec": {
      "display_name": "Python 3",
      "name": "python3"
    },
    "language_info": {
      "name": "python"
    },
    "colab": {
      "provenance": [],
      "collapsed_sections": [],
      "toc_visible": true,
      "include_colab_link": true
    }
  },
  "nbformat": 4,
  "nbformat_minor": 0
}