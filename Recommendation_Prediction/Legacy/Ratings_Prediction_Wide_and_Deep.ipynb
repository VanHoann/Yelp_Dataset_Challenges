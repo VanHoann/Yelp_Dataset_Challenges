{
  "cells": [
    {
      "cell_type": "markdown",
      "metadata": {
        "id": "view-in-github",
        "colab_type": "text"
      },
      "source": [
        "<a href=\"https://colab.research.google.com/github/VanHoann/Yelp_Dataset_Challenges/blob/main/Recommendation_Prediction/Legacy/Ratings_Prediction_Wide_and_Deep.ipynb\" target=\"_parent\"><img src=\"https://colab.research.google.com/assets/colab-badge.svg\" alt=\"Open In Colab\"/></a>"
      ]
    },
    {
      "cell_type": "markdown",
      "source": [
        "#Setup"
      ],
      "metadata": {
        "id": "HT3fr7yEgQr5"
      }
    },
    {
      "cell_type": "code",
      "execution_count": 1,
      "metadata": {
        "id": "pUzX_Ji9GDCh"
      },
      "outputs": [],
      "source": [
        "import os\n",
        "from collections import Counter\n",
        "from itertools import combinations\n",
        "import random\n",
        "import numpy as np\n",
        "import pandas as pd\n",
        "import tensorflow \n",
        "from tensorflow.keras.layers import Concatenate, Dense, Dot, Dropout, Embedding, Input, Reshape\n",
        "from tensorflow.keras.models import Model\n",
        "from tensorflow.keras.callbacks import Callback, ModelCheckpoint\n",
        "import keras\n",
        "import matplotlib.pyplot as plt\n",
        "\n",
        "from sklearn.metrics import mean_squared_error\n",
        "from sklearn.preprocessing import StandardScaler #normalize some features\n",
        "\n",
        "# Setting random seeds to replicate results easily\n",
        "random.seed(0)\n",
        "np.random.seed(0)\n",
        "tensorflow.random.set_seed(0)"
      ]
    },
    {
      "cell_type": "markdown",
      "metadata": {
        "id": "0qOGVJmpGDCj"
      },
      "source": [
        "## Metric (RMSE)\n",
        "RMSE is used to evaluate the performance of a model. *A* lower RMSE indicates a better model"
      ]
    },
    {
      "cell_type": "code",
      "execution_count": 2,
      "metadata": {
        "id": "vbJIOHvvGDCl"
      },
      "outputs": [],
      "source": [
        "def rmse(pred, actual):\n",
        "    '''\n",
        "    params:\n",
        "        pred <np.array>: an array containing all predicted ratings\n",
        "        actual <np.array>: an array containing all ground truth ratings\n",
        "\n",
        "    return:\n",
        "        a scalar whose value is the rmse\n",
        "    '''\n",
        "    # Ignore ratings with value zero.\n",
        "    pred = pred[actual.nonzero()].flatten()\n",
        "    actual = actual[actual.nonzero()].flatten()\n",
        "    return np.sqrt(mean_squared_error(pred, actual))"
      ]
    },
    {
      "cell_type": "markdown",
      "metadata": {
        "id": "MXiMlU0VGDCl"
      },
      "source": [
        "## Wide and Deep Learning (WDL)\n",
        "Two parts: \"Wide\" and \"Deep\"\n",
        "\n",
        "**Wide:** a generalized linear model \\\n",
        "Input: raw input features + the cross-product transformation of categorical features \\\n",
        "-> **learn the co-occurrence patterns of items or features**\n",
        "\n",
        "**Deep:** a Feed-forward Neural Network (FNN) \\\n",
        "Input: continuous (normalized) and (concatenate) categorical features (low-dim dense embedding vectors) \\\n",
        "-> feed this concatenated vector into the FNN during each foward pass -> **increase the diversity of recommendations**"
      ]
    },
    {
      "cell_type": "markdown",
      "metadata": {
        "id": "ymqKIJ5QGDCo"
      },
      "source": [
        "# Data Preprocessing\n",
        "Utility functions that helps us retrieve the numerical values of different features from the dataset, and generate combinations of features to be used by the WDL model."
      ]
    },
    {
      "cell_type": "markdown",
      "metadata": {
        "id": "OXD4bLWfGDCo"
      },
      "source": [
        "### Retrieve cont_feats"
      ]
    },
    {
      "cell_type": "code",
      "execution_count": 3,
      "metadata": {
        "id": "p1gmmqQHGDCp"
      },
      "outputs": [],
      "source": [
        "def get_continuous_features(df, continuous_columns):\n",
        "    '''\n",
        "    params:\n",
        "        df: input dataframe\n",
        "        continuous_columns: column names of continuous features\n",
        "\n",
        "    return: \n",
        "        a numpy array where each row contains the values of continuous features in the corresponding row of the input dataframe\n",
        "    '''\n",
        "    continuous_features = df[continuous_columns].values\n",
        "    return continuous_features"
      ]
    },
    {
      "cell_type": "markdown",
      "metadata": {
        "id": "XNJ8y5y4GDCq"
      },
      "source": [
        "### Cate_feats cross_prod transform\n",
        "This func generates frequently-occured feature combinations\n",
        "\n",
        "E.g: `['A, B, C, D', 'A, B, C', 'A, B', 'A']`\n",
        "\n",
        "|Item Name|Occurrence|\n",
        "|---|---|\n",
        "|A|4|\n",
        "|B|3|\n",
        "|C|2|\n",
        "|D|1|\n",
        "\n",
        "Set `topk=3` -> use only top 3 frequent items to generate combinations\n",
        "\n",
        "Set `comb_p=2` -> generate combinations with 2 items/combination\n",
        "\n",
        "In this case, the following combinations will be generated: `[('A', 'B'), ('A', 'C'), ('B', 'C')]`\n",
        "\n"
      ]
    },
    {
      "cell_type": "code",
      "execution_count": 5,
      "metadata": {
        "colab": {
          "base_uri": "https://localhost:8080/"
        },
        "id": "Qvtsy4WoGDCr",
        "outputId": "10cb000b-40e7-421c-8d9d-1cd4d9c9fd9b"
      },
      "outputs": [
        {
          "output_type": "execute_result",
          "data": {
            "text/plain": [
              "[(('A', 'B'), 3), (('A', 'C'), 2), (('B', 'C'), 2)]"
            ]
          },
          "metadata": {},
          "execution_count": 5
        }
      ],
      "source": [
        "def get_top_k_p_combinations(df, comb_p, topk, output_freq=False):\n",
        "    '''\n",
        "    params:\n",
        "        df: input dataframe\n",
        "        comb_p: number of elements in each combination (e.g., there are two elements in the combination {fried chicken, chicken and waffle}, and three elements in the combination {fried chicken, chicken and waffle, chicken fried rice})\n",
        "        topk: number of most frequent combinations to retrieve\n",
        "        output_freq: whether to return the frequencies of retrieved combinations\n",
        "\n",
        "    return:\n",
        "        1. output_freq = True: a list X where each element is a tuple containing a combination tuple and corresponding frequency, and the elements are stored in the descending order of their frequencies\n",
        "        2. output_freq = False: a list X where each element is a tuple containing a combination tuple, and the elements are stored in the descending order of their frequencies\n",
        "    '''\n",
        "    def get_category_combinations(categories_str, comb_p=2):\n",
        "        categories = categories_str.split(', ')\n",
        "        return list(combinations(categories, comb_p))\n",
        "        \n",
        "    all_categories_p_combos = df[\"item_categories\"].apply(lambda x: get_category_combinations(x, comb_p)).values.tolist()\n",
        "    all_categories_p_combos = [tuple(t) for item in all_categories_p_combos for t in item]\n",
        "    tmp = dict(Counter(all_categories_p_combos))\n",
        "    sorted_categories_combinations = list(sorted(tmp.items(), key=lambda x: x[1], reverse=True))\n",
        "    if output_freq:\n",
        "        return sorted_categories_combinations[:topk]\n",
        "    else:\n",
        "        return [t[0] for t in sorted_categories_combinations[:topk]]\n",
        "\n",
        "#test code\n",
        "get_top_k_p_combinations(pd.DataFrame({'item_categories': ['A, B, C, D', 'A, B, C', 'A, B', 'A']})\n",
        "  , comb_p=2, topk=3, output_freq=True) \n"
      ]
    },
    {
      "cell_type": "markdown",
      "metadata": {
        "id": "ViFJkrV9GDCs"
      },
      "source": [
        "### Build wide_feats"
      ]
    },
    {
      "cell_type": "code",
      "execution_count": 6,
      "metadata": {
        "id": "QQs27H5BGDCs"
      },
      "outputs": [],
      "source": [
        "def get_wide_features(df, selected_categories_to_idx, top_combinations):\n",
        "    '''\n",
        "    params:\n",
        "        df: input dataframe\n",
        "        selected_categories_to_idx: a dictionary mapping item categories to corrresponding integral indices\n",
        "        top_combinations: a list containing retrieved mostly frequent combinantions of item categories\n",
        "\n",
        "    return:\n",
        "        a numpy array where each row contains the categorical features' binary encodings and cross product transformations for the corresponding row of the input dataframe\n",
        "    '''\n",
        "    def categories_to_binary_output(categories): # \"A, B, C\" - len=1\n",
        "        binary_output = [0 for _ in range(len(selected_categories_to_idx))] # [0,0,...0] = dict_size\n",
        "        for category in categories.split(', '): # \"A\", \"B\", \"C\"\n",
        "            if category in selected_categories_to_idx:\n",
        "                binary_output[selected_categories_to_idx[category]] = 1 # 0to1 for \"A\", \"B\", \"C\"\n",
        "            else:\n",
        "                binary_output[0] = 1 #map all unk to index 0\n",
        "        return binary_output\n",
        "\n",
        "    def categories_cross_transformation(categories): # {A,B}, {A,C,D},... - len>1\n",
        "        current_category_set = set(categories.split(', ')) \n",
        "        cross_transform_output = [0 for _ in range(len(top_combinations))]\n",
        "        for k, comb_k in enumerate(top_combinations):\n",
        "            if len(current_category_set & comb_k) == len(comb_k):\n",
        "                cross_transform_output[k] = 1\n",
        "            else:\n",
        "                cross_transform_output[k] = 0\n",
        "        return cross_transform_output\n",
        "\n",
        "    category_binary_features = np.array(df.item_categories.apply(lambda x: categories_to_binary_output(x)).values.tolist())\n",
        "    category_cross_transform_features = np.array(df.item_categories.apply(lambda x: categories_cross_transformation(x)).values.tolist())\n",
        "    return np.concatenate((category_binary_features, category_cross_transform_features), axis=1)"
      ]
    },
    {
      "cell_type": "markdown",
      "metadata": {
        "id": "pVPsXnCNGDCt"
      },
      "source": [
        "## Load train, valid, test data (core)"
      ]
    },
    {
      "cell_type": "code",
      "execution_count": 10,
      "metadata": {
        "id": "wmAt9DMfGDCt"
      },
      "outputs": [],
      "source": [
        "data = \"https://raw.githubusercontent.com/VanHoann/Yelp_Dataset_Challenges/main/Recommendation_Prediction/data\"\n",
        "tr_df = pd.read_csv(f\"{data}/train.csv\")\n",
        "val_df = pd.read_csv(f\"{data}/valid.csv\")\n",
        "te_df = pd.read_csv(f\"{data}/test.csv\")\n",
        "\n",
        "tr_ratings = tr_df['stars'].values\n",
        "val_ratings = val_df['stars'].values"
      ]
    },
    {
      "cell_type": "code",
      "source": [
        "print(tr_df.shape, val_df.shape, te_df.shape)\n",
        "print(tr_df[:1])"
      ],
      "metadata": {
        "colab": {
          "base_uri": "https://localhost:8080/"
        },
        "id": "YQZXibTt2eha",
        "outputId": "5495f08e-5fdc-4987-a175-42df3203cb93"
      },
      "execution_count": 13,
      "outputs": [
        {
          "output_type": "stream",
          "name": "stdout",
          "text": [
            "(60080, 3) (7509, 3) (7509, 3)\n",
            "                            user_id                       business_id  stars\n",
            "0  7cf33b34bb6ffe993c5f208222860eb3  16d09ff5f22e701e1b729b74f565f825    4.0\n"
          ]
        }
      ]
    },
    {
      "cell_type": "markdown",
      "metadata": {
        "id": "Cjh6JhEgGDCt"
      },
      "source": [
        "## Load users and items (supplement)"
      ]
    },
    {
      "cell_type": "code",
      "execution_count": 14,
      "metadata": {
        "id": "WoX6kl75GDCu"
      },
      "outputs": [],
      "source": [
        "user_df = pd.read_csv(f\"{data}/full_user.csv\", index_col=0)\n",
        "item_df = pd.read_csv(f\"{data}/full_business.csv\")"
      ]
    },
    {
      "cell_type": "code",
      "source": [
        "# Renaming columns by adding prefixes to column names\n",
        "user_df = user_df.rename(index=str, columns={t: 'user_' + t for t in user_df.columns if t != 'user_id'})\n",
        "item_df = item_df.rename(columns={t: 'item_' + t for t in item_df.columns if t != 'business_id'})"
      ],
      "metadata": {
        "id": "ETRZfXkq4R-j"
      },
      "execution_count": 15,
      "outputs": []
    },
    {
      "cell_type": "markdown",
      "source": [
        "### Convert item_df's cols to numerical if needed"
      ],
      "metadata": {
        "id": "BQxus1ctziaE"
      }
    },
    {
      "cell_type": "code",
      "source": [
        "item_df.columns"
      ],
      "metadata": {
        "colab": {
          "base_uri": "https://localhost:8080/"
        },
        "id": "L4BtsrEv0UjS",
        "outputId": "65065947-4177-4b59-d166-596fc145d0fa"
      },
      "execution_count": 18,
      "outputs": [
        {
          "output_type": "execute_result",
          "data": {
            "text/plain": [
              "Index(['item_address', 'business_id', 'item_categories', 'item_city',\n",
              "       'item_is_open', 'item_latitude', 'item_longitude', 'item_name',\n",
              "       'item_postal_code', 'item_review_count', 'item_stars', 'item_state',\n",
              "       'item_Sunday_Open', 'item_Sunday_Close', 'item_Monday_Open',\n",
              "       'item_Monday_Close', 'item_Tuesday_Open', 'item_Tuesday_Close',\n",
              "       'item_Wednesday_Open', 'item_Wednesday_Close', 'item_Thursday_Open',\n",
              "       'item_Thursday_Close', 'item_Friday_Open', 'item_Friday_Close',\n",
              "       'item_Saturday_Open', 'item_Saturday_Close', 'item_NoiseLevel',\n",
              "       'item_RestaurantsAttire', 'item_RestaurantsTakeOut',\n",
              "       'item_RestaurantsReservations', 'item_RestaurantsDelivery',\n",
              "       'item_Alcohol', 'item_RestaurantsPriceRange2', 'item_BikeParking',\n",
              "       'item_HappyHour', 'item_OutdoorSeating',\n",
              "       'item_RestaurantsGoodForGroups', 'item_HasTV', 'item_Caters',\n",
              "       'item_GoodForKids', 'item_BusinessAcceptsCreditCards', 'item_WiFi',\n",
              "       'item_GoodForDancing', 'item_Smoking', 'item_RestaurantsTableService',\n",
              "       'item_BYOBCorkage', 'item_CoatCheck', 'item_Parking_Street',\n",
              "       'item_Parking_Valet', 'item_Parking_Lot', 'item_Parking_Garage',\n",
              "       'item_Parking_Validated', 'item_GoodFor_dessert',\n",
              "       'item_GoodFor_latenight', 'item_GoodFor_lunch', 'item_GoodFor_dinner',\n",
              "       'item_GoodFor_brunch', 'item_GoodFor_breakfast',\n",
              "       'item_Ambience_romantic', 'item_Ambience_intimate',\n",
              "       'item_Ambience_classy', 'item_Ambience_hipster', 'item_Ambience_divey',\n",
              "       'item_Ambience_touristy', 'item_Ambience_trendy',\n",
              "       'item_Ambience_upscale', 'item_Ambience_casual', 'item_Music_dj',\n",
              "       'item_Music_background_music', 'item_Music_jukebox', 'item_Music_live',\n",
              "       'item_Music_video', 'item_Music_karaoke', 'item_BestNights_monday',\n",
              "       'item_BestNights_tuesday', 'item_BestNights_friday',\n",
              "       'item_BestNights_wednesday', 'item_BestNights_thursday',\n",
              "       'item_BestNights_sunday', 'item_BestNights_saturday'],\n",
              "      dtype='object')"
            ]
          },
          "metadata": {},
          "execution_count": 18
        }
      ]
    },
    {
      "cell_type": "code",
      "source": [
        "to_numerical = ['Parking_Street', 'Parking_Valet', 'Parking_Lot', 'Parking_Garage',\n",
        "       'Parking_Validated', 'GoodFor_dessert', 'GoodFor_latenight',\n",
        "       'GoodFor_lunch', 'GoodFor_dinner', 'GoodFor_brunch',\n",
        "       'GoodFor_breakfast', 'Ambience_romantic', 'Ambience_intimate',\n",
        "       'Ambience_classy', 'Ambience_hipster', 'Ambience_divey',\n",
        "       'Ambience_touristy', 'Ambience_trendy', 'Ambience_upscale',\n",
        "       'Ambience_casual']\n",
        "#temp = pd.DataFrame(np.zeros((item_df.shape[0], len(to_numerical))), columns=to_numerical)\n",
        "#item_df = item_df.fillna(temp)"
      ],
      "metadata": {
        "id": "5yaEuixXz5jR"
      },
      "execution_count": 21,
      "outputs": []
    },
    {
      "cell_type": "markdown",
      "source": [
        "User info"
      ],
      "metadata": {
        "id": "ELx4PeeZ5CkI"
      }
    },
    {
      "cell_type": "code",
      "source": [
        "print(user_df.shape)\n",
        "print(user_df.loc['1'])"
      ],
      "metadata": {
        "colab": {
          "base_uri": "https://localhost:8080/"
        },
        "id": "gKEUAsFjp4nf",
        "outputId": "78b0277e-9563-493d-c0df-e35daabb23bb"
      },
      "execution_count": 22,
      "outputs": [
        {
          "output_type": "stream",
          "name": "stdout",
          "text": [
            "(2980, 21)\n",
            "user_id                    9de9e40b3727c667a5b7c1664aa59a5b\n",
            "user_name                                             Bobby\n",
            "user_review_count                                       376\n",
            "user_yelping_since                      2010-03-10 23:55:33\n",
            "user_useful                                            1754\n",
            "user_funny                                             1036\n",
            "user_cool                                              1124\n",
            "user_elite                    2013,2014,2015,2016,2017,2018\n",
            "user_fans                                                39\n",
            "user_average_stars                                     3.64\n",
            "user_compliment_hot                                      47\n",
            "user_compliment_more                                      6\n",
            "user_compliment_profile                                   2\n",
            "user_compliment_cute                                      2\n",
            "user_compliment_list                                      1\n",
            "user_compliment_note                                     38\n",
            "user_compliment_plain                                    77\n",
            "user_compliment_cool                                    106\n",
            "user_compliment_funny                                   106\n",
            "user_compliment_writer                                   52\n",
            "user_compliment_photos                                    3\n",
            "Name: 1, dtype: object\n"
          ]
        }
      ]
    },
    {
      "cell_type": "markdown",
      "source": [
        "Item info"
      ],
      "metadata": {
        "id": "AOQXAN_65LOi"
      }
    },
    {
      "cell_type": "code",
      "source": [
        "print(item_df.shape)\n",
        "item_df.loc[100, :]"
      ],
      "metadata": {
        "colab": {
          "base_uri": "https://localhost:8080/"
        },
        "id": "MYljczgfqv1N",
        "outputId": "d85bce87-6a6b-4816-ebf1-e4a3641950eb"
      },
      "execution_count": 23,
      "outputs": [
        {
          "output_type": "stream",
          "name": "stdout",
          "text": [
            "(5964, 80)\n"
          ]
        },
        {
          "output_type": "execute_result",
          "data": {
            "text/plain": [
              "item_address                                         4740 E Shea Blvd, Ste 104\n",
              "business_id                                   a278a39aeed8de9e79a9247750bb23f2\n",
              "item_categories              American (New), Food, Nightlife, Wine Bars, Ba...\n",
              "item_city                                                              Phoenix\n",
              "item_is_open                                                                 1\n",
              "                                                   ...                        \n",
              "item_BestNights_friday                                                     1.0\n",
              "item_BestNights_wednesday                                                  0.0\n",
              "item_BestNights_thursday                                                   0.0\n",
              "item_BestNights_sunday                                                     1.0\n",
              "item_BestNights_saturday                                                   1.0\n",
              "Name: 100, Length: 80, dtype: object"
            ]
          },
          "metadata": {},
          "execution_count": 23
        }
      ]
    },
    {
      "cell_type": "markdown",
      "source": [
        "These features will be considered:\n",
        "* NoiseLevel\n",
        "* RestaurantsAttire\n",
        "* RestaurantsTakeOut\n",
        "* RestaurantsReservations\n",
        "* RestaurantsDelivery\n",
        "* Alcohol\n",
        "* RestaurantsPriceRange2\n",
        "* BikeParking\n",
        "* HappyHour\n",
        "* OutdoorSeating\n",
        "* RestaurantsGoodForGroups\n",
        "* HasTV\n",
        "* Caters\n",
        "* GoodForKids\n",
        "* BusinessAcceptsCreditCards\n",
        "* WiFi\n",
        "* GoodForDancing\n",
        "* Smoking\n",
        "* RestaurantsTableService\n",
        "* BYOBCorkage\n",
        "* CoatCheck\n",
        "\n",
        "-> Create a vocab of possible vals of each feat listed above. \\\n",
        "-> A corresponding id val will map to each val in its vocab. \n",
        "\n",
        "Note that not every business has all listed feats \\\n",
        "-> Give NaN to the missing feat of a restaurant and map to index 0 in a feat’s vocabulary. The same was done for the other cate feats."
      ],
      "metadata": {
        "id": "U4QPi9kJ-dAB"
      }
    },
    {
      "cell_type": "markdown",
      "metadata": {
        "id": "XK3XcSPPGDCu"
      },
      "source": [
        "## Merge core and supplement\n",
        "Merge train, valid, test data with `user_df` and `item_df` on `user_id` and `business_id`"
      ]
    },
    {
      "cell_type": "code",
      "execution_count": 24,
      "metadata": {
        "id": "Y-xnVgaMGDCv"
      },
      "outputs": [],
      "source": [
        "tr_df = pd.merge(pd.merge(tr_df, user_df, on='user_id'), item_df, on='business_id').reset_index(drop=True)\n",
        "val_df = pd.merge(pd.merge(val_df, user_df, on='user_id'), item_df, on='business_id').reset_index(drop=True)\n",
        "te_df = pd.merge(pd.merge(te_df, user_df, on='user_id'), item_df, on='business_id').reset_index(drop=True)"
      ]
    },
    {
      "cell_type": "code",
      "source": [
        "pd.set_option('max_rows', 99999)\n",
        "pd.set_option('max_colwidth', 400)\n",
        "pd.describe_option('max_colwidth')\n",
        "print(tr_df.loc[500,:])"
      ],
      "metadata": {
        "colab": {
          "base_uri": "https://localhost:8080/"
        },
        "id": "psCgvq6ksrIt",
        "outputId": "79869e12-1e1f-4f26-b7f5-bae91dde16c3"
      },
      "execution_count": 25,
      "outputs": [
        {
          "output_type": "stream",
          "name": "stdout",
          "text": [
            "display.max_colwidth : int or None\n",
            "    The maximum width in characters of a column in the repr of\n",
            "    a pandas data structure. When the column overflows, a \"...\"\n",
            "    placeholder is embedded in the output. A 'None' value means unlimited.\n",
            "    [default: 50] [currently: 400]\n",
            "user_id                                                                b1f7069fd5ea3751910d573823e24985\n",
            "business_id                                                            823a0b2b711bdf5e6f0e6ccd029a0e19\n",
            "stars                                                                                               3.0\n",
            "user_name                                                                                           Amy\n",
            "user_review_count                                                                                  1156\n",
            "user_yelping_since                                                                  2007-02-07 20:41:39\n",
            "user_useful                                                                                        1750\n",
            "user_funny                                                                                          757\n",
            "user_cool                                                                                           846\n",
            "user_elite                                                                     2014,2015,2016,2017,2018\n",
            "user_fans                                                                                            98\n",
            "user_average_stars                                                                                 3.72\n",
            "user_compliment_hot                                                                                  30\n",
            "user_compliment_more                                                                                  4\n",
            "user_compliment_profile                                                                               3\n",
            "user_compliment_cute                                                                                  2\n",
            "user_compliment_list                                                                                  0\n",
            "user_compliment_note                                                                                 18\n",
            "user_compliment_plain                                                                                37\n",
            "user_compliment_cool                                                                                 36\n",
            "user_compliment_funny                                                                                36\n",
            "user_compliment_writer                                                                               29\n",
            "user_compliment_photos                                                                               13\n",
            "item_address                                                                      3600 S Las Vegas Blvd\n",
            "item_categories                    American (New), Bars, Nightlife, Italian, Mediterranean, Restaurants\n",
            "item_city                                                                                     Las Vegas\n",
            "item_is_open                                                                                          0\n",
            "item_latitude                                                                                 36.113933\n",
            "item_longitude                                                                              -115.174139\n",
            "item_name                                                                                        Olives\n",
            "item_postal_code                                                                                  89109\n",
            "item_review_count                                                                                  1783\n",
            "item_stars                                                                                          4.0\n",
            "item_state                                                                                           NV\n",
            "item_Sunday_Open                                                                                  11:30\n",
            "item_Sunday_Close                                                                                 22:30\n",
            "item_Monday_Open                                                                                  11:30\n",
            "item_Monday_Close                                                                                 22:30\n",
            "item_Tuesday_Open                                                                                 11:30\n",
            "item_Tuesday_Close                                                                                22:30\n",
            "item_Wednesday_Open                                                                               11:30\n",
            "item_Wednesday_Close                                                                              22:30\n",
            "item_Thursday_Open                                                                                11:30\n",
            "item_Thursday_Close                                                                               22:30\n",
            "item_Friday_Open                                                                                  11:30\n",
            "item_Friday_Close                                                                                 22:30\n",
            "item_Saturday_Open                                                                                11:30\n",
            "item_Saturday_Close                                                                               22:30\n",
            "item_NoiseLevel                                                                               'average'\n",
            "item_RestaurantsAttire                                                                         'dressy'\n",
            "item_RestaurantsTakeOut                                                                             1.0\n",
            "item_RestaurantsReservations                                                                        1.0\n",
            "item_RestaurantsDelivery                                                                              0\n",
            "item_Alcohol                                                                                  'fll_bar'\n",
            "item_RestaurantsPriceRange2                                                                         3.0\n",
            "item_BikeParking                                                                                      0\n",
            "item_HappyHour                                                                                      1.0\n",
            "item_OutdoorSeating                                                                                 1.0\n",
            "item_RestaurantsGoodForGroups                                                                         1\n",
            "item_HasTV                                                                                          0.0\n",
            "item_Caters                                                                                         0.0\n",
            "item_GoodForKids                                                                                      1\n",
            "item_BusinessAcceptsCreditCards                                                                       1\n",
            "item_WiFi                                                                                        'free'\n",
            "item_GoodForDancing                                                                                 0.0\n",
            "item_Smoking                                                                                       'no'\n",
            "item_RestaurantsTableService                                                                        1.0\n",
            "item_BYOBCorkage                                                                          'yes_corkage'\n",
            "item_CoatCheck                                                                                        0\n",
            "item_Parking_Street                                                                                 0.0\n",
            "item_Parking_Valet                                                                                  1.0\n",
            "item_Parking_Lot                                                                                    0.0\n",
            "item_Parking_Garage                                                                                 0.0\n",
            "item_Parking_Validated                                                                              0.0\n",
            "item_GoodFor_dessert                                                                                0.0\n",
            "item_GoodFor_latenight                                                                              0.0\n",
            "item_GoodFor_lunch                                                                                  0.0\n",
            "item_GoodFor_dinner                                                                                 1.0\n",
            "item_GoodFor_brunch                                                                                 0.0\n",
            "item_GoodFor_breakfast                                                                              0.0\n",
            "item_Ambience_romantic                                                                              0.0\n",
            "item_Ambience_intimate                                                                              0.0\n",
            "item_Ambience_classy                                                                                1.0\n",
            "item_Ambience_hipster                                                                               0.0\n",
            "item_Ambience_divey                                                                                 0.0\n",
            "item_Ambience_touristy                                                                              0.0\n",
            "item_Ambience_trendy                                                                                0.0\n",
            "item_Ambience_upscale                                                                               0.0\n",
            "item_Ambience_casual                                                                                0.0\n",
            "item_Music_dj                                                                                       0.0\n",
            "item_Music_background_music                                                                         0.0\n",
            "item_Music_jukebox                                                                                  0.0\n",
            "item_Music_live                                                                                     0.0\n",
            "item_Music_video                                                                                    0.0\n",
            "item_Music_karaoke                                                                                  0.0\n",
            "item_BestNights_monday                                                                              0.0\n",
            "item_BestNights_tuesday                                                                             0.0\n",
            "item_BestNights_friday                                                                              1.0\n",
            "item_BestNights_wednesday                                                                           0.0\n",
            "item_BestNights_thursday                                                                            1.0\n",
            "item_BestNights_sunday                                                                              0.0\n",
            "item_BestNights_saturday                                                                            1.0\n",
            "Name: 500, dtype: object\n"
          ]
        }
      ]
    },
    {
      "cell_type": "markdown",
      "source": [
        "## Prepare input"
      ],
      "metadata": {
        "id": "JwH0c1KrdlBX"
      }
    },
    {
      "cell_type": "markdown",
      "metadata": {
        "id": "bYUw-LUYGDCv"
      },
      "source": [
        "### Deep cont_feats\n",
        "It is used for Deep model"
      ]
    },
    {
      "cell_type": "code",
      "source": [
        "# Specify the columns containing conitnuous features\n",
        "user_emo = ['compliment_hot', 'compliment_more', 'compliment_profile', 'compliment_cute', 'compliment_list', \n",
        "            'compliment_note', 'compliment_plain', 'compliment_cool',  'compliment_funny',  'compliment_writer', \n",
        "            'compliment_photos', 'useful', 'funny', 'cool'] \n",
        "user_info = ['review_count', 'fans', 'average_stars']\n",
        "user_cont = user_info + user_emo[:3]\n",
        "user_cont = ['user_' + t for t in user_cont]   \n",
        "\n",
        "item_location = ['latitude', 'longitude']\n",
        "item_info = ['stars', 'review_count', 'is_open']\n",
        "item_cont = item_info \n",
        "item_cont = ['item_' + t for t in item_cont] \n",
        "\n",
        "continuous_columns = user_cont + item_cont\n",
        "print(continuous_columns)\n",
        "print(\"no. cont_feats:\", len(continuous_columns))"
      ],
      "metadata": {
        "colab": {
          "base_uri": "https://localhost:8080/"
        },
        "id": "0ybTa8vla0d6",
        "outputId": "9b4fcd91-ccec-47e7-8f36-c18973fbf31d"
      },
      "execution_count": 27,
      "outputs": [
        {
          "output_type": "stream",
          "name": "stdout",
          "text": [
            "['user_review_count', 'user_fans', 'user_average_stars', 'user_compliment_hot', 'user_compliment_more', 'user_compliment_profile', 'item_stars', 'item_review_count', 'item_is_open']\n",
            "no. cont_feats: 9\n"
          ]
        }
      ]
    },
    {
      "cell_type": "code",
      "execution_count": 28,
      "metadata": {
        "colab": {
          "base_uri": "https://localhost:8080/"
        },
        "id": "CK5HEXxvGDCv",
        "outputId": "caf4575a-fc7c-4d96-afe2-5f4e727c8d4f"
      },
      "outputs": [
        {
          "output_type": "stream",
          "name": "stdout",
          "text": [
            "raw: [ 38.    3.    4.1   1.    0.    0.    3.5 726.    1. ]\n",
            "normalized: [-0.56083802 -0.28727618  0.73578275 -0.18148716 -0.24348181 -0.176347\n",
            " -0.70190376 -0.00243181  0.30306351]\n"
          ]
        }
      ],
      "source": [
        "# Get values of continous features for train/validation/test sets using the utility function defined previously\n",
        "tr_continuous_features = get_continuous_features(tr_df, continuous_columns)\n",
        "val_continuous_features = get_continuous_features(val_df, continuous_columns)\n",
        "te_continuous_features = get_continuous_features(te_df, continuous_columns)\n",
        "print(\"raw:\",tr_continuous_features[0])\n",
        "\n",
        "# Standardize each feature by removing the mean of the training samples and scaling to unit variance.\n",
        "# See https://scikit-learn.org/stable/modules/generated/sklearn.preprocessing.StandardScaler.html for more details.\n",
        "scaler = StandardScaler().fit(tr_continuous_features)\n",
        "\n",
        "tr_continuous_features = scaler.transform(tr_continuous_features)\n",
        "val_continuous_features = scaler.transform(val_continuous_features)\n",
        "te_continuous_features = scaler.transform(te_continuous_features)\n",
        "print(\"normalized:\", tr_continuous_features[0])"
      ]
    },
    {
      "cell_type": "markdown",
      "metadata": {
        "id": "E4vX6sE3GDCw"
      },
      "source": [
        "### Deep cate_feats\n",
        "It is used for deep model only (via embeddings)"
      ]
    },
    {
      "cell_type": "code",
      "source": [
        "# Sepcify column names of deep categorical features\n",
        "item_location = [\"city\", \"postal_code\", \"state\"]\n",
        "item_hours = ['Sunday_Open', 'Sunday_Close', 'Monday_Open', 'Monday_Close', 'Tuesday_Open', 'Tuesday_Close', \n",
        "              'Wednesday_Open', 'Wednesday_Close','Thursday_Open', 'Thursday_Close', 'Friday_Open', \n",
        "              'Friday_Close', 'Saturday_Open', 'Saturday_Close']\n",
        "item_attributes = ['NoiseLevel', 'RestaurantsAttire', 'RestaurantsTakeOut', 'RestaurantsReservations', \n",
        "                 'RestaurantsDelivery', 'Alcohol', 'RestaurantsPriceRange2', 'BikeParking', 'HappyHour', 'OutdoorSeating', \n",
        "                 'RestaurantsGoodForGroups', 'HasTV', 'Caters', 'GoodForKids', 'BusinessAcceptsCreditCards', \n",
        "                 'WiFi', 'GoodForDancing', 'Smoking', 'RestaurantsTableService', 'BYOBCorkage', 'CoatCheck']\n",
        "#item_attributes = [\"Alcohol\", \"Caters\", \"NoiseLevel\", \"WiFi\", 'RestaurantsAttire', 'BusinessAcceptsCreditCards',\n",
        "#                   'RestaurantsPriceRange2', 'RestaurantsGoodForGroups']\n",
        "item_Parking = ['Parking_Street', 'Parking_Valet', 'Parking_Lot', 'Parking_Garage', 'Parking_Validated']\n",
        "item_GoodFor = ['GoodFor_dessert', 'GoodFor_latenight', 'GoodFor_lunch', 'GoodFor_dinner', \n",
        "                'GoodFor_brunch', 'GoodFor_breakfast']\n",
        "item_Ambience = ['Ambience_romantic', 'Ambience_intimate', 'Ambience_classy', 'Ambience_hipster', \n",
        "                 'Ambience_divey', 'Ambience_touristy', 'Ambience_trendy', 'Ambience_upscale', 'Ambience_casual']\n",
        "item_Music = ['Music_dj', 'Music_background_music', 'Music_jukebox', 'Music_live', 'Music_video', 'Music_karaoke']\n",
        "item_BestNights = ['BestNights_monday', 'BestNights_tuesday', 'BestNights_friday', 'BestNights_wednesday', \n",
        "                   'BestNights_thursday', 'BestNights_sunday', 'BestNights_saturday']\n",
        "\n",
        "item_deep_columns = item_location# + item_Parking + item_GoodFor + item_Ambience\n",
        "item_deep_columns = ['item_' + t for t in item_deep_columns] + ['business_id']  \n",
        "print(item_deep_columns)"
      ],
      "metadata": {
        "id": "eulJe7oMM9Kn",
        "colab": {
          "base_uri": "https://localhost:8080/"
        },
        "outputId": "4a06c1d0-f53d-44bc-ccec-8132b1501c4b"
      },
      "execution_count": 29,
      "outputs": [
        {
          "output_type": "stream",
          "name": "stdout",
          "text": [
            "['item_city', 'item_postal_code', 'item_state', 'business_id']\n"
          ]
        }
      ]
    },
    {
      "cell_type": "code",
      "execution_count": 30,
      "metadata": {
        "id": "20v1BXcqGDCw"
      },
      "outputs": [],
      "source": [
        "item_deep_columns\n",
        "\n",
        "# An array of integers where deep_vocab_lens[i] represents the number of unique values of (i+1)-th deep categorical feature\n",
        "# Transforming words into indices for each categorical columns\n",
        "item_deep_vocab_lens = []\n",
        "for col_name in item_deep_columns:\n",
        "    # Getting unique values of this deep categorical feature\n",
        "    unique_values = [item for item in tr_df[col_name].unique() if not item!=item]\n",
        "    \n",
        "    # Creating a dictionary to map from unique values to the corresponding index\n",
        "    vocab = dict(zip(unique_values, range(1, len(unique_values)+1)))\n",
        "    \n",
        "    # Getting the number of unique values of this deep categorical features\n",
        "    item_deep_vocab_lens.append(len(vocab)+1)\n",
        "    \n",
        "    # Creating a new column where each entry stores the index of this deep categorical feature's value in the same row\n",
        "    item_df[col_name + \"_idx\"] = item_df[col_name].apply(lambda x: vocab[x] if x in vocab else 0)\n",
        "\n",
        "\n",
        "# Creating a dictionary mapping each business id to corresponding values of deep categorical features ('business_id' -> ['item_city_idx', 'item_postal_code_idx', 'item_state_idx'] in this case)\n",
        "item_deep_idx_columns = [t + \"_idx\" for t in item_deep_columns] #rename\n",
        "item_to_deep_categorical_features = dict(zip(item_df['business_id'].values, item_df[item_deep_idx_columns].values.tolist()))\n",
        "\n",
        "# Creating numpy arrays storing corresponding deep categorical features' values of train/validation/test sets using the above mapping\n",
        "tr_deep_categorical_features = np.array(tr_df['business_id'].apply(lambda x: item_to_deep_categorical_features[x]).values.tolist())\n",
        "val_deep_categorical_features = np.array(val_df['business_id'].apply(lambda x: item_to_deep_categorical_features[x]).values.tolist())\n",
        "te_deep_categorical_features = np.array(te_df['business_id'].apply(lambda x: item_to_deep_categorical_features[x]).values.tolist())"
      ]
    },
    {
      "cell_type": "code",
      "source": [
        "print(\"unique vals for\", len(item_deep_vocab_lens), \"chosen items:\", item_deep_vocab_lens)"
      ],
      "metadata": {
        "colab": {
          "base_uri": "https://localhost:8080/"
        },
        "id": "zrCVTqN7vKtt",
        "outputId": "7a0e566d-89d3-4d6c-af2b-f60cd97b421b"
      },
      "execution_count": 31,
      "outputs": [
        {
          "output_type": "stream",
          "name": "stdout",
          "text": [
            "unique vals for 4 chosen items: [118, 799, 14, 5939]\n"
          ]
        }
      ]
    },
    {
      "cell_type": "code",
      "source": [
        "print(item_df.loc[1000,:]) #add indexes (look up from dict)"
      ],
      "metadata": {
        "colab": {
          "base_uri": "https://localhost:8080/"
        },
        "id": "IVyOFQPBw9sI",
        "outputId": "57df134f-0684-49e3-ba7e-8c8df3290c02"
      },
      "execution_count": 32,
      "outputs": [
        {
          "output_type": "stream",
          "name": "stdout",
          "text": [
            "item_address                                                                   115 E Baseline Rd, Ste 5\n",
            "business_id                                                            a22b5a31db102b01af2a3fb20fb73440\n",
            "item_categories                    Restaurants, Barbeque, Hot Dogs, Caterers, Event Planning & Services\n",
            "item_city                                                                                         Tempe\n",
            "item_is_open                                                                                          1\n",
            "item_latitude                                                                                 33.377744\n",
            "item_longitude                                                                               -111.93823\n",
            "item_name                                                                                     Tom's BBQ\n",
            "item_postal_code                                                                                  85283\n",
            "item_review_count                                                                                   200\n",
            "item_stars                                                                                          3.5\n",
            "item_state                                                                                           AZ\n",
            "item_Sunday_Open                                                                                   11:0\n",
            "item_Sunday_Close                                                                                  20:0\n",
            "item_Monday_Open                                                                                  10:30\n",
            "item_Monday_Close                                                                                  21:0\n",
            "item_Tuesday_Open                                                                                 10:30\n",
            "item_Tuesday_Close                                                                                 21:0\n",
            "item_Wednesday_Open                                                                               10:30\n",
            "item_Wednesday_Close                                                                               21:0\n",
            "item_Thursday_Open                                                                                10:30\n",
            "item_Thursday_Close                                                                                21:0\n",
            "item_Friday_Open                                                                                  10:30\n",
            "item_Friday_Close                                                                                  21:0\n",
            "item_Saturday_Open                                                                                10:30\n",
            "item_Saturday_Close                                                                                21:0\n",
            "item_NoiseLevel                                                                               'average'\n",
            "item_RestaurantsAttire                                                                          'casal'\n",
            "item_RestaurantsTakeOut                                                                             1.0\n",
            "item_RestaurantsReservations                                                                        0.0\n",
            "item_RestaurantsDelivery                                                                              0\n",
            "item_Alcohol                                                                                     'none'\n",
            "item_RestaurantsPriceRange2                                                                         2.0\n",
            "item_BikeParking                                                                                      1\n",
            "item_HappyHour                                                                                      NaN\n",
            "item_OutdoorSeating                                                                                 1.0\n",
            "item_RestaurantsGoodForGroups                                                                         1\n",
            "item_HasTV                                                                                          0.0\n",
            "item_Caters                                                                                         1.0\n",
            "item_GoodForKids                                                                                      1\n",
            "item_BusinessAcceptsCreditCards                                                                       1\n",
            "item_WiFi                                                                                          'no'\n",
            "item_GoodForDancing                                                                                 NaN\n",
            "item_Smoking                                                                                        NaN\n",
            "item_RestaurantsTableService                                                                        NaN\n",
            "item_BYOBCorkage                                                                                    NaN\n",
            "item_CoatCheck                                                                                      NaN\n",
            "item_Parking_Street                                                                                 0.0\n",
            "item_Parking_Valet                                                                                  0.0\n",
            "item_Parking_Lot                                                                                    1.0\n",
            "item_Parking_Garage                                                                                 0.0\n",
            "item_Parking_Validated                                                                              0.0\n",
            "item_GoodFor_dessert                                                                                0.0\n",
            "item_GoodFor_latenight                                                                              0.0\n",
            "item_GoodFor_lunch                                                                                  1.0\n",
            "item_GoodFor_dinner                                                                                 1.0\n",
            "item_GoodFor_brunch                                                                                 0.0\n",
            "item_GoodFor_breakfast                                                                              0.0\n",
            "item_Ambience_romantic                                                                              0.0\n",
            "item_Ambience_intimate                                                                              0.0\n",
            "item_Ambience_classy                                                                                0.0\n",
            "item_Ambience_hipster                                                                               0.0\n",
            "item_Ambience_divey                                                                                 0.0\n",
            "item_Ambience_touristy                                                                              0.0\n",
            "item_Ambience_trendy                                                                                0.0\n",
            "item_Ambience_upscale                                                                               0.0\n",
            "item_Ambience_casual                                                                                1.0\n",
            "item_Music_dj                                                                                       NaN\n",
            "item_Music_background_music                                                                         NaN\n",
            "item_Music_jukebox                                                                                  NaN\n",
            "item_Music_live                                                                                     NaN\n",
            "item_Music_video                                                                                    NaN\n",
            "item_Music_karaoke                                                                                  NaN\n",
            "item_BestNights_monday                                                                              NaN\n",
            "item_BestNights_tuesday                                                                             NaN\n",
            "item_BestNights_friday                                                                              NaN\n",
            "item_BestNights_wednesday                                                                           NaN\n",
            "item_BestNights_thursday                                                                            NaN\n",
            "item_BestNights_sunday                                                                              NaN\n",
            "item_BestNights_saturday                                                                            NaN\n",
            "item_city_idx                                                                                        10\n",
            "item_postal_code_idx                                                                                209\n",
            "item_state_idx                                                                                        3\n",
            "business_id_idx                                                                                    3086\n",
            "Name: 1000, dtype: object\n"
          ]
        }
      ]
    },
    {
      "cell_type": "code",
      "source": [
        "print(len(list(item_to_deep_categorical_features.items()))) # = no. items\n",
        "print(list(item_to_deep_categorical_features.items())[50:51]) #each item: (feats_indexes"
      ],
      "metadata": {
        "colab": {
          "base_uri": "https://localhost:8080/"
        },
        "id": "eQAJqb8jyiWJ",
        "outputId": "28e5f8cf-60b1-4f43-c893-be0a2890f07a"
      },
      "execution_count": 33,
      "outputs": [
        {
          "output_type": "stream",
          "name": "stdout",
          "text": [
            "5964\n",
            "[('a89a48be9fb0f95db7647fdff62bb312', [25, 163, 3, 2934])]\n"
          ]
        }
      ]
    },
    {
      "cell_type": "code",
      "source": [
        "print(len(tr_deep_categorical_features)) #= no. train data\n",
        "print(tr_deep_categorical_features[:5]) # near data have the same value\n",
        "tr_deep_categorical_features[[500,1000,1500,2000]] #3feats for each busID"
      ],
      "metadata": {
        "colab": {
          "base_uri": "https://localhost:8080/"
        },
        "id": "OYeov8DGzVYi",
        "outputId": "a53b8018-cf7d-4fc4-9fc9-1d3c094d5633"
      },
      "execution_count": 34,
      "outputs": [
        {
          "output_type": "stream",
          "name": "stdout",
          "text": [
            "60080\n",
            "[[1 1 1 1]\n",
            " [1 1 1 1]\n",
            " [1 1 1 1]\n",
            " [1 1 1 1]\n",
            " [1 1 1 1]]\n"
          ]
        },
        {
          "output_type": "execute_result",
          "data": {
            "text/plain": [
              "array([[  1,   7,   1,  24],\n",
              "       [  1,  23,   1,  64],\n",
              "       [  1,  15,   1,  98],\n",
              "       [  1,   7,   1, 140]])"
            ]
          },
          "metadata": {},
          "execution_count": 34
        }
      ]
    },
    {
      "cell_type": "markdown",
      "source": [
        "####user deep"
      ],
      "metadata": {
        "id": "Y5X1nRvF6z2T"
      }
    },
    {
      "cell_type": "code",
      "source": [
        "# Sepcify column names of deep categorical features\n",
        "user_deep_columns = [\"user_id\"]\n",
        "\n",
        "# An array of integers where deep_vocab_lens[i] represents the number of unique values of (i+1)-th deep categorical feature\n",
        "user_deep_vocab_lens = []\n",
        "\n",
        "for col_name in user_deep_columns:\n",
        "    # Get all unique values of this deep categorical feature\n",
        "    tmp = user_df[col_name].unique()\n",
        "    \n",
        "    # Create a dictionary mapping each unique value to a unique integral index\n",
        "    vocab = dict(zip(tmp, range(1, len(tmp) + 1)))\n",
        "    \n",
        "    # Get the number of unique values of this deep categorical features\n",
        "    user_deep_vocab_lens.append(len(vocab) + 1)\n",
        "    \n",
        "    # Create a new column where each entry stores the integral index of this deep categorical feature's value in the same row\n",
        "    user_df[col_name + \"_idx\"] = user_df[col_name].apply(lambda x: vocab[x])\n",
        "\n",
        "\n",
        "# Create a dictionary mapping each business id to corresponding values of deep categorical features\n",
        "user_deep_idx_columns = [t + \"_idx\" for t in user_deep_columns]\n",
        "user_to_deep_categorical_features = dict(zip(user_df.user_id.values, user_df[user_deep_idx_columns].values.tolist()))\n",
        "\n",
        "tr_deep_categorical_features = np.array(tr_df.apply(lambda row: item_to_deep_categorical_features[row.business_id] + user_to_deep_categorical_features[row.user_id], axis=1).values.tolist())\n",
        "val_deep_categorical_features = np.array(val_df.apply(lambda row: item_to_deep_categorical_features[row.business_id] + user_to_deep_categorical_features[row.user_id], axis=1).values.tolist())\n",
        "te_deep_categorical_features = np.array(te_df.apply(lambda row: item_to_deep_categorical_features[row.business_id] + user_to_deep_categorical_features[row.user_id], axis=1).values.tolist())"
      ],
      "metadata": {
        "id": "XVvq56Qj61oo"
      },
      "execution_count": 35,
      "outputs": []
    },
    {
      "cell_type": "code",
      "source": [
        "print(\"unique vals for\", len(user_deep_vocab_lens), \"chosen items:\", user_deep_vocab_lens)"
      ],
      "metadata": {
        "colab": {
          "base_uri": "https://localhost:8080/"
        },
        "id": "Nb5Cwxx9tEw4",
        "outputId": "63eee278-4655-47ed-ab33-754aa05552a4"
      },
      "execution_count": 36,
      "outputs": [
        {
          "output_type": "stream",
          "name": "stdout",
          "text": [
            "unique vals for 1 chosen items: [2981]\n"
          ]
        }
      ]
    },
    {
      "cell_type": "code",
      "source": [
        "print(len(item_deep_columns), len(user_deep_columns), len(tr_deep_categorical_features[0]))\n",
        "print(tr_deep_categorical_features[:5])"
      ],
      "metadata": {
        "colab": {
          "base_uri": "https://localhost:8080/"
        },
        "id": "Jdb00GrChSgW",
        "outputId": "07add144-e406-4f66-e2d5-d426cd66d315"
      },
      "execution_count": 37,
      "outputs": [
        {
          "output_type": "stream",
          "name": "stdout",
          "text": [
            "4 1 5\n",
            "[[   1    1    1    1  316]\n",
            " [   1    1    1    1  831]\n",
            " [   1    1    1    1 1021]\n",
            " [   1    1    1    1 1326]\n",
            " [   1    1    1    1  875]]\n"
          ]
        }
      ]
    },
    {
      "cell_type": "markdown",
      "metadata": {
        "id": "fNR4HloaGDCw"
      },
      "source": [
        "### Wide feats (item_categories)\n",
        "Inputs for Wide consists of single items and (>=2)-combinations from item_categories "
      ]
    },
    {
      "cell_type": "markdown",
      "metadata": {
        "id": "iz7b96asGDCx"
      },
      "source": [
        "#### Single items\n",
        "Prepare binary encoding (exist or not) for each selected cate (top N frequent cate)"
      ]
    },
    {
      "cell_type": "code",
      "execution_count": 38,
      "metadata": {
        "id": "aogu5c07GDCx",
        "colab": {
          "base_uri": "https://localhost:8080/"
        },
        "outputId": "3bb305ce-2d9a-467a-8761-8464d3768055"
      },
      "outputs": [
        {
          "output_type": "stream",
          "name": "stdout",
          "text": [
            "total: 605\n",
            "select: 500\n"
          ]
        }
      ],
      "source": [
        "# Collect the categories of all items \n",
        "all_categories = [category for category_list in item_df.item_categories.values for category in category_list.split(\", \")]\n",
        "\n",
        "# Sort all unique values of the item categories by their frequencies in descending order\n",
        "category_sorted = sorted(Counter(all_categories).items(), key=lambda x: x[1], reverse=True)\n",
        "print(\"total:\", len(category_sorted))\n",
        "\n",
        "# Select top 500 most frequent categories\n",
        "selected_categories = [t[0] for t in category_sorted[:500]]\n",
        "print(\"select:\", len(selected_categories))\n",
        "\n",
        "# Create a dictionary mapping each secleted category to a unique integral index\n",
        "selected_categories_to_idx = dict(zip(selected_categories, range(1, len(selected_categories) + 1)))\n",
        "\n",
        "# Map all categories unseen in the item df to index 0 //trash site\n",
        "selected_categories_to_idx['unk'] = 0\n",
        "\n",
        "# Create a dictionary mapping each integral index to corresponding category\n",
        "idx_to_selected_categories = {val: key for key, val in selected_categories_to_idx.items()}"
      ]
    },
    {
      "cell_type": "code",
      "source": [
        "print(item_df.item_categories[:20])"
      ],
      "metadata": {
        "colab": {
          "base_uri": "https://localhost:8080/"
        },
        "id": "IIrrWXka0-ur",
        "outputId": "8bb88005-1096-45e4-c934-aee2d1b9c11b"
      },
      "execution_count": 39,
      "outputs": [
        {
          "output_type": "stream",
          "name": "stdout",
          "text": [
            "0                                                                               Nightlife, Bars, Polish, Modern European, Restaurants, Vegan\n",
            "1                                                                                                                       Chinese, Restaurants\n",
            "2                                                                                    American (New), Bars, Wine Bars, Nightlife, Restaurants\n",
            "3     Ethnic Food, American (New), Burgers, Food, Restaurants, Asian Fusion, Specialty Food, Mexican, Sandwiches, Breakfast & Brunch, Korean\n",
            "4                                             Caterers, Hot Dogs, Restaurants, Vegetarian, American (Traditional), Event Planning & Services\n",
            "5                                                                                                              Soup, Restaurants, Sandwiches\n",
            "6                                                                                                                       Seafood, Restaurants\n",
            "7                                                                                                             French, Restaurants, Creperies\n",
            "8                                                                                                                       Buffets, Restaurants\n",
            "9                                                                                                                       Chinese, Restaurants\n",
            "10                                                                                Italian, Canadian (New), Food, American (New), Restaurants\n",
            "11                                                                                                   Restaurants, Pizza, Sandwiches, Italian\n",
            "12                                                                                Music Venues, Dance Clubs, Arts & Entertainment, Nightlife\n",
            "13                                                  Food, Specialty Food, Beer, Wine & Spirits, Shopping, Flowers & Gifts, Florists, Grocery\n",
            "14                                                                                    Asian Fusion, Japanese, Restaurants, Ramen, Tapas Bars\n",
            "15                                                                                    Bubble Tea, Food, Restaurants, Taiwanese, Coffee & Tea\n",
            "16                                                                               Arts & Entertainment, Botanical Gardens, Parks, Active Life\n",
            "17                                                                                                                        Restaurants, Pizza\n",
            "18                                                                                  Asian Fusion, Restaurants, Seafood, Sushi Bars, Japanese\n",
            "19                                                                                                                   Vietnamese, Restaurants\n",
            "Name: item_categories, dtype: object\n"
          ]
        }
      ]
    },
    {
      "cell_type": "code",
      "source": [
        "print(all_categories[:20])\n",
        "print(category_sorted[:15])\n",
        "print(selected_categories[:20])\n",
        "print(list(selected_categories_to_idx.items())[:5])\n",
        "print(list(idx_to_selected_categories.items())[:5])"
      ],
      "metadata": {
        "colab": {
          "base_uri": "https://localhost:8080/"
        },
        "id": "ANKmP8o20bbE",
        "outputId": "5edd5203-80bf-412f-fc42-30866b21dd0e"
      },
      "execution_count": 40,
      "outputs": [
        {
          "output_type": "stream",
          "name": "stdout",
          "text": [
            "['Nightlife', 'Bars', 'Polish', 'Modern European', 'Restaurants', 'Vegan', 'Chinese', 'Restaurants', 'American (New)', 'Bars', 'Wine Bars', 'Nightlife', 'Restaurants', 'Ethnic Food', 'American (New)', 'Burgers', 'Food', 'Restaurants', 'Asian Fusion', 'Specialty Food']\n",
            "[('Restaurants', 4875), ('Food', 1561), ('Nightlife', 1490), ('Bars', 1395), ('American (New)', 981), ('American (Traditional)', 918), ('Breakfast & Brunch', 845), ('Sandwiches', 530), ('Italian', 521), ('Mexican', 510), ('Event Planning & Services', 478), ('Seafood', 474), ('Pizza', 469), ('Burgers', 441), ('Japanese', 418)]\n",
            "['Restaurants', 'Food', 'Nightlife', 'Bars', 'American (New)', 'American (Traditional)', 'Breakfast & Brunch', 'Sandwiches', 'Italian', 'Mexican', 'Event Planning & Services', 'Seafood', 'Pizza', 'Burgers', 'Japanese', 'Arts & Entertainment', 'Sushi Bars', 'Coffee & Tea', 'Desserts', 'Salad']\n",
            "[('Restaurants', 1), ('Food', 2), ('Nightlife', 3), ('Bars', 4), ('American (New)', 5)]\n",
            "[(1, 'Restaurants'), (2, 'Food'), (3, 'Nightlife'), (4, 'Bars'), (5, 'American (New)')]\n"
          ]
        }
      ]
    },
    {
      "cell_type": "markdown",
      "metadata": {
        "id": "VJr4m4PGGDCx"
      },
      "source": [
        "#### Combinations\n",
        "Preparing cross product transformation for categories"
      ]
    },
    {
      "cell_type": "code",
      "execution_count": 41,
      "metadata": {
        "id": "JYR1WyWNGDCx"
      },
      "outputs": [],
      "source": [
        "# Get most frequent categories combinantions using the utility function defined previously and store them in the folloing list\n",
        "top_combinations = []\n",
        "\n",
        "# Get top frequent two-categories combinantions in the train set\n",
        "\n",
        "top_combinations += get_top_k_p_combinations(tr_df, 2, 50, output_freq=False)\n",
        "\n",
        "# Get top frequent three-categories combinantions in the train set\n",
        "top_combinations += get_top_k_p_combinations(tr_df, 3, 30, output_freq=False)\n",
        "\n",
        "# Get top frequent four-categories combinantions in the train set\n",
        "top_combinations += get_top_k_p_combinations(tr_df, 4, 20, output_freq=False)\n",
        "\n",
        "# Convert each combinantion in the list to a set data structure\n",
        "top_combinations = [set(t) for t in top_combinations]"
      ]
    },
    {
      "cell_type": "code",
      "source": [
        "print(len(top_combinations))\n",
        "top_combinations[:5]"
      ],
      "metadata": {
        "id": "oUxyAEbl2TcP",
        "colab": {
          "base_uri": "https://localhost:8080/"
        },
        "outputId": "d3900153-e020-4e90-d649-21f328c0800d"
      },
      "execution_count": 42,
      "outputs": [
        {
          "output_type": "stream",
          "name": "stdout",
          "text": [
            "100\n"
          ]
        },
        {
          "output_type": "execute_result",
          "data": {
            "text/plain": [
              "[{'Bars', 'Nightlife'},\n",
              " {'Food', 'Restaurants'},\n",
              " {'Bars', 'Nightlife'},\n",
              " {'Nightlife', 'Restaurants'},\n",
              " {'Nightlife', 'Restaurants'}]"
            ]
          },
          "metadata": {},
          "execution_count": 42
        }
      ]
    },
    {
      "cell_type": "code",
      "execution_count": 43,
      "metadata": {
        "id": "ALFXYqgzGDCy"
      },
      "outputs": [],
      "source": [
        "# Getting values of wide features for train/validation/test sets using the utility function defined previously\n",
        "# The following matrices should have a shape of (n_samples, len(selected_categories_to_idx)+len(top_combinations))\n",
        "tr_wide_features = get_wide_features(tr_df, selected_categories_to_idx, top_combinations)\n",
        "val_wide_features = get_wide_features(val_df, selected_categories_to_idx, top_combinations)\n",
        "te_wide_features = get_wide_features(te_df, selected_categories_to_idx, top_combinations)"
      ]
    },
    {
      "cell_type": "code",
      "source": [
        "print(len(tr_wide_features)) #no. training data\n",
        "# selected_cate: top 500 most frequent cate + 1 'unk' (len=1),  top_combi: top combi (len=2,3,4)\n",
        "print(len(selected_categories_to_idx.items()), len(top_combinations)) \n",
        "print(len(tr_wide_features[0]))\n",
        "print(tr_wide_features[0]) #each train data output a binary occurences: "
      ],
      "metadata": {
        "colab": {
          "base_uri": "https://localhost:8080/"
        },
        "id": "ddXxm5xO331w",
        "outputId": "69692261-747e-40b5-c475-c0d0cda227e8"
      },
      "execution_count": 44,
      "outputs": [
        {
          "output_type": "stream",
          "name": "stdout",
          "text": [
            "60080\n",
            "501 100\n",
            "601\n",
            "[0 1 1 1 1 0 0 0 0 0 0 0 0 0 0 0 0 0 0 0 0 0 0 0 0 0 0 1 1 0 1 0 0 0 1 0 0\n",
            " 0 0 0 0 0 0 0 0 0 0 0 0 0 0 1 0 0 0 0 0 0 0 0 0 0 0 0 0 0 0 0 0 0 0 0 0 0\n",
            " 0 0 0 0 0 0 0 0 0 0 0 0 0 0 0 0 0 0 0 0 0 0 0 0 0 0 0 0 0 0 0 0 0 0 0 0 0\n",
            " 0 0 0 0 0 0 0 0 0 0 0 0 0 0 0 0 0 0 0 0 0 0 0 0 0 0 0 0 0 0 0 0 0 0 0 0 0\n",
            " 0 0 0 0 0 0 0 0 0 0 0 0 0 0 0 0 0 0 0 0 0 0 0 0 0 0 0 0 0 0 0 0 0 0 0 0 0\n",
            " 0 0 0 0 0 0 0 0 0 0 0 0 0 0 0 0 0 0 0 0 0 0 0 0 0 0 0 0 0 0 0 0 0 0 0 0 0\n",
            " 0 0 0 0 0 0 0 0 0 0 0 0 0 0 0 0 0 0 0 0 0 0 0 0 0 0 0 0 0 0 0 0 0 0 0 0 0\n",
            " 0 0 0 0 0 0 0 0 0 0 0 0 0 0 0 0 0 0 0 0 0 0 0 0 0 0 0 0 0 0 0 0 0 0 0 0 0\n",
            " 0 0 0 0 0 0 0 0 0 0 0 0 0 0 0 0 0 0 0 0 0 0 0 0 0 0 0 0 0 0 0 0 0 0 0 0 0\n",
            " 0 0 0 0 0 0 0 0 0 0 0 0 0 0 0 0 0 0 0 0 0 0 0 0 0 0 0 0 0 0 0 0 0 0 0 0 0\n",
            " 0 0 0 0 0 0 0 0 0 0 0 0 0 0 0 0 0 0 0 0 0 0 0 0 0 0 0 0 0 0 0 0 0 0 0 0 0\n",
            " 0 0 0 0 0 0 0 0 0 0 0 0 0 0 0 0 0 0 0 0 0 0 0 0 0 0 0 0 0 0 0 0 0 0 0 0 0\n",
            " 0 0 0 0 0 0 0 0 0 0 0 0 0 0 0 0 0 0 0 0 0 0 0 0 0 0 0 0 0 0 0 0 0 0 0 0 0\n",
            " 0 0 0 0 0 0 0 0 0 0 0 0 0 0 0 0 0 0 0 0 1 1 1 1 1 1 1 1 0 0 0 0 0 0 0 0 0\n",
            " 0 0 1 0 0 0 0 0 0 0 0 0 0 0 0 0 1 0 0 0 0 0 1 0 0 1 1 0 0 0 0 0 0 1 1 1 1\n",
            " 1 1 1 1 1 1 1 1 0 0 0 0 0 0 0 0 0 0 0 0 0 0 0 0 1 0 1 1 1 1 1 1 1 1 1 1 1\n",
            " 1 1 1 1 1 1 1 1 1]\n"
          ]
        }
      ]
    },
    {
      "cell_type": "markdown",
      "metadata": {
        "id": "jQ8kdEleGDCy"
      },
      "source": [
        "### Concat cont_feats, deep cate_feats, wide feats as input"
      ]
    },
    {
      "cell_type": "code",
      "execution_count": 45,
      "metadata": {
        "id": "MtFjlC3_GDCy"
      },
      "outputs": [],
      "source": [
        "tr_features = []\n",
        "tr_features.append(tr_continuous_features)\n",
        "tr_features += [tr_deep_categorical_features[:, i] for i in range(tr_deep_categorical_features.shape[1])]\n",
        "tr_features.append(tr_wide_features)\n",
        "\n",
        "val_features = []\n",
        "val_features.append(val_continuous_features)\n",
        "val_features += [val_deep_categorical_features[:, i] for i in range(val_deep_categorical_features.shape[1])]\n",
        "val_features.append(val_wide_features)\n",
        "\n",
        "te_features = []\n",
        "te_features.append(te_continuous_features)\n",
        "te_features += [te_deep_categorical_features[:, i] for i in range(te_deep_categorical_features.shape[1])]\n",
        "te_features.append(te_wide_features)"
      ]
    },
    {
      "cell_type": "code",
      "source": [
        "print(len(tr_features)) \n",
        "print(item_deep_columns)\n",
        "print(len(tr_features[0]), len(tr_features[2]), len(tr_features[4]))\n",
        "print('deep_cont:',len(tr_features[0][0]))\n",
        "some_idx = [500,1000,1500,2000]\n",
        "print('deep_cate item1:', tr_features[1][some_idx]) #look up from the dict\n",
        "print('deep_cate item2:', tr_features[2][some_idx])\n",
        "print('deep_cate item3:', tr_features[3][some_idx])\n",
        "print('wide:',len(tr_features[-1][0]))"
      ],
      "metadata": {
        "colab": {
          "base_uri": "https://localhost:8080/"
        },
        "id": "NoLgAahvGrZx",
        "outputId": "d5ae3850-df60-4f34-8112-a7549402d163"
      },
      "execution_count": 46,
      "outputs": [
        {
          "output_type": "stream",
          "name": "stdout",
          "text": [
            "7\n",
            "['item_city', 'item_postal_code', 'item_state', 'business_id']\n",
            "60080 60080 60080\n",
            "deep_cont: 9\n",
            "deep_cate item1: [1 1 1 1]\n",
            "deep_cate item2: [ 7 23 15  7]\n",
            "deep_cate item3: [1 1 1 1]\n",
            "wide: 601\n"
          ]
        }
      ]
    },
    {
      "cell_type": "markdown",
      "metadata": {
        "id": "Us_0MLr_GDCy"
      },
      "source": [
        "# Build the WDL"
      ]
    },
    {
      "cell_type": "code",
      "source": [
        "def build_wdl_model(len_continuous, deep_vocab_lens, len_wide, embed_size):\n",
        "    '''\n",
        "    params:\n",
        "        len_continuous: number of continuous features\n",
        "        deep_vocab_lens: an array of integers where deep_vocab_lens[i] represents the number of unique values of (i+1)-th deep categorical feature\n",
        "        len_wide: number of wide features\n",
        "        embed_size: dimension of the embedding vectors of deep categorical features\n",
        "\n",
        "    return:\n",
        "        a keras Model object for the constructed wdl model \n",
        "    '''\n",
        "    # A list containing all input layers\n",
        "    input_list = [] #3: concat deep cont feats, deep cate feats, single+cross_prod of wide pairs\n",
        "    \n",
        "    # Input layer for continuous features\n",
        "    continuous_input = Input(shape=(len_continuous,), dtype='float32', name='continuous_input')\n",
        "    input_list.append(continuous_input) \n",
        "\n",
        "    # Get embeddings for all deep categorical features\n",
        "    emb_list = []\n",
        "    for vocab_size in deep_vocab_lens:\n",
        "        _input = Input(shape=(1,), dtype='int32')\n",
        "        input_list.append(_input)\n",
        "        _emb = Embedding(output_dim=embed_size, input_dim=vocab_size, input_length=1)(_input)\n",
        "        _emb = Reshape((embed_size,))(_emb)\n",
        "        emb_list.append(_emb)\n",
        "\n",
        "    # Create input layer for deep component by concatenating the embeddings and continuous features' input layer\n",
        "    deep_input = Concatenate()(emb_list + [continuous_input]) #deep cont + deep cate as input for deep model\n",
        "\n",
        "    # Construct deep component\n",
        "    #1 layer:    \n",
        "    dense_3 = Dense(1024, activation='relu')(deep_input)\n",
        "    dense_3_dp = Dropout(0.2)(dense_3)\n",
        "\n",
        "    #2 layers:\n",
        "    '''dense_2 = Dense(1024, activation='relu')(deep_input)\n",
        "    dense_2_dp = Dropout(0.2)(dense_2)\n",
        "    dense_3 = Dense(64, activation='relu')(dense_2_dp)\n",
        "    dense_3_dp = Dropout(0.2)(dense_3)'''\n",
        "    '''\n",
        "    3 layers:\n",
        "    dense_1 = Dense(256, activation='relu')(deep_input)\n",
        "    dense_1_dp = Dropout(0.3)(dense_1)\n",
        "    dense_2 = Dense(128, activation='relu')(dense_1_dp)\n",
        "    dense_2_dp = Dropout(0.3)(dense_2)\n",
        "    dense_3 = Dense(64, activation='relu')(dense_2_dp)\n",
        "    dense_3_dp = Dropout(0.3)(dense_3)'''\n",
        "\n",
        "    # Create input layer for wide component\n",
        "    wide_input = Input(shape=(len_wide,), dtype='float32') # single+cross_prod of all pairs in wide_feats\n",
        "    input_list.append(wide_input)\n",
        "\n",
        "    # Concatenate the outputs of deep and wide components and feed the concatenated vector into the final fully connected layer\n",
        "    fc_input = Concatenate()([dense_3_dp, wide_input]) #fc = fully connected i.e. the last layer\n",
        "    model_output = Dense(1)(fc_input)\n",
        "\n",
        "    model = Model(inputs=input_list, outputs=model_output)\n",
        "    return model"
      ],
      "metadata": {
        "id": "JA9qTTYin2KG"
      },
      "execution_count": 47,
      "outputs": []
    },
    {
      "cell_type": "code",
      "execution_count": 48,
      "metadata": {
        "id": "TWbaRcAXGDCz",
        "colab": {
          "base_uri": "https://localhost:8080/"
        },
        "outputId": "1b57d167-fd28-4887-b3d4-9ca05a2cef5c"
      },
      "outputs": [
        {
          "output_type": "stream",
          "name": "stdout",
          "text": [
            "9 4 601\n"
          ]
        }
      ],
      "source": [
        "wdl_model = build_wdl_model(len(tr_continuous_features[0]), \n",
        "                            item_deep_vocab_lens + user_deep_vocab_lens,  len(tr_wide_features[0]), embed_size=10)\n",
        "print(len(tr_continuous_features[0]), len(item_deep_vocab_lens), len(tr_wide_features[0]))"
      ]
    },
    {
      "cell_type": "code",
      "source": [
        "wdl_model.summary()"
      ],
      "metadata": {
        "id": "oUVTCuK4YTba",
        "colab": {
          "base_uri": "https://localhost:8080/"
        },
        "outputId": "cd798e58-d32d-4984-f8eb-310e8115ad4c"
      },
      "execution_count": 49,
      "outputs": [
        {
          "output_type": "stream",
          "name": "stdout",
          "text": [
            "Model: \"model\"\n",
            "__________________________________________________________________________________________________\n",
            " Layer (type)                   Output Shape         Param #     Connected to                     \n",
            "==================================================================================================\n",
            " input_1 (InputLayer)           [(None, 1)]          0           []                               \n",
            "                                                                                                  \n",
            " input_2 (InputLayer)           [(None, 1)]          0           []                               \n",
            "                                                                                                  \n",
            " input_3 (InputLayer)           [(None, 1)]          0           []                               \n",
            "                                                                                                  \n",
            " input_4 (InputLayer)           [(None, 1)]          0           []                               \n",
            "                                                                                                  \n",
            " input_5 (InputLayer)           [(None, 1)]          0           []                               \n",
            "                                                                                                  \n",
            " embedding (Embedding)          (None, 1, 10)        1180        ['input_1[0][0]']                \n",
            "                                                                                                  \n",
            " embedding_1 (Embedding)        (None, 1, 10)        7990        ['input_2[0][0]']                \n",
            "                                                                                                  \n",
            " embedding_2 (Embedding)        (None, 1, 10)        140         ['input_3[0][0]']                \n",
            "                                                                                                  \n",
            " embedding_3 (Embedding)        (None, 1, 10)        59390       ['input_4[0][0]']                \n",
            "                                                                                                  \n",
            " embedding_4 (Embedding)        (None, 1, 10)        29810       ['input_5[0][0]']                \n",
            "                                                                                                  \n",
            " reshape (Reshape)              (None, 10)           0           ['embedding[0][0]']              \n",
            "                                                                                                  \n",
            " reshape_1 (Reshape)            (None, 10)           0           ['embedding_1[0][0]']            \n",
            "                                                                                                  \n",
            " reshape_2 (Reshape)            (None, 10)           0           ['embedding_2[0][0]']            \n",
            "                                                                                                  \n",
            " reshape_3 (Reshape)            (None, 10)           0           ['embedding_3[0][0]']            \n",
            "                                                                                                  \n",
            " reshape_4 (Reshape)            (None, 10)           0           ['embedding_4[0][0]']            \n",
            "                                                                                                  \n",
            " continuous_input (InputLayer)  [(None, 9)]          0           []                               \n",
            "                                                                                                  \n",
            " concatenate (Concatenate)      (None, 59)           0           ['reshape[0][0]',                \n",
            "                                                                  'reshape_1[0][0]',              \n",
            "                                                                  'reshape_2[0][0]',              \n",
            "                                                                  'reshape_3[0][0]',              \n",
            "                                                                  'reshape_4[0][0]',              \n",
            "                                                                  'continuous_input[0][0]']       \n",
            "                                                                                                  \n",
            " dense (Dense)                  (None, 1024)         61440       ['concatenate[0][0]']            \n",
            "                                                                                                  \n",
            " dropout (Dropout)              (None, 1024)         0           ['dense[0][0]']                  \n",
            "                                                                                                  \n",
            " input_6 (InputLayer)           [(None, 601)]        0           []                               \n",
            "                                                                                                  \n",
            " concatenate_1 (Concatenate)    (None, 1625)         0           ['dropout[0][0]',                \n",
            "                                                                  'input_6[0][0]']                \n",
            "                                                                                                  \n",
            " dense_1 (Dense)                (None, 1)            1626        ['concatenate_1[0][0]']          \n",
            "                                                                                                  \n",
            "==================================================================================================\n",
            "Total params: 161,576\n",
            "Trainable params: 161,576\n",
            "Non-trainable params: 0\n",
            "__________________________________________________________________________________________________\n"
          ]
        }
      ]
    },
    {
      "cell_type": "markdown",
      "metadata": {
        "id": "kpyN2BuNGDCz"
      },
      "source": [
        "### Train w/ Adagrad optim + MSE loss"
      ]
    },
    {
      "cell_type": "code",
      "source": [
        "os.mkdir(\"models\")"
      ],
      "metadata": {
        "id": "YlEBKom996DD"
      },
      "execution_count": 51,
      "outputs": []
    },
    {
      "cell_type": "code",
      "source": [
        "wdl_model.compile(optimizer='adagrad', loss='mse') #can choose another optimizer\n",
        "\n",
        "checkpointer = keras.callbacks.ModelCheckpoint(\n",
        "    filepath=os.path.join(\"models\", \"weights.hdf5\"),\n",
        "    monitor=\"val_loss\",\n",
        "    verbose=1,\n",
        "    save_best_only=True)\n",
        "earlystopping = keras.callbacks.EarlyStopping(\n",
        "    monitor='val_loss',\n",
        "    patience=5,\n",
        "    verbose=1)\n",
        "\n",
        "history = wdl_model.fit(\n",
        "        tr_features, \n",
        "        tr_ratings, \n",
        "        #validation_split=0.1,\n",
        "        validation_data = (val_features, val_ratings),\n",
        "        epochs=40, verbose=1, callbacks=[earlystopping, checkpointer])\n",
        "  \n",
        "model = keras.models.load_model(os.path.join(\"models\", \"weights.hdf5\"))"
      ],
      "metadata": {
        "colab": {
          "base_uri": "https://localhost:8080/"
        },
        "id": "53Hz5xcel0ML",
        "outputId": "c8dc9290-c6d3-46da-8a57-16d5a345b185"
      },
      "execution_count": 54,
      "outputs": [
        {
          "output_type": "stream",
          "name": "stdout",
          "text": [
            "Epoch 1/40\n",
            "1855/1878 [============================>.] - ETA: 0s - loss: 1.2187\n",
            "Epoch 1: val_loss improved from inf to 1.28998, saving model to models/weights.hdf5\n",
            "1878/1878 [==============================] - 5s 2ms/step - loss: 1.2194 - val_loss: 1.2900\n",
            "Epoch 2/40\n",
            "1873/1878 [============================>.] - ETA: 0s - loss: 1.2155\n",
            "Epoch 2: val_loss did not improve from 1.28998\n",
            "1878/1878 [==============================] - 4s 2ms/step - loss: 1.2160 - val_loss: 1.2919\n",
            "Epoch 3/40\n",
            "1877/1878 [============================>.] - ETA: 0s - loss: 1.2118\n",
            "Epoch 3: val_loss did not improve from 1.28998\n",
            "1878/1878 [==============================] - 4s 2ms/step - loss: 1.2118 - val_loss: 1.2959\n",
            "Epoch 4/40\n",
            "1866/1878 [============================>.] - ETA: 0s - loss: 1.2096\n",
            "Epoch 4: val_loss did not improve from 1.28998\n",
            "1878/1878 [==============================] - 4s 2ms/step - loss: 1.2094 - val_loss: 1.2962\n",
            "Epoch 5/40\n",
            "1864/1878 [============================>.] - ETA: 0s - loss: 1.2049\n",
            "Epoch 5: val_loss did not improve from 1.28998\n",
            "1878/1878 [==============================] - 4s 2ms/step - loss: 1.2058 - val_loss: 1.2984\n",
            "Epoch 6/40\n",
            "1877/1878 [============================>.] - ETA: 0s - loss: 1.2019\n",
            "Epoch 6: val_loss did not improve from 1.28998\n",
            "1878/1878 [==============================] - 4s 2ms/step - loss: 1.2018 - val_loss: 1.3007\n",
            "Epoch 6: early stopping\n"
          ]
        }
      ]
    },
    {
      "cell_type": "markdown",
      "source": [
        "## Evaluation"
      ],
      "metadata": {
        "id": "kgdKogAB_QIw"
      }
    },
    {
      "cell_type": "code",
      "source": [
        "y_pred = model.predict(tr_features)\n",
        "print(\"TRAIN MSE: \", mean_squared_error(y_pred, tr_ratings))\n",
        "print(\"TRAIN RMSE: \", rmse(y_pred, tr_ratings))\n",
        "y_pred = model.predict(val_features)\n",
        "print(\"VALID MSE: \", mean_squared_error(y_pred, val_ratings))\n",
        "print(\"VALID RMSE: \", rmse(y_pred, val_ratings))"
      ],
      "metadata": {
        "colab": {
          "base_uri": "https://localhost:8080/"
        },
        "id": "so3Q_euNktK9",
        "outputId": "9de00dff-8c75-47ec-9463-4529a6e5b9bf"
      },
      "execution_count": 56,
      "outputs": [
        {
          "output_type": "stream",
          "name": "stdout",
          "text": [
            "TRAIN MSE:  1.203608489578632\n",
            "TRAIN RMSE:  1.0970909212907707\n",
            "VALID MSE:  1.2899808662859984\n",
            "VALID RMSE:  1.1357732459809038\n"
          ]
        }
      ]
    },
    {
      "cell_type": "code",
      "source": [
        "train_score = model.evaluate(tr_features, tr_ratings)\n",
        "valid_score = model.evaluate(val_features, val_ratings)\n",
        "print(\"train loss:\", train_score)\n",
        "print(\"valid loss:\", valid_score)"
      ],
      "metadata": {
        "colab": {
          "base_uri": "https://localhost:8080/"
        },
        "id": "oDYb6dTNNdUC",
        "outputId": "23adfba9-adf3-4167-906f-bf2feed44bdd"
      },
      "execution_count": 57,
      "outputs": [
        {
          "output_type": "stream",
          "name": "stdout",
          "text": [
            "1878/1878 [==============================] - 3s 1ms/step - loss: 1.2036\n",
            "235/235 [==============================] - 0s 1ms/step - loss: 1.2900\n",
            "train loss: 1.2036086320877075\n",
            "valid loss: 1.2899806499481201\n"
          ]
        }
      ]
    },
    {
      "cell_type": "code",
      "source": [
        "import matplotlib.pyplot as plt\n",
        "plt.figure(figsize=(10,4))\n",
        "plt.plot(history.history[\"loss\"], label=\"training\", color=\"blue\", linestyle=\"dashed\")\n",
        "plt.plot(history.history[\"val_loss\"], label=\"validation\", color=\"blue\")\n",
        "plt.legend()\n",
        "plt.show()"
      ],
      "metadata": {
        "colab": {
          "base_uri": "https://localhost:8080/",
          "height": 265
        },
        "id": "oMq39p3yfIl-",
        "outputId": "1689b01d-2793-4cfa-8e1c-37fd651e95f7"
      },
      "execution_count": 58,
      "outputs": [
        {
          "output_type": "display_data",
          "data": {
            "text/plain": [
              "<Figure size 720x288 with 1 Axes>"
            ],
            "image/png": "[encoded data removed]"
          },
          "metadata": {
            "needs_background": "light"
          }
        }
      ]
    }
  ],
  "metadata": {
    "kernelspec": {
      "display_name": "Python 3",
      "name": "python3"
    },
    "language_info": {
      "name": "python"
    },
    "colab": {
      "provenance": [],
      "collapsed_sections": [],
      "toc_visible": true,
      "include_colab_link": true
    }
  },
  "nbformat": 4,
  "nbformat_minor": 0
}