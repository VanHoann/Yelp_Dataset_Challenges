{
  "cells": [
    {
      "cell_type": "markdown",
      "metadata": {
        "id": "view-in-github",
        "colab_type": "text"
      },
      "source": [
        "<a href=\"https://colab.research.google.com/github/VanHoann/Yelp_Dataset_Challenges/blob/main/Link_Prediction/Final_model.ipynb\" target=\"_parent\"><img src=\"https://colab.research.google.com/assets/colab-badge.svg\" alt=\"Open In Colab\"/></a>"
      ]
    },
    {
      "cell_type": "markdown",
      "metadata": {
        "id": "aYZeXSDm7JKf"
      },
      "source": [
        "# Setup"
      ]
    },
    {
      "cell_type": "code",
      "execution_count": 2,
      "metadata": {
        "colab": {
          "base_uri": "https://localhost:8080/"
        },
        "id": "qlSm_Z7FEAQ7",
        "outputId": "db6a65e9-1526-4c79-d960-d73a86664eea"
      },
      "outputs": [
        {
          "output_type": "stream",
          "name": "stdout",
          "text": [
            "Sat Sep 10 05:30:42 2022       \n",
            "+-----------------------------------------------------------------------------+\n",
            "| NVIDIA-SMI 460.32.03    Driver Version: 460.32.03    CUDA Version: 11.2     |\n",
            "|-------------------------------+----------------------+----------------------+\n",
            "| GPU  Name        Persistence-M| Bus-Id        Disp.A | Volatile Uncorr. ECC |\n",
            "| Fan  Temp  Perf  Pwr:Usage/Cap|         Memory-Usage | GPU-Util  Compute M. |\n",
            "|                               |                      |               MIG M. |\n",
            "|===============================+======================+======================|\n",
            "|   0  Tesla T4            Off  | 00000000:00:04.0 Off |                    0 |\n",
            "| N/A   36C    P8     9W /  70W |      0MiB / 15109MiB |      0%      Default |\n",
            "|                               |                      |                  N/A |\n",
            "+-------------------------------+----------------------+----------------------+\n",
            "                                                                               \n",
            "+-----------------------------------------------------------------------------+\n",
            "| Processes:                                                                  |\n",
            "|  GPU   GI   CI        PID   Type   Process name                  GPU Memory |\n",
            "|        ID   ID                                                   Usage      |\n",
            "|=============================================================================|\n",
            "|  No running processes found                                                 |\n",
            "+-----------------------------------------------------------------------------+\n"
          ]
        }
      ],
      "source": [
        "!nvidia-smi"
      ]
    },
    {
      "cell_type": "code",
      "execution_count": 3,
      "metadata": {
        "id": "NxODlNoNsSVl"
      },
      "outputs": [],
      "source": [
        "import os, time\n",
        "import networkx as nx\n",
        "\n",
        "import numpy as np\n",
        "import pandas as pd\n",
        "import matplotlib.pyplot as plt\n",
        "\n",
        "from itertools import chain\n",
        "from collections import defaultdict\n",
        "from gensim.models import Word2Vec\n",
        "from sklearn.model_selection import KFold\n",
        "from sklearn.metrics import roc_auc_score"
      ]
    },
    {
      "cell_type": "code",
      "execution_count": 4,
      "metadata": {
        "colab": {
          "base_uri": "https://localhost:8080/"
        },
        "id": "2VhjbYaKWSVv",
        "outputId": "36beed09-5999-4e37-94b4-6a7c325dc134"
      },
      "outputs": [
        {
          "output_type": "stream",
          "name": "stdout",
          "text": [
            "3.6.0\n"
          ]
        }
      ],
      "source": [
        "import gensim\n",
        "print(\n",
        "    gensim.__version__\n",
        ")"
      ]
    },
    {
      "cell_type": "markdown",
      "source": [
        "Set seed"
      ],
      "metadata": {
        "id": "oLg5OSK4o8My"
      }
    },
    {
      "cell_type": "code",
      "execution_count": 5,
      "metadata": {
        "id": "mNlZGtouqFg6",
        "colab": {
          "base_uri": "https://localhost:8080/"
        },
        "outputId": "2cb4e0d7-f312-4337-a397-012f4d3cd780"
      },
      "outputs": [
        {
          "output_type": "execute_result",
          "data": {
            "text/plain": [
              "device(type='cuda')"
            ]
          },
          "metadata": {},
          "execution_count": 5
        }
      ],
      "source": [
        "import torch\n",
        "import random\n",
        "\n",
        "device = torch.device('cuda' if torch.cuda.is_available() else 'cpu')\n",
        "\n",
        "seed = 0\n",
        "random.seed(seed)\n",
        "os.environ['PYTHONHASHSEED'] = str(seed)\n",
        "np.random.seed(seed)\n",
        "torch.manual_seed(seed)\n",
        "torch.cuda.manual_seed(seed)\n",
        "torch.cuda.manual_seed_all(seed)\n",
        "torch.backends.cudnn.deterministic = True\n",
        "device"
      ]
    },
    {
      "cell_type": "markdown",
      "metadata": {
        "id": "1anQhtdbsSVx"
      },
      "source": [
        "# Pipeline"
      ]
    },
    {
      "cell_type": "markdown",
      "metadata": {
        "id": "7txwBwGOsSV1"
      },
      "source": [
        "### Data Loader"
      ]
    },
    {
      "cell_type": "markdown",
      "metadata": {
        "id": "7zR76FAZsSV3"
      },
      "source": [
        "We need to load networks into memory. Usually networks are organized as pairs of nodes. And sometimes different edges have different weights. Hence, we use networkx.DiGraph to store such structure information and attributes."
      ]
    },
    {
      "cell_type": "code",
      "execution_count": 6,
      "metadata": {
        "id": "s1RZzx04YzQc"
      },
      "outputs": [],
      "source": [
        "def construct_uid_index(file_train_csv='train.csv'):\n",
        "    '''\n",
        "        build two dictionaries to \n",
        "        link uid (--UOvCH5qEgdNQ8lzR8QYQ, ...) to index (1,2,3,...)\n",
        "    '''\n",
        "    df = pd.read_csv(file_train_csv)\n",
        "\n",
        "    list_uid = []\n",
        "    for idx, row in df.iterrows():\n",
        "        user_id, friends = row[\"user_id\"], eval(row[\"friends\"])\n",
        "        list_uid.append(user_id)\n",
        "        list_uid.extend(friends)\n",
        "\n",
        "    sorted_list_unique_uid = ['']+sorted(set(list_uid))\n",
        "\n",
        "    uid2index = {}\n",
        "    index2uid = {}\n",
        "    uid2ind = {}\n",
        "    ind2uid = {}\n",
        "    for i, uid in enumerate(sorted_list_unique_uid):\n",
        "        uid2index.update({uid: str(i)})\n",
        "        index2uid.update({str(i): uid})\n",
        "        uid2ind.update({uid: i})\n",
        "        ind2uid.update({i: uid})\n",
        "\n",
        "    return index2uid, uid2index, uid2ind, ind2uid"
      ]
    },
    {
      "cell_type": "code",
      "execution_count": 7,
      "metadata": {
        "id": "cvETBR6WsSV5"
      },
      "outputs": [],
      "source": [
        "def load_data(file_name, uid2index):\n",
        "    \"\"\"\n",
        "    read edges from an edge file\n",
        "    \"\"\"\n",
        "    edges = list()\n",
        "    df = pd.read_csv(file_name)\n",
        "    for idx, row in df.iterrows():\n",
        "        user_id, friends = row[\"user_id\"], eval(row[\"friends\"])\n",
        "        for friend in friends:\n",
        "            # add each friend relation as an edge\n",
        "            edges.append(\n",
        "                (uid2index.get(user_id, '0'), uid2index.get(friend, '0'))\n",
        "            )\n",
        "    edges = sorted(edges)\n",
        "    \n",
        "    return edges\n",
        "\n",
        "def load_test_data(file_name, uid2index):\n",
        "    \"\"\"\n",
        "    read edges from an edge file\n",
        "    \"\"\"\n",
        "    edges = list()\n",
        "    scores = list()\n",
        "    df = pd.read_csv(file_name)\n",
        "    for idx, row in df.iterrows():\n",
        "        edges.append(\n",
        "            (uid2index.get(row[\"src\"], '0'), uid2index.get(row[\"dst\"], '0'))\n",
        "        )\n",
        "    # edges = sorted(edges)\n",
        "    \n",
        "    return edges\n",
        "\n",
        "def generate_false_edges(true_edges, num_false_edges=5):\n",
        "    \"\"\"\n",
        "    generate false edges given true edges\n",
        "    \"\"\"\n",
        "    nodes = list(set(chain.from_iterable(true_edges)))\n",
        "    N = len(nodes)\n",
        "    true_edges = set(true_edges)\n",
        "    print(N, len(true_edges))\n",
        "    false_edges = set()\n",
        "    \n",
        "    while len(false_edges) < num_false_edges:\n",
        "        # randomly sample two different nodes and check whether the pair exisit or not\n",
        "        src, dst = nodes[int(np.random.rand() * N)], nodes[int(np.random.rand() * N)]\n",
        "        if src != dst and (src, dst) not in true_edges and (src, dst) not in false_edges:\n",
        "            false_edges.add((src, dst))\n",
        "    false_edges = sorted(false_edges)\n",
        "    \n",
        "    return false_edges\n",
        "\n",
        "def construct_graph_from_edges(edges):\n",
        "    \"\"\"\n",
        "    generate a directed graph object given true edges\n",
        "    DiGraph documentation: https://networkx.github.io/documentation/stable/reference/classes/digraph.html\n",
        "    \"\"\"\n",
        "    # convert a list of edges {(u, v)} to a list of edges with weights {(u, v, w)}\n",
        "    edge_weight = defaultdict(float)\n",
        "    for e in edges:\n",
        "        edge_weight[e] += 1.0\n",
        "    weighed_edge_list = list()\n",
        "    for e in sorted(edge_weight.keys()):\n",
        "        weighed_edge_list.append((e[0], e[1], edge_weight[e]))\n",
        "        \n",
        "    graph = nx.DiGraph()\n",
        "    graph.add_weighted_edges_from(weighed_edge_list)\n",
        "    \n",
        "    print(\"number of nodes:\", graph.number_of_nodes())\n",
        "    print(\"number of edges:\", graph.number_of_edges())\n",
        "    \n",
        "    return graph"
      ]
    },
    {
      "cell_type": "markdown",
      "metadata": {
        "id": "ojab1rAfsSV-"
      },
      "source": [
        "### Random Walk Generator"
      ]
    },
    {
      "cell_type": "markdown",
      "metadata": {
        "id": "GomJAOc0sSWA"
      },
      "source": [
        "Random walk generators or random walkers yield random walks that contain both local and higher-order neighborhood information. However, naive non-uniform sampling is very slow, which requires O(n) time complexity. Here alias sampling can reduce the time complexity to O(1) with O(n) space. If you are interested, please see the following blog:\\\n",
        "https://lips.cs.princeton.edu/the-alias-method-efficient-sampling-with-many-discrete-outcomes/"
      ]
    },
    {
      "cell_type": "code",
      "execution_count": 8,
      "metadata": {
        "id": "doF5gQfWsSWD"
      },
      "outputs": [],
      "source": [
        "def alias_setup(probs):\n",
        "    \"\"\"\n",
        "    compute utility lists for non-uniform sampling from discrete distributions.\n",
        "    details: https://lips.cs.princeton.edu/the-alias-method-efficient-sampling-with-many-discrete-outcomes/\n",
        "    \"\"\"\n",
        "    K = len(probs)\n",
        "    q = np.zeros(K)\n",
        "    J = np.zeros(K, dtype=np.int32)\n",
        "\n",
        "    smaller = list()\n",
        "    larger = list()\n",
        "    for kk, prob in enumerate(probs):\n",
        "        q[kk] = K * prob\n",
        "        if q[kk] < 1.0:\n",
        "            smaller.append(kk)\n",
        "        else:\n",
        "            larger.append(kk)\n",
        "\n",
        "    while len(smaller) > 0 and len(larger) > 0:\n",
        "        small = smaller.pop()\n",
        "        large = larger.pop()\n",
        "\n",
        "        J[small] = large\n",
        "        q[large] = q[large] + q[small] - 1.0\n",
        "        if q[large] < 1.0:\n",
        "            smaller.append(large)\n",
        "        else:\n",
        "            larger.append(large)\n",
        "\n",
        "    return J, q\n",
        "\n",
        "def get_alias_node(graph, node):\n",
        "    \"\"\"\n",
        "    get the alias node setup lists for a given node.\n",
        "    \"\"\"\n",
        "    # get the unnormalized probabilities with the first-order information\n",
        "    unnormalized_probs = list()\n",
        "    for nbr in graph.neighbors(node):\n",
        "        unnormalized_probs.append(graph[node][nbr][\"weight\"])\n",
        "    unnormalized_probs = np.array(unnormalized_probs)\n",
        "    if len(unnormalized_probs) > 0:\n",
        "        normalized_probs = unnormalized_probs / unnormalized_probs.sum()\n",
        "    else:\n",
        "        normalized_probs = unnormalized_probs\n",
        "        \n",
        "    return alias_setup(normalized_probs)\n",
        "    \n",
        "def get_alias_edge(graph, src, dst, p=1, q=1):\n",
        "    \"\"\"\n",
        "    get the alias edge setup lists for a given edge.\n",
        "    \"\"\"\n",
        "    # get the unnormalized probabilities with the second-order information\n",
        "    unnormalized_probs = list()\n",
        "    for dst_nbr in graph.neighbors(dst):\n",
        "        if dst_nbr == src: # distance is 0\n",
        "            unnormalized_probs.append(graph[dst][dst_nbr][\"weight\"]/p)\n",
        "        elif graph.has_edge(dst_nbr, src): # distance is 1\n",
        "            unnormalized_probs.append(graph[dst][dst_nbr][\"weight\"])\n",
        "        else: # distance is 2\n",
        "            unnormalized_probs.append(graph[dst][dst_nbr][\"weight\"]/q)\n",
        "    unnormalized_probs = np.array(unnormalized_probs)\n",
        "    if len(unnormalized_probs) > 0:\n",
        "        normalized_probs = unnormalized_probs / unnormalized_probs.sum()\n",
        "    else:\n",
        "        normalized_probs = unnormalized_probs\n",
        "\n",
        "    return alias_setup(normalized_probs)\n",
        "\n",
        "def preprocess_transition_probs(graph, p=1, q=1):\n",
        "    \"\"\"\n",
        "    preprocess transition probabilities for guiding the random walks.\n",
        "    \"\"\"\n",
        "    alias_nodes = dict()\n",
        "    for node in graph.nodes():\n",
        "        alias_nodes[node] = get_alias_node(graph, node)\n",
        "\n",
        "    alias_edges = dict()\n",
        "    for edge in graph.edges():\n",
        "        alias_edges[edge] = get_alias_edge(graph, edge[0], edge[1], p=p, q=q)\n",
        "\n",
        "    return alias_nodes, alias_edges"
      ]
    },
    {
      "cell_type": "markdown",
      "metadata": {
        "id": "dqJSzoBTsSWH"
      },
      "source": [
        "The difference between DeepWalk and node2vec is how to generate random walks. The former only consider the first-order information while the latter also involves the second-order information."
      ]
    },
    {
      "cell_type": "code",
      "execution_count": 9,
      "metadata": {
        "id": "8Jh6NpC-sSWJ"
      },
      "outputs": [],
      "source": [
        "def alias_draw(J, q):\n",
        "    \"\"\"\n",
        "    draw sample from a non-uniform discrete distribution using alias sampling.\n",
        "    \"\"\"\n",
        "    K = len(J)\n",
        "\n",
        "    kk = int(np.floor(np.random.rand() * K))\n",
        "    if np.random.rand() < q[kk]:\n",
        "        return kk\n",
        "    else:\n",
        "        return J[kk]\n",
        "\n",
        "\n",
        "# helper function to generate the long random walk as desired\n",
        "def fallback(walk, fetch_last_num=1):\n",
        "    if len(walk) > fetch_last_num:\n",
        "        walk.pop()\n",
        "        fetched = []\n",
        "        for i in range(fetch_last_num):\n",
        "            fetched.append(walk[-1-i])\n",
        "        return walk, fetched\n",
        "    else:\n",
        "        return [], [None for _ in range(fetch_last_num)]\n",
        "\n",
        "def generate_first_order_random_walk(graph, alias_nodes, \n",
        "                                     walk_length=10, start_node=None, verbose=False, max_trails=10):\n",
        "    \"\"\"\n",
        "    simulate a random walk starting from start node and considering the first order information.\n",
        "    max_trials: set the max trials to be one for standard random walk. Larger max_trails will make the generated biased.\n",
        "    \"\"\"\n",
        "    if start_node == None:\n",
        "        start_node = np.random.choice(graph.nodes())\n",
        "    walk = [start_node]\n",
        "    cur = start_node\n",
        "    num_tried = 0\n",
        "    \n",
        "    ########## begin ##########\n",
        "    while len(walk) < walk_length:\n",
        "        cur_nbrs = list(graph.neighbors(cur))\n",
        "        if len(cur_nbrs) > 0: # if we can sample next nodes\n",
        "            # sample the next node based on alias_nodes\n",
        "            cur = cur_nbrs[alias_draw(*alias_nodes[cur])]\n",
        "            walk.append(cur)\n",
        "        else: # if we can't do that\n",
        "            num_tried += 1\n",
        "            if num_tried >= max_trails:\n",
        "                break\n",
        "\n",
        "            walk, fetched = fallback(walk, fetch_last_num=1)\n",
        "            cur = fetched[0]\n",
        "            if len(walk) == 0: # if falls back to the empty walk\n",
        "                start_node = np.random.choice(graph.nodes())\n",
        "                walk = [start_node]\n",
        "                cur = start_node\n",
        "    ########## end ##########\n",
        "\n",
        "    if verbose: \n",
        "        print(f'walk of lenght {len(walk)} generated with {num_tried} trails')\n",
        "    return walk\n",
        "    \n",
        "def generate_second_order_random_walk(graph, alias_nodes, alias_edges, \n",
        "                                      walk_length=10, start_node=None, verbose=False, max_trails=10):\n",
        "    \"\"\"\n",
        "    simulate a random walk starting from start node and considering the second order information.\n",
        "    \"\"\"\n",
        "    if start_node == None:\n",
        "        start_node = np.random.choice(graph.nodes())\n",
        "    walk = [start_node]\n",
        "    \n",
        "    prev = None\n",
        "    cur = start_node\n",
        "    num_tried = 0\n",
        "\n",
        "    ########## begin ##########\n",
        "    while len(walk) < walk_length:\n",
        "        cur_nbrs = list(graph.neighbors(cur))\n",
        "        if len(cur_nbrs) > 0:\n",
        "            if prev is None:\n",
        "                # sample the next node based on alias_nodes\n",
        "                prev, cur = cur, cur_nbrs[alias_draw(*alias_nodes[cur])]\n",
        "            else:\n",
        "                # sample the next node based on alias_edges\n",
        "                prev, cur = cur, cur_nbrs[alias_draw(*alias_edges[(prev, cur)])]\n",
        "            walk.append(cur)\n",
        "        else:\n",
        "            num_tried += 1\n",
        "            if num_tried >= max_trails:\n",
        "                break\n",
        "            walk, (cur, prev) = fallback(walk, fetch_last_num=2)\n",
        "            if len(walk) == 0:\n",
        "                start_node = np.random.choice(graph.nodes())\n",
        "                walk = [start_node]\n",
        "                cur = start_node\n",
        "                prev = None\n",
        "    ########## end ##########\n",
        "    if verbose: \n",
        "        print(f'walk of lenght {len(walk)} generated with {num_tried} trails')\n",
        "    return walk"
      ]
    },
    {
      "cell_type": "markdown",
      "metadata": {
        "id": "zyYYps9zsSWN"
      },
      "source": [
        "### Network Embedding Algorithms"
      ]
    },
    {
      "cell_type": "markdown",
      "source": [
        "DeepWalk uses 1st-order random walks while Node2Vec uses 2nd-order"
      ],
      "metadata": {
        "id": "8FpMCLGZqmYt"
      }
    },
    {
      "cell_type": "code",
      "execution_count": 10,
      "metadata": {
        "id": "OJvllGwssSWO"
      },
      "outputs": [],
      "source": [
        "def build_deepwalk(graph, alias_nodes, node_dim=10, num_walks=10, walk_length=10):\n",
        "    \"\"\"\n",
        "    build a deepwalk model\n",
        "    \"\"\"\n",
        "    print(\"building a DeepWalk model...\", end=\"\\t\")\n",
        "    st = time.time()\n",
        "    np.random.seed(0)\n",
        "    nodes = list(graph.nodes())\n",
        "    walks = list()\n",
        "    # generate random walks\n",
        "    for walk_iter in range(num_walks):\n",
        "        np.random.shuffle(nodes)\n",
        "        for node in nodes:\n",
        "            walks.append(generate_first_order_random_walk(\n",
        "                graph, alias_nodes, walk_length=walk_length, start_node=node))\n",
        "        \n",
        "    walk_lens = [len(w) for w in walks]\n",
        "    if len(walk_lens) > 0:\n",
        "        avg_walk_len = sum(walk_lens) / len(walk_lens)\n",
        "    else:\n",
        "        avg_walk_len = 0.0\n",
        "    print(\"number of walks: %d\\taverage walk length: %.4f\" % (len(walks), avg_walk_len), end=\"\\t\")\n",
        "    \n",
        "    # train a skip-gram model for these walks\n",
        "    # replace vector_size by size\n",
        "    model = Word2Vec(walks, size=node_dim, window=3, min_count=0, sg=1, workers=os.cpu_count(), iter=10) #sg=1 for skipgram, 0 for CBOW\n",
        "    print(\"training time: %.4f\" % (time.time()-st))\n",
        "    \n",
        "    return model\n",
        "\n",
        "def build_node2vec(graph, alias_nodes, alias_edges, node_dim=10, num_walks=10, walk_length=10, iter=10):\n",
        "    \"\"\"\n",
        "    build a node2vec model\n",
        "    \"\"\"\n",
        "    print(\"building a node2vec model...\", end=\"\\t\")\n",
        "    st = time.time()\n",
        "    np.random.seed(0)\n",
        "    nodes = list(graph.nodes())\n",
        "    walks = list()\n",
        "    # generate random walks\n",
        "    for walk_iter in range(num_walks):\n",
        "        np.random.shuffle(nodes)\n",
        "        for node in nodes:\n",
        "            walks.append(generate_second_order_random_walk(\n",
        "                graph, alias_nodes, alias_edges, walk_length=walk_length, start_node=node))\n",
        "            \n",
        "    walk_lens = [len(w) for w in walks]\n",
        "    if len(walk_lens) > 0:\n",
        "        avg_walk_len = sum(walk_lens) / len(walk_lens)\n",
        "    else:\n",
        "        avg_walk_len = 0.0    \n",
        "    print(\"number of walks: %d\\taverage walk length: %.4f\" % (len(walks), avg_walk_len), end=\"\\t\")\n",
        "    \n",
        "    # train a skip-gram model for these walks\n",
        "    model = Word2Vec(walks, size=node_dim, window=3, min_count=0, sg=1, workers=os.cpu_count(), iter=iter)\n",
        "    print(\"training time: %.4f\" % (time.time()-st))\n",
        "    \n",
        "    return model"
      ]
    },
    {
      "cell_type": "code",
      "execution_count": 11,
      "metadata": {
        "id": "Dc8VhHBd4Rz9"
      },
      "outputs": [],
      "source": [
        "def build_node2vec_walks(graph, alias_nodes, alias_edges, num_walks=10, walk_length=10):\n",
        "    nodes = list(graph.nodes())\n",
        "    walks = list()\n",
        "    # generate random walks\n",
        "    for walk_iter in range(num_walks):\n",
        "        np.random.shuffle(nodes)\n",
        "        for node in nodes:\n",
        "            walks.append(generate_second_order_random_walk(\n",
        "                graph, alias_nodes, alias_edges, walk_length=walk_length, start_node=node))\n",
        "            \n",
        "    walk_lens = [len(w) for w in walks]\n",
        "    if len(walk_lens) > 0:\n",
        "        avg_walk_len = sum(walk_lens) / len(walk_lens)\n",
        "    else:\n",
        "        avg_walk_len = 0.0    \n",
        "    print(\"number of walks: %d\\taverage walk length: %.4f\" % (len(walks), avg_walk_len))\n",
        "    return walks\n",
        "\n",
        "def build_deepwalk_walks(graph, alias_nodes, node_dim=10, num_walks=10, walk_length=10):\n",
        "    np.random.seed(0)\n",
        "    nodes = list(graph.nodes())\n",
        "    walks = list()\n",
        "    # generate random walks\n",
        "    for walk_iter in range(num_walks):\n",
        "        np.random.shuffle(nodes)\n",
        "        for node in nodes:\n",
        "            walks.append(generate_first_order_random_walk(\n",
        "                graph, alias_nodes, walk_length=walk_length, start_node=node))\n",
        "        \n",
        "    walk_lens = [len(w) for w in walks]\n",
        "    if len(walk_lens) > 0:\n",
        "        avg_walk_len = sum(walk_lens) / len(walk_lens)\n",
        "    else:\n",
        "        avg_walk_len = 0.0\n",
        "    print(\"number of walks: %d\\taverage walk length: %.4f\" % (len(walks), avg_walk_len), end=\"\\t\")"
      ]
    },
    {
      "cell_type": "markdown",
      "metadata": {
        "id": "S0d9Olk1sSW6"
      },
      "source": [
        "### Scorer"
      ]
    },
    {
      "cell_type": "code",
      "execution_count": 12,
      "metadata": {
        "id": "SKwzU-9DsSW7"
      },
      "outputs": [],
      "source": [
        "def get_cosine_sim(model, u, v, default=0.5):\n",
        "    \"\"\"\n",
        "    get the cosine similarity between two nodes\n",
        "    \"\"\"\n",
        "    try:\n",
        "        u = model.wv[u]\n",
        "        v = model.wv[v]\n",
        "        return np.dot(u, v) / (np.linalg.norm(u) * np.linalg.norm(v))\n",
        "    except:\n",
        "        return default\n",
        "\n",
        "def get_auc_score(model, true_edges, false_edges, default=0.5):\n",
        "    \"\"\"\n",
        "    get the auc score\n",
        "    \"\"\"\n",
        "    y_true = [1] * len(true_edges) + [0] * len(false_edges)\n",
        "    \n",
        "    y_score = list()\n",
        "    for e in true_edges:\n",
        "        y_score.append(get_cosine_sim(model, e[0], e[1], default))\n",
        "    for e in false_edges:\n",
        "        y_score.append(get_cosine_sim(model, e[0], e[1], default))\n",
        "    \n",
        "    return roc_auc_score(y_true, y_score)\n",
        "\n",
        "def write_pred(file_name, edges, scores):\n",
        "    df = pd.DataFrame()\n",
        "    df[\"src\"] = [e[0] for e in edges]\n",
        "    df[\"dst\"] = [e[1] for e in edges]\n",
        "    df[\"score\"] = scores\n",
        "    df.to_csv(file_name, index=False)\n",
        "\n",
        "def write_valid_ans(file_name, edges, scores):\n",
        "    df = pd.DataFrame()\n",
        "    df[\"src\"] = [e[0] for e in edges]\n",
        "    df[\"dst\"] = [e[1] for e in edges]\n",
        "    df[\"score\"] = scores\n",
        "    df.to_csv(file_name, index=False)"
      ]
    },
    {
      "cell_type": "markdown",
      "metadata": {
        "id": "w5DMNZ8tsSW8"
      },
      "source": [
        "###Build a DeepWalk/Node2vec"
      ]
    },
    {
      "cell_type": "markdown",
      "metadata": {
        "id": "DEV-6norsSW8"
      },
      "source": [
        "Firstly, we need to load edges into memory and use the networkx.DiGraph structure to store the graph."
      ]
    },
    {
      "cell_type": "code",
      "execution_count": 67,
      "metadata": {
        "colab": {
          "base_uri": "https://localhost:8080/"
        },
        "id": "BUY0Fp59sSW9",
        "outputId": "ef313381-966c-4ca8-c6fd-f83327210ff5"
      },
      "outputs": [
        {
          "output_type": "stream",
          "name": "stdout",
          "text": [
            "number of nodes: 8343\n",
            "number of edges: 100000\n",
            "8344 119238\n"
          ]
        }
      ],
      "source": [
        "data = \"https://raw.githubusercontent.com/VanHoann/Yelp_Dataset_Challenges/main/Link_Prediction/data\"\n",
        "train_file = f\"{data}/train.csv\"\n",
        "valid_file = f\"{data}/valid.csv\"\n",
        "test_file = f\"{data}/test.csv\"\n",
        "\n",
        "np.random.seed(0)\n",
        "index2uid, uid2index, uid2ind, ind2uid = construct_uid_index(train_file)\n",
        "train_edges = load_data(train_file, uid2index)\n",
        "graph = construct_graph_from_edges(train_edges)\n",
        "valid_edges = load_data(valid_file, uid2index)\n",
        "false_edges = generate_false_edges(train_edges+valid_edges, 40000-len(valid_edges))\n",
        "test_edges = load_test_data(test_file, uid2index)"
      ]
    },
    {
      "cell_type": "code",
      "source": [
        "print(len(train_edges), len(valid_edges), len(false_edges))"
      ],
      "metadata": {
        "colab": {
          "base_uri": "https://localhost:8080/"
        },
        "id": "m9HmS_96vawG",
        "outputId": "8b1be87b-8a14-48a9-efb3-12e6dc1f03a5"
      },
      "execution_count": 31,
      "outputs": [
        {
          "output_type": "stream",
          "name": "stdout",
          "text": [
            "100000 19267 20733\n"
          ]
        }
      ]
    },
    {
      "cell_type": "markdown",
      "metadata": {
        "id": "BwxiliPcsSW_"
      },
      "source": [
        "After that, we can use preprocess transition probabilities with the help of alias sampling."
      ]
    },
    {
      "cell_type": "code",
      "execution_count": 32,
      "metadata": {
        "id": "uxAZbBcFsSXA"
      },
      "outputs": [],
      "source": [
        "alias_nodes, alias_edges = preprocess_transition_probs(graph, p=1, q=1)"
      ]
    },
    {
      "cell_type": "markdown",
      "metadata": {
        "id": "41HawQv5sSXC"
      },
      "source": [
        "Generate a first-order random walk and a second-order random walk."
      ]
    },
    {
      "cell_type": "code",
      "execution_count": 33,
      "metadata": {
        "colab": {
          "base_uri": "https://localhost:8080/"
        },
        "id": "C2oEEqJGsSXC",
        "outputId": "072ceecf-e9ff-4f3c-f4cb-d98e9b361d6f"
      },
      "outputs": [
        {
          "output_type": "execute_result",
          "data": {
            "text/plain": [
              "['1', '2155', '6167', '1563', '6510', '1586', '6407', '3821', '4595', '1474']"
            ]
          },
          "metadata": {},
          "execution_count": 33
        }
      ],
      "source": [
        "generate_first_order_random_walk(graph, alias_nodes=alias_nodes,\n",
        "                                 start_node='1',    #\"N6ZTMIue-2b30CJv2tyPGg\", \n",
        "                                 walk_length=10)"
      ]
    },
    {
      "cell_type": "code",
      "execution_count": 34,
      "metadata": {
        "colab": {
          "base_uri": "https://localhost:8080/"
        },
        "id": "JKymt6ZgsSXD",
        "outputId": "f5cd0b77-8eee-4fc9-d035-935ba2c8e616"
      },
      "outputs": [
        {
          "output_type": "execute_result",
          "data": {
            "text/plain": [
              "['10', '6561', '287', '1607', '4926', '6232', '3841', '3821', '2058', '262']"
            ]
          },
          "metadata": {},
          "execution_count": 34
        }
      ],
      "source": [
        "generate_second_order_random_walk(graph, alias_nodes=alias_nodes, alias_edges=alias_edges,\n",
        "                                  start_node='10',   #\"N6ZTMIue-2b30CJv2tyPGg\", \n",
        "                                  walk_length=10)"
      ]
    },
    {
      "cell_type": "markdown",
      "metadata": {
        "id": "LJdOZlE_sSXE"
      },
      "source": [
        "Build a DeepWalk model and a Node2Vec model. Here we set p=q=0.5 so that the walker will not go very far away from the start node."
      ]
    },
    {
      "cell_type": "code",
      "execution_count": 35,
      "metadata": {
        "colab": {
          "base_uri": "https://localhost:8080/"
        },
        "id": "S00ZVbONsSXE",
        "outputId": "3feabe89-085e-419f-d109-15c935ed1fee"
      },
      "outputs": [
        {
          "output_type": "stream",
          "name": "stdout",
          "text": [
            "building a DeepWalk model...\t"
          ]
        },
        {
          "output_type": "stream",
          "name": "stderr",
          "text": [
            "WARNING:gensim.models.base_any2vec:consider setting layer size to a multiple of 4 for greater performance\n"
          ]
        },
        {
          "output_type": "stream",
          "name": "stdout",
          "text": [
            "number of walks: 83430\taverage walk length: 19.7400\ttraining time: 57.5206\n"
          ]
        }
      ],
      "source": [
        "model = build_deepwalk(graph, alias_nodes, node_dim=10, num_walks=10, walk_length=20)"
      ]
    },
    {
      "cell_type": "code",
      "execution_count": 36,
      "metadata": {
        "colab": {
          "base_uri": "https://localhost:8080/"
        },
        "id": "ZdQB-GqesSXF",
        "outputId": "c7f19c07-19a7-40d1-cfb7-6d5e0119f1c7"
      },
      "outputs": [
        {
          "output_type": "stream",
          "name": "stdout",
          "text": [
            "building a node2vec model...\t"
          ]
        },
        {
          "output_type": "stream",
          "name": "stderr",
          "text": [
            "WARNING:gensim.models.base_any2vec:consider setting layer size to a multiple of 4 for greater performance\n"
          ]
        },
        {
          "output_type": "stream",
          "name": "stdout",
          "text": [
            "number of walks: 83430\taverage walk length: 9.9948\ttraining time: 36.7921\n"
          ]
        }
      ],
      "source": [
        "model = build_node2vec(graph, alias_nodes, alias_edges, node_dim=10, num_walks=10, walk_length=10)"
      ]
    },
    {
      "cell_type": "markdown",
      "metadata": {
        "id": "B8PA-aRzsSXF"
      },
      "source": [
        "Let's see the node embeddings of some nodes, and cosine similarities of some edges."
      ]
    },
    {
      "cell_type": "code",
      "execution_count": 37,
      "metadata": {
        "colab": {
          "base_uri": "https://localhost:8080/"
        },
        "id": "dhy3cW9JsSXG",
        "outputId": "ab77d12e-38f1-413d-ef23-6efb64eb1388"
      },
      "outputs": [
        {
          "output_type": "stream",
          "name": "stdout",
          "text": [
            "--UOvCH5qEgdNQ8lzR8QYQ : [ 0.99527234  1.4488736  -0.29352498 -1.8813608  -0.3363347  -0.2920351\n",
            " -1.7571712   0.13309774  0.86316544  0.20035091]\n",
            "-05T0q5BxB9g0RCKiGYoyQ : [ 1.7628663   1.4622574   0.22454695 -0.4967443   0.14784668 -0.4732637\n",
            "  0.6051041  -1.2409475   1.5562629   0.32209906]\n",
            "a true edge 1 2155 0.95641786\n",
            "a false edge 0 6867 0.5\n"
          ]
        }
      ],
      "source": [
        "print(index2uid[\"1\"], \":\", model.wv[\"1\"])\n",
        "print(index2uid[\"2\"], \":\", model.wv[\"2\"])\n",
        "print(\"a true edge\", train_edges[0][0], train_edges[0][1],\n",
        "      get_cosine_sim(model, train_edges[0][0], train_edges[0][1]))\n",
        "print(\"a false edge\", false_edges[0][0], false_edges[0][1],\n",
        "      get_cosine_sim(model, false_edges[0][0], false_edges[0][1]))"
      ]
    },
    {
      "cell_type": "code",
      "execution_count": 38,
      "metadata": {
        "colab": {
          "base_uri": "https://localhost:8080/"
        },
        "id": "5u6X-qfieWAk",
        "outputId": "e070bffc-0a4c-4327-94a1-76012c3e5443"
      },
      "outputs": [
        {
          "output_type": "stream",
          "name": "stdout",
          "text": [
            "default -1.00 0.9165113211280438\n",
            "default -0.75 0.9165113211280438\n",
            "default -0.50 0.9165113211280438\n",
            "default -0.25 0.9165113211280438\n",
            "default 0.00 0.9166515269556661\n",
            "default 0.25 0.9196488930852922\n",
            "default 0.50 0.9241318296665744\n",
            "default 0.75 0.9119706695226429\n",
            "default 1.00 0.8442588624999343\n"
          ]
        }
      ],
      "source": [
        "#default similarity score 0.5 is the best\n",
        "for d in np.linspace(-1.0, 1.0, num=9):\n",
        "    print('default %.2f' % d, get_auc_score(model, valid_edges, false_edges, default=d))"
      ]
    },
    {
      "cell_type": "markdown",
      "metadata": {
        "id": "m8u5mrzasSXG"
      },
      "source": [
        "#Link Prediction (baseline)\n",
        "\n",
        "Train the model with different parameters (GridSearch) and test the model on the validation set. \n",
        "\n",
        "The best setting is\n",
        "num_walks = 10,\n",
        "walk_length = 20,\n",
        "node_dim = 10,\n",
        "iter = 10,\n",
        "p = q = 1."
      ]
    },
    {
      "cell_type": "code",
      "execution_count": 39,
      "metadata": {
        "colab": {
          "base_uri": "https://localhost:8080/"
        },
        "id": "TpBS-QzEsSXH",
        "outputId": "2184feb3-603e-4b8e-fcc3-02c63e369b14"
      },
      "outputs": [
        {
          "output_type": "stream",
          "name": "stdout",
          "text": [
            "node dim: 10,\tnum_walks: 5,\twalk_length: 10\n",
            "building a DeepWalk model...\t"
          ]
        },
        {
          "output_type": "stream",
          "name": "stderr",
          "text": [
            "WARNING:gensim.models.base_any2vec:consider setting layer size to a multiple of 4 for greater performance\n"
          ]
        },
        {
          "output_type": "stream",
          "name": "stdout",
          "text": [
            "number of walks: 41715\taverage walk length: 9.8874\ttraining time: 18.2179\n",
            "auc: 0.9038\n",
            "node dim: 10,\tnum_walks: 5,\twalk_length: 20\n",
            "building a DeepWalk model...\t"
          ]
        },
        {
          "output_type": "stream",
          "name": "stderr",
          "text": [
            "WARNING:gensim.models.base_any2vec:consider setting layer size to a multiple of 4 for greater performance\n"
          ]
        },
        {
          "output_type": "stream",
          "name": "stdout",
          "text": [
            "number of walks: 41715\taverage walk length: 19.7406\ttraining time: 28.6991\n",
            "auc: 0.9234\n",
            "node dim: 10,\tnum_walks: 10,\twalk_length: 10\n",
            "building a DeepWalk model...\t"
          ]
        },
        {
          "output_type": "stream",
          "name": "stderr",
          "text": [
            "WARNING:gensim.models.base_any2vec:consider setting layer size to a multiple of 4 for greater performance\n"
          ]
        },
        {
          "output_type": "stream",
          "name": "stdout",
          "text": [
            "number of walks: 83430\taverage walk length: 9.8876\ttraining time: 37.2411\n",
            "auc: 0.9232\n",
            "node dim: 10,\tnum_walks: 10,\twalk_length: 20\n",
            "building a DeepWalk model...\t"
          ]
        },
        {
          "output_type": "stream",
          "name": "stderr",
          "text": [
            "WARNING:gensim.models.base_any2vec:consider setting layer size to a multiple of 4 for greater performance\n"
          ]
        },
        {
          "output_type": "stream",
          "name": "stdout",
          "text": [
            "number of walks: 83430\taverage walk length: 19.7400\ttraining time: 56.8899\n",
            "auc: 0.9304\n"
          ]
        }
      ],
      "source": [
        "np.random.seed(0)\n",
        "\n",
        "node_dim = 10\n",
        "num_walks_list = [5, 10]\n",
        "walk_length_list = [10, 20]\n",
        "# walk_length in [10, 20, 40]] for num_walks in [5, 10, 20, 40]\n",
        "\n",
        "best_model = model\n",
        "deepwalk_auc_scores = dict()\n",
        "for num_walks in num_walks_list:\n",
        "    for walk_length in walk_length_list:\n",
        "        print(\"node dim: %d,\\tnum_walks: %d,\\twalk_length: %d\" % (node_dim, num_walks, walk_length))\n",
        "        model = build_deepwalk(graph, alias_nodes, \n",
        "                       node_dim=node_dim, num_walks=num_walks, walk_length=walk_length)\n",
        "        deepwalk_auc_scores[(node_dim, num_walks, walk_length)] = get_auc_score(model, valid_edges, false_edges)\n",
        "        print(\"auc: %.4f\" % (deepwalk_auc_scores[(node_dim, num_walks, walk_length)]))"
      ]
    },
    {
      "cell_type": "markdown",
      "metadata": {
        "id": "qi5dF0WFwZcQ"
      },
      "source": [
        "Node2Vec\n",
        "\n",
        "fixed: num_walks = 10, walk_length = 20, p = 3, q = 0.5\n",
        "\n",
        "| node_dim | word2vec iter | score | time (s)|\n",
        "|--|--|--|--|\n",
        "| 50 | 10 | 0.8620 | 75.86\n",
        "| 50 | 100 | 0.8809 | 641.x\n",
        "| 20 | 10 | 0.9200 | 67.38\n",
        "| 10 | 10 |0.9307 | 57.09\n",
        "| 8  | 10 | 0.9302 | 49.42\n",
        "|3 | 10 | 0.8918 | 44.83\n",
        "|5 | 10 | 0.9186 | 47.67\n",
        "|12 | 10 | 0.9291 | 55.23\n",
        "|15 | 10 | 0.9274 | 59.36\n",
        "| 3 | 20 | 0.8902 | 89.570\n",
        "| 5 | 20 | 0.9167 | 90.54\n",
        "| 8 | 20 | 0.9281 | 97.117\n",
        "| 10 | 20 | 0.929 | 100.317\n",
        "| 12 | 20 | 0.9287 | 123.716\n",
        "| 15 | 20 | 0.9274 | 112.20\n",
        "| 20 | 20 | 0.922 | 131.61\n",
        "|3|5|0.8918|28.97\n",
        "|5|5|0.9168|34.21\n",
        "|8|5|0.9273|25.39\n",
        "|10|5|0.9265|26.41\n",
        "|12|5|0.9237|28.29\n",
        "|15|5|0.9188|30.54\n",
        "|20|5|0.9041|33.21\n",
        "\n",
        "WANT: nearby nodes have similar embeddings </p>\n",
        "-> co-occurence should be more frequent </p>\n",
        "-> small 1/q (far), large q (near) i.e. BFS-like instead of DFS-like\n",
        "\n",
        "fixed: num_walks = 10, walk_length = 20, p = 1, q = 2\n",
        "\n",
        "| node_dim | word2vec iter | score | time (s)|\n",
        "|--|--|--|--|\n",
        "|3|5|0.8933|23.58\n",
        "|5|5|0.9176|25.21\n",
        "|8|5|0.9289|25.79\n",
        "|10|5|0.9284|27.66\n",
        "|12|5|0.9264|28.37\n",
        "|15|5|0.9214|29.85\n",
        "|20|5|0.9092|33.63\n",
        "|3|10|0.8934|49.11\n",
        "|5|10|0.9175|46.73\n",
        "|8|10|0.9306|51.80\n",
        "|10|10|0.9321|64.63\n",
        "|12|10|0.9311|56.75\n",
        "|15|10|0.9283|56.27\n",
        "|20|10|0.9211|63.25\n",
        "|3|20|0.8914|108.97\n",
        "|5|20|0.9157|91.37\n",
        "|8|20|0.9284|106.92\n",
        "|10|20|0.9301|112.85\n",
        "|12|20|0.9298|106.91\n",
        "|15|20|0.9279|111.46\n",
        "|20|20|0.9224|125.99"
      ]
    },
    {
      "cell_type": "markdown",
      "source": [
        "##GridSearch\n",
        "Record to the above table"
      ],
      "metadata": {
        "id": "GRxnxyCU1Gna"
      }
    },
    {
      "cell_type": "code",
      "execution_count": 40,
      "metadata": {
        "colab": {
          "base_uri": "https://localhost:8080/"
        },
        "id": "f5oy5jWYsSXI",
        "outputId": "b5e8b798-537a-4798-e7ac-8b260dc1dc48"
      },
      "outputs": [
        {
          "output_type": "stream",
          "name": "stdout",
          "text": [
            "num_walks: 10,\twalk_length: 20,\tp: 1.00,\tq: 2.00\n",
            "number of walks: 83430\taverage walk length: 19.9819\n",
            "finish building random walks set in 49.92\n"
          ]
        }
      ],
      "source": [
        "np.random.seed(0)\n",
        "num_walks = 10\n",
        "walk_length = 20\n",
        "\n",
        "p = 1\n",
        "q = 2\n",
        "\n",
        "node2vec_auc_scores = dict()\n",
        "print(\"num_walks: %d,\\twalk_length: %d,\\tp: %.2f,\\tq: %.2f\" % (\n",
        "    num_walks, walk_length, p, q))\n",
        "\n",
        "st = time.time()\n",
        "alias_nodes, alias_edges = preprocess_transition_probs(graph, p=p, q=q)\n",
        "walks = build_node2vec_walks(graph, alias_nodes, alias_edges, num_walks=num_walks, walk_length=walk_length)\n",
        "print('finish building random walks set in %.2f' % (time.time()-st))"
      ]
    },
    {
      "cell_type": "code",
      "execution_count": 41,
      "metadata": {
        "colab": {
          "base_uri": "https://localhost:8080/"
        },
        "id": "YDVaSgn8bDrQ",
        "outputId": "15d949a0-987b-40a2-dc37-9f6e49f63106"
      },
      "outputs": [
        {
          "output_type": "stream",
          "name": "stdout",
          "text": [
            "|4|20|0.9031|69.46\n",
            "|8|20|0.9288|76.11\n",
            "|12|20|0.9294|81.65\n"
          ]
        }
      ],
      "source": [
        "iter = 20\n",
        "\n",
        "for node_dim in [4,8,12]:\n",
        "    st = time.time()\n",
        "    model = Word2Vec(walks, size=node_dim, window=3, min_count=0, sg=1, workers=os.cpu_count(), iter=iter)\n",
        "    score = node2vec_auc_scores[(node_dim, num_walks, walk_length, p, q)] = get_auc_score(model, valid_edges, false_edges)\n",
        "    print('|{}|{}|{:.4f}|{:.2f}'.format(node_dim, iter, score, time.time()-st ))"
      ]
    },
    {
      "cell_type": "markdown",
      "metadata": {
        "id": "Q7235k0KsSXL"
      },
      "source": [
        "Meaning of q and p \\\n",
        "![Meaning of q and p](https://snap.stanford.edu/node2vec/walk.png)"
      ]
    },
    {
      "cell_type": "markdown",
      "metadata": {
        "id": "aCCD3xSrLGvS"
      },
      "source": [
        "#  Build Embedding Matrix (start here)\n",
        "\n",
        "Convert nodes, edges to integers or their string-alias (to be compatible input of Word2Vec), then get the embedding by Node2Vec algorithm. There is no other node information, so we rely on this algorithm to construct the embeddings. Besides, we perform negative sampling to get train and valid negative links for supervised learning, such that train_positive, train_negative, valid_positive, valid_negative, test_set are disjoint.\n",
        "\n",
        "**NOTE**: this part can be modified for each dataset."
      ]
    },
    {
      "cell_type": "code",
      "execution_count": 42,
      "metadata": {
        "colab": {
          "base_uri": "https://localhost:8080/"
        },
        "id": "BsLSSH-_y5F0",
        "outputId": "828d504f-6d8b-458a-fb3d-e6787b676b9c"
      },
      "outputs": [
        {
          "output_type": "stream",
          "name": "stdout",
          "text": [
            "8344 159149\n",
            "8344 259149\n",
            "number of nodes: 8343\n",
            "number of edges: 100000\n"
          ]
        }
      ],
      "source": [
        "data = \"https://raw.githubusercontent.com/VanHoann/Yelp_Dataset_Challenges/main/Link_Prediction/data\"\n",
        "train_file = f\"{data}/train.csv\"\n",
        "valid_file = f\"{data}/valid.csv\"\n",
        "test_file = f\"{data}/test.csv\"\n",
        "\n",
        "np.random.seed(0)\n",
        "index2uid, uid2index, uid2ind, ind2uid = construct_uid_index(train_file)\n",
        "\n",
        "train_edges = load_data(train_file, uid2index)\n",
        "valid_edges = load_data(valid_file, uid2index)\n",
        "test_edges = load_test_data(test_file, uid2index)\n",
        "\n",
        "train_false_edges = generate_false_edges(train_edges+valid_edges+test_edges, len(train_edges))\n",
        "false_edges = generate_false_edges(train_edges+valid_edges+test_edges+train_false_edges, 40000-len(valid_edges))\n",
        "\n",
        "graph = construct_graph_from_edges(train_edges)"
      ]
    },
    {
      "cell_type": "markdown",
      "source": [
        "We'll work with tensors"
      ],
      "metadata": {
        "id": "AKfKOYHRNf-G"
      }
    },
    {
      "cell_type": "code",
      "execution_count": 43,
      "metadata": {
        "colab": {
          "base_uri": "https://localhost:8080/"
        },
        "id": "AKGk2tH_gXNR",
        "outputId": "a833fdde-fd8b-48d3-8e8e-8a86be8761d1"
      },
      "outputs": [
        {
          "output_type": "stream",
          "name": "stdout",
          "text": [
            "tensor(2155) tensor(3444)\n"
          ]
        }
      ],
      "source": [
        "def convert_str_edges_to_tensor(edges):\n",
        "    return torch.tensor([\n",
        "        [int(x[0]) for x in edges],\n",
        "        [int(x[1]) for x in edges]\n",
        "    ])\n",
        "\n",
        "train_pos_edges_T = convert_str_edges_to_tensor(train_edges)\n",
        "train_neg_edges_T = convert_str_edges_to_tensor(train_false_edges)\n",
        "\n",
        "valid_pos_edges_T = convert_str_edges_to_tensor(valid_edges)\n",
        "valid_neg_edges_T = convert_str_edges_to_tensor(false_edges)\n",
        "valid_labels = len(valid_pos_edges_T[0])*[1]+len(valid_neg_edges_T[0])*[0]\n",
        "\n",
        "test_edges_T = convert_str_edges_to_tensor(test_edges)\n",
        "\n",
        "print(train_pos_edges_T[1][0], train_pos_edges_T[1][1])"
      ]
    },
    {
      "cell_type": "markdown",
      "source": [
        "Recall the best configuration for Node2Vec"
      ],
      "metadata": {
        "id": "wrWmPBdZQMLP"
      }
    },
    {
      "cell_type": "code",
      "execution_count": 44,
      "metadata": {
        "colab": {
          "base_uri": "https://localhost:8080/"
        },
        "id": "qN4VAo7KXTE_",
        "outputId": "1c6efe79-01f7-4e94-9fd5-52b53533c1df"
      },
      "outputs": [
        {
          "output_type": "stream",
          "name": "stdout",
          "text": [
            "building a node2vec model...\t"
          ]
        },
        {
          "output_type": "stream",
          "name": "stderr",
          "text": [
            "WARNING:gensim.models.base_any2vec:consider setting layer size to a multiple of 4 for greater performance\n"
          ]
        },
        {
          "output_type": "stream",
          "name": "stdout",
          "text": [
            "number of walks: 83430\taverage walk length: 19.9780\ttraining time: 62.2397\n"
          ]
        },
        {
          "output_type": "execute_result",
          "data": {
            "text/plain": [
              "0.9313416402964332"
            ]
          },
          "metadata": {},
          "execution_count": 44
        }
      ],
      "source": [
        "num_walks = 10\n",
        "walk_length = 20\n",
        "node_dim = 10\n",
        "iter = 10\n",
        "p, q = 1, 1\n",
        "\n",
        "alias_nodes, alias_edges = preprocess_transition_probs(graph, p=p, q=q)\n",
        "node2embs = build_node2vec(graph, alias_nodes, alias_edges, \n",
        "                           node_dim=node_dim, num_walks=num_walks, walk_length=walk_length)\n",
        "\n",
        "get_auc_score(node2embs, valid_edges, false_edges)"
      ]
    },
    {
      "cell_type": "markdown",
      "source": [
        "Store data locally"
      ],
      "metadata": {
        "id": "bq49SrLmQZZH"
      }
    },
    {
      "cell_type": "code",
      "execution_count": 45,
      "metadata": {
        "id": "uethzK9uih75"
      },
      "outputs": [],
      "source": [
        "import pickle\n",
        "\n",
        "data = [index2uid, uid2index, uid2ind, ind2uid,\n",
        "        train_edges, valid_edges, train_false_edges, false_edges,\n",
        "        node2embs]\n",
        "\n",
        "with open('data_pickle', 'wb') as f:\n",
        "    pickle.dump(data, f)"
      ]
    },
    {
      "cell_type": "code",
      "execution_count": 46,
      "metadata": {
        "id": "UspSZbEV0p1B"
      },
      "outputs": [],
      "source": [
        "# node2embs = dict()\n",
        "# for node in index2uid.keys():\n",
        "#     try:\n",
        "#         node2embs[int(node)] = model.wv.get_vector(node)\n",
        "#     except:\n",
        "#         node2embs[int(node)] = np.array(10*[0.0])\n",
        "\n",
        "# nx.relabel_nodes(graph, lambda x: int(x), copy=False)\n",
        "# graph.add_node(0)\n",
        "# nx.classes.function.set_node_attributes(graph, node2embs, name='x')\n",
        "# G = from_networkx(graph)\n",
        "# G"
      ]
    },
    {
      "cell_type": "code",
      "execution_count": 47,
      "metadata": {
        "colab": {
          "base_uri": "https://localhost:8080/"
        },
        "id": "QunyVlXWP9OT",
        "outputId": "5f7f0436-28dc-41ca-fed2-42d699e58bd6"
      },
      "outputs": [
        {
          "output_type": "stream",
          "name": "stdout",
          "text": [
            "[ 1.4148204   0.6018683  -1.0128235  -1.5625924  -0.748017   -0.36929086\n",
            " -2.756127    0.04731664  1.011351    0.39071855]\n",
            "tensor([ 1.4148,  0.6019, -1.0128, -1.5626, -0.7480, -0.3693, -2.7561,  0.0473,\n",
            "         1.0114,  0.3907])\n",
            "torch.Size([8344, 10])\n"
          ]
        },
        {
          "output_type": "stream",
          "name": "stderr",
          "text": [
            "/usr/local/lib/python3.7/dist-packages/ipykernel_launcher.py:10: UserWarning: Creating a tensor from a list of numpy.ndarrays is extremely slow. Please consider converting the list to a single numpy.ndarray with numpy.array() before converting to a tensor. (Triggered internally at  ../torch/csrc/utils/tensor_new.cpp:201.)\n",
            "  # Remove the CWD from sys.path while we load stuff.\n"
          ]
        }
      ],
      "source": [
        "embs_matrix = []\n",
        "num_nodes = len(index2uid.keys())\n",
        "\n",
        "for i in range(num_nodes):\n",
        "    try:\n",
        "        embs_matrix.append(node2embs.wv.get_vector(str(i)))\n",
        "    except:\n",
        "        embs_matrix.append(np.array(node_dim*[0.0]))\n",
        "        \n",
        "embs_matrix = torch.Tensor(embs_matrix)\n",
        "print(\n",
        "    node2embs.wv['1'],\n",
        "    embs_matrix[1],\n",
        "    embs_matrix.shape,\n",
        "    sep='\\n'\n",
        ")\n",
        "\n",
        "# from torch_geometric.utils.convert import from_networkx\n",
        "# from torch_geometric.data import Data\n",
        "# dataset = Data(x=embs_matrix, edge_index=train_edges_T)"
      ]
    },
    {
      "cell_type": "code",
      "execution_count": 48,
      "metadata": {
        "colab": {
          "base_uri": "https://localhost:8080/"
        },
        "id": "jGzLS0apD9_X",
        "outputId": "a0b8a3d5-a8c2-4e35-a5ea-cbcf7d97ca64"
      },
      "outputs": [
        {
          "output_type": "execute_result",
          "data": {
            "text/plain": [
              "tensor([[0., 0., 0.,  ..., 0., 0., 0.],\n",
              "        [0., 0., 0.,  ..., 0., 0., 0.],\n",
              "        [0., 0., 0.,  ..., 0., 0., 0.],\n",
              "        ...,\n",
              "        [0., 0., 0.,  ..., 0., 0., 0.],\n",
              "        [0., 0., 0.,  ..., 0., 0., 0.],\n",
              "        [0., 0., 0.,  ..., 0., 0., 0.]])"
            ]
          },
          "metadata": {},
          "execution_count": 48
        }
      ],
      "source": [
        "adj_matrix_src2tar = torch.zeros(num_nodes, num_nodes)\n",
        "adj_matrix_src2tar[train_pos_edges_T[0], train_pos_edges_T[1]] = 1\n",
        "adj_matrix_src2tar.T"
      ]
    },
    {
      "cell_type": "code",
      "execution_count": 49,
      "metadata": {
        "id": "IYe0WOS-pbxx"
      },
      "outputs": [],
      "source": [
        "def get_endpoints_embs(embs_matrix, edges_T, indices):\n",
        "    list_src = edges_T[0][indices]\n",
        "    list_tar = edges_T[1][indices]\n",
        "\n",
        "    embs_src = embs_matrix[list_src]\n",
        "    embs_tar = embs_matrix[list_tar]\n",
        "\n",
        "    return embs_src, embs_tar"
      ]
    },
    {
      "cell_type": "markdown",
      "metadata": {
        "id": "vgRdJX0vEcxx"
      },
      "source": [
        "# MLP-aid\n",
        "\n",
        "NOTE: run Convert NetworkX graph to PyG graph first\n",
        "\n",
        "If cannot use PyG, have to do whole batch learning, because currently only PyG supports batch-learning for link prediction\n",
        "\n",
        "Try plain MLP first, then add SAGE-like or Attention-like layer using their definition\n",
        "\n",
        "**Usage:** you need to run 'Build Embedding Matrix' section first."
      ]
    },
    {
      "cell_type": "code",
      "execution_count": 50,
      "metadata": {
        "id": "q3ddnF0nEfbp"
      },
      "outputs": [],
      "source": [
        "import torch\n",
        "import torch.nn as nn\n",
        "import torch.nn.functional as F\n",
        "\n",
        "from tqdm import trange\n",
        "import math"
      ]
    },
    {
      "cell_type": "markdown",
      "metadata": {
        "id": "HEH7qLkn_dz1"
      },
      "source": [
        "##Vanilla MLP\n",
        "\n",
        "We build a simple MLP to transform embedding of each node. \n",
        "\n",
        "Theoretically, only pushing node embedding through a MLP w/o any message passing from neighbors (~ simple as a unary function) would not help, because it does not enrich the embedding spaces. Thus, we need later employ GraphSAGE mechanism.\n",
        "\n",
        "About non-linear activation functions, we should not use common `ReLU` as it will destroy the cosine similarity (experimented, poor results). We have to use other activation functions, such as `tanh`.\n",
        "\n",
        "Also, increasing the model size and alternating the cosine similarity decoder by l2-norm or sigmoid function seems decrease the model performance (experimented, but not the main focus hence not save result here)."
      ]
    },
    {
      "cell_type": "code",
      "execution_count": 51,
      "metadata": {
        "id": "S_50uaVwE_41"
      },
      "outputs": [],
      "source": [
        "class MLP(nn.Module): #on top of Node embeddings\n",
        "    def __init__(self, input_dim, hidden_dim, output_dim, \n",
        "                 num_hidden_layers=1, dropout=0.1, device=device):\n",
        "        super(MLP, self).__init__()\n",
        "        # (linear + relu) x n\n",
        "        self.device = device\n",
        "        self.num_layers = num_hidden_layers+2\n",
        "        self.dropout = dropout\n",
        "\n",
        "        self.layers = nn.ModuleList()\n",
        "        self.layers.append(nn.Linear(input_dim, hidden_dim))\n",
        "\n",
        "        for l in range(num_hidden_layers):\n",
        "            self.layers.append(nn.Linear(hidden_dim, hidden_dim))\n",
        "\n",
        "        self.layers.append(nn.Linear(hidden_dim, output_dim))\n",
        "        self.twonode_fc = nn.Linear(2*output_dim, 1)\n",
        "\n",
        "        self.reset_parameters()\n",
        "\n",
        "    def reset_parameters(self):\n",
        "        for layer in self.layers:\n",
        "            layer.reset_parameters()\n",
        "        self.twonode_fc.reset_parameters()\n",
        "\n",
        "    def forward(self, x):\n",
        "        x = x.to(self.device)\n",
        "\n",
        "        for i in range(self.num_layers-1):\n",
        "            x = self.layers[i](x)\n",
        "            x = torch.tanh(x)\n",
        "            x = F.dropout(x, p=self.dropout, training=self.training)\n",
        "        x = self.layers[-1](x)       \n",
        "\n",
        "        return x\n",
        "\n",
        "    def decode(self, uv, metric='cosine'):\n",
        "        u, v = uv\n",
        "        assert u.shape == v.shape, \"Tensors u and v must have the same 2d shape\"\n",
        "\n",
        "        u = F.normalize(self.forward(u))\n",
        "        v = F.normalize(self.forward(v))\n",
        "\n",
        "        if metric == 'cosine':\n",
        "            return (u*v).sum(dim=1)\n",
        "        elif metric == 'l2':\n",
        "            return ((u-v)**2).sum(dim=1)\n",
        "        elif metric == 'fc':\n",
        "            temp = self.twonode_fc(torch.cat((u,v), dim=1))\n",
        "            return torch.sigmoid(torch.squeeze(temp))\n",
        "        else:\n",
        "            raise NotImplementedError\n"
      ]
    },
    {
      "cell_type": "markdown",
      "source": [
        "Set up parameters"
      ],
      "metadata": {
        "id": "Dc4P7OXDSJ8s"
      }
    },
    {
      "cell_type": "code",
      "execution_count": 52,
      "metadata": {
        "id": "RLf0rNz-dsNU"
      },
      "outputs": [],
      "source": [
        "args =  {'input_dim': node_dim, 'hidden_dim': 32, 'output_dim': 16,\n",
        "         'num_hidden_layers': 0, 'dropout': 0.0, 'metric': 'cosine', #cosine is better than fc, l2\n",
        "         'epochs': 10, 'batch_size': 64, # half of actual batch size\n",
        "         'weight_decay': 5e-3, 'lr': 0.001}\n",
        "\n",
        "class objectview(object):\n",
        "    def __init__(self, d):\n",
        "        self.__dict__ = d\n",
        "\n",
        "args = objectview(args)"
      ]
    },
    {
      "cell_type": "markdown",
      "source": [
        "Model info"
      ],
      "metadata": {
        "id": "3qEmAZAYSQss"
      }
    },
    {
      "cell_type": "code",
      "execution_count": 53,
      "metadata": {
        "colab": {
          "base_uri": "https://localhost:8080/"
        },
        "id": "PQH5xMj1xqhC",
        "outputId": "449fed15-4c9b-4e93-d594-6dc89672627a"
      },
      "outputs": [
        {
          "output_type": "stream",
          "name": "stdout",
          "text": [
            "MLP(\n",
            "  (layers): ModuleList(\n",
            "    (0): Linear(in_features=10, out_features=32, bias=True)\n",
            "    (1): Linear(in_features=32, out_features=16, bias=True)\n",
            "  )\n",
            "  (twonode_fc): Linear(in_features=32, out_features=1, bias=True)\n",
            ")\n"
          ]
        },
        {
          "output_type": "execute_result",
          "data": {
            "text/plain": [
              "tensor([ 0.2353, -0.1597,  0.3606,  0.1626, -0.1959,  0.4285,  0.4892,  0.3297,\n",
              "         0.4454,  0.1652, -0.1796, -0.2148, -0.0602, -0.0049,  0.5754, -0.1031],\n",
              "       device='cuda:0', grad_fn=<AddBackward0>)"
            ]
          },
          "metadata": {},
          "execution_count": 53
        }
      ],
      "source": [
        "# build model + optimizer\n",
        "model = MLP(args.input_dim, args.hidden_dim, args.output_dim,\n",
        "            args.num_hidden_layers, args.dropout).to(device)\n",
        "print(model)\n",
        "\n",
        "optimizer = torch.optim.Adam(model.parameters(), lr=args.lr)\n",
        "criterion = torch.nn.BCEWithLogitsLoss()\n",
        "\n",
        "model.eval()\n",
        "model(embs_matrix[1].to(device))"
      ]
    },
    {
      "cell_type": "code",
      "execution_count": 54,
      "metadata": {
        "colab": {
          "base_uri": "https://localhost:8080/",
          "height": 798
        },
        "id": "aIi27QyRbnNR",
        "outputId": "b976fcce-a2ab-4f9f-ebdb-5ab9a94e56ac"
      },
      "outputs": [
        {
          "output_type": "stream",
          "name": "stderr",
          "text": [
            "Epoch 0: 100%|██████████| 1562/1562 [00:05<00:00, 282.82steps/s]\n"
          ]
        },
        {
          "output_type": "stream",
          "name": "stdout",
          "text": [
            "auc score  0.9196532827315639\n",
            "best auc 0.9196532827315639 achieved at epoch 0\n"
          ]
        },
        {
          "output_type": "stream",
          "name": "stderr",
          "text": [
            "Epoch 1: 100%|██████████| 1562/1562 [00:05<00:00, 282.96steps/s]\n"
          ]
        },
        {
          "output_type": "stream",
          "name": "stdout",
          "text": [
            "auc score  0.921544759655927\n",
            "best auc 0.921544759655927 achieved at epoch 1\n"
          ]
        },
        {
          "output_type": "stream",
          "name": "stderr",
          "text": [
            "Epoch 2: 100%|██████████| 1562/1562 [00:05<00:00, 286.66steps/s]\n"
          ]
        },
        {
          "output_type": "stream",
          "name": "stdout",
          "text": [
            "auc score  0.9226899040896961\n",
            "best auc 0.9226899040896961 achieved at epoch 2\n"
          ]
        },
        {
          "output_type": "stream",
          "name": "stderr",
          "text": [
            "Epoch 3: 100%|██████████| 1562/1562 [00:05<00:00, 286.21steps/s]\n"
          ]
        },
        {
          "output_type": "stream",
          "name": "stdout",
          "text": [
            "auc score  0.9234597456582124\n",
            "best auc 0.9234597456582124 achieved at epoch 3\n"
          ]
        },
        {
          "output_type": "stream",
          "name": "stderr",
          "text": [
            "Epoch 4: 100%|██████████| 1562/1562 [00:05<00:00, 285.88steps/s]\n"
          ]
        },
        {
          "output_type": "stream",
          "name": "stdout",
          "text": [
            "auc score  0.9239883707192884\n",
            "best auc 0.9239883707192884 achieved at epoch 4\n"
          ]
        },
        {
          "output_type": "stream",
          "name": "stderr",
          "text": [
            "Epoch 5: 100%|██████████| 1562/1562 [00:05<00:00, 285.96steps/s]\n"
          ]
        },
        {
          "output_type": "stream",
          "name": "stdout",
          "text": [
            "auc score  0.9243280620002601\n",
            "best auc 0.9243280620002601 achieved at epoch 5\n"
          ]
        },
        {
          "output_type": "stream",
          "name": "stderr",
          "text": [
            "Epoch 6: 100%|██████████| 1562/1562 [00:05<00:00, 284.49steps/s]\n"
          ]
        },
        {
          "output_type": "stream",
          "name": "stdout",
          "text": [
            "auc score  0.9245198921708615\n",
            "best auc 0.9245198921708615 achieved at epoch 6\n"
          ]
        },
        {
          "output_type": "stream",
          "name": "stderr",
          "text": [
            "Epoch 7: 100%|██████████| 1562/1562 [00:05<00:00, 286.27steps/s]\n"
          ]
        },
        {
          "output_type": "stream",
          "name": "stdout",
          "text": [
            "auc score  0.9245972698563096\n",
            "best auc 0.9245972698563096 achieved at epoch 7\n"
          ]
        },
        {
          "output_type": "stream",
          "name": "stderr",
          "text": [
            "Epoch 8: 100%|██████████| 1562/1562 [00:05<00:00, 286.56steps/s]\n"
          ]
        },
        {
          "output_type": "stream",
          "name": "stdout",
          "text": [
            "auc score  0.924599477822099\n",
            "best auc 0.924599477822099 achieved at epoch 8\n"
          ]
        },
        {
          "output_type": "stream",
          "name": "stderr",
          "text": [
            "Epoch 9: 100%|██████████| 1562/1562 [00:05<00:00, 286.74steps/s]\n"
          ]
        },
        {
          "output_type": "stream",
          "name": "stdout",
          "text": [
            "auc score  0.9245486908539005\n"
          ]
        },
        {
          "output_type": "display_data",
          "data": {
            "text/plain": [
              "<Figure size 432x288 with 1 Axes>"
            ],
            "image/png": "[encoded data removed]"
          },
          "metadata": {
            "needs_background": "light"
          }
        }
      ],
      "source": [
        "from tqdm import trange #output the progress bar\n",
        "import math\n",
        "\n",
        "# train //refer to the above setup\n",
        "metric = args.metric   # fc, l2 are worse than cosine\n",
        "losses = []\n",
        "test_aucs = []\n",
        "best_auc = 0\n",
        "best_model = None\n",
        "num_train_pairs = len(train_pos_edges_T[0])\n",
        "\n",
        "for epoch in range(args.epochs):\n",
        "    total_loss = 0\n",
        "    model.train()\n",
        "    \n",
        "    for i in trange(math.floor(num_train_pairs/args.batch_size), desc=\"Epoch {}\".format(epoch), unit=\"steps\"):\n",
        "        # list_index = args.batch_size*i:args.batch_size*(i+1)\n",
        "\n",
        "        pred_pos = model.decode(\n",
        "            get_endpoints_embs(embs_matrix, train_pos_edges_T, \n",
        "                               range(args.batch_size*i, args.batch_size*(i+1))\n",
        "            ),\n",
        "            metric=metric\n",
        "        )\n",
        "\n",
        "        pred_neg = model.decode(\n",
        "            get_endpoints_embs(embs_matrix, train_neg_edges_T, \n",
        "                               range(args.batch_size*i, args.batch_size*(i+1))\n",
        "            ),\n",
        "            metric=metric\n",
        "        )\n",
        "\n",
        "        optimizer.zero_grad()\n",
        "        pred = torch.cat((pred_pos, pred_neg), dim=0)\n",
        "        label = torch.Tensor(args.batch_size*[1]+args.batch_size*[0]).to(device)\n",
        "        loss = criterion(pred, label)\n",
        "        loss.backward()\n",
        "        optimizer.step()\n",
        "        total_loss += loss.item() \n",
        "\n",
        "    total_loss /= num_train_pairs\n",
        "    losses.append(total_loss*100)\n",
        "\n",
        "    if epoch % 1 == 0:\n",
        "        test_auc = 0\n",
        "        model.eval()\n",
        "\n",
        "        with torch.no_grad():\n",
        "            pred_pos = model.decode((embs_matrix[valid_pos_edges_T[0]],\n",
        "                                            embs_matrix[valid_pos_edges_T[1]]),\n",
        "                                    metric=metric)\n",
        "            pred_neg = model.decode((embs_matrix[valid_neg_edges_T[0]],\n",
        "                                            embs_matrix[valid_neg_edges_T[1]]),\n",
        "                                    metric=metric)\n",
        "        \n",
        "            pred = torch.cat((pred_pos, pred_neg), dim=0).to('cpu')\n",
        "            test_auc = roc_auc_score(valid_labels, pred)\n",
        "            test_aucs.append(test_auc)\n",
        "            print('auc score ', test_auc)\n",
        "\n",
        "        if test_auc > best_auc:\n",
        "            best_auc = test_auc\n",
        "            print('best auc {} achieved at epoch {}'.format(best_auc, epoch))\n",
        "            # best_model = copy.deepcopy(model) //will slow down\n",
        "\n",
        "    else:\n",
        "        test_aucs.append(test_aucs[-1])\n",
        "\n",
        "plt.plot(losses, label=\"training loss\")\n",
        "plt.plot(test_aucs, label=\"test auc\")\n",
        "plt.legend()\n",
        "plt.show()\n"
      ]
    },
    {
      "cell_type": "markdown",
      "metadata": {
        "id": "c5xZYfj49zTS"
      },
      "source": [
        "## GraphSAGE-like MLP\n",
        "\n",
        "Based on plain MLP, we add adjacency matrix to perform message aggregation from neighbor nodes. Since the graph is small enough (< 10k nodes) to do whole-batch forwarding with message aggregation (naive, not optimized like PyTorch Geometric), we follow this direction.\n",
        "\n",
        "Results related to adjacency matrix suggests that the first column (user id) is the followees, the second column is the followers, since passing message as \"src: inbound neighbor, tar: outbound neighbor\" represents the phenomenon as when a person A follows another person B, and B follows C, then A tends to also follow C"
      ]
    },
    {
      "cell_type": "code",
      "execution_count": 55,
      "metadata": {
        "id": "NN4vPfpp2J4E"
      },
      "outputs": [],
      "source": [
        "class GraphSAGE(nn.Module):\n",
        "    def __init__(self, input_dim, hidden_dim, output_dim, adj_matrix_src2tar,\n",
        "                 num_hidden_layers=1, dropout=0.1, device=device):\n",
        "        super(GraphSAGE, self).__init__()\n",
        "        # (linear + relu) x n\n",
        "        self.device = device\n",
        "        self.num_blocks = num_hidden_layers+1\n",
        "        self.dropout = dropout\n",
        "\n",
        "        self.adj_matrix_src2tar = adj_matrix_src2tar\n",
        "\n",
        "        self.lin_s = nn.ModuleList()\n",
        "        self.lin_t = nn.ModuleList()\n",
        "        self.lin_st = nn.ModuleList()\n",
        "\n",
        "        if num_hidden_layers > 0:\n",
        "            self.lin_s.append(nn.Linear(input_dim, hidden_dim))\n",
        "            self.lin_t.append(nn.Linear(input_dim, hidden_dim))\n",
        "            self.lin_st.append(nn.Linear(2*hidden_dim, hidden_dim))\n",
        "\n",
        "            for l in range(num_hidden_layers-1):\n",
        "                self.lin_s.append(nn.Linear(hidden_dim, hidden_dim))\n",
        "                self.lin_t.append(nn.Linear(hidden_dim, hidden_dim))\n",
        "                self.lin_st.append(nn.Linear(2*hidden_dim, hidden_dim))\n",
        "\n",
        "            self.lin_s.append(nn.Linear(hidden_dim, hidden_dim))\n",
        "            self.lin_t.append(nn.Linear(hidden_dim, hidden_dim))\n",
        "            self.lin_st.append(nn.Linear(2*hidden_dim, output_dim))\n",
        "\n",
        "        else:\n",
        "            self.lin_s.append(nn.Linear(input_dim, hidden_dim))\n",
        "            self.lin_t.append(nn.Linear(input_dim, hidden_dim))\n",
        "            self.lin_st.append(nn.Linear(2*hidden_dim, output_dim))\n",
        "\n",
        "        self.reset_parameters()\n",
        "\n",
        "    def reset_parameters(self):\n",
        "        for i in range(self.num_blocks):\n",
        "            self.lin_s[i].reset_parameters() \n",
        "            self.lin_t[i].reset_parameters() \n",
        "            self.lin_st[i].reset_parameters()\n",
        "\n",
        "    def forward(self, x, src_or_tar='src', kernel='sum'):\n",
        "        assert x.shape[0] == self.adj_matrix_src2tar.shape[0], \"in whole-batch update, x must be embs_matrix\"\n",
        "        x = x.to(self.device)\n",
        "\n",
        "        for i in range(self.num_blocks):\n",
        "            source = self.lin_s[i](x)\n",
        "            target = self.lin_t[i](x) \n",
        "            if src_or_tar=='src':\n",
        "                # consider target as message passing to source\n",
        "                aggreg = torch.matmul(self.adj_matrix_src2tar.T, target) # .T ~ inbound, not .T ~ outbound\n",
        "                temp = torch.cat((source, aggreg), dim=1)\n",
        "                # don't use tanh()\n",
        "                x = self.lin_st[i](temp)\n",
        "            elif src_or_tar=='tar':\n",
        "                # consider source as message passing to target\n",
        "                aggreg = torch.matmul(self.adj_matrix_src2tar, source) # .T ~ inbound, not .T ~ outbound\n",
        "                temp = torch.cat((target, aggreg), dim=1)\n",
        "                # don't use tanh()\n",
        "                x = self.lin_st[i](temp)\n",
        "            else:\n",
        "                raise NotImplementedError\n",
        "\n",
        "            # x = F.dropout(x, p=self.dropout, training=self.training)\n",
        "\n",
        "        return x\n"
      ]
    },
    {
      "cell_type": "markdown",
      "metadata": {
        "id": "inFL1DyiX3-5"
      },
      "source": [
        "###**Results**\n",
        "\n",
        "Fixed hyperparams in args: node_dim=10, etc.\n",
        "\n",
        "- Comparing models: to change the configuration, refer to line 51 and 56 of the above cell.\n",
        "\n",
        "|type|hidden_dim|output_dim|num_hidden_layers|auc| Achieved at epoch/total epoch\\\n",
        "|--|--|--|--|--|--|\n",
        "src<-out,tar<-out| 32 | 16 | 0 | 0.9546 | 5/5 |\n",
        "src<-out,tar<-out (*)| 32 | 16 | 1 | 0.9529 | 10/10 |\n",
        "src<-out,tar<-out| 16 | 16 | 0 | 0.9535 | 5/5 |\n",
        "src<-in, tar<-out| 32 | 16 | 0 | **0.9576** | 5/5\n",
        "src<-out, tar<-in| 32 | 16 | 0 | 0.9558 | 5/5\n",
        "src<-in, tar<-out| 32 | 16 | 0 | 0.9551 | 5/5\n",
        "src<-all, tar<-all| 32 | 16 | 0 | **0.9580** | 5/5\n",
        "\n",
        "> (*) more params to train -> more epochs for fair comparison\n",
        "\n",
        "The result suggests that increasing the size of model would not help, so we stick to the default agrs.\n",
        "\n",
        "- Comparing the best 2 models with 10 epochs, we see no difference. Thus, as the (src<-in, tar<-out) model is more simple, we choose this to give scores for the test data."
      ]
    },
    {
      "cell_type": "markdown",
      "metadata": {
        "id": "BIJ8csX8kZSq"
      },
      "source": [
        "### src: outbound neighbor, tar: outbound neighbor"
      ]
    },
    {
      "cell_type": "markdown",
      "metadata": {
        "id": "FImaTCoakgao"
      },
      "source": [
        "#### default hyperparams"
      ]
    },
    {
      "cell_type": "code",
      "execution_count": 56,
      "metadata": {
        "colab": {
          "base_uri": "https://localhost:8080/",
          "height": 816
        },
        "id": "3Nu5U7hQGr8y",
        "outputId": "329404b1-915d-4c16-b491-2b9f46903d30"
      },
      "outputs": [
        {
          "output_type": "stream",
          "name": "stderr",
          "text": [
            "Epoch 1: 100%|██████████| 1562/1562 [00:13<00:00, 114.40steps/s]\n"
          ]
        },
        {
          "output_type": "stream",
          "name": "stdout",
          "text": [
            "auc score  0.9561583434004182\n",
            "best auc 0.9561583434004182 achieved at epoch 1\n"
          ]
        },
        {
          "output_type": "stream",
          "name": "stderr",
          "text": [
            "Epoch 2: 100%|██████████| 1562/1562 [00:13<00:00, 113.41steps/s]\n"
          ]
        },
        {
          "output_type": "stream",
          "name": "stdout",
          "text": [
            "auc score  0.9566992086527947\n",
            "best auc 0.9566992086527947 achieved at epoch 2\n"
          ]
        },
        {
          "output_type": "stream",
          "name": "stderr",
          "text": [
            "Epoch 3: 100%|██████████| 1562/1562 [00:13<00:00, 114.62steps/s]\n"
          ]
        },
        {
          "output_type": "stream",
          "name": "stdout",
          "text": [
            "auc score  0.956882985505999\n",
            "best auc 0.956882985505999 achieved at epoch 3\n"
          ]
        },
        {
          "output_type": "stream",
          "name": "stderr",
          "text": [
            "Epoch 4: 100%|██████████| 1562/1562 [00:13<00:00, 114.52steps/s]\n"
          ]
        },
        {
          "output_type": "stream",
          "name": "stdout",
          "text": [
            "auc score  0.9570083000813561\n",
            "best auc 0.9570083000813561 achieved at epoch 4\n"
          ]
        },
        {
          "output_type": "stream",
          "name": "stderr",
          "text": [
            "Epoch 5: 100%|██████████| 1562/1562 [00:13<00:00, 114.67steps/s]\n"
          ]
        },
        {
          "output_type": "stream",
          "name": "stdout",
          "text": [
            "auc score  0.957101520296847\n",
            "best auc 0.957101520296847 achieved at epoch 5\n"
          ]
        },
        {
          "output_type": "stream",
          "name": "stderr",
          "text": [
            "Epoch 6: 100%|██████████| 1562/1562 [00:13<00:00, 114.39steps/s]\n"
          ]
        },
        {
          "output_type": "stream",
          "name": "stdout",
          "text": [
            "auc score  0.957162971589606\n",
            "best auc 0.957162971589606 achieved at epoch 6\n"
          ]
        },
        {
          "output_type": "stream",
          "name": "stderr",
          "text": [
            "Epoch 7: 100%|██████████| 1562/1562 [00:13<00:00, 114.42steps/s]\n"
          ]
        },
        {
          "output_type": "stream",
          "name": "stdout",
          "text": [
            "auc score  0.9572037588760068\n",
            "best auc 0.9572037588760068 achieved at epoch 7\n"
          ]
        },
        {
          "output_type": "stream",
          "name": "stderr",
          "text": [
            "Epoch 8: 100%|██████████| 1562/1562 [00:17<00:00, 91.08steps/s] \n"
          ]
        },
        {
          "output_type": "stream",
          "name": "stdout",
          "text": [
            "auc score  0.9572283706851428\n",
            "best auc 0.9572283706851428 achieved at epoch 8\n"
          ]
        },
        {
          "output_type": "stream",
          "name": "stderr",
          "text": [
            "Epoch 9: 100%|██████████| 1562/1562 [00:13<00:00, 112.52steps/s]\n"
          ]
        },
        {
          "output_type": "stream",
          "name": "stdout",
          "text": [
            "auc score  0.9572394455611651\n",
            "best auc 0.9572394455611651 achieved at epoch 9\n"
          ]
        },
        {
          "output_type": "stream",
          "name": "stderr",
          "text": [
            "Epoch 10: 100%|██████████| 1562/1562 [00:13<00:00, 113.60steps/s]\n"
          ]
        },
        {
          "output_type": "stream",
          "name": "stdout",
          "text": [
            "auc score  0.9572426986808287\n",
            "best auc 0.9572426986808287 achieved at epoch 10\n"
          ]
        },
        {
          "output_type": "display_data",
          "data": {
            "text/plain": [
              "<Figure size 432x288 with 1 Axes>"
            ],
            "image/png": "[encoded data removed]"
          },
          "metadata": {
            "needs_background": "light"
          }
        }
      ],
      "source": [
        "args =  {'input_dim': node_dim, 'hidden_dim': 32, 'output_dim': 16,\n",
        "         'num_hidden_layers': 0, 'dropout': 0.0, 'metric': 'cosine',\n",
        "         'epochs': 10,  'lr': 0.001, 'batch_size': 64, # half of actual batch size\n",
        "         } \n",
        "\n",
        "class objectview(object):\n",
        "    def __init__(self, d):\n",
        "        self.__dict__ = d\n",
        "\n",
        "args = objectview(args)\n",
        "\n",
        "# build model + optimizer\n",
        "# src <- outbound neighbor, tar <- outbound neighbor\n",
        "model = GraphSAGE(args.input_dim, args.hidden_dim, args.output_dim, adj_matrix_src2tar.to(device),\n",
        "            args.num_hidden_layers, args.dropout).to(device)\n",
        "# print(model)\n",
        "\n",
        "optimizer = torch.optim.Adam(model.parameters(), lr=args.lr)\n",
        "criterion = torch.nn.BCEWithLogitsLoss()\n",
        "\n",
        "# model.eval()\n",
        "# model(embs_matrix)\n",
        "\n",
        "# train\n",
        "metric = args.metric   # fc, l2 are worse then cosine\n",
        "losses = []\n",
        "test_aucs = []\n",
        "best_auc = 0\n",
        "best_model = []\n",
        "num_train_pairs = len(train_pos_edges_T[0])\n",
        "embs_matrix = embs_matrix.to(device)\n",
        "\n",
        "for epoch in range(1, args.epochs+1):\n",
        "    total_loss = 0\n",
        "    model.train()\n",
        "    \n",
        "    for i in trange(math.floor(num_train_pairs/args.batch_size), desc=\"Epoch {}\".format(epoch), unit=\"steps\"):\n",
        "        # list_index = args.batch_size*i:args.batch_size*(i+1)\n",
        "\n",
        "        source = F.normalize(model(embs_matrix, 'src'), dim=1)\n",
        "        target = F.normalize(model(embs_matrix, 'tar'), dim=1)\n",
        "\n",
        "        indices = range(args.batch_size*i, args.batch_size*(i+1))\n",
        "        pos_u = source[train_pos_edges_T[0][indices]]\n",
        "        pos_v = target[train_pos_edges_T[1][indices]]\n",
        "        pred_pos = (pos_u*pos_v).sum(dim=1)\n",
        "\n",
        "        neg_u = source[train_neg_edges_T[0][indices]]\n",
        "        neg_v = target[train_neg_edges_T[1][indices]]\n",
        "        pred_neg = (neg_u*neg_v).sum(dim=1)\n",
        "        \n",
        "        optimizer.zero_grad()\n",
        "        pred = torch.cat((pred_pos, pred_neg), dim=0)\n",
        "        label = torch.Tensor(args.batch_size*[1]+args.batch_size*[0]).to(device)\n",
        "        loss = criterion(pred, label)\n",
        "        loss.backward()\n",
        "        optimizer.step()\n",
        "        total_loss += loss.item() \n",
        "\n",
        "    total_loss /= num_train_pairs\n",
        "    losses.append(total_loss*100)\n",
        "\n",
        "    if epoch % 1 == 0:\n",
        "        test_auc = 0\n",
        "        model.eval()\n",
        "\n",
        "        with torch.no_grad():\n",
        "            source = F.normalize(model(embs_matrix, 'src'), dim=1)\n",
        "            target = F.normalize(model(embs_matrix, 'tar'), dim=1)\n",
        "\n",
        "            pos_u = source[valid_pos_edges_T[0]]\n",
        "            pos_v = target[valid_pos_edges_T[1]]\n",
        "            pred_pos = (pos_u*pos_v).sum(dim=1)\n",
        "\n",
        "            neg_u = source[valid_neg_edges_T[0]]\n",
        "            neg_v = target[valid_neg_edges_T[1]]\n",
        "            pred_neg = (neg_u*neg_v).sum(dim=1)\n",
        "        \n",
        "            pred = torch.cat((pred_pos, pred_neg), dim=0).to('cpu')\n",
        "            test_auc = roc_auc_score(valid_labels, pred)\n",
        "            test_aucs.append(test_auc)\n",
        "            print('auc score ', test_auc)\n",
        "\n",
        "        if test_auc > best_auc:\n",
        "            best_auc = test_auc\n",
        "            print('best auc {} achieved at epoch {}'.format(best_auc, epoch))\n",
        "            # best_model = copy.deepcopy(model)\n",
        "\n",
        "    else:\n",
        "        test_aucs.append(test_aucs[-1])\n",
        "\n",
        "plt.plot(losses, label=\"training loss\")\n",
        "plt.plot(test_aucs, label=\"test auc\")\n",
        "plt.legend()\n",
        "plt.show()\n"
      ]
    },
    {
      "cell_type": "markdown",
      "metadata": {
        "id": "pXW2QDc_kl5J"
      },
      "source": [
        "#### 1 hidden layers"
      ]
    },
    {
      "cell_type": "code",
      "execution_count": 57,
      "metadata": {
        "colab": {
          "base_uri": "https://localhost:8080/",
          "height": 1000
        },
        "id": "jEqscSS3aqtI",
        "outputId": "3238f8ad-4e9a-4e56-c416-78e6f9b7bf55"
      },
      "outputs": [
        {
          "output_type": "stream",
          "name": "stderr",
          "text": [
            "Epoch 1: 100%|██████████| 1562/1562 [00:25<00:00, 61.49steps/s]\n"
          ]
        },
        {
          "output_type": "stream",
          "name": "stdout",
          "text": [
            "auc score  0.9433680168960752\n",
            "best auc 0.9433680168960752 achieved at epoch 1\n"
          ]
        },
        {
          "output_type": "stream",
          "name": "stderr",
          "text": [
            "Epoch 2: 100%|██████████| 1562/1562 [00:25<00:00, 61.16steps/s]\n"
          ]
        },
        {
          "output_type": "stream",
          "name": "stdout",
          "text": [
            "auc score  0.9445707486824721\n",
            "best auc 0.9445707486824721 achieved at epoch 2\n"
          ]
        },
        {
          "output_type": "stream",
          "name": "stderr",
          "text": [
            "Epoch 3: 100%|██████████| 1562/1562 [00:25<00:00, 60.94steps/s]\n"
          ]
        },
        {
          "output_type": "stream",
          "name": "stdout",
          "text": [
            "auc score  0.9465736490232752\n",
            "best auc 0.9465736490232752 achieved at epoch 3\n"
          ]
        },
        {
          "output_type": "stream",
          "name": "stderr",
          "text": [
            "Epoch 4: 100%|██████████| 1562/1562 [00:25<00:00, 60.83steps/s]\n"
          ]
        },
        {
          "output_type": "stream",
          "name": "stdout",
          "text": [
            "auc score  0.949258634305919\n",
            "best auc 0.949258634305919 achieved at epoch 4\n"
          ]
        },
        {
          "output_type": "stream",
          "name": "stderr",
          "text": [
            "Epoch 5: 100%|██████████| 1562/1562 [00:25<00:00, 61.12steps/s]\n"
          ]
        },
        {
          "output_type": "stream",
          "name": "stdout",
          "text": [
            "auc score  0.9505142784153389\n",
            "best auc 0.9505142784153389 achieved at epoch 5\n"
          ]
        },
        {
          "output_type": "stream",
          "name": "stderr",
          "text": [
            "Epoch 6: 100%|██████████| 1562/1562 [00:25<00:00, 61.09steps/s]\n"
          ]
        },
        {
          "output_type": "stream",
          "name": "stdout",
          "text": [
            "auc score  0.9515822854864668\n",
            "best auc 0.9515822854864668 achieved at epoch 6\n"
          ]
        },
        {
          "output_type": "stream",
          "name": "stderr",
          "text": [
            "Epoch 7: 100%|██████████| 1562/1562 [00:25<00:00, 60.84steps/s]\n"
          ]
        },
        {
          "output_type": "stream",
          "name": "stdout",
          "text": [
            "auc score  0.9525759251656408\n",
            "best auc 0.9525759251656408 achieved at epoch 7\n"
          ]
        },
        {
          "output_type": "stream",
          "name": "stderr",
          "text": [
            "Epoch 8: 100%|██████████| 1562/1562 [00:25<00:00, 61.00steps/s]\n"
          ]
        },
        {
          "output_type": "stream",
          "name": "stdout",
          "text": [
            "auc score  0.9533816023693886\n",
            "best auc 0.9533816023693886 achieved at epoch 8\n"
          ]
        },
        {
          "output_type": "stream",
          "name": "stderr",
          "text": [
            "Epoch 9: 100%|██████████| 1562/1562 [00:25<00:00, 60.99steps/s]\n"
          ]
        },
        {
          "output_type": "stream",
          "name": "stdout",
          "text": [
            "auc score  0.953843674284782\n",
            "best auc 0.953843674284782 achieved at epoch 9\n"
          ]
        },
        {
          "output_type": "stream",
          "name": "stderr",
          "text": [
            "Epoch 10: 100%|██████████| 1562/1562 [00:25<00:00, 60.97steps/s]\n"
          ]
        },
        {
          "output_type": "stream",
          "name": "stdout",
          "text": [
            "auc score  0.9540974013466803\n",
            "best auc 0.9540974013466803 achieved at epoch 10\n"
          ]
        },
        {
          "output_type": "stream",
          "name": "stderr",
          "text": [
            "Epoch 11: 100%|██████████| 1562/1562 [00:25<00:00, 60.73steps/s]\n"
          ]
        },
        {
          "output_type": "stream",
          "name": "stdout",
          "text": [
            "auc score  0.9542127174919213\n",
            "best auc 0.9542127174919213 achieved at epoch 11\n"
          ]
        },
        {
          "output_type": "stream",
          "name": "stderr",
          "text": [
            "Epoch 12: 100%|██████████| 1562/1562 [00:25<00:00, 60.91steps/s]\n"
          ]
        },
        {
          "output_type": "stream",
          "name": "stdout",
          "text": [
            "auc score  0.954296861766404\n",
            "best auc 0.954296861766404 achieved at epoch 12\n"
          ]
        },
        {
          "output_type": "stream",
          "name": "stderr",
          "text": [
            "Epoch 13: 100%|██████████| 1562/1562 [00:25<00:00, 61.08steps/s]\n"
          ]
        },
        {
          "output_type": "stream",
          "name": "stdout",
          "text": [
            "auc score  0.9543600779297772\n",
            "best auc 0.9543600779297772 achieved at epoch 13\n"
          ]
        },
        {
          "output_type": "stream",
          "name": "stderr",
          "text": [
            "Epoch 14: 100%|██████████| 1562/1562 [00:25<00:00, 61.12steps/s]\n"
          ]
        },
        {
          "output_type": "stream",
          "name": "stdout",
          "text": [
            "auc score  0.9544232239989979\n",
            "best auc 0.9544232239989979 achieved at epoch 14\n"
          ]
        },
        {
          "output_type": "stream",
          "name": "stderr",
          "text": [
            "Epoch 15: 100%|██████████| 1562/1562 [00:25<00:00, 60.71steps/s]\n"
          ]
        },
        {
          "output_type": "stream",
          "name": "stdout",
          "text": [
            "auc score  0.954492081489929\n",
            "best auc 0.954492081489929 achieved at epoch 15\n"
          ]
        },
        {
          "output_type": "stream",
          "name": "stderr",
          "text": [
            "Epoch 16: 100%|██████████| 1562/1562 [00:25<00:00, 61.07steps/s]\n"
          ]
        },
        {
          "output_type": "stream",
          "name": "stdout",
          "text": [
            "auc score  0.9545595821583456\n",
            "best auc 0.9545595821583456 achieved at epoch 16\n"
          ]
        },
        {
          "output_type": "stream",
          "name": "stderr",
          "text": [
            "Epoch 17: 100%|██████████| 1562/1562 [00:25<00:00, 61.15steps/s]\n"
          ]
        },
        {
          "output_type": "stream",
          "name": "stdout",
          "text": [
            "auc score  0.9546202361301254\n",
            "best auc 0.9546202361301254 achieved at epoch 17\n"
          ]
        },
        {
          "output_type": "stream",
          "name": "stderr",
          "text": [
            "Epoch 18: 100%|██████████| 1562/1562 [00:25<00:00, 60.97steps/s]\n"
          ]
        },
        {
          "output_type": "stream",
          "name": "stdout",
          "text": [
            "auc score  0.9546742987482504\n",
            "best auc 0.9546742987482504 achieved at epoch 18\n"
          ]
        },
        {
          "output_type": "stream",
          "name": "stderr",
          "text": [
            "Epoch 19: 100%|██████████| 1562/1562 [00:25<00:00, 60.85steps/s]\n"
          ]
        },
        {
          "output_type": "stream",
          "name": "stdout",
          "text": [
            "auc score  0.9547204282103818\n",
            "best auc 0.9547204282103818 achieved at epoch 19\n"
          ]
        },
        {
          "output_type": "stream",
          "name": "stderr",
          "text": [
            "Epoch 20: 100%|██████████| 1562/1562 [00:25<00:00, 60.95steps/s]\n"
          ]
        },
        {
          "output_type": "stream",
          "name": "stdout",
          "text": [
            "auc score  0.9547514811714178\n",
            "best auc 0.9547514811714178 achieved at epoch 20\n"
          ]
        },
        {
          "output_type": "display_data",
          "data": {
            "text/plain": [
              "<Figure size 432x288 with 1 Axes>"
            ],
            "image/png": "[encoded data removed]"
          },
          "metadata": {
            "needs_background": "light"
          }
        }
      ],
      "source": [
        "args =  {'input_dim': node_dim, 'hidden_dim': 32, 'output_dim': 16,\n",
        "         'num_hidden_layers': 1, 'dropout': 0.0, 'metric': 'cosine',\n",
        "         'epochs': 20,  'lr': 0.001, 'batch_size': 64, # half of actual batch size\n",
        "         }      # 20 epochs would not help. just train 10 epochs\n",
        "\n",
        "\n",
        "class objectview(object):\n",
        "    def __init__(self, d):\n",
        "        self.__dict__ = d\n",
        "\n",
        "args = objectview(args)\n",
        "\n",
        "# build model + optimizer\n",
        "# src <- outbound neighbor, tar <- outbound neighbor\n",
        "model = GraphSAGE(args.input_dim, args.hidden_dim, args.output_dim, adj_matrix_src2tar.to(device),\n",
        "            args.num_hidden_layers, args.dropout).to(device)\n",
        "# print(model)\n",
        "\n",
        "optimizer = torch.optim.Adam(model.parameters(), lr=args.lr)\n",
        "criterion = torch.nn.BCEWithLogitsLoss()\n",
        "\n",
        "# model.eval()\n",
        "# model(embs_matrix)\n",
        "\n",
        "# train\n",
        "metric = args.metric   # fc, l2 are worse then cosine\n",
        "losses = []\n",
        "test_aucs = []\n",
        "best_auc = 0\n",
        "best_model = []\n",
        "num_train_pairs = len(train_pos_edges_T[0])\n",
        "embs_matrix = embs_matrix.to(device)\n",
        "\n",
        "for epoch in range(1, args.epochs+1):\n",
        "    total_loss = 0\n",
        "    model.train()\n",
        "    \n",
        "    for i in trange(math.floor(num_train_pairs/args.batch_size), desc=\"Epoch {}\".format(epoch), unit=\"steps\"):\n",
        "        # list_index = args.batch_size*i:args.batch_size*(i+1)\n",
        "\n",
        "        source = F.normalize(model(embs_matrix, 'src'), dim=1)\n",
        "        target = F.normalize(model(embs_matrix, 'tar'), dim=1)\n",
        "\n",
        "        indices = range(args.batch_size*i, args.batch_size*(i+1))\n",
        "        pos_u = source[train_pos_edges_T[0][indices]]\n",
        "        pos_v = target[train_pos_edges_T[1][indices]]\n",
        "        pred_pos = (pos_u*pos_v).sum(dim=1)\n",
        "\n",
        "        neg_u = source[train_neg_edges_T[0][indices]]\n",
        "        neg_v = target[train_neg_edges_T[1][indices]]\n",
        "        pred_neg = (neg_u*neg_v).sum(dim=1)\n",
        "        \n",
        "        optimizer.zero_grad()\n",
        "        pred = torch.cat((pred_pos, pred_neg), dim=0)\n",
        "        label = torch.Tensor(args.batch_size*[1]+args.batch_size*[0]).to(device)\n",
        "        loss = criterion(pred, label)\n",
        "        loss.backward()\n",
        "        optimizer.step()\n",
        "        total_loss += loss.item() \n",
        "\n",
        "    total_loss /= num_train_pairs\n",
        "    losses.append(total_loss*100)\n",
        "\n",
        "    if epoch % 1 == 0:\n",
        "        test_auc = 0\n",
        "        model.eval()\n",
        "\n",
        "        with torch.no_grad():\n",
        "            source = F.normalize(model(embs_matrix, 'src'), dim=1)\n",
        "            target = F.normalize(model(embs_matrix, 'tar'), dim=1)\n",
        "\n",
        "            pos_u = source[valid_pos_edges_T[0]]\n",
        "            pos_v = target[valid_pos_edges_T[1]]\n",
        "            pred_pos = (pos_u*pos_v).sum(dim=1)\n",
        "\n",
        "            neg_u = source[valid_neg_edges_T[0]]\n",
        "            neg_v = target[valid_neg_edges_T[1]]\n",
        "            pred_neg = (neg_u*neg_v).sum(dim=1)\n",
        "        \n",
        "            pred = torch.cat((pred_pos, pred_neg), dim=0).to('cpu')\n",
        "            test_auc = roc_auc_score(valid_labels, pred)\n",
        "            test_aucs.append(test_auc)\n",
        "            print('auc score ', test_auc)\n",
        "\n",
        "        if test_auc > best_auc:\n",
        "            best_auc = test_auc\n",
        "            print('best auc {} achieved at epoch {}'.format(best_auc, epoch))\n",
        "            # best_model = copy.deepcopy(model)\n",
        "\n",
        "    else:\n",
        "        test_aucs.append(test_aucs[-1])\n",
        "\n",
        "plt.plot(losses, label=\"training loss\")\n",
        "plt.plot(test_aucs, label=\"test auc\")\n",
        "plt.legend()\n",
        "plt.show()"
      ]
    },
    {
      "cell_type": "markdown",
      "metadata": {
        "id": "VuvTqriFkrJI"
      },
      "source": [
        "#### hidden_dim=16"
      ]
    },
    {
      "cell_type": "code",
      "execution_count": 58,
      "metadata": {
        "colab": {
          "base_uri": "https://localhost:8080/",
          "height": 816
        },
        "id": "w4Gj3OnaheAq",
        "outputId": "43995a11-a91f-45ed-a34c-3278fa4f0e98"
      },
      "outputs": [
        {
          "output_type": "stream",
          "name": "stderr",
          "text": [
            "Epoch 1: 100%|██████████| 1562/1562 [00:15<00:00, 103.51steps/s]\n"
          ]
        },
        {
          "output_type": "stream",
          "name": "stdout",
          "text": [
            "auc score  0.9541032366848379\n",
            "best auc 0.9541032366848379 achieved at epoch 1\n"
          ]
        },
        {
          "output_type": "stream",
          "name": "stderr",
          "text": [
            "Epoch 2: 100%|██████████| 1562/1562 [00:15<00:00, 103.16steps/s]\n"
          ]
        },
        {
          "output_type": "stream",
          "name": "stdout",
          "text": [
            "auc score  0.9561645292093358\n",
            "best auc 0.9561645292093358 achieved at epoch 2\n"
          ]
        },
        {
          "output_type": "stream",
          "name": "stderr",
          "text": [
            "Epoch 3: 100%|██████████| 1562/1562 [00:15<00:00, 103.45steps/s]\n"
          ]
        },
        {
          "output_type": "stream",
          "name": "stdout",
          "text": [
            "auc score  0.9567672500475268\n",
            "best auc 0.9567672500475268 achieved at epoch 3\n"
          ]
        },
        {
          "output_type": "stream",
          "name": "stderr",
          "text": [
            "Epoch 4: 100%|██████████| 1562/1562 [00:15<00:00, 102.65steps/s]\n"
          ]
        },
        {
          "output_type": "stream",
          "name": "stdout",
          "text": [
            "auc score  0.9569469902285823\n",
            "best auc 0.9569469902285823 achieved at epoch 4\n"
          ]
        },
        {
          "output_type": "stream",
          "name": "stderr",
          "text": [
            "Epoch 5: 100%|██████████| 1562/1562 [00:15<00:00, 103.33steps/s]\n"
          ]
        },
        {
          "output_type": "stream",
          "name": "stdout",
          "text": [
            "auc score  0.9570518686035754\n",
            "best auc 0.9570518686035754 achieved at epoch 5\n"
          ]
        },
        {
          "output_type": "stream",
          "name": "stderr",
          "text": [
            "Epoch 6: 100%|██████████| 1562/1562 [00:15<00:00, 103.67steps/s]\n"
          ]
        },
        {
          "output_type": "stream",
          "name": "stdout",
          "text": [
            "auc score  0.957136833980982\n",
            "best auc 0.957136833980982 achieved at epoch 6\n"
          ]
        },
        {
          "output_type": "stream",
          "name": "stderr",
          "text": [
            "Epoch 7: 100%|██████████| 1562/1562 [00:15<00:00, 103.34steps/s]\n"
          ]
        },
        {
          "output_type": "stream",
          "name": "stdout",
          "text": [
            "auc score  0.9572115192999829\n",
            "best auc 0.9572115192999829 achieved at epoch 7\n"
          ]
        },
        {
          "output_type": "stream",
          "name": "stderr",
          "text": [
            "Epoch 8: 100%|██████████| 1562/1562 [00:15<00:00, 103.52steps/s]\n"
          ]
        },
        {
          "output_type": "stream",
          "name": "stdout",
          "text": [
            "auc score  0.9572739231222012\n",
            "best auc 0.9572739231222012 achieved at epoch 8\n"
          ]
        },
        {
          "output_type": "stream",
          "name": "stderr",
          "text": [
            "Epoch 9: 100%|██████████| 1562/1562 [00:15<00:00, 103.62steps/s]\n"
          ]
        },
        {
          "output_type": "stream",
          "name": "stdout",
          "text": [
            "auc score  0.9573201339436161\n",
            "best auc 0.9573201339436161 achieved at epoch 9\n"
          ]
        },
        {
          "output_type": "stream",
          "name": "stderr",
          "text": [
            "Epoch 10: 100%|██████████| 1562/1562 [00:15<00:00, 103.51steps/s]\n"
          ]
        },
        {
          "output_type": "stream",
          "name": "stdout",
          "text": [
            "auc score  0.9573530331345496\n",
            "best auc 0.9573530331345496 achieved at epoch 10\n"
          ]
        },
        {
          "output_type": "display_data",
          "data": {
            "text/plain": [
              "<Figure size 432x288 with 1 Axes>"
            ],
            "image/png": "[encoded data removed]"
          },
          "metadata": {
            "needs_background": "light"
          }
        }
      ],
      "source": [
        "args =  {'input_dim': node_dim, 'hidden_dim': 16, 'output_dim': 16,\n",
        "         'num_hidden_layers': 0, 'dropout': 0.0, 'metric': 'cosine',\n",
        "         'epochs': 10,  'lr': 0.001, 'batch_size': 64, # half of actual batch size\n",
        "         }\n",
        "\n",
        "class objectview(object):\n",
        "    def __init__(self, d):\n",
        "        self.__dict__ = d\n",
        "\n",
        "args = objectview(args)\n",
        "\n",
        "# build model + optimizer\n",
        "# src <- outbound neighbor, tar <- outbound neighbor\n",
        "model = GraphSAGE(args.input_dim, args.hidden_dim, args.output_dim, adj_matrix_src2tar.to(device),\n",
        "            args.num_hidden_layers, args.dropout).to(device)\n",
        "# print(model)\n",
        "\n",
        "optimizer = torch.optim.Adam(model.parameters(), lr=args.lr)\n",
        "criterion = torch.nn.BCEWithLogitsLoss()\n",
        "\n",
        "# model.eval()\n",
        "# model(embs_matrix)\n",
        "\n",
        "# train\n",
        "metric = args.metric   # fc, l2 are worse then cosine\n",
        "losses = []\n",
        "test_aucs = []\n",
        "best_auc = 0\n",
        "best_model = []\n",
        "num_train_pairs = len(train_pos_edges_T[0])\n",
        "embs_matrix = embs_matrix.to(device)\n",
        "\n",
        "for epoch in range(1, args.epochs+1):\n",
        "    total_loss = 0\n",
        "    model.train()\n",
        "    \n",
        "    for i in trange(math.floor(num_train_pairs/args.batch_size), desc=\"Epoch {}\".format(epoch), unit=\"steps\"):\n",
        "        # list_index = args.batch_size*i:args.batch_size*(i+1)\n",
        "\n",
        "        source = F.normalize(model(embs_matrix, 'src'), dim=1)\n",
        "        target = F.normalize(model(embs_matrix, 'tar'), dim=1)\n",
        "\n",
        "        indices = range(args.batch_size*i, args.batch_size*(i+1))\n",
        "        pos_u = source[train_pos_edges_T[0][indices]]\n",
        "        pos_v = target[train_pos_edges_T[1][indices]]\n",
        "        pred_pos = (pos_u*pos_v).sum(dim=1)\n",
        "\n",
        "        neg_u = source[train_neg_edges_T[0][indices]]\n",
        "        neg_v = target[train_neg_edges_T[1][indices]]\n",
        "        pred_neg = (neg_u*neg_v).sum(dim=1)\n",
        "        \n",
        "        optimizer.zero_grad()\n",
        "        pred = torch.cat((pred_pos, pred_neg), dim=0)\n",
        "        label = torch.Tensor(args.batch_size*[1]+args.batch_size*[0]).to(device)\n",
        "        loss = criterion(pred, label)\n",
        "        loss.backward()\n",
        "        optimizer.step()\n",
        "        total_loss += loss.item() \n",
        "\n",
        "    total_loss /= num_train_pairs\n",
        "    losses.append(total_loss*100)\n",
        "\n",
        "    if epoch % 1 == 0:\n",
        "        test_auc = 0\n",
        "        model.eval()\n",
        "\n",
        "        with torch.no_grad():\n",
        "            source = F.normalize(model(embs_matrix, 'src'), dim=1)\n",
        "            target = F.normalize(model(embs_matrix, 'tar'), dim=1)\n",
        "\n",
        "            pos_u = source[valid_pos_edges_T[0]]\n",
        "            pos_v = target[valid_pos_edges_T[1]]\n",
        "            pred_pos = (pos_u*pos_v).sum(dim=1)\n",
        "\n",
        "            neg_u = source[valid_neg_edges_T[0]]\n",
        "            neg_v = target[valid_neg_edges_T[1]]\n",
        "            pred_neg = (neg_u*neg_v).sum(dim=1)\n",
        "        \n",
        "            pred = torch.cat((pred_pos, pred_neg), dim=0).to('cpu')\n",
        "            test_auc = roc_auc_score(valid_labels, pred)\n",
        "            test_aucs.append(test_auc)\n",
        "            print('auc score ', test_auc)\n",
        "\n",
        "        if test_auc > best_auc:\n",
        "            best_auc = test_auc\n",
        "            print('best auc {} achieved at epoch {}'.format(best_auc, epoch))\n",
        "            # best_model = copy.deepcopy(model)\n",
        "\n",
        "    else:\n",
        "        test_aucs.append(test_aucs[-1])\n",
        "\n",
        "plt.plot(losses, label=\"training loss\")\n",
        "plt.plot(test_aucs, label=\"test auc\")\n",
        "plt.legend()\n",
        "plt.show()\n"
      ]
    },
    {
      "cell_type": "markdown",
      "metadata": {
        "id": "J5jOkFVBk4gB"
      },
      "source": [
        "### src: in, tar: out"
      ]
    },
    {
      "cell_type": "code",
      "execution_count": 59,
      "metadata": {
        "colab": {
          "base_uri": "https://localhost:8080/",
          "height": 816
        },
        "id": "yR2-qxa3hpxd",
        "outputId": "4a9a458b-dcad-4fbb-d5ee-8cb9525db74d"
      },
      "outputs": [
        {
          "output_type": "stream",
          "name": "stderr",
          "text": [
            "Epoch 1: 100%|██████████| 1562/1562 [00:14<00:00, 111.44steps/s]\n"
          ]
        },
        {
          "output_type": "stream",
          "name": "stdout",
          "text": [
            "auc score  0.9554498204464446\n",
            "best auc 0.9554498204464446 achieved at epoch 1\n"
          ]
        },
        {
          "output_type": "stream",
          "name": "stderr",
          "text": [
            "Epoch 2: 100%|██████████| 1562/1562 [00:13<00:00, 112.81steps/s]\n"
          ]
        },
        {
          "output_type": "stream",
          "name": "stdout",
          "text": [
            "auc score  0.9563893023797156\n",
            "best auc 0.9563893023797156 achieved at epoch 2\n"
          ]
        },
        {
          "output_type": "stream",
          "name": "stderr",
          "text": [
            "Epoch 3: 100%|██████████| 1562/1562 [00:13<00:00, 112.82steps/s]\n"
          ]
        },
        {
          "output_type": "stream",
          "name": "stdout",
          "text": [
            "auc score  0.9567466811689465\n",
            "best auc 0.9567466811689465 achieved at epoch 3\n"
          ]
        },
        {
          "output_type": "stream",
          "name": "stderr",
          "text": [
            "Epoch 4: 100%|██████████| 1562/1562 [00:13<00:00, 113.07steps/s]\n"
          ]
        },
        {
          "output_type": "stream",
          "name": "stdout",
          "text": [
            "auc score  0.9569698559423235\n",
            "best auc 0.9569698559423235 achieved at epoch 4\n"
          ]
        },
        {
          "output_type": "stream",
          "name": "stderr",
          "text": [
            "Epoch 5: 100%|██████████| 1562/1562 [00:13<00:00, 112.70steps/s]\n"
          ]
        },
        {
          "output_type": "stream",
          "name": "stdout",
          "text": [
            "auc score  0.9571204544796673\n",
            "best auc 0.9571204544796673 achieved at epoch 5\n"
          ]
        },
        {
          "output_type": "stream",
          "name": "stderr",
          "text": [
            "Epoch 6: 100%|██████████| 1562/1562 [00:13<00:00, 112.62steps/s]\n"
          ]
        },
        {
          "output_type": "stream",
          "name": "stdout",
          "text": [
            "auc score  0.9572219082546606\n",
            "best auc 0.9572219082546606 achieved at epoch 6\n"
          ]
        },
        {
          "output_type": "stream",
          "name": "stderr",
          "text": [
            "Epoch 7: 100%|██████████| 1562/1562 [00:13<00:00, 112.72steps/s]\n"
          ]
        },
        {
          "output_type": "stream",
          "name": "stdout",
          "text": [
            "auc score  0.9572846162354314\n",
            "best auc 0.9572846162354314 achieved at epoch 7\n"
          ]
        },
        {
          "output_type": "stream",
          "name": "stderr",
          "text": [
            "Epoch 8: 100%|██████████| 1562/1562 [00:13<00:00, 111.58steps/s]\n"
          ]
        },
        {
          "output_type": "stream",
          "name": "stdout",
          "text": [
            "auc score  0.9573200913864525\n",
            "best auc 0.9573200913864525 achieved at epoch 8\n"
          ]
        },
        {
          "output_type": "stream",
          "name": "stderr",
          "text": [
            "Epoch 9: 100%|██████████| 1562/1562 [00:13<00:00, 112.73steps/s]\n"
          ]
        },
        {
          "output_type": "stream",
          "name": "stdout",
          "text": [
            "auc score  0.9573395450170067\n",
            "best auc 0.9573395450170067 achieved at epoch 9\n"
          ]
        },
        {
          "output_type": "stream",
          "name": "stderr",
          "text": [
            "Epoch 10: 100%|██████████| 1562/1562 [00:13<00:00, 112.60steps/s]\n"
          ]
        },
        {
          "output_type": "stream",
          "name": "stdout",
          "text": [
            "auc score  0.9573454667211729\n",
            "best auc 0.9573454667211729 achieved at epoch 10\n"
          ]
        },
        {
          "output_type": "display_data",
          "data": {
            "text/plain": [
              "<Figure size 432x288 with 1 Axes>"
            ],
            "image/png": "[encoded data removed]"
          },
          "metadata": {
            "needs_background": "light"
          }
        }
      ],
      "source": [
        "args =  {'input_dim': node_dim, 'hidden_dim': 32, 'output_dim': 16,\n",
        "         'num_hidden_layers': 0, 'dropout': 0.0, 'metric': 'cosine',\n",
        "         'epochs': 10,  'lr': 0.001, 'batch_size': 64, # half of actual batch size\n",
        "         }\n",
        "\n",
        "class objectview(object):\n",
        "    def __init__(self, d):\n",
        "        self.__dict__ = d\n",
        "\n",
        "args = objectview(args)\n",
        "\n",
        "# build model + optimizer\n",
        "# src <- inbound neighbor, tar <- outbound neighbor\n",
        "model = GraphSAGE(args.input_dim, args.hidden_dim, args.output_dim, adj_matrix_src2tar.to(device),\n",
        "            args.num_hidden_layers, args.dropout).to(device)\n",
        "# print(model)\n",
        "\n",
        "optimizer = torch.optim.Adam(model.parameters(), lr=args.lr)\n",
        "criterion = torch.nn.BCEWithLogitsLoss()\n",
        "\n",
        "# model.eval()\n",
        "# model(embs_matrix)\n",
        "\n",
        "# train\n",
        "metric = args.metric   # fc, l2 are worse then cosine\n",
        "losses = []\n",
        "test_aucs = []\n",
        "best_auc = 0\n",
        "best_model = []\n",
        "num_train_pairs = len(train_pos_edges_T[0])\n",
        "embs_matrix = embs_matrix.to(device)\n",
        "\n",
        "for epoch in range(1, args.epochs+1):\n",
        "    total_loss = 0\n",
        "    model.train()\n",
        "    \n",
        "    for i in trange(math.floor(num_train_pairs/args.batch_size), desc=\"Epoch {}\".format(epoch), unit=\"steps\"):\n",
        "        # list_index = args.batch_size*i:args.batch_size*(i+1)\n",
        "\n",
        "        source = F.normalize(model(embs_matrix, 'src'), dim=1)\n",
        "        target = F.normalize(model(embs_matrix, 'tar'), dim=1)\n",
        "\n",
        "        indices = range(args.batch_size*i, args.batch_size*(i+1))\n",
        "        pos_u = source[train_pos_edges_T[0][indices]]\n",
        "        pos_v = target[train_pos_edges_T[1][indices]]\n",
        "        pred_pos = (pos_u*pos_v).sum(dim=1)\n",
        "\n",
        "        neg_u = source[train_neg_edges_T[0][indices]]\n",
        "        neg_v = target[train_neg_edges_T[1][indices]]\n",
        "        pred_neg = (neg_u*neg_v).sum(dim=1)\n",
        "        \n",
        "        optimizer.zero_grad()\n",
        "        pred = torch.cat((pred_pos, pred_neg), dim=0)\n",
        "        label = torch.Tensor(args.batch_size*[1]+args.batch_size*[0]).to(device)\n",
        "        loss = criterion(pred, label)\n",
        "        loss.backward()\n",
        "        optimizer.step()\n",
        "        total_loss += loss.item() \n",
        "\n",
        "    total_loss /= num_train_pairs\n",
        "    losses.append(total_loss*100)\n",
        "\n",
        "    if epoch % 1 == 0:\n",
        "        test_auc = 0\n",
        "        model.eval()\n",
        "\n",
        "        with torch.no_grad():\n",
        "            source = F.normalize(model(embs_matrix, 'src'), dim=1)\n",
        "            target = F.normalize(model(embs_matrix, 'tar'), dim=1)\n",
        "\n",
        "            pos_u = source[valid_pos_edges_T[0]]\n",
        "            pos_v = target[valid_pos_edges_T[1]]\n",
        "            pred_pos = (pos_u*pos_v).sum(dim=1)\n",
        "\n",
        "            neg_u = source[valid_neg_edges_T[0]]\n",
        "            neg_v = target[valid_neg_edges_T[1]]\n",
        "            pred_neg = (neg_u*neg_v).sum(dim=1)\n",
        "        \n",
        "            pred = torch.cat((pred_pos, pred_neg), dim=0).to('cpu')\n",
        "            test_auc = roc_auc_score(valid_labels, pred)\n",
        "            test_aucs.append(test_auc)\n",
        "            print('auc score ', test_auc)\n",
        "\n",
        "        if test_auc > best_auc:\n",
        "            best_auc = test_auc\n",
        "            print('best auc {} achieved at epoch {}'.format(best_auc, epoch))\n",
        "            # best_model = copy.deepcopy(model)\n",
        "\n",
        "    else:\n",
        "        test_aucs.append(test_aucs[-1])\n",
        "\n",
        "plt.plot(losses, label=\"training loss\")\n",
        "plt.plot(test_aucs, label=\"test auc\")\n",
        "plt.legend()\n",
        "plt.show()\n"
      ]
    },
    {
      "cell_type": "markdown",
      "metadata": {
        "id": "9n1gwl-Qj-Aj"
      },
      "source": [
        "Previous run's result\n",
        "\n",
        "```\n",
        "Epoch 1: 100%|██████████| 1562/1562 [00:37<00:00, 41.44steps/s]\n",
        "auc score  0.9568289341530052\n",
        "best auc 0.9568289341530052 achieved at epoch 1\n",
        "Epoch 2: 100%|██████████| 1562/1562 [00:40<00:00, 38.11steps/s]\n",
        "auc score  0.9577462337905177\n",
        "best auc 0.9577462337905177 achieved at epoch 2\n",
        "Epoch 3: 100%|██████████| 1562/1562 [00:40<00:00, 38.79steps/s]\n",
        "auc score  0.9579914994869195\n",
        "best auc 0.9579914994869195 achieved at epoch 3\n",
        "```"
      ]
    },
    {
      "cell_type": "markdown",
      "metadata": {
        "id": "aQlWqqqDlBJi"
      },
      "source": [
        "### src: in, tar: in"
      ]
    },
    {
      "cell_type": "code",
      "execution_count": 60,
      "metadata": {
        "colab": {
          "base_uri": "https://localhost:8080/",
          "height": 541
        },
        "id": "wVdcCmmhjj6A",
        "outputId": "162b431e-3b49-44d7-bcf6-b4fbfe6636f3"
      },
      "outputs": [
        {
          "output_type": "stream",
          "name": "stderr",
          "text": [
            "Epoch 1: 100%|██████████| 1562/1562 [00:13<00:00, 112.64steps/s]\n"
          ]
        },
        {
          "output_type": "stream",
          "name": "stdout",
          "text": [
            "auc score  0.9555335616795532\n",
            "best auc 0.9555335616795532 achieved at epoch 1\n"
          ]
        },
        {
          "output_type": "stream",
          "name": "stderr",
          "text": [
            "Epoch 2: 100%|██████████| 1562/1562 [00:13<00:00, 112.88steps/s]\n"
          ]
        },
        {
          "output_type": "stream",
          "name": "stdout",
          "text": [
            "auc score  0.9565296546540486\n",
            "best auc 0.9565296546540486 achieved at epoch 2\n"
          ]
        },
        {
          "output_type": "stream",
          "name": "stderr",
          "text": [
            "Epoch 3: 100%|██████████| 1562/1562 [00:13<00:00, 112.91steps/s]\n"
          ]
        },
        {
          "output_type": "stream",
          "name": "stdout",
          "text": [
            "auc score  0.9569044305614799\n",
            "best auc 0.9569044305614799 achieved at epoch 3\n"
          ]
        },
        {
          "output_type": "stream",
          "name": "stderr",
          "text": [
            "Epoch 4: 100%|██████████| 1562/1562 [00:13<00:00, 112.81steps/s]\n"
          ]
        },
        {
          "output_type": "stream",
          "name": "stdout",
          "text": [
            "auc score  0.9570938512456046\n",
            "best auc 0.9570938512456046 achieved at epoch 4\n"
          ]
        },
        {
          "output_type": "stream",
          "name": "stderr",
          "text": [
            "Epoch 5: 100%|██████████| 1562/1562 [00:14<00:00, 111.26steps/s]\n"
          ]
        },
        {
          "output_type": "stream",
          "name": "stdout",
          "text": [
            "auc score  0.9571940383191361\n",
            "best auc 0.9571940383191361 achieved at epoch 5\n"
          ]
        },
        {
          "output_type": "display_data",
          "data": {
            "text/plain": [
              "<Figure size 432x288 with 1 Axes>"
            ],
            "image/png": "[encoded data removed]"
          },
          "metadata": {
            "needs_background": "light"
          }
        }
      ],
      "source": [
        "args =  {'input_dim': node_dim, 'hidden_dim': 32, 'output_dim': 16,\n",
        "         'num_hidden_layers': 0, 'dropout': 0.0, 'metric': 'cosine',\n",
        "         'epochs': 5,  'lr': 0.001, 'batch_size': 64, # half of actual batch size\n",
        "         }\n",
        "\n",
        "class objectview(object):\n",
        "    def __init__(self, d):\n",
        "        self.__dict__ = d\n",
        "\n",
        "args = objectview(args)\n",
        "\n",
        "# build model + optimizer\n",
        "# src <- outbound neighbor, tar <- bound neighbor\n",
        "model = GraphSAGE(args.input_dim, args.hidden_dim, args.output_dim, adj_matrix_src2tar.to(device),\n",
        "            args.num_hidden_layers, args.dropout).to(device)\n",
        "# print(model)\n",
        "\n",
        "optimizer = torch.optim.Adam(model.parameters(), lr=args.lr)\n",
        "criterion = torch.nn.BCEWithLogitsLoss()\n",
        "\n",
        "# model.eval()\n",
        "# model(embs_matrix)\n",
        "\n",
        "# train\n",
        "metric = args.metric   # fc, l2 are worse then cosine\n",
        "losses = []\n",
        "test_aucs = []\n",
        "best_auc = 0\n",
        "best_model = []\n",
        "num_train_pairs = len(train_pos_edges_T[0])\n",
        "embs_matrix = embs_matrix.to(device)\n",
        "\n",
        "for epoch in range(1, args.epochs+1):\n",
        "    total_loss = 0\n",
        "    model.train()\n",
        "    \n",
        "    for i in trange(math.floor(num_train_pairs/args.batch_size), desc=\"Epoch {}\".format(epoch), unit=\"steps\"):\n",
        "        # list_index = args.batch_size*i:args.batch_size*(i+1)\n",
        "\n",
        "        source = F.normalize(model(embs_matrix, 'src'), dim=1)\n",
        "        target = F.normalize(model(embs_matrix, 'tar'), dim=1)\n",
        "\n",
        "        indices = range(args.batch_size*i, args.batch_size*(i+1))\n",
        "        pos_u = source[train_pos_edges_T[0][indices]]\n",
        "        pos_v = target[train_pos_edges_T[1][indices]]\n",
        "        pred_pos = (pos_u*pos_v).sum(dim=1)\n",
        "\n",
        "        neg_u = source[train_neg_edges_T[0][indices]]\n",
        "        neg_v = target[train_neg_edges_T[1][indices]]\n",
        "        pred_neg = (neg_u*neg_v).sum(dim=1)\n",
        "        \n",
        "        optimizer.zero_grad()\n",
        "        pred = torch.cat((pred_pos, pred_neg), dim=0)\n",
        "        label = torch.Tensor(args.batch_size*[1]+args.batch_size*[0]).to(device)\n",
        "        loss = criterion(pred, label)\n",
        "        loss.backward()\n",
        "        optimizer.step()\n",
        "        total_loss += loss.item() \n",
        "\n",
        "    total_loss /= num_train_pairs\n",
        "    losses.append(total_loss*100)\n",
        "\n",
        "    if epoch % 1 == 0:\n",
        "        test_auc = 0\n",
        "        model.eval()\n",
        "\n",
        "        with torch.no_grad():\n",
        "            source = F.normalize(model(embs_matrix, 'src'), dim=1)\n",
        "            target = F.normalize(model(embs_matrix, 'tar'), dim=1)\n",
        "\n",
        "            pos_u = source[valid_pos_edges_T[0]]\n",
        "            pos_v = target[valid_pos_edges_T[1]]\n",
        "            pred_pos = (pos_u*pos_v).sum(dim=1)\n",
        "\n",
        "            neg_u = source[valid_neg_edges_T[0]]\n",
        "            neg_v = target[valid_neg_edges_T[1]]\n",
        "            pred_neg = (neg_u*neg_v).sum(dim=1)\n",
        "        \n",
        "            pred = torch.cat((pred_pos, pred_neg), dim=0).to('cpu')\n",
        "            test_auc = roc_auc_score(valid_labels, pred)\n",
        "            test_aucs.append(test_auc)\n",
        "            print('auc score ', test_auc)\n",
        "\n",
        "        if test_auc > best_auc:\n",
        "            best_auc = test_auc\n",
        "            print('best auc {} achieved at epoch {}'.format(best_auc, epoch))\n",
        "            # best_model = copy.deepcopy(model)\n",
        "\n",
        "    else:\n",
        "        test_aucs.append(test_aucs[-1])\n",
        "\n",
        "plt.plot(losses, label=\"training loss\")\n",
        "plt.plot(test_aucs, label=\"test auc\")\n",
        "plt.legend()\n",
        "plt.show()\n"
      ]
    },
    {
      "cell_type": "markdown",
      "metadata": {
        "id": "5UzOz4QklP7z"
      },
      "source": [
        "### src: out, tar: in"
      ]
    },
    {
      "cell_type": "code",
      "execution_count": 61,
      "metadata": {
        "colab": {
          "base_uri": "https://localhost:8080/",
          "height": 541
        },
        "id": "55-1FrCAlZH5",
        "outputId": "9cd8cdf5-52c5-4bd6-cdd2-4d12e22f49d8"
      },
      "outputs": [
        {
          "output_type": "stream",
          "name": "stderr",
          "text": [
            "Epoch 1: 100%|██████████| 1562/1562 [00:13<00:00, 112.27steps/s]\n"
          ]
        },
        {
          "output_type": "stream",
          "name": "stdout",
          "text": [
            "auc score  0.9554006381336555\n",
            "best auc 0.9554006381336555 achieved at epoch 1\n"
          ]
        },
        {
          "output_type": "stream",
          "name": "stderr",
          "text": [
            "Epoch 2: 100%|██████████| 1562/1562 [00:13<00:00, 112.65steps/s]\n"
          ]
        },
        {
          "output_type": "stream",
          "name": "stdout",
          "text": [
            "auc score  0.9564494606857058\n",
            "best auc 0.9564494606857058 achieved at epoch 2\n"
          ]
        },
        {
          "output_type": "stream",
          "name": "stderr",
          "text": [
            "Epoch 3: 100%|██████████| 1562/1562 [00:13<00:00, 112.68steps/s]\n"
          ]
        },
        {
          "output_type": "stream",
          "name": "stdout",
          "text": [
            "auc score  0.9568222326513978\n",
            "best auc 0.9568222326513978 achieved at epoch 3\n"
          ]
        },
        {
          "output_type": "stream",
          "name": "stderr",
          "text": [
            "Epoch 4: 100%|██████████| 1562/1562 [00:13<00:00, 112.51steps/s]\n"
          ]
        },
        {
          "output_type": "stream",
          "name": "stdout",
          "text": [
            "auc score  0.9570002505190028\n",
            "best auc 0.9570002505190028 achieved at epoch 4\n"
          ]
        },
        {
          "output_type": "stream",
          "name": "stderr",
          "text": [
            "Epoch 5: 100%|██████████| 1562/1562 [00:13<00:00, 112.69steps/s]\n"
          ]
        },
        {
          "output_type": "stream",
          "name": "stdout",
          "text": [
            "auc score  0.9571071603727239\n",
            "best auc 0.9571071603727239 achieved at epoch 5\n"
          ]
        },
        {
          "output_type": "display_data",
          "data": {
            "text/plain": [
              "<Figure size 432x288 with 1 Axes>"
            ],
            "image/png": "[encoded data removed]"
          },
          "metadata": {
            "needs_background": "light"
          }
        }
      ],
      "source": [
        "args =  {'input_dim': node_dim, 'hidden_dim': 32, 'output_dim': 16,\n",
        "         'num_hidden_layers': 0, 'dropout': 0.0, 'metric': 'cosine',\n",
        "         'epochs': 5,  'lr': 0.001, 'batch_size': 64, # half of actual batch size\n",
        "         }\n",
        "\n",
        "class objectview(object):\n",
        "    def __init__(self, d):\n",
        "        self.__dict__ = d\n",
        "\n",
        "args = objectview(args)\n",
        "\n",
        "# build model + optimizer\n",
        "# src <- outbound neighbor, tar <- bound neighbor\n",
        "model = GraphSAGE(args.input_dim, args.hidden_dim, args.output_dim, adj_matrix_src2tar.to(device),\n",
        "            args.num_hidden_layers, args.dropout).to(device)\n",
        "# print(model)\n",
        "\n",
        "optimizer = torch.optim.Adam(model.parameters(), lr=args.lr)\n",
        "criterion = torch.nn.BCEWithLogitsLoss()\n",
        "\n",
        "# model.eval()\n",
        "# model(embs_matrix)\n",
        "\n",
        "# train\n",
        "metric = args.metric   # fc, l2 are worse then cosine\n",
        "losses = []\n",
        "test_aucs = []\n",
        "best_auc = 0\n",
        "best_model = []\n",
        "num_train_pairs = len(train_pos_edges_T[0])\n",
        "embs_matrix = embs_matrix.to(device)\n",
        "\n",
        "for epoch in range(1, args.epochs+1):\n",
        "    total_loss = 0\n",
        "    model.train()\n",
        "    \n",
        "    for i in trange(math.floor(num_train_pairs/args.batch_size), desc=\"Epoch {}\".format(epoch), unit=\"steps\"):\n",
        "        # list_index = args.batch_size*i:args.batch_size*(i+1)\n",
        "\n",
        "        source = F.normalize(model(embs_matrix, 'src'), dim=1)\n",
        "        target = F.normalize(model(embs_matrix, 'tar'), dim=1)\n",
        "\n",
        "        indices = range(args.batch_size*i, args.batch_size*(i+1))\n",
        "        pos_u = source[train_pos_edges_T[0][indices]]\n",
        "        pos_v = target[train_pos_edges_T[1][indices]]\n",
        "        pred_pos = (pos_u*pos_v).sum(dim=1)\n",
        "\n",
        "        neg_u = source[train_neg_edges_T[0][indices]]\n",
        "        neg_v = target[train_neg_edges_T[1][indices]]\n",
        "        pred_neg = (neg_u*neg_v).sum(dim=1)\n",
        "        \n",
        "        optimizer.zero_grad()\n",
        "        pred = torch.cat((pred_pos, pred_neg), dim=0)\n",
        "        label = torch.Tensor(args.batch_size*[1]+args.batch_size*[0]).to(device)\n",
        "        loss = criterion(pred, label)\n",
        "        loss.backward()\n",
        "        optimizer.step()\n",
        "        total_loss += loss.item() \n",
        "\n",
        "    total_loss /= num_train_pairs\n",
        "    losses.append(total_loss*100)\n",
        "\n",
        "    if epoch % 1 == 0:\n",
        "        test_auc = 0\n",
        "        model.eval()\n",
        "\n",
        "        with torch.no_grad():\n",
        "            source = F.normalize(model(embs_matrix, 'src'), dim=1)\n",
        "            target = F.normalize(model(embs_matrix, 'tar'), dim=1)\n",
        "\n",
        "            pos_u = source[valid_pos_edges_T[0]]\n",
        "            pos_v = target[valid_pos_edges_T[1]]\n",
        "            pred_pos = (pos_u*pos_v).sum(dim=1)\n",
        "\n",
        "            neg_u = source[valid_neg_edges_T[0]]\n",
        "            neg_v = target[valid_neg_edges_T[1]]\n",
        "            pred_neg = (neg_u*neg_v).sum(dim=1)\n",
        "        \n",
        "            pred = torch.cat((pred_pos, pred_neg), dim=0).to('cpu')\n",
        "            test_auc = roc_auc_score(valid_labels, pred)\n",
        "            test_aucs.append(test_auc)\n",
        "            print('auc score ', test_auc)\n",
        "\n",
        "        if test_auc > best_auc:\n",
        "            best_auc = test_auc\n",
        "            print('best auc {} achieved at epoch {}'.format(best_auc, epoch))\n",
        "            # best_model = copy.deepcopy(model)\n",
        "\n",
        "    else:\n",
        "        test_aucs.append(test_aucs[-1])\n",
        "\n",
        "plt.plot(losses, label=\"training loss\")\n",
        "plt.plot(test_aucs, label=\"test auc\")\n",
        "plt.legend()\n",
        "plt.show()\n"
      ]
    },
    {
      "cell_type": "markdown",
      "metadata": {
        "id": "EvCpWz1zxW-X"
      },
      "source": [
        "### src: both in-out, tar: both in-out"
      ]
    },
    {
      "cell_type": "code",
      "execution_count": 62,
      "metadata": {
        "colab": {
          "base_uri": "https://localhost:8080/"
        },
        "id": "kE6ROhYTyBfe",
        "outputId": "8052e179-a2f7-447a-d441-efe1094ada67"
      },
      "outputs": [
        {
          "output_type": "execute_result",
          "data": {
            "text/plain": [
              "tensor([[0., 0., 0.,  ..., 0., 0., 0.],\n",
              "        [0., 0., 0.,  ..., 0., 0., 0.],\n",
              "        [0., 0., 0.,  ..., 0., 0., 0.],\n",
              "        ...,\n",
              "        [0., 0., 0.,  ..., 0., 0., 0.],\n",
              "        [0., 0., 0.,  ..., 0., 0., 0.],\n",
              "        [0., 0., 0.,  ..., 0., 0., 0.]])"
            ]
          },
          "metadata": {},
          "execution_count": 62
        }
      ],
      "source": [
        "adj_matrix_src2tar_both_di = torch.zeros(num_nodes, num_nodes)\n",
        "adj_matrix_src2tar_both_di[train_pos_edges_T[0], train_pos_edges_T[1]] = 1\n",
        "adj_matrix_src2tar_both_di[train_pos_edges_T[1], train_pos_edges_T[0]] = 1\n",
        "adj_matrix_src2tar_both_di.T"
      ]
    },
    {
      "cell_type": "code",
      "execution_count": 63,
      "metadata": {
        "colab": {
          "base_uri": "https://localhost:8080/"
        },
        "id": "gQmCrn1LyaO1",
        "outputId": "2c59ec30-a944-4f1d-b4ce-b845d8cdb22f"
      },
      "outputs": [
        {
          "output_type": "stream",
          "name": "stdout",
          "text": [
            "tensor(127826.) tensor(100000.)\n"
          ]
        }
      ],
      "source": [
        "print(sum(sum(adj_matrix_src2tar_both_di)),\n",
        "      sum(sum(adj_matrix_src2tar))\n",
        "      )"
      ]
    },
    {
      "cell_type": "code",
      "execution_count": 64,
      "metadata": {
        "colab": {
          "base_uri": "https://localhost:8080/",
          "height": 779
        },
        "id": "D51McoWrxcIV",
        "outputId": "2de93e95-65cc-494d-8d5b-5081cb0a3def"
      },
      "outputs": [
        {
          "output_type": "stream",
          "name": "stderr",
          "text": [
            "Epoch 1: 100%|██████████| 1562/1562 [00:13<00:00, 112.54steps/s]\n"
          ]
        },
        {
          "output_type": "stream",
          "name": "stdout",
          "text": [
            "auc score  0.954902601659858\n",
            "best auc 0.954902601659858 achieved at epoch 1\n"
          ]
        },
        {
          "output_type": "stream",
          "name": "stderr",
          "text": [
            "Epoch 2: 100%|██████████| 1562/1562 [00:14<00:00, 111.55steps/s]\n"
          ]
        },
        {
          "output_type": "stream",
          "name": "stdout",
          "text": [
            "auc score  0.9562641718015076\n",
            "best auc 0.9562641718015076 achieved at epoch 2\n"
          ]
        },
        {
          "output_type": "stream",
          "name": "stderr",
          "text": [
            "Epoch 3: 100%|██████████| 1562/1562 [00:13<00:00, 112.79steps/s]\n"
          ]
        },
        {
          "output_type": "stream",
          "name": "stdout",
          "text": [
            "auc score  0.956822819689921\n",
            "best auc 0.956822819689921 achieved at epoch 3\n"
          ]
        },
        {
          "output_type": "stream",
          "name": "stderr",
          "text": [
            "Epoch 4: 100%|██████████| 1562/1562 [00:13<00:00, 112.69steps/s]\n"
          ]
        },
        {
          "output_type": "stream",
          "name": "stdout",
          "text": [
            "auc score  0.9570813782415851\n",
            "best auc 0.9570813782415851 achieved at epoch 4\n"
          ]
        },
        {
          "output_type": "stream",
          "name": "stderr",
          "text": [
            "Epoch 5: 100%|██████████| 1562/1562 [00:13<00:00, 112.68steps/s]\n"
          ]
        },
        {
          "output_type": "stream",
          "name": "stdout",
          "text": [
            "auc score  0.9572087681045154\n",
            "best auc 0.9572087681045154 achieved at epoch 5\n"
          ]
        },
        {
          "output_type": "stream",
          "name": "stderr",
          "text": [
            "Epoch 6: 100%|██████████| 1562/1562 [00:13<00:00, 112.60steps/s]\n"
          ]
        },
        {
          "output_type": "stream",
          "name": "stdout",
          "text": [
            "auc score  0.9572705473377713\n",
            "best auc 0.9572705473377713 achieved at epoch 6\n"
          ]
        },
        {
          "output_type": "stream",
          "name": "stderr",
          "text": [
            "Epoch 7: 100%|██████████| 1562/1562 [00:13<00:00, 112.59steps/s]\n"
          ]
        },
        {
          "output_type": "stream",
          "name": "stdout",
          "text": [
            "auc score  0.9572998329248309\n",
            "best auc 0.9572998329248309 achieved at epoch 7\n"
          ]
        },
        {
          "output_type": "stream",
          "name": "stderr",
          "text": [
            "Epoch 8: 100%|██████████| 1562/1562 [00:13<00:00, 112.74steps/s]\n"
          ]
        },
        {
          "output_type": "stream",
          "name": "stdout",
          "text": [
            "auc score  0.9573097174519501\n",
            "best auc 0.9573097174519501 achieved at epoch 8\n"
          ]
        },
        {
          "output_type": "stream",
          "name": "stderr",
          "text": [
            "Epoch 9: 100%|██████████| 1562/1562 [00:14<00:00, 111.46steps/s]\n"
          ]
        },
        {
          "output_type": "stream",
          "name": "stdout",
          "text": [
            "auc score  0.9573088237515115\n"
          ]
        },
        {
          "output_type": "stream",
          "name": "stderr",
          "text": [
            "Epoch 10: 100%|██████████| 1562/1562 [00:13<00:00, 112.38steps/s]\n"
          ]
        },
        {
          "output_type": "stream",
          "name": "stdout",
          "text": [
            "auc score  0.9573004324801669\n"
          ]
        },
        {
          "output_type": "display_data",
          "data": {
            "text/plain": [
              "<Figure size 432x288 with 1 Axes>"
            ],
            "image/png": "[encoded data removed]"
          },
          "metadata": {
            "needs_background": "light"
          }
        }
      ],
      "source": [
        "args =  {'input_dim': node_dim, 'hidden_dim': 32, 'output_dim': 16,\n",
        "         'num_hidden_layers': 0, 'dropout': 0.0, 'metric': 'cosine',\n",
        "         'epochs': 10,  'lr': 0.001, 'batch_size': 64, # half of actual batch size\n",
        "         }\n",
        "\n",
        "class objectview(object):\n",
        "    def __init__(self, d):\n",
        "        self.__dict__ = d\n",
        "\n",
        "args = objectview(args)\n",
        "\n",
        "# build model + optimizer\n",
        "# src <- both neighbor, tar <- both neighbor\n",
        "model = GraphSAGE(args.input_dim, args.hidden_dim, args.output_dim, adj_matrix_src2tar_both_di.to(device),\n",
        "            args.num_hidden_layers, args.dropout).to(device)\n",
        "# print(model)\n",
        "\n",
        "optimizer = torch.optim.Adam(model.parameters(), lr=args.lr)\n",
        "criterion = torch.nn.BCEWithLogitsLoss()\n",
        "\n",
        "# model.eval()\n",
        "# model(embs_matrix)\n",
        "\n",
        "# train\n",
        "metric = args.metric   # fc, l2 are worse then cosine\n",
        "losses = []\n",
        "test_aucs = []\n",
        "best_auc = 0\n",
        "best_model = []\n",
        "num_train_pairs = len(train_pos_edges_T[0])\n",
        "embs_matrix = embs_matrix.to(device)\n",
        "\n",
        "for epoch in range(1, args.epochs+1):\n",
        "    total_loss = 0\n",
        "    model.train()\n",
        "    \n",
        "    for i in trange(math.floor(num_train_pairs/args.batch_size), desc=\"Epoch {}\".format(epoch), unit=\"steps\"):\n",
        "        # list_index = args.batch_size*i:args.batch_size*(i+1)\n",
        "\n",
        "        source = F.normalize(model(embs_matrix, 'src'), dim=1)\n",
        "        target = F.normalize(model(embs_matrix, 'tar'), dim=1)\n",
        "\n",
        "        indices = range(args.batch_size*i, args.batch_size*(i+1))\n",
        "        pos_u = source[train_pos_edges_T[0][indices]]\n",
        "        pos_v = target[train_pos_edges_T[1][indices]]\n",
        "        pred_pos = (pos_u*pos_v).sum(dim=1)\n",
        "\n",
        "        neg_u = source[train_neg_edges_T[0][indices]]\n",
        "        neg_v = target[train_neg_edges_T[1][indices]]\n",
        "        pred_neg = (neg_u*neg_v).sum(dim=1)\n",
        "        \n",
        "        optimizer.zero_grad()\n",
        "        pred = torch.cat((pred_pos, pred_neg), dim=0)\n",
        "        label = torch.Tensor(args.batch_size*[1]+args.batch_size*[0]).to(device)\n",
        "        loss = criterion(pred, label)\n",
        "        loss.backward()\n",
        "        optimizer.step()\n",
        "        total_loss += loss.item() \n",
        "\n",
        "    total_loss /= num_train_pairs\n",
        "    losses.append(total_loss*100)\n",
        "\n",
        "    if epoch % 1 == 0:\n",
        "        test_auc = 0\n",
        "        model.eval()\n",
        "\n",
        "        with torch.no_grad():\n",
        "            source = F.normalize(model(embs_matrix, 'src'), dim=1)\n",
        "            target = F.normalize(model(embs_matrix, 'tar'), dim=1)\n",
        "\n",
        "            pos_u = source[valid_pos_edges_T[0]]\n",
        "            pos_v = target[valid_pos_edges_T[1]]\n",
        "            pred_pos = (pos_u*pos_v).sum(dim=1)\n",
        "\n",
        "            neg_u = source[valid_neg_edges_T[0]]\n",
        "            neg_v = target[valid_neg_edges_T[1]]\n",
        "            pred_neg = (neg_u*neg_v).sum(dim=1)\n",
        "        \n",
        "            pred = torch.cat((pred_pos, pred_neg), dim=0).to('cpu')\n",
        "            test_auc = roc_auc_score(valid_labels, pred)\n",
        "            test_aucs.append(test_auc)\n",
        "            print('auc score ', test_auc)\n",
        "\n",
        "        if test_auc > best_auc:\n",
        "            best_auc = test_auc\n",
        "            print('best auc {} achieved at epoch {}'.format(best_auc, epoch))\n",
        "            # best_model = copy.deepcopy(model)\n",
        "\n",
        "    else:\n",
        "        test_aucs.append(test_aucs[-1])\n",
        "\n",
        "plt.plot(losses, label=\"training loss\")\n",
        "plt.plot(test_aucs, label=\"test auc\")\n",
        "plt.legend()\n",
        "plt.show()\n"
      ]
    },
    {
      "cell_type": "markdown",
      "metadata": {
        "id": "9weYnf0rzkI-"
      },
      "source": [
        "Previous run's result\n",
        "```\n",
        "Epoch 1: 100%|██████████| 1562/1562 [00:38<00:00, 40.66steps/s]\n",
        "auc score  0.9575397451803705\n",
        "best auc 0.9575397451803705 achieved at epoch 1\n",
        "Epoch 2: 100%|██████████| 1562/1562 [00:37<00:00, 41.70steps/s]\n",
        "auc score  0.9577850546856175\n",
        "best auc 0.9577850546856175 achieved at epoch 2\n",
        "Epoch 3: 100%|██████████| 1562/1562 [00:37<00:00, 41.78steps/s]\n",
        "auc score  0.9578927042829787\n",
        "best auc 0.9578927042829787 achieved at epoch 3\n",
        "Epoch 4: 100%|██████████| 1562/1562 [00:37<00:00, 41.54steps/s]\n",
        "auc score  0.9579827402212768\n",
        "best auc 0.9579827402212768 achieved at epoch 4\n",
        "Epoch 5: 100%|██████████| 1562/1562 [00:37<00:00, 41.91steps/s]\n",
        "auc score  0.9580494285485385\n",
        "best auc 0.9580494285485385 achieved at epoch 5\n",
        "```"
      ]
    },
    {
      "cell_type": "markdown",
      "metadata": {
        "id": "t6ytlXnIlP1w"
      },
      "source": [
        "### Prediction"
      ]
    },
    {
      "cell_type": "code",
      "source": [
        "data = \"https://raw.githubusercontent.com/VanHoann/Yelp_Dataset_Challenges/main/Link_Prediction/data\""
      ],
      "metadata": {
        "id": "eUAd0iOT5S88"
      },
      "execution_count": 68,
      "outputs": []
    },
    {
      "cell_type": "code",
      "execution_count": 70,
      "metadata": {
        "colab": {
          "base_uri": "https://localhost:8080/"
        },
        "id": "tNiETOhZTc59",
        "outputId": "02677903-a18d-4016-fb27-d4ada442ce9d"
      },
      "outputs": [
        {
          "output_type": "stream",
          "name": "stdout",
          "text": [
            "tensor([ 0.5531, -0.9839,  0.9895,  ...,  0.9646,  0.9163,  0.9823])\n"
          ]
        }
      ],
      "source": [
        "# prediction\n",
        "def get_test_scores(test_edges_T):\n",
        "    model.eval()\n",
        "    with torch.no_grad():\n",
        "        source = F.normalize(model(embs_matrix, 'src'), dim=1)\n",
        "        target = F.normalize(model(embs_matrix, 'tar'), dim=1)\n",
        "\n",
        "        u = source[test_edges_T[0]]\n",
        "        v = target[test_edges_T[1]]\n",
        "        pred = (u*v).sum(dim=1).to('cpu')\n",
        "    return pred\n",
        "\n",
        "# test_edges = load_test_data(test_file, uid2index)\n",
        "# test_edges_T = convert_str_edges_to_tensor(test_edges)\n",
        "scores = get_test_scores(test_edges_T)\n",
        "print(scores)\n",
        "\n",
        "# check the order of test_edges_T\n",
        "assert ind2uid[int(test_edges_T[0][0])] ==  'NfU0zDaTMEQ4-X9dbQWd9A'\n",
        "assert ind2uid[int(test_edges_T[1][20])] ==  'AOcBQ6FZAfeHX6P7JvwRcA'\n",
        "\n",
        "df = pd.read_csv(f'{data}/test.csv')\n",
        "df[\"score\"] = scores\n",
        "\n",
        "save_info = 'sage_src-afin_tar-afout_0.958'\n",
        "os.mkdir(f'data')\n",
        "os.mkdir(f'data/{save_info}')\n",
        "df.to_csv(f'data/{save_info}/pred.csv', index=False)\n",
        "torch.save(model.state_dict(), f'data/{save_info}/best_sage_checkpoint.pth')"
      ]
    },
    {
      "cell_type": "code",
      "execution_count": 71,
      "metadata": {
        "colab": {
          "base_uri": "https://localhost:8080/"
        },
        "id": "4XlY1WvxdXBL",
        "outputId": "a14f571c-8e14-4e77-f18a-297a787da8bf"
      },
      "outputs": [
        {
          "output_type": "execute_result",
          "data": {
            "text/plain": [
              "tensor([[0., 0., 0.,  ..., 0., 0., 0.],\n",
              "        [0., 0., 0.,  ..., 0., 0., 0.],\n",
              "        [0., 0., 0.,  ..., 0., 0., 0.],\n",
              "        ...,\n",
              "        [0., 0., 0.,  ..., 0., 0., 0.],\n",
              "        [0., 0., 0.,  ..., 0., 0., 0.],\n",
              "        [0., 0., 0.,  ..., 0., 0., 0.]], device='cuda:0')"
            ]
          },
          "metadata": {},
          "execution_count": 71
        }
      ],
      "source": [
        "# check the adj matrix, make sure that it is not updated by optimizer\n",
        "model.adj_matrix_src2tar"
      ]
    },
    {
      "cell_type": "markdown",
      "metadata": {
        "id": "G-ta3C59hAwu"
      },
      "source": [
        "## GAT-like MLP\n",
        "\n",
        "From GraphSAGE-like MLP, we add two more components `key` and `query` to facilitate attention mechanism.\n",
        "\n",
        "Comparing to GraphSAGE-like MLP, this model performs worse, under the setting (src: in, tar: out) achieving AUC score 0.9372 achieved at epoch 4/5. The reason can be the lack of training data, or need more training epochs. In future work, we will address this two possible issues."
      ]
    },
    {
      "cell_type": "code",
      "execution_count": 72,
      "metadata": {
        "id": "EPw1g0x5hAwv"
      },
      "outputs": [],
      "source": [
        "class GAT(nn.Module):\n",
        "    def __init__(self, input_dim, hidden_dim, output_dim, adj_matrix_src2tar,\n",
        "                 num_hidden_layers=1, dropout=0.1, device=device):\n",
        "        super(GAT, self).__init__()\n",
        "        # (linear + relu) x n\n",
        "        self.device = device\n",
        "        self.num_blocks = num_hidden_layers+1\n",
        "        self.dropout = dropout\n",
        "        self.hidden_dim = hidden_dim\n",
        "\n",
        "        self.adj_matrix_src2tar = adj_matrix_src2tar\n",
        "\n",
        "        self.lin_s = nn.ModuleList()\n",
        "        self.lin_t = nn.ModuleList()\n",
        "        self.lin_st = nn.ModuleList()\n",
        "        self.query = nn.ModuleList()\n",
        "        self.key = nn.ModuleList()\n",
        "\n",
        "        if num_hidden_layers > 0:\n",
        "            self.lin_s.append(nn.Linear(input_dim, hidden_dim))\n",
        "            self.lin_t.append(nn.Linear(input_dim, hidden_dim))\n",
        "            self.query.append(nn.Linear(input_dim, hidden_dim))\n",
        "            self.key.append(nn.Linear(input_dim, hidden_dim))\n",
        "            self.lin_st.append(nn.Linear(2*hidden_dim, hidden_dim))\n",
        "\n",
        "            for l in range(num_hidden_layers-1):\n",
        "                self.lin_s.append(nn.Linear(hidden_dim, hidden_dim))\n",
        "                self.lin_t.append(nn.Linear(hidden_dim, hidden_dim))\n",
        "                self.query.append(nn.Linear(hidden_dim, hidden_dim))\n",
        "                self.key.append(nn.Linear(hidden_dim, hidden_dim))\n",
        "                self.lin_st.append(nn.Linear(2*hidden_dim, hidden_dim))\n",
        "\n",
        "            self.lin_s.append(nn.Linear(hidden_dim, hidden_dim))\n",
        "            self.lin_t.append(nn.Linear(hidden_dim, hidden_dim))\n",
        "            self.query.append(nn.Linear(hidden_dim, hidden_dim))\n",
        "            self.key.append(nn.Linear(hidden_dim, hidden_dim))\n",
        "            self.lin_st.append(nn.Linear(2*hidden_dim, output_dim))\n",
        "\n",
        "        else:\n",
        "            self.lin_s.append(nn.Linear(input_dim, hidden_dim))\n",
        "            self.lin_t.append(nn.Linear(input_dim, hidden_dim))\n",
        "            self.query.append(nn.Linear(input_dim, hidden_dim))\n",
        "            self.key.append(nn.Linear(input_dim, hidden_dim))\n",
        "            self.lin_st.append(nn.Linear(2*hidden_dim, output_dim))\n",
        "\n",
        "        self.reset_parameters()\n",
        "\n",
        "    def reset_parameters(self):\n",
        "        for i in range(self.num_blocks):\n",
        "            self.lin_s[i].reset_parameters() \n",
        "            self.lin_t[i].reset_parameters() \n",
        "            self.query[i].reset_parameters() \n",
        "            self.key[i].reset_parameters() \n",
        "            self.lin_st[i].reset_parameters()\n",
        "\n",
        "    def forward(self, x, src_or_tar='src', kernel='sum'):\n",
        "        assert x.shape[0] == self.adj_matrix_src2tar.shape[0], \\\n",
        "            \"in whole-batch update, x must be embs_matrix\"\n",
        "        x = x.to(self.device)\n",
        "\n",
        "        for i in range(self.num_blocks):\n",
        "            source = self.lin_s[i](x)\n",
        "            target = self.lin_t[i](x)\n",
        "            query = self.query[i](x)\n",
        "            key = self.key[i](x)\n",
        "            attention_matrix = torch.matmul(query, key.T)/math.sqrt(self.hidden_dim)\n",
        "            attention_matrix = self.adj_matrix_src2tar*attention_matrix\n",
        "            attention_matrix = F.normalize(attention_matrix, p=1)\n",
        "\n",
        "            # non-edge entry in attention matrix must be set back to 0.\n",
        "            # self.adj_matrix_src2tar*attention_matrix ~ attend to focused (src or tar) node,\n",
        "            # not what I think. But what I think is not practicable\n",
        "\n",
        "            if src_or_tar=='src':\n",
        "                aggreg = torch.matmul(attention_matrix.T, target)\n",
        "                temp = torch.cat((source, aggreg), dim=1)\n",
        "                # don't use tanh()\n",
        "                x = self.lin_st[i](temp)\n",
        "            elif src_or_tar=='tar':\n",
        "                aggreg = torch.matmul(attention_matrix, source)\n",
        "                temp = torch.cat((target, aggreg), dim=1)\n",
        "                # don't use tanh()\n",
        "                x = self.lin_st[i](temp)\n",
        "            else:\n",
        "                raise NotImplementedError\n",
        "\n",
        "            # x = F.dropout(x, p=self.dropout, training=self.training)\n",
        "\n",
        "        return x\n"
      ]
    },
    {
      "cell_type": "code",
      "execution_count": 73,
      "metadata": {
        "colab": {
          "base_uri": "https://localhost:8080/",
          "height": 945
        },
        "id": "1qHUsJRlhAw0",
        "outputId": "05eb62f5-018b-4e69-f59e-252f920139dc"
      },
      "outputs": [
        {
          "output_type": "stream",
          "name": "stdout",
          "text": [
            "GAT(\n",
            "  (lin_s): ModuleList(\n",
            "    (0): Linear(in_features=10, out_features=32, bias=True)\n",
            "    (1): Linear(in_features=32, out_features=32, bias=True)\n",
            "  )\n",
            "  (lin_t): ModuleList(\n",
            "    (0): Linear(in_features=10, out_features=32, bias=True)\n",
            "    (1): Linear(in_features=32, out_features=32, bias=True)\n",
            "  )\n",
            "  (lin_st): ModuleList(\n",
            "    (0): Linear(in_features=64, out_features=32, bias=True)\n",
            "    (1): Linear(in_features=64, out_features=16, bias=True)\n",
            "  )\n",
            "  (query): ModuleList(\n",
            "    (0): Linear(in_features=10, out_features=32, bias=True)\n",
            "    (1): Linear(in_features=32, out_features=32, bias=True)\n",
            "  )\n",
            "  (key): ModuleList(\n",
            "    (0): Linear(in_features=10, out_features=32, bias=True)\n",
            "    (1): Linear(in_features=32, out_features=32, bias=True)\n",
            "  )\n",
            ")\n"
          ]
        },
        {
          "output_type": "stream",
          "name": "stderr",
          "text": [
            "Epoch 1: 100%|██████████| 390/390 [01:14<00:00,  5.24steps/s]\n"
          ]
        },
        {
          "output_type": "stream",
          "name": "stdout",
          "text": [
            "auc score  0.9242181218261446\n",
            "best auc 0.9242181218261446 achieved at epoch 1\n"
          ]
        },
        {
          "output_type": "stream",
          "name": "stderr",
          "text": [
            "Epoch 2: 100%|██████████| 390/390 [01:14<00:00,  5.26steps/s]\n"
          ]
        },
        {
          "output_type": "stream",
          "name": "stdout",
          "text": [
            "auc score  0.9299696599215239\n",
            "best auc 0.9299696599215239 achieved at epoch 2\n"
          ]
        },
        {
          "output_type": "stream",
          "name": "stderr",
          "text": [
            "Epoch 3: 100%|██████████| 390/390 [01:14<00:00,  5.27steps/s]\n"
          ]
        },
        {
          "output_type": "stream",
          "name": "stdout",
          "text": [
            "auc score  0.937319781520233\n",
            "best auc 0.937319781520233 achieved at epoch 3\n"
          ]
        },
        {
          "output_type": "stream",
          "name": "stderr",
          "text": [
            "Epoch 4: 100%|██████████| 390/390 [01:14<00:00,  5.27steps/s]\n"
          ]
        },
        {
          "output_type": "stream",
          "name": "stdout",
          "text": [
            "auc score  0.9405797053232337\n",
            "best auc 0.9405797053232337 achieved at epoch 4\n"
          ]
        },
        {
          "output_type": "stream",
          "name": "stderr",
          "text": [
            "Epoch 5: 100%|██████████| 390/390 [01:14<00:00,  5.27steps/s]\n"
          ]
        },
        {
          "output_type": "stream",
          "name": "stdout",
          "text": [
            "auc score  0.945473356085044\n",
            "best auc 0.945473356085044 achieved at epoch 5\n"
          ]
        },
        {
          "output_type": "display_data",
          "data": {
            "text/plain": [
              "<Figure size 432x288 with 1 Axes>"
            ],
            "image/png": "[encoded data removed]"
          },
          "metadata": {
            "needs_background": "light"
          }
        }
      ],
      "source": [
        "args =  {'input_dim': node_dim, 'hidden_dim': 32, 'output_dim': 16,\n",
        "         'num_hidden_layers': 1, 'dropout': 0.0, 'metric': 'cosine',\n",
        "         'epochs': 5,  'lr': 0.001, 'batch_size': 256, # half of actual batch size\n",
        "         }\n",
        "\n",
        "class objectview(object):\n",
        "    def __init__(self, d):\n",
        "        self.__dict__ = d\n",
        "\n",
        "args = objectview(args)\n",
        "\n",
        "# build model + optimizer\n",
        "model_gat = GAT(args.input_dim, args.hidden_dim, args.output_dim, adj_matrix_src2tar.to(device),\n",
        "            args.num_hidden_layers, args.dropout).to(device)\n",
        "print(model_gat)\n",
        "\n",
        "optimizer = torch.optim.Adam(model_gat.parameters(), lr=args.lr)\n",
        "criterion = torch.nn.BCEWithLogitsLoss()\n",
        "\n",
        "# model.eval()\n",
        "# model(embs_matrix)\n",
        "\n",
        "\n",
        "from tqdm import trange\n",
        "import math\n",
        "\n",
        "# train\n",
        "metric = args.metric   # fc, l2 are worse then cosine\n",
        "losses = []\n",
        "test_aucs = []\n",
        "best_auc = 0\n",
        "best_model_gat = []\n",
        "num_train_pairs = len(train_pos_edges_T[0])\n",
        "embs_matrix = embs_matrix.to(device)\n",
        "\n",
        "# 9:28pm starting from epoch 11, train to epoch 20, let see there are an improvement\n",
        "for epoch in range(1, args.epochs+1):\n",
        "    total_loss = 0\n",
        "    model_gat.train()\n",
        "    \n",
        "    for i in trange(math.floor(num_train_pairs/args.batch_size), desc=\"Epoch {}\".format(epoch), unit=\"steps\"):\n",
        "        # list_index = args.batch_size*i:args.batch_size*(i+1)\n",
        "\n",
        "        source = F.normalize(model_gat(embs_matrix, 'src'), dim=1)\n",
        "        target = F.normalize(model_gat(embs_matrix, 'tar'), dim=1)\n",
        "\n",
        "        indices = range(args.batch_size*i, args.batch_size*(i+1))\n",
        "        pos_u = source[train_pos_edges_T[0][indices]]\n",
        "        pos_v = target[train_pos_edges_T[1][indices]]\n",
        "        pred_pos = (pos_u*pos_v).sum(dim=1)\n",
        "\n",
        "        neg_u = source[train_neg_edges_T[0][indices]]\n",
        "        neg_v = target[train_neg_edges_T[1][indices]]\n",
        "        pred_neg = (neg_u*neg_v).sum(dim=1)\n",
        "        \n",
        "        optimizer.zero_grad()\n",
        "        pred = torch.cat((pred_pos, pred_neg), dim=0)\n",
        "        label = torch.Tensor(args.batch_size*[1]+args.batch_size*[0]).to(device)\n",
        "        loss = criterion(pred, label)\n",
        "        loss.backward()\n",
        "        optimizer.step()\n",
        "        total_loss += loss.item() \n",
        "\n",
        "    total_loss /= num_train_pairs\n",
        "    losses.append(total_loss*100)\n",
        "\n",
        "    if epoch % 1 == 0:\n",
        "        test_auc = 0\n",
        "        model_gat.eval()\n",
        "\n",
        "        with torch.no_grad():\n",
        "            source = F.normalize(model_gat(embs_matrix, 'src'), dim=1)\n",
        "            target = F.normalize(model_gat(embs_matrix, 'tar'), dim=1)\n",
        "\n",
        "            pos_u = source[valid_pos_edges_T[0]]\n",
        "            pos_v = target[valid_pos_edges_T[1]]\n",
        "            pred_pos = (pos_u*pos_v).sum(dim=1)\n",
        "\n",
        "            neg_u = source[valid_neg_edges_T[0]]\n",
        "            neg_v = target[valid_neg_edges_T[1]]\n",
        "            pred_neg = (neg_u*neg_v).sum(dim=1)\n",
        "        \n",
        "            pred = torch.cat((pred_pos, pred_neg), dim=0).to('cpu')\n",
        "            test_auc = roc_auc_score(valid_labels, pred)\n",
        "            test_aucs.append(test_auc)\n",
        "            print('auc score ', test_auc)\n",
        "\n",
        "        if test_auc > best_auc:\n",
        "            best_auc = test_auc\n",
        "            print('best auc {} achieved at epoch {}'.format(best_auc, epoch))\n",
        "            # best_model_gat = copy.deepcopy(model_gat)\n",
        "\n",
        "    else:\n",
        "        test_aucs.append(test_aucs[-1])\n",
        "\n",
        "plt.plot(losses, label=\"training loss\")\n",
        "plt.plot(test_aucs, label=\"test auc\")\n",
        "plt.legend()\n",
        "plt.show()\n"
      ]
    },
    {
      "cell_type": "code",
      "execution_count": 74,
      "metadata": {
        "id": "ObcHqu55hAw2"
      },
      "outputs": [],
      "source": [
        "# prediction\n",
        "def get_test_scores(test_edges_T):\n",
        "    model.eval()\n",
        "    with torch.no_grad():\n",
        "        source = F.normalize(model(embs_matrix, 'src'), dim=1)\n",
        "        target = F.normalize(model(embs_matrix, 'tar'), dim=1)\n",
        "\n",
        "        u = source[test_edges_T[0]]\n",
        "        v = target[test_edges_T[1]]\n",
        "        pred = (u*v).sum(dim=1).to('cpu')\n",
        "    return pred\n",
        "\n",
        "test_edges = load_test_data(test_file, uid2index)\n",
        "test_edges_T = convert_str_edges_to_tensor(test_edges)\n",
        "scores = get_test_scores(test_edges_T)\n",
        "\n",
        "# check the order of test_edges_T\n",
        "assert ind2uid[int(test_edges_T[0][0])] ==  'NfU0zDaTMEQ4-X9dbQWd9A'\n",
        "assert ind2uid[int(test_edges_T[1][20])] ==  'AOcBQ6FZAfeHX6P7JvwRcA'"
      ]
    },
    {
      "cell_type": "code",
      "source": [
        "scores"
      ],
      "metadata": {
        "colab": {
          "base_uri": "https://localhost:8080/"
        },
        "id": "SZBNo_rnDiRp",
        "outputId": "a99d427f-8225-47d2-d96e-d3696d6689ed"
      },
      "execution_count": 79,
      "outputs": [
        {
          "output_type": "execute_result",
          "data": {
            "text/plain": [
              "tensor([ 0.5531, -0.9839,  0.9895,  ...,  0.9646,  0.9163,  0.9823])"
            ]
          },
          "metadata": {},
          "execution_count": 79
        }
      ]
    },
    {
      "cell_type": "code",
      "execution_count": 81,
      "metadata": {
        "colab": {
          "base_uri": "https://localhost:8080/"
        },
        "id": "WLOrMdqIhAw2",
        "outputId": "9c195f2f-f441-44a5-cdba-d93b1ce7c2ed"
      },
      "outputs": [
        {
          "output_type": "stream",
          "name": "stdout",
          "text": [
            "tensor([ 0.5531, -0.9839,  0.9895,  ...,  0.9646,  0.9163,  0.9823])\n"
          ]
        }
      ],
      "source": [
        "torch.save(model.state_dict(), 'data/best_gat_checkpoint.pth')\n",
        "print(scores)\n",
        "\n",
        "# why do we have negative numbers here?? it is supposed to lie b/w 0 and 1?\n",
        "# no, don't need that: \"This is possible because the implementation only requires that the y_true can be sorted according to the y_score.\"\n",
        "# https://datascience.stackexchange.com/questions/40940/why-is-sklearn-metrics-roc-auc-score-seemingly-able-to-accept-scores-on-any-sc"
      ]
    },
    {
      "cell_type": "markdown",
      "source": [
        "# Legacy"
      ],
      "metadata": {
        "id": "sUCiA0Q_ETDF"
      }
    },
    {
      "cell_type": "markdown",
      "metadata": {
        "id": "l2VET_UXEPvW"
      },
      "source": [
        "## GNN (compatibility issue)\n",
        "\n",
        "We apply Graph Deep Neural Network (GraphSAGE, GAT, ..), and expect an improvement. \n",
        "\n",
        "We can use [DGL](https://docs.dgl.ai/en/0.7.x/tutorials/blitz/4_link_predict.html), but we prefer PyTorch Geometric (a [sample](https://github.com/Orbifold/pyg-link-prediction/blob/main/Pokec-Pyg-Neo4j.ipynb))\n",
        "\n",
        "BIG TROUBLE: On Apr26, 2022, Google Colab environment starts with PyTorch has version 1.11.0+cu113, while PyG is not yet up to date\n",
        "\n",
        "https://datascience.stackexchange.com/questions/56694/how-to-use-graph-neural-network-to-predict-relationships-between-nodes-with-pyto"
      ]
    },
    {
      "cell_type": "code",
      "execution_count": 1,
      "metadata": {
        "colab": {
          "base_uri": "https://localhost:8080/"
        },
        "id": "gGrJAs9iLSc0",
        "outputId": "5bd0f316-9be8-4555-ee05-969502a648ae"
      },
      "outputs": [
        {
          "output_type": "stream",
          "name": "stdout",
          "text": [
            "PyTorch has version 1.10.1+cu111\n"
          ]
        }
      ],
      "source": [
        "import torch\n",
        "print(\"PyTorch has version {}\".format(torch.__version__))"
      ]
    },
    {
      "cell_type": "code",
      "execution_count": 2,
      "metadata": {
        "id": "5yc0m9iuLWMK",
        "colab": {
          "base_uri": "https://localhost:8080/"
        },
        "outputId": "21cb08d1-65d4-4c7b-fc3b-7c1f3c5158c6"
      },
      "outputs": [
        {
          "output_type": "stream",
          "name": "stdout",
          "text": [
            "Looking in indexes: https://pypi.org/simple, https://us-python.pkg.dev/colab-wheels/public/simple/\n",
            "Looking in links: https://download.pytorch.org/whl/torch_stable.html\n",
            "Requirement already satisfied: torch==1.10.1+cu111 in /usr/local/lib/python3.7/dist-packages (1.10.1+cu111)\n",
            "Requirement already satisfied: torchvision==0.11.2+cu111 in /usr/local/lib/python3.7/dist-packages (0.11.2+cu111)\n",
            "Requirement already satisfied: torchaudio==0.10.1 in /usr/local/lib/python3.7/dist-packages (0.10.1+rocm4.1)\n",
            "Requirement already satisfied: typing-extensions in /usr/local/lib/python3.7/dist-packages (from torch==1.10.1+cu111) (4.1.1)\n",
            "Requirement already satisfied: pillow!=8.3.0,>=5.3.0 in /usr/local/lib/python3.7/dist-packages (from torchvision==0.11.2+cu111) (7.1.2)\n",
            "Requirement already satisfied: numpy in /usr/local/lib/python3.7/dist-packages (from torchvision==0.11.2+cu111) (1.21.6)\n",
            "Looking in indexes: https://pypi.org/simple, https://us-python.pkg.dev/colab-wheels/public/simple/\n",
            "Looking in links: https://data.pyg.org/whl/torch-1.10.0+cu111.html\n",
            "Requirement already satisfied: torch-scatter in /usr/local/lib/python3.7/dist-packages (2.0.9)\n",
            "Looking in indexes: https://pypi.org/simple, https://us-python.pkg.dev/colab-wheels/public/simple/\n",
            "Looking in links: https://data.pyg.org/whl/torch-1.10.0+cu111.html\n",
            "Collecting torch-sparse\n",
            "  Using cached torch_sparse-0.6.15.tar.gz (2.1 MB)\n",
            "Requirement already satisfied: scipy in /usr/local/lib/python3.7/dist-packages (from torch-sparse) (1.7.3)\n",
            "Requirement already satisfied: numpy<1.23.0,>=1.16.5 in /usr/local/lib/python3.7/dist-packages (from scipy->torch-sparse) (1.21.6)\n",
            "Building wheels for collected packages: torch-sparse\n",
            "  Building wheel for torch-sparse (setup.py) ... \u001b[?25l\u001b[?25hdone\n",
            "  Created wheel for torch-sparse: filename=torch_sparse-0.6.15-cp37-cp37m-linux_x86_64.whl size=1790312 sha256=47d1a9a5a7065138111754fd9f313c28a7614852f1f2de20ec7f7d5123f6565a\n",
            "  Stored in directory: /root/.cache/pip/wheels/15/68/4d/1414be5c2c622bad35364e13213180797717b6d4b8923936dc\n",
            "Successfully built torch-sparse\n",
            "Installing collected packages: torch-sparse\n",
            "Successfully installed torch-sparse-0.6.15\n",
            "Looking in indexes: https://pypi.org/simple, https://us-python.pkg.dev/colab-wheels/public/simple/\n",
            "Collecting torch-geometric\n",
            "  Using cached torch_geometric-2.1.0.post1.tar.gz (467 kB)\n",
            "Requirement already satisfied: tqdm in /usr/local/lib/python3.7/dist-packages (from torch-geometric) (4.64.0)\n",
            "Requirement already satisfied: numpy in /usr/local/lib/python3.7/dist-packages (from torch-geometric) (1.21.6)\n",
            "Requirement already satisfied: scipy in /usr/local/lib/python3.7/dist-packages (from torch-geometric) (1.7.3)\n",
            "Requirement already satisfied: jinja2 in /usr/local/lib/python3.7/dist-packages (from torch-geometric) (2.11.3)\n",
            "Requirement already satisfied: requests in /usr/local/lib/python3.7/dist-packages (from torch-geometric) (2.23.0)\n",
            "Requirement already satisfied: pyparsing in /usr/local/lib/python3.7/dist-packages (from torch-geometric) (3.0.9)\n",
            "Requirement already satisfied: scikit-learn in /usr/local/lib/python3.7/dist-packages (from torch-geometric) (1.0.2)\n",
            "Requirement already satisfied: MarkupSafe>=0.23 in /usr/local/lib/python3.7/dist-packages (from jinja2->torch-geometric) (2.0.1)\n",
            "Requirement already satisfied: urllib3!=1.25.0,!=1.25.1,<1.26,>=1.21.1 in /usr/local/lib/python3.7/dist-packages (from requests->torch-geometric) (1.24.3)\n",
            "Requirement already satisfied: idna<3,>=2.5 in /usr/local/lib/python3.7/dist-packages (from requests->torch-geometric) (2.10)\n",
            "Requirement already satisfied: certifi>=2017.4.17 in /usr/local/lib/python3.7/dist-packages (from requests->torch-geometric) (2022.6.15)\n",
            "Requirement already satisfied: chardet<4,>=3.0.2 in /usr/local/lib/python3.7/dist-packages (from requests->torch-geometric) (3.0.4)\n",
            "Requirement already satisfied: joblib>=0.11 in /usr/local/lib/python3.7/dist-packages (from scikit-learn->torch-geometric) (1.1.0)\n",
            "Requirement already satisfied: threadpoolctl>=2.0.0 in /usr/local/lib/python3.7/dist-packages (from scikit-learn->torch-geometric) (3.1.0)\n",
            "Building wheels for collected packages: torch-geometric\n",
            "  Building wheel for torch-geometric (setup.py) ... \u001b[?25l\u001b[?25hdone\n",
            "  Created wheel for torch-geometric: filename=torch_geometric-2.1.0.post1-py3-none-any.whl size=689859 sha256=f560191be2c3ee173631c6d557ac6feef2b9b21dfa81e871aa82b0cc55e1f35a\n",
            "  Stored in directory: /root/.cache/pip/wheels/d1/cb/43/f7f2e472de4d7cff31bceddadc36d634e1e545fbc17961c282\n",
            "Successfully built torch-geometric\n",
            "Installing collected packages: torch-geometric\n",
            "Successfully installed torch-geometric-2.1.0.post1\n",
            "  Building wheel for deepsnap (setup.py) ... \u001b[?25l\u001b[?25hdone\n"
          ]
        }
      ],
      "source": [
        "!pip install torch==1.10.1+cu111 torchvision==0.11.2+cu111 torchaudio==0.10.1 -f https://download.pytorch.org/whl/torch_stable.html\n",
        "!pip install torch-scatter -f https://data.pyg.org/whl/torch-1.10.0+cu111.html\n",
        "!pip install torch-sparse -f https://data.pyg.org/whl/torch-1.10.0+cu111.html\n",
        "!pip install torch-geometric\n",
        "!pip install -q git+https://github.com/snap-stanford/deepsnap.git"
      ]
    },
    {
      "cell_type": "markdown",
      "metadata": {
        "id": "-JtbOmsorcwh"
      },
      "source": [
        "## Building GNN model"
      ]
    },
    {
      "cell_type": "code",
      "execution_count": 3,
      "metadata": {
        "id": "kPrMJK8VtRd6"
      },
      "outputs": [],
      "source": [
        "import torch\n",
        "import torch_scatter\n",
        "import torch.nn as nn\n",
        "import torch.nn.functional as F\n",
        "\n",
        "import torch_geometric.nn as pyg_nn\n",
        "import torch_geometric.utils as pyg_utils\n",
        "\n",
        "from torch import Tensor\n",
        "from typing import Union, Tuple, Optional\n",
        "from torch_geometric.typing import (OptPairTensor, Adj, Size, NoneType,\n",
        "                                    OptTensor)\n",
        "\n",
        "from torch.nn import Parameter, Linear\n",
        "from torch_sparse import SparseTensor, set_diag\n",
        "from torch_geometric.nn.conv import MessagePassing\n",
        "from torch_geometric.utils import remove_self_loops, add_self_loops, softmax, degree"
      ]
    },
    {
      "cell_type": "code",
      "execution_count": 4,
      "metadata": {
        "id": "B0rK7wdilqo6"
      },
      "outputs": [],
      "source": [
        "class GNNStack(torch.nn.Module):\n",
        "    def __init__(self, input_dim, hidden_dim, output_dim, args, emb=False):\n",
        "        super(GNNStack, self).__init__()\n",
        "        conv_model = self.build_conv_model(args.model_type)\n",
        "        self.convs = nn.ModuleList()\n",
        "        self.convs.append(conv_model(input_dim, hidden_dim, args))\n",
        "        assert (args.num_layers >= 1), 'Number of layers is not >=1'\n",
        "        for l in range(args.num_layers-1):\n",
        "            self.convs.append(conv_model(args.heads * hidden_dim, hidden_dim, args))\n",
        "\n",
        "        # post-message-passing\n",
        "        self.post_mp = nn.Sequential(\n",
        "            nn.Linear(args.heads * hidden_dim, hidden_dim), nn.Dropout(args.dropout), \n",
        "            nn.Linear(hidden_dim, output_dim)\n",
        "        )\n",
        "\n",
        "        self.dropout = args.dropout\n",
        "        self.num_layers = args.num_layers\n",
        "\n",
        "        self.emb = emb\n",
        "\n",
        "    def build_conv_model(self, model_type):\n",
        "        if model_type == 'GraphSage':\n",
        "            return GraphSage\n",
        "        elif model_type == 'GAT':\n",
        "            return GAT\n",
        "\n",
        "    def forward(self, data):\n",
        "        x, edge_index, batch = data.x, data.edge_index, data.batch\n",
        "        \n",
        "        for i in range(self.num_layers):\n",
        "            x = self.convs[i](x, edge_index)\n",
        "            x = F.relu(x)\n",
        "            x = F.dropout(x, p=self.dropout,training=self.training)\n",
        "\n",
        "        x = self.post_mp(x)\n",
        "\n",
        "        if self.emb == True:\n",
        "            return x\n",
        "\n",
        "        return F.log_softmax(x, dim=1)\n",
        "\n",
        "    def loss(self, pred, label):\n",
        "        return F.nll_loss(pred, label)"
      ]
    },
    {
      "cell_type": "code",
      "execution_count": 5,
      "metadata": {
        "id": "4yQB__Y0sCaC"
      },
      "outputs": [],
      "source": [
        "class GraphSage(MessagePassing):\n",
        "    \n",
        "    def __init__(self, in_channels, out_channels, normalize = True,\n",
        "                 bias = False, **kwargs):  \n",
        "        super(GraphSage, self).__init__(**kwargs)\n",
        "\n",
        "        self.in_channels = in_channels\n",
        "        self.out_channels = out_channels\n",
        "        self.normalize = normalize\n",
        "\n",
        "        self.lin_l = nn.Linear(in_channels, out_channels, bias=bias)\n",
        "        self.lin_r = nn.Linear(in_channels, out_channels, bias=bias)\n",
        "\n",
        "        self.reset_parameters()\n",
        "\n",
        "    def reset_parameters(self):\n",
        "        self.lin_l.reset_parameters()\n",
        "        self.lin_r.reset_parameters()\n",
        "\n",
        "    def forward(self, x, edge_index, size = None):\n",
        "        aggr = self.propagate(edge_index, x=x)\n",
        "        x = self.lin_l(x) + self.lin_r(aggr)\n",
        "        \n",
        "        # x = batch_size * emb_size\n",
        "        out = F.normalize(x, dim=1)\n",
        "        return out\n",
        "\n",
        "    def message(self, x_j):\n",
        "        return x_j\n",
        "\n",
        "    def aggregate(self, inputs, index, dim_size = None):\n",
        "        # The axis along which to index number of nodes.\n",
        "        node_dim = self.node_dim # = 0 by default\n",
        "        \n",
        "        out = torch_scatter.scatter(inputs, index, dim=node_dim, reduce=\"mean\")\n",
        "        return out\n"
      ]
    },
    {
      "cell_type": "code",
      "execution_count": 6,
      "metadata": {
        "id": "HWbtAnBIsmUo"
      },
      "outputs": [],
      "source": [
        "class GAT(MessagePassing):\n",
        "\n",
        "    def __init__(self, in_channels, out_channels, args, heads = 2,\n",
        "                 negative_slope = 0.2, dropout = 0., **kwargs):\n",
        "        super(GAT, self).__init__(node_dim=0, **kwargs)\n",
        "\n",
        "        self.in_channels = in_channels\n",
        "        self.out_channels = out_channels\n",
        "        self.heads = args.heads\n",
        "        self.negative_slope = negative_slope\n",
        "        self.dropout = dropout\n",
        "\n",
        "        self.lin_l = nn.Linear(in_channels, out_channels*self.heads)\n",
        "        self.lin_r = nn.Linear(in_channels, out_channels*self.heads) # can we write code like this? pointer or data passing?\n",
        "\n",
        "        self.att_l = nn.Parameter(torch.rand(self.heads, out_channels))\n",
        "        self.att_r = nn.Parameter(torch.rand(self.heads, out_channels))\n",
        "\n",
        "        self.reset_parameters()\n",
        "\n",
        "    def reset_parameters(self):\n",
        "        nn.init.xavier_uniform_(self.lin_l.weight)\n",
        "        nn.init.xavier_uniform_(self.lin_r.weight)\n",
        "        nn.init.xavier_uniform_(self.att_l)\n",
        "        nn.init.xavier_uniform_(self.att_r)\n",
        "\n",
        "    def forward(self, x, edge_index, size = None):\n",
        "        H, C = self.heads, self.out_channels\n",
        "        N = x.shape[0]\n",
        "\n",
        "        central   = self.lin_l(x).reshape((N,H,C))\n",
        "        neighbors = self.lin_r(x).reshape((N,H,C))\n",
        "        alpha_l = (central*self.att_l).sum(dim=2)    # N, H\n",
        "        alpha_r = (neighbors*self.att_r).sum(dim=2)  # N, H\n",
        "\n",
        "        aggr = self.propagate(edge_index, x=neighbors, alpha = (alpha_l, alpha_r))  # N, H, C\n",
        "        out = aggr.reshape((N,H*C))\n",
        "\n",
        "        return out\n",
        "\n",
        "\n",
        "    def message(self, x_j, alpha_j, alpha_i, index, ptr, size_i):\n",
        "        alpha = F.leaky_relu(alpha_i+alpha_j, self.negative_slope)      # E, H\n",
        "        alpha = torch_geometric.utils.softmax(alpha, index)\n",
        "        alpha = F.dropout(alpha, p=self.dropout, training=self.training)  # E, H\n",
        "        out = alpha.unsqueeze(dim=2)*x_j    # E,H,1 * E,H*C = E,H,C\n",
        "\n",
        "        return out\n",
        "\n",
        "\n",
        "    def aggregate(self, inputs, index, dim_size = None):\n",
        "        out = torch_scatter.scatter(inputs, index, dim=self.node_dim)    \n",
        "        return out"
      ]
    },
    {
      "cell_type": "markdown",
      "metadata": {
        "id": "fozzUxgxwKse"
      },
      "source": [
        "## Training model"
      ]
    },
    {
      "cell_type": "code",
      "execution_count": 7,
      "metadata": {
        "id": "kIY3vM0fwZbt"
      },
      "outputs": [],
      "source": [
        "import time, os\n",
        "\n",
        "import networkx as nx\n",
        "import numpy as np\n",
        "import torch\n",
        "import torch.optim as optim\n",
        "from tqdm import trange\n",
        "import pandas as pd\n",
        "import copy\n",
        "\n",
        "from torch_geometric.datasets import TUDataset\n",
        "from torch_geometric.datasets import Planetoid\n",
        "from torch_geometric.data import DataLoader\n",
        "\n",
        "import torch_geometric.nn as pyg_nn\n",
        "\n",
        "import matplotlib.pyplot as plt"
      ]
    },
    {
      "cell_type": "markdown",
      "metadata": {
        "id": "eG2Abd6wHbE9"
      },
      "source": [
        "Need to retrieve subgraph to reduce the computing redundance https://pytorch-geometric.readthedocs.io/en/latest/modules/utils.html#torch_geometric.utils.subgraph"
      ]
    },
    {
      "cell_type": "code",
      "execution_count": 8,
      "metadata": {
        "id": "Ed63SZfKwKXF"
      },
      "outputs": [],
      "source": [
        "def train(dataset, args):\n",
        "    # load data\n",
        "    loader = DataLoader(dataset, batch_size=args.batch_size, shuffle=False)\n",
        "\n",
        "    # build model + optimizer\n",
        "    model = GNNStack(dataset.num_node_features, args.hidden_dim, args.output_dim, args, embs=True)\n",
        "\n",
        "    optimizer = optim.Adam(model.parameters(), lr=args.lr, weight_decay=args.weight_decay)\n",
        "    scheduler = optim.lr_scheduler.StepLR(optimizer, step_size=args.opt_decay_step, gamma=args.opt_decay_rate)\n",
        "\n",
        "    # train\n",
        "    losses = []\n",
        "    test_accs = []\n",
        "    best_acc = 0\n",
        "    best_model = None\n",
        "\n",
        "    for epoch in trange(args.epochs, desc=\"Training\", unit=\"Epochs\"):\n",
        "        total_loss = 0\n",
        "        model.train()\n",
        "        \n",
        "        for batch in loader:\n",
        "            opt.zero_grad()\n",
        "            pred = model(batch)\n",
        "            label = batch.y\n",
        "            pred = pred[batch.train_mask]\n",
        "            label = label[batch.train_mask]\n",
        "            loss = model.loss(pred, label)\n",
        "            loss.backward()\n",
        "            opt.step()\n",
        "            total_loss += loss.item() * batch.num_graphs\n",
        "        total_loss /= len(loader.dataset)\n",
        "        losses.append(total_loss)\n",
        "\n",
        "        if epoch % 10 == 0:\n",
        "          test_acc = test(test_loader, model)\n",
        "          test_accs.append(test_acc)\n",
        "          if test_acc > best_acc:\n",
        "            best_acc = test_acc\n",
        "            best_model = copy.deepcopy(model)\n",
        "        else:\n",
        "          test_accs.append(test_accs[-1])\n",
        "    \n",
        "    return test_accs, losses, best_model, best_acc, test_loader\n",
        "\n",
        "def test(loader, test_model, is_validation=False, save_model_preds=False, model_type=None):\n",
        "    test_model.eval()\n",
        "\n",
        "    correct = 0\n",
        "    # Note that Cora is only one graph!\n",
        "    for data in loader:\n",
        "        with torch.no_grad():\n",
        "            # max(dim=1) returns values, indices tuple; only need indices\n",
        "            pred = test_model(data).max(dim=1)[1]\n",
        "            label = data.y\n",
        "\n",
        "        mask = data.val_mask if is_validation else data.test_mask\n",
        "        # node classification: only evaluate on nodes in test set\n",
        "        pred = pred[mask]\n",
        "        label = label[mask]\n",
        "\n",
        "        if save_model_preds:\n",
        "          print (\"Saving Model Predictions for Model Type\", model_type)\n",
        "\n",
        "          data = {}\n",
        "          data['pred'] = pred.view(-1).cpu().detach().numpy()\n",
        "          data['label'] = label.view(-1).cpu().detach().numpy()\n",
        "\n",
        "          df = pd.DataFrame(data=data)\n",
        "          # Save locally as csv\n",
        "          df.to_csv('CORA-Node-' + model_type + '.csv', sep=',', index=False)\n",
        "            \n",
        "        correct += pred.eq(label).sum().item()\n",
        "\n",
        "    total = 0\n",
        "    for data in loader.dataset:\n",
        "        total += torch.sum(data.val_mask if is_validation else data.test_mask).item()\n",
        "\n",
        "    return correct / total\n",
        "  \n",
        "class objectview(object):\n",
        "    def __init__(self, d):\n",
        "        self.__dict__ = d\n"
      ]
    },
    {
      "cell_type": "code",
      "execution_count": null,
      "metadata": {
        "id": "ipzZGXgSwPUU"
      },
      "outputs": [],
      "source": [
        "import os\n",
        "if 'IS_GRADESCOPE_ENV' not in os.environ:\n",
        "    for args in [\n",
        "        {'model_type': 'GraphSage',  'num_layers': 4, 'heads': 1, 'hidden_dim': 32, 'dropout': 0.5, \n",
        "         'dataset': 'cora', 'epochs': 500, 'batch_size': 32, \n",
        "         'opt': 'adam', 'opt_scheduler': 'none', 'opt_restart': 0, 'weight_decay': 5e-3, 'lr': 0.01},\n",
        "    ]:\n",
        "        args = objectview(args)\n",
        "        for model in ['GAT']:\n",
        "            args.model_type = model\n",
        "\n",
        "            # Match the dimension.\n",
        "            if model == 'GAT':\n",
        "              args.heads = 4\n",
        "            else:\n",
        "              args.heads = 1\n",
        "\n",
        "            if args.dataset == 'cora':\n",
        "                dataset = Planetoid(root='/tmp/cora', name='Cora')\n",
        "            else:\n",
        "                raise NotImplementedError(\"Unknown dataset\") \n",
        "            test_accs, losses, best_model, best_acc, test_loader = train(dataset, args) \n",
        "\n",
        "            print(\"Maximum test set accuracy: {0}\".format(max(test_accs)))\n",
        "            print(\"Minimum loss: {0}\".format(min(losses)))\n",
        "\n",
        "            # Run test for our best model to save the predictions!\n",
        "            test(test_loader, best_model, is_validation=False, save_model_preds=True, model_type=model)\n",
        "            print()\n",
        "\n",
        "            plt.title(dataset.name)\n",
        "            plt.plot(losses, label=\"training loss\" + \" - \" + args.model_type)\n",
        "            plt.plot(test_accs, label=\"test accuracy\" + \" - \" + args.model_type)\n",
        "        plt.legend()\n",
        "        plt.show()\n"
      ]
    },
    {
      "cell_type": "markdown",
      "metadata": {
        "id": "zXALo6FDZ-41"
      },
      "source": [
        "## Further Work\n",
        "\n",
        "add GraphSAGE-like operations to function get_auc_score(model, ...)\n",
        "\n",
        "build model to train, especially the loss function\n",
        "\n",
        "calculate the distance between two test nodes\n"
      ]
    },
    {
      "cell_type": "code",
      "execution_count": 10,
      "metadata": {
        "id": "K6o_nOwaLmgB"
      },
      "outputs": [],
      "source": [
        "def visualize(h, color, epoch=None, loss=None, accuracy=None):\n",
        "    plt.figure(figsize=(7,7))\n",
        "    plt.xticks([])\n",
        "    plt.yticks([])\n",
        "\n",
        "    if torch.is_tensor(h):\n",
        "        h = h.detach().cpu().numpy()\n",
        "        plt.scatter(h[:, 0], h[:, 1], s=140, c=color, cmap=\"Set2\")\n",
        "        if epoch is not None and loss is not None and accuracy['train'] is not None and accuracy['val'] is not None:\n",
        "            plt.xlabel((f'Epoch: {epoch}, Loss: {loss.item():.4f} \\n'\n",
        "                       f'Training Accuracy: {accuracy[\"train\"]*100:.2f}% \\n'\n",
        "                       f' Validation Accuracy: {accuracy[\"val\"]*100:.2f}%'),\n",
        "                       fontsize=16)\n",
        "    else:\n",
        "        nx.draw_networkx(h, pos=nx.spring_layout(h, seed=42), with_labels=False,\n",
        "                         node_color=color, cmap=\"Set2\")\n",
        "    plt.show()\n",
        "\n",
        "# visualize(G, color=data.y)"
      ]
    },
    {
      "cell_type": "code",
      "execution_count": null,
      "metadata": {
        "id": "o0flagjRjO5S"
      },
      "outputs": [],
      "source": [
        "# check if there are nodes in test set not existing in train set\n",
        "test_nodes = [x[0] for x in test_edges] + [x[1] for x in test_edges]\n",
        "len(set(test_nodes).difference(set(graph.nodes)))\n",
        "# there are several. For those, just ouput the prob. as .5\n",
        "\n",
        "# count how many pairs\n",
        "print(sum([(1 if '0' in pair else 0) for pair in valid_edges]))"
      ]
    },
    {
      "cell_type": "code",
      "execution_count": null,
      "metadata": {
        "id": "_1gIl1AVkHLM"
      },
      "outputs": [],
      "source": [
        "# with those number of unknown nodes, calculate the max roc_auc_score\n",
        "ood = 196\n",
        "ground = (40000-20732)*[1]+ 20732*[0]\n",
        "pred = (40000-20732-ood)*[1]+ 2*ood*[0.5]+ (20732-ood)*[0]\n",
        "\n",
        "roc_auc_score(ground, pred)"
      ]
    },
    {
      "cell_type": "code",
      "execution_count": null,
      "metadata": {
        "id": "6vCdWIjPn0T5"
      },
      "outputs": [],
      "source": [
        "first_20_nodes = list(graph.nodes)[:20]\n",
        "\n",
        "for node in first_20_nodes:\n",
        "    print(np.average(\n",
        "        list(nx.single_source_shortest_path_length(graph, node).values())\n",
        "    ))\n",
        "\n",
        "# avg shortest path length is ~ 4\n",
        "# may set the walk_length and smt accordingly\n",
        "\n",
        "## cannot get the diameter/radius, since the graph is not connected\n",
        "# graph_undir = graph.to_undirected(reciprocal=False, as_view=True)\n",
        "# nx.algorithms.distance_measures.radius(graph_undir)"
      ]
    },
    {
      "cell_type": "code",
      "execution_count": null,
      "metadata": {
        "id": "kIe6v7rQsSXM"
      },
      "outputs": [],
      "source": [
        "# graph_undir = graph.to_undirected(reciprocal=False, as_view=True)\n",
        "\n",
        "clustering = nx.clustering(graph_undir)\n",
        "pd.Series(clustering).hist(bins=20)"
      ]
    }
  ],
  "metadata": {
    "accelerator": "GPU",
    "colab": {
      "collapsed_sections": [],
      "provenance": [],
      "toc_visible": true,
      "include_colab_link": true
    },
    "kernelspec": {
      "display_name": "Python 3",
      "language": "python",
      "name": "python3"
    },
    "language_info": {
      "codemirror_mode": {
        "name": "ipython",
        "version": 3
      },
      "file_extension": ".py",
      "mimetype": "text/x-python",
      "name": "python",
      "nbconvert_exporter": "python",
      "pygments_lexer": "ipython3",
      "version": "3.8.8"
    }
  },
  "nbformat": 4,
  "nbformat_minor": 0
}